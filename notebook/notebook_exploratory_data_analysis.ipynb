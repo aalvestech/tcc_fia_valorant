{
 "cells": [
  {
   "cell_type": "markdown",
   "metadata": {},
   "source": [
    "Libs"
   ]
  },
  {
   "cell_type": "code",
   "execution_count": 25,
   "metadata": {},
   "outputs": [],
   "source": [
    "import pandas as pd\n",
    "from datetime import datetime\n",
    "import pathlib\n",
    "import seaborn as sns\n",
    "import matplotlib.pyplot as plt\n",
    "import plotly.express as px\n",
    "from plotly.subplots import make_subplots\n",
    "import plotly.graph_objects as go\n",
    "import warnings\n",
    "warnings.filterwarnings(\"ignore\")"
   ]
  },
  {
   "cell_type": "code",
   "execution_count": 26,
   "metadata": {},
   "outputs": [],
   "source": [
    "abs_path = pathlib.Path.cwd().parent"
   ]
  },
  {
   "cell_type": "markdown",
   "metadata": {},
   "source": [
    "Matches"
   ]
  },
  {
   "cell_type": "code",
   "execution_count": 27,
   "metadata": {},
   "outputs": [],
   "source": [
    "file_read = pathlib.Path(abs_path).joinpath('data').joinpath('matches').joinpath('matches_processed.csv')"
   ]
  },
  {
   "cell_type": "code",
   "execution_count": 28,
   "metadata": {},
   "outputs": [],
   "source": [
    "df_matches_raw = pd.read_csv(file_read)\n",
    "del df_matches_raw['Unnamed: 0']"
   ]
  },
  {
   "cell_type": "code",
   "execution_count": 29,
   "metadata": {},
   "outputs": [
    {
     "data": {
      "text/html": [
       "<div>\n",
       "<style scoped>\n",
       "    .dataframe tbody tr th:only-of-type {\n",
       "        vertical-align: middle;\n",
       "    }\n",
       "\n",
       "    .dataframe tbody tr th {\n",
       "        vertical-align: top;\n",
       "    }\n",
       "\n",
       "    .dataframe thead th {\n",
       "        text-align: right;\n",
       "    }\n",
       "</style>\n",
       "<table border=\"1\" class=\"dataframe\">\n",
       "  <thead>\n",
       "    <tr style=\"text-align: right;\">\n",
       "      <th></th>\n",
       "      <th>25%</th>\n",
       "      <th>50%</th>\n",
       "      <th>75%</th>\n",
       "      <th>count</th>\n",
       "      <th>max</th>\n",
       "      <th>mean</th>\n",
       "      <th>min</th>\n",
       "      <th>std</th>\n",
       "    </tr>\n",
       "  </thead>\n",
       "  <tbody>\n",
       "    <tr>\n",
       "      <th>ability1CastsValue</th>\n",
       "      <td>6.000000</td>\n",
       "      <td>10.000000</td>\n",
       "      <td>16.000000</td>\n",
       "      <td>333679.0</td>\n",
       "      <td>87.0</td>\n",
       "      <td>11.532671</td>\n",
       "      <td>0.0</td>\n",
       "      <td>7.280749</td>\n",
       "    </tr>\n",
       "    <tr>\n",
       "      <th>ability2CastsValue</th>\n",
       "      <td>13.000000</td>\n",
       "      <td>20.000000</td>\n",
       "      <td>26.000000</td>\n",
       "      <td>333679.0</td>\n",
       "      <td>109.0</td>\n",
       "      <td>20.509598</td>\n",
       "      <td>0.0</td>\n",
       "      <td>11.271582</td>\n",
       "    </tr>\n",
       "    <tr>\n",
       "      <th>acesValue</th>\n",
       "      <td>0.000000</td>\n",
       "      <td>0.000000</td>\n",
       "      <td>0.000000</td>\n",
       "      <td>333835.0</td>\n",
       "      <td>3.0</td>\n",
       "      <td>0.027571</td>\n",
       "      <td>0.0</td>\n",
       "      <td>0.167447</td>\n",
       "    </tr>\n",
       "    <tr>\n",
       "      <th>assistsValue</th>\n",
       "      <td>3.000000</td>\n",
       "      <td>4.000000</td>\n",
       "      <td>7.000000</td>\n",
       "      <td>333835.0</td>\n",
       "      <td>26.0</td>\n",
       "      <td>4.992239</td>\n",
       "      <td>0.0</td>\n",
       "      <td>3.220758</td>\n",
       "    </tr>\n",
       "    <tr>\n",
       "      <th>clutchesLostValue</th>\n",
       "      <td>1.000000</td>\n",
       "      <td>2.000000</td>\n",
       "      <td>3.000000</td>\n",
       "      <td>277273.0</td>\n",
       "      <td>15.0</td>\n",
       "      <td>2.479892</td>\n",
       "      <td>1.0</td>\n",
       "      <td>1.433286</td>\n",
       "    </tr>\n",
       "    <tr>\n",
       "      <th>clutchesValue</th>\n",
       "      <td>1.000000</td>\n",
       "      <td>1.000000</td>\n",
       "      <td>2.000000</td>\n",
       "      <td>161109.0</td>\n",
       "      <td>8.0</td>\n",
       "      <td>1.353978</td>\n",
       "      <td>0.0</td>\n",
       "      <td>0.921639</td>\n",
       "    </tr>\n",
       "    <tr>\n",
       "      <th>competitiveTier</th>\n",
       "      <td>26.000000</td>\n",
       "      <td>27.000000</td>\n",
       "      <td>27.000000</td>\n",
       "      <td>333835.0</td>\n",
       "      <td>27.0</td>\n",
       "      <td>26.663373</td>\n",
       "      <td>25.0</td>\n",
       "      <td>0.567392</td>\n",
       "    </tr>\n",
       "    <tr>\n",
       "      <th>damagePerRoundValue</th>\n",
       "      <td>119.153846</td>\n",
       "      <td>145.111111</td>\n",
       "      <td>173.250000</td>\n",
       "      <td>333835.0</td>\n",
       "      <td>461.0</td>\n",
       "      <td>147.668696</td>\n",
       "      <td>0.0</td>\n",
       "      <td>41.148931</td>\n",
       "    </tr>\n",
       "    <tr>\n",
       "      <th>damageReceivedValue</th>\n",
       "      <td>2497.000000</td>\n",
       "      <td>2930.000000</td>\n",
       "      <td>3354.000000</td>\n",
       "      <td>333835.0</td>\n",
       "      <td>8020.0</td>\n",
       "      <td>2918.106265</td>\n",
       "      <td>0.0</td>\n",
       "      <td>711.470830</td>\n",
       "    </tr>\n",
       "    <tr>\n",
       "      <th>damageValue</th>\n",
       "      <td>2438.000000</td>\n",
       "      <td>3083.000000</td>\n",
       "      <td>3784.000000</td>\n",
       "      <td>333835.0</td>\n",
       "      <td>11217.0</td>\n",
       "      <td>3144.430006</td>\n",
       "      <td>0.0</td>\n",
       "      <td>1023.790909</td>\n",
       "    </tr>\n",
       "    <tr>\n",
       "      <th>dealtBodyshotsValue</th>\n",
       "      <td>23.000000</td>\n",
       "      <td>31.000000</td>\n",
       "      <td>40.000000</td>\n",
       "      <td>333835.0</td>\n",
       "      <td>256.0</td>\n",
       "      <td>32.728108</td>\n",
       "      <td>0.0</td>\n",
       "      <td>14.563381</td>\n",
       "    </tr>\n",
       "    <tr>\n",
       "      <th>dealtHeadshotsValue</th>\n",
       "      <td>9.000000</td>\n",
       "      <td>12.000000</td>\n",
       "      <td>16.000000</td>\n",
       "      <td>333835.0</td>\n",
       "      <td>48.0</td>\n",
       "      <td>12.826714</td>\n",
       "      <td>0.0</td>\n",
       "      <td>5.200256</td>\n",
       "    </tr>\n",
       "    <tr>\n",
       "      <th>dealtLegshotsValue</th>\n",
       "      <td>1.000000</td>\n",
       "      <td>2.000000</td>\n",
       "      <td>4.000000</td>\n",
       "      <td>333835.0</td>\n",
       "      <td>54.0</td>\n",
       "      <td>2.722189</td>\n",
       "      <td>0.0</td>\n",
       "      <td>2.768990</td>\n",
       "    </tr>\n",
       "    <tr>\n",
       "      <th>deathsValue</th>\n",
       "      <td>13.000000</td>\n",
       "      <td>16.000000</td>\n",
       "      <td>18.000000</td>\n",
       "      <td>333835.0</td>\n",
       "      <td>41.0</td>\n",
       "      <td>15.324370</td>\n",
       "      <td>0.0</td>\n",
       "      <td>3.817593</td>\n",
       "    </tr>\n",
       "    <tr>\n",
       "      <th>defusesValue</th>\n",
       "      <td>0.000000</td>\n",
       "      <td>0.000000</td>\n",
       "      <td>1.000000</td>\n",
       "      <td>333835.0</td>\n",
       "      <td>6.0</td>\n",
       "      <td>0.350532</td>\n",
       "      <td>0.0</td>\n",
       "      <td>0.601895</td>\n",
       "    </tr>\n",
       "    <tr>\n",
       "      <th>econRatingValue</th>\n",
       "      <td>47.000000</td>\n",
       "      <td>57.000000</td>\n",
       "      <td>70.000000</td>\n",
       "      <td>333835.0</td>\n",
       "      <td>573.0</td>\n",
       "      <td>60.105537</td>\n",
       "      <td>0.0</td>\n",
       "      <td>20.142923</td>\n",
       "    </tr>\n",
       "    <tr>\n",
       "      <th>firstBloodsValue</th>\n",
       "      <td>1.000000</td>\n",
       "      <td>2.000000</td>\n",
       "      <td>3.000000</td>\n",
       "      <td>333835.0</td>\n",
       "      <td>16.0</td>\n",
       "      <td>2.381572</td>\n",
       "      <td>0.0</td>\n",
       "      <td>1.883063</td>\n",
       "    </tr>\n",
       "    <tr>\n",
       "      <th>firstDeathsValue</th>\n",
       "      <td>1.000000</td>\n",
       "      <td>2.000000</td>\n",
       "      <td>3.000000</td>\n",
       "      <td>333835.0</td>\n",
       "      <td>15.0</td>\n",
       "      <td>2.137520</td>\n",
       "      <td>0.0</td>\n",
       "      <td>1.690846</td>\n",
       "    </tr>\n",
       "    <tr>\n",
       "      <th>flawlessValue</th>\n",
       "      <td>0.000000</td>\n",
       "      <td>1.000000</td>\n",
       "      <td>1.000000</td>\n",
       "      <td>333835.0</td>\n",
       "      <td>12.0</td>\n",
       "      <td>0.802079</td>\n",
       "      <td>0.0</td>\n",
       "      <td>0.950461</td>\n",
       "    </tr>\n",
       "    <tr>\n",
       "      <th>grenadeCastsValue</th>\n",
       "      <td>9.000000</td>\n",
       "      <td>14.000000</td>\n",
       "      <td>20.000000</td>\n",
       "      <td>333679.0</td>\n",
       "      <td>75.0</td>\n",
       "      <td>14.729932</td>\n",
       "      <td>0.0</td>\n",
       "      <td>7.866860</td>\n",
       "    </tr>\n",
       "    <tr>\n",
       "      <th>headshotsPercentageValue</th>\n",
       "      <td>20.754717</td>\n",
       "      <td>27.027027</td>\n",
       "      <td>34.042553</td>\n",
       "      <td>333835.0</td>\n",
       "      <td>100.0</td>\n",
       "      <td>27.871425</td>\n",
       "      <td>0.0</td>\n",
       "      <td>10.020863</td>\n",
       "    </tr>\n",
       "    <tr>\n",
       "      <th>headshotsValue</th>\n",
       "      <td>8.000000</td>\n",
       "      <td>11.000000</td>\n",
       "      <td>14.000000</td>\n",
       "      <td>333835.0</td>\n",
       "      <td>45.0</td>\n",
       "      <td>11.266874</td>\n",
       "      <td>0.0</td>\n",
       "      <td>4.705214</td>\n",
       "    </tr>\n",
       "    <tr>\n",
       "      <th>hourMatch</th>\n",
       "      <td>5.000000</td>\n",
       "      <td>13.000000</td>\n",
       "      <td>18.000000</td>\n",
       "      <td>333835.0</td>\n",
       "      <td>23.0</td>\n",
       "      <td>11.866021</td>\n",
       "      <td>0.0</td>\n",
       "      <td>7.251268</td>\n",
       "    </tr>\n",
       "    <tr>\n",
       "      <th>kASTValue</th>\n",
       "      <td>65.000000</td>\n",
       "      <td>72.000000</td>\n",
       "      <td>79.000000</td>\n",
       "      <td>333835.0</td>\n",
       "      <td>280.0</td>\n",
       "      <td>71.790010</td>\n",
       "      <td>0.0</td>\n",
       "      <td>12.461096</td>\n",
       "    </tr>\n",
       "    <tr>\n",
       "      <th>kastedValue</th>\n",
       "      <td>NaN</td>\n",
       "      <td>NaN</td>\n",
       "      <td>NaN</td>\n",
       "      <td>0.0</td>\n",
       "      <td>NaN</td>\n",
       "      <td>NaN</td>\n",
       "      <td>NaN</td>\n",
       "      <td>NaN</td>\n",
       "    </tr>\n",
       "    <tr>\n",
       "      <th>kdRatioValue</th>\n",
       "      <td>0.800000</td>\n",
       "      <td>1.066667</td>\n",
       "      <td>1.411765</td>\n",
       "      <td>333835.0</td>\n",
       "      <td>26.0</td>\n",
       "      <td>1.174615</td>\n",
       "      <td>0.0</td>\n",
       "      <td>0.597702</td>\n",
       "    </tr>\n",
       "    <tr>\n",
       "      <th>killsValue</th>\n",
       "      <td>13.000000</td>\n",
       "      <td>16.000000</td>\n",
       "      <td>21.000000</td>\n",
       "      <td>333835.0</td>\n",
       "      <td>59.0</td>\n",
       "      <td>16.764698</td>\n",
       "      <td>0.0</td>\n",
       "      <td>5.903540</td>\n",
       "    </tr>\n",
       "    <tr>\n",
       "      <th>lastDeathsValue</th>\n",
       "      <td>1.000000</td>\n",
       "      <td>2.000000</td>\n",
       "      <td>3.000000</td>\n",
       "      <td>333835.0</td>\n",
       "      <td>12.0</td>\n",
       "      <td>2.079851</td>\n",
       "      <td>0.0</td>\n",
       "      <td>1.593398</td>\n",
       "    </tr>\n",
       "    <tr>\n",
       "      <th>leaderboardRank</th>\n",
       "      <td>97.000000</td>\n",
       "      <td>196.000000</td>\n",
       "      <td>299.000000</td>\n",
       "      <td>333835.0</td>\n",
       "      <td>400.0</td>\n",
       "      <td>197.858277</td>\n",
       "      <td>1.0</td>\n",
       "      <td>116.172979</td>\n",
       "    </tr>\n",
       "    <tr>\n",
       "      <th>plantsValue</th>\n",
       "      <td>0.000000</td>\n",
       "      <td>1.000000</td>\n",
       "      <td>2.000000</td>\n",
       "      <td>333835.0</td>\n",
       "      <td>13.0</td>\n",
       "      <td>1.182195</td>\n",
       "      <td>0.0</td>\n",
       "      <td>1.628021</td>\n",
       "    </tr>\n",
       "    <tr>\n",
       "      <th>playtimeValue</th>\n",
       "      <td>1752.000000</td>\n",
       "      <td>2015.000000</td>\n",
       "      <td>2266.000000</td>\n",
       "      <td>333835.0</td>\n",
       "      <td>4925.0</td>\n",
       "      <td>2020.123190</td>\n",
       "      <td>101.0</td>\n",
       "      <td>414.588241</td>\n",
       "    </tr>\n",
       "    <tr>\n",
       "      <th>rankedRating</th>\n",
       "      <td>282.000000</td>\n",
       "      <td>417.000000</td>\n",
       "      <td>513.000000</td>\n",
       "      <td>333835.0</td>\n",
       "      <td>1028.0</td>\n",
       "      <td>409.250498</td>\n",
       "      <td>117.0</td>\n",
       "      <td>157.522867</td>\n",
       "    </tr>\n",
       "    <tr>\n",
       "      <th>revivedValue</th>\n",
       "      <td>0.000000</td>\n",
       "      <td>0.000000</td>\n",
       "      <td>0.000000</td>\n",
       "      <td>259455.0</td>\n",
       "      <td>4.0</td>\n",
       "      <td>0.088177</td>\n",
       "      <td>0.0</td>\n",
       "      <td>0.330293</td>\n",
       "    </tr>\n",
       "    <tr>\n",
       "      <th>roundsDisconnectedValue</th>\n",
       "      <td>0.000000</td>\n",
       "      <td>0.000000</td>\n",
       "      <td>0.000000</td>\n",
       "      <td>259455.0</td>\n",
       "      <td>21.0</td>\n",
       "      <td>0.016777</td>\n",
       "      <td>0.0</td>\n",
       "      <td>0.332104</td>\n",
       "    </tr>\n",
       "    <tr>\n",
       "      <th>roundsLostValue</th>\n",
       "      <td>8.000000</td>\n",
       "      <td>12.000000</td>\n",
       "      <td>13.000000</td>\n",
       "      <td>333835.0</td>\n",
       "      <td>25.0</td>\n",
       "      <td>10.436836</td>\n",
       "      <td>0.0</td>\n",
       "      <td>3.487540</td>\n",
       "    </tr>\n",
       "    <tr>\n",
       "      <th>roundsPlayedValue</th>\n",
       "      <td>19.000000</td>\n",
       "      <td>21.000000</td>\n",
       "      <td>24.000000</td>\n",
       "      <td>333835.0</td>\n",
       "      <td>48.0</td>\n",
       "      <td>21.271305</td>\n",
       "      <td>1.0</td>\n",
       "      <td>3.769320</td>\n",
       "    </tr>\n",
       "    <tr>\n",
       "      <th>roundsWonValue</th>\n",
       "      <td>9.000000</td>\n",
       "      <td>13.000000</td>\n",
       "      <td>13.000000</td>\n",
       "      <td>333835.0</td>\n",
       "      <td>25.0</td>\n",
       "      <td>10.853014</td>\n",
       "      <td>0.0</td>\n",
       "      <td>3.324818</td>\n",
       "    </tr>\n",
       "    <tr>\n",
       "      <th>scorePerRoundValue</th>\n",
       "      <td>180.388889</td>\n",
       "      <td>221.400000</td>\n",
       "      <td>266.581140</td>\n",
       "      <td>333835.0</td>\n",
       "      <td>952.0</td>\n",
       "      <td>225.991197</td>\n",
       "      <td>0.0</td>\n",
       "      <td>65.590074</td>\n",
       "    </tr>\n",
       "    <tr>\n",
       "      <th>scoreValue</th>\n",
       "      <td>3700.000000</td>\n",
       "      <td>4709.000000</td>\n",
       "      <td>5814.000000</td>\n",
       "      <td>333835.0</td>\n",
       "      <td>17438.0</td>\n",
       "      <td>4809.883020</td>\n",
       "      <td>0.0</td>\n",
       "      <td>1604.217302</td>\n",
       "    </tr>\n",
       "    <tr>\n",
       "      <th>suicidesValue</th>\n",
       "      <td>0.000000</td>\n",
       "      <td>0.000000</td>\n",
       "      <td>0.000000</td>\n",
       "      <td>333835.0</td>\n",
       "      <td>2.0</td>\n",
       "      <td>0.002399</td>\n",
       "      <td>0.0</td>\n",
       "      <td>0.049654</td>\n",
       "    </tr>\n",
       "    <tr>\n",
       "      <th>survivedValue</th>\n",
       "      <td>3.000000</td>\n",
       "      <td>5.000000</td>\n",
       "      <td>7.000000</td>\n",
       "      <td>333835.0</td>\n",
       "      <td>19.0</td>\n",
       "      <td>5.206635</td>\n",
       "      <td>0.0</td>\n",
       "      <td>2.796407</td>\n",
       "    </tr>\n",
       "    <tr>\n",
       "      <th>teamAcesValue</th>\n",
       "      <td>0.000000</td>\n",
       "      <td>0.000000</td>\n",
       "      <td>0.000000</td>\n",
       "      <td>333835.0</td>\n",
       "      <td>4.0</td>\n",
       "      <td>0.163922</td>\n",
       "      <td>0.0</td>\n",
       "      <td>0.405405</td>\n",
       "    </tr>\n",
       "    <tr>\n",
       "      <th>thriftyValue</th>\n",
       "      <td>NaN</td>\n",
       "      <td>NaN</td>\n",
       "      <td>NaN</td>\n",
       "      <td>0.0</td>\n",
       "      <td>NaN</td>\n",
       "      <td>NaN</td>\n",
       "      <td>NaN</td>\n",
       "      <td>NaN</td>\n",
       "    </tr>\n",
       "    <tr>\n",
       "      <th>tradedValue</th>\n",
       "      <td>1.000000</td>\n",
       "      <td>3.000000</td>\n",
       "      <td>4.000000</td>\n",
       "      <td>333835.0</td>\n",
       "      <td>14.0</td>\n",
       "      <td>2.809397</td>\n",
       "      <td>0.0</td>\n",
       "      <td>1.824662</td>\n",
       "    </tr>\n",
       "    <tr>\n",
       "      <th>ultimateCastsValue</th>\n",
       "      <td>2.000000</td>\n",
       "      <td>3.000000</td>\n",
       "      <td>3.000000</td>\n",
       "      <td>333679.0</td>\n",
       "      <td>17.0</td>\n",
       "      <td>2.616455</td>\n",
       "      <td>0.0</td>\n",
       "      <td>1.104440</td>\n",
       "    </tr>\n",
       "  </tbody>\n",
       "</table>\n",
       "</div>"
      ],
      "text/plain": [
       "                                  25%          50%          75%     count  \\\n",
       "ability1CastsValue           6.000000    10.000000    16.000000  333679.0   \n",
       "ability2CastsValue          13.000000    20.000000    26.000000  333679.0   \n",
       "acesValue                    0.000000     0.000000     0.000000  333835.0   \n",
       "assistsValue                 3.000000     4.000000     7.000000  333835.0   \n",
       "clutchesLostValue            1.000000     2.000000     3.000000  277273.0   \n",
       "clutchesValue                1.000000     1.000000     2.000000  161109.0   \n",
       "competitiveTier             26.000000    27.000000    27.000000  333835.0   \n",
       "damagePerRoundValue        119.153846   145.111111   173.250000  333835.0   \n",
       "damageReceivedValue       2497.000000  2930.000000  3354.000000  333835.0   \n",
       "damageValue               2438.000000  3083.000000  3784.000000  333835.0   \n",
       "dealtBodyshotsValue         23.000000    31.000000    40.000000  333835.0   \n",
       "dealtHeadshotsValue          9.000000    12.000000    16.000000  333835.0   \n",
       "dealtLegshotsValue           1.000000     2.000000     4.000000  333835.0   \n",
       "deathsValue                 13.000000    16.000000    18.000000  333835.0   \n",
       "defusesValue                 0.000000     0.000000     1.000000  333835.0   \n",
       "econRatingValue             47.000000    57.000000    70.000000  333835.0   \n",
       "firstBloodsValue             1.000000     2.000000     3.000000  333835.0   \n",
       "firstDeathsValue             1.000000     2.000000     3.000000  333835.0   \n",
       "flawlessValue                0.000000     1.000000     1.000000  333835.0   \n",
       "grenadeCastsValue            9.000000    14.000000    20.000000  333679.0   \n",
       "headshotsPercentageValue    20.754717    27.027027    34.042553  333835.0   \n",
       "headshotsValue               8.000000    11.000000    14.000000  333835.0   \n",
       "hourMatch                    5.000000    13.000000    18.000000  333835.0   \n",
       "kASTValue                   65.000000    72.000000    79.000000  333835.0   \n",
       "kastedValue                       NaN          NaN          NaN       0.0   \n",
       "kdRatioValue                 0.800000     1.066667     1.411765  333835.0   \n",
       "killsValue                  13.000000    16.000000    21.000000  333835.0   \n",
       "lastDeathsValue              1.000000     2.000000     3.000000  333835.0   \n",
       "leaderboardRank             97.000000   196.000000   299.000000  333835.0   \n",
       "plantsValue                  0.000000     1.000000     2.000000  333835.0   \n",
       "playtimeValue             1752.000000  2015.000000  2266.000000  333835.0   \n",
       "rankedRating               282.000000   417.000000   513.000000  333835.0   \n",
       "revivedValue                 0.000000     0.000000     0.000000  259455.0   \n",
       "roundsDisconnectedValue      0.000000     0.000000     0.000000  259455.0   \n",
       "roundsLostValue              8.000000    12.000000    13.000000  333835.0   \n",
       "roundsPlayedValue           19.000000    21.000000    24.000000  333835.0   \n",
       "roundsWonValue               9.000000    13.000000    13.000000  333835.0   \n",
       "scorePerRoundValue         180.388889   221.400000   266.581140  333835.0   \n",
       "scoreValue                3700.000000  4709.000000  5814.000000  333835.0   \n",
       "suicidesValue                0.000000     0.000000     0.000000  333835.0   \n",
       "survivedValue                3.000000     5.000000     7.000000  333835.0   \n",
       "teamAcesValue                0.000000     0.000000     0.000000  333835.0   \n",
       "thriftyValue                      NaN          NaN          NaN       0.0   \n",
       "tradedValue                  1.000000     3.000000     4.000000  333835.0   \n",
       "ultimateCastsValue           2.000000     3.000000     3.000000  333679.0   \n",
       "\n",
       "                              max         mean    min          std  \n",
       "ability1CastsValue           87.0    11.532671    0.0     7.280749  \n",
       "ability2CastsValue          109.0    20.509598    0.0    11.271582  \n",
       "acesValue                     3.0     0.027571    0.0     0.167447  \n",
       "assistsValue                 26.0     4.992239    0.0     3.220758  \n",
       "clutchesLostValue            15.0     2.479892    1.0     1.433286  \n",
       "clutchesValue                 8.0     1.353978    0.0     0.921639  \n",
       "competitiveTier              27.0    26.663373   25.0     0.567392  \n",
       "damagePerRoundValue         461.0   147.668696    0.0    41.148931  \n",
       "damageReceivedValue        8020.0  2918.106265    0.0   711.470830  \n",
       "damageValue               11217.0  3144.430006    0.0  1023.790909  \n",
       "dealtBodyshotsValue         256.0    32.728108    0.0    14.563381  \n",
       "dealtHeadshotsValue          48.0    12.826714    0.0     5.200256  \n",
       "dealtLegshotsValue           54.0     2.722189    0.0     2.768990  \n",
       "deathsValue                  41.0    15.324370    0.0     3.817593  \n",
       "defusesValue                  6.0     0.350532    0.0     0.601895  \n",
       "econRatingValue             573.0    60.105537    0.0    20.142923  \n",
       "firstBloodsValue             16.0     2.381572    0.0     1.883063  \n",
       "firstDeathsValue             15.0     2.137520    0.0     1.690846  \n",
       "flawlessValue                12.0     0.802079    0.0     0.950461  \n",
       "grenadeCastsValue            75.0    14.729932    0.0     7.866860  \n",
       "headshotsPercentageValue    100.0    27.871425    0.0    10.020863  \n",
       "headshotsValue               45.0    11.266874    0.0     4.705214  \n",
       "hourMatch                    23.0    11.866021    0.0     7.251268  \n",
       "kASTValue                   280.0    71.790010    0.0    12.461096  \n",
       "kastedValue                   NaN          NaN    NaN          NaN  \n",
       "kdRatioValue                 26.0     1.174615    0.0     0.597702  \n",
       "killsValue                   59.0    16.764698    0.0     5.903540  \n",
       "lastDeathsValue              12.0     2.079851    0.0     1.593398  \n",
       "leaderboardRank             400.0   197.858277    1.0   116.172979  \n",
       "plantsValue                  13.0     1.182195    0.0     1.628021  \n",
       "playtimeValue              4925.0  2020.123190  101.0   414.588241  \n",
       "rankedRating               1028.0   409.250498  117.0   157.522867  \n",
       "revivedValue                  4.0     0.088177    0.0     0.330293  \n",
       "roundsDisconnectedValue      21.0     0.016777    0.0     0.332104  \n",
       "roundsLostValue              25.0    10.436836    0.0     3.487540  \n",
       "roundsPlayedValue            48.0    21.271305    1.0     3.769320  \n",
       "roundsWonValue               25.0    10.853014    0.0     3.324818  \n",
       "scorePerRoundValue          952.0   225.991197    0.0    65.590074  \n",
       "scoreValue                17438.0  4809.883020    0.0  1604.217302  \n",
       "suicidesValue                 2.0     0.002399    0.0     0.049654  \n",
       "survivedValue                19.0     5.206635    0.0     2.796407  \n",
       "teamAcesValue                 4.0     0.163922    0.0     0.405405  \n",
       "thriftyValue                  NaN          NaN    NaN          NaN  \n",
       "tradedValue                  14.0     2.809397    0.0     1.824662  \n",
       "ultimateCastsValue           17.0     2.616455    0.0     1.104440  "
      ]
     },
     "execution_count": 29,
     "metadata": {},
     "output_type": "execute_result"
    }
   ],
   "source": [
    "df_matches_raw_describe = df_matches_raw.describe()\n",
    "df_matches_raw_describe = pd.pivot_table(df_matches_raw_describe, columns=[\"count\", 'mean', 'std', 'min', '25%', '50%', '75%', 'max'])\n",
    "df_matches_raw_describe"
   ]
  },
  {
   "cell_type": "code",
   "execution_count": 30,
   "metadata": {},
   "outputs": [
    {
     "name": "stdout",
     "output_type": "stream",
     "text": [
      "Total lines is: 333835 \n",
      "Total columns is: 57\n"
     ]
    }
   ],
   "source": [
    "row_num = df_matches_raw.shape[0]\n",
    "col_num = df_matches_raw.shape[1]\n",
    "print('Total lines is: {} \\nTotal columns is: {}'.format(row_num, col_num))"
   ]
  },
  {
   "cell_type": "code",
   "execution_count": 31,
   "metadata": {},
   "outputs": [
    {
     "data": {
      "text/plain": [
       "matchId                          0\n",
       "timestamp                        0\n",
       "dateMatch                        0\n",
       "hourMatch                        0\n",
       "weekDay                          0\n",
       "mapName                          0\n",
       "mapImageUrl                      0\n",
       "seasonName                       0\n",
       "userId                           0\n",
       "server                           0\n",
       "leaderboardRank                  0\n",
       "competitiveTier                  0\n",
       "rankedRating                     0\n",
       "hasWon                           0\n",
       "result                           0\n",
       "agentName                        0\n",
       "playtimeValue                    0\n",
       "roundsPlayedValue                0\n",
       "roundsWonValue                   0\n",
       "roundsLostValue                  0\n",
       "roundsDisconnectedValue      74380\n",
       "scoreValue                       0\n",
       "killsValue                       0\n",
       "deathsValue                      0\n",
       "assistsValue                     0\n",
       "damageValue                      0\n",
       "damageReceivedValue              0\n",
       "headshotsValue                   0\n",
       "grenadeCastsValue              156\n",
       "ability1CastsValue             156\n",
       "ability2CastsValue             156\n",
       "ultimateCastsValue             156\n",
       "dealtHeadshotsValue              0\n",
       "dealtBodyshotsValue              0\n",
       "dealtLegshotsValue               0\n",
       "econRatingValue                  0\n",
       "suicidesValue                    0\n",
       "revivedValue                 74380\n",
       "firstBloodsValue                 0\n",
       "firstDeathsValue                 0\n",
       "lastDeathsValue                  0\n",
       "survivedValue                    0\n",
       "tradedValue                      0\n",
       "kastedValue                 333835\n",
       "kASTValue                        0\n",
       "flawlessValue                    0\n",
       "thriftyValue                333835\n",
       "acesValue                        0\n",
       "teamAcesValue                    0\n",
       "clutchesValue               172726\n",
       "clutchesLostValue            56562\n",
       "plantsValue                      0\n",
       "defusesValue                     0\n",
       "kdRatioValue                     0\n",
       "scorePerRoundValue               0\n",
       "damagePerRoundValue              0\n",
       "headshotsPercentageValue         0\n",
       "dtype: int64"
      ]
     },
     "execution_count": 31,
     "metadata": {},
     "output_type": "execute_result"
    }
   ],
   "source": [
    "nan_num = df_matches_raw.isna().sum()\n",
    "nan_num\n"
   ]
  },
  {
   "cell_type": "code",
   "execution_count": 54,
   "metadata": {},
   "outputs": [],
   "source": [
    "df_matches_clean = df_matches_raw.dropna(how='all', axis=1)\n",
    "df_matches_raw = df_matches_raw.fillna(0)\n",
    "df_matches_clean.drop_duplicates('matchId',inplace=True)\n",
    "df_matches_clean = df_matches_clean.reset_index(drop = True)"
   ]
  },
  {
   "cell_type": "code",
   "execution_count": 55,
   "metadata": {},
   "outputs": [
    {
     "name": "stdout",
     "output_type": "stream",
     "text": [
      "Total lines is: 209428 \n",
      "Total columns is: 57\n"
     ]
    }
   ],
   "source": [
    "row_num = df_matches_clean.shape[0]\n",
    "col_num = df_matches_clean.shape[1]\n",
    "print('Total lines is: {} \\nTotal columns is: {}'.format(row_num, col_num))"
   ]
  },
  {
   "cell_type": "code",
   "execution_count": 56,
   "metadata": {},
   "outputs": [
    {
     "data": {
      "text/plain": [
       "209428"
      ]
     },
     "execution_count": 56,
     "metadata": {},
     "output_type": "execute_result"
    }
   ],
   "source": [
    "num_matches=df_matches_clean['matchId'].nunique()\n",
    "num_matches"
   ]
  },
  {
   "cell_type": "code",
   "execution_count": 57,
   "metadata": {},
   "outputs": [
    {
     "data": {
      "text/plain": [
       "1869"
      ]
     },
     "execution_count": 57,
     "metadata": {},
     "output_type": "execute_result"
    }
   ],
   "source": [
    "num_playes=df_matches_clean['userId'].nunique()\n",
    "num_playes"
   ]
  },
  {
   "cell_type": "code",
   "execution_count": 58,
   "metadata": {},
   "outputs": [],
   "source": [
    "df_cat_features = df_matches_clean[[\n",
    "                                    'matchId', 'userId', 'dateMatch',\n",
    "                                    'timestamp', 'mapName', 'mapImageUrl',\n",
    "                                    'seasonName', 'userId', 'hasWon', 'result',\n",
    "                                    'agentName','weekDay', 'mapName', 'seasonName',\n",
    "                                    'server', 'hasWon', 'result', 'agentName',\n",
    "                                    ]]"
   ]
  },
  {
   "cell_type": "code",
   "execution_count": 59,
   "metadata": {},
   "outputs": [],
   "source": [
    "df_num_features = df_matches_clean[[\n",
    "                                    'leaderboardRank', 'competitiveTier', 'rankedRating',\n",
    "                                    'playtimeValue','roundsPlayedValue','roundsWonValue',\n",
    "                                    'roundsLostValue', 'roundsDisconnectedValue', 'scoreValue',\n",
    "                                    'killsValue', 'deathsValue', 'assistsValue', 'damageValue',\n",
    "                                    'damageReceivedValue',\t'headshotsValue', 'grenadeCastsValue',\n",
    "                                    'ability1CastsValue', 'ability2CastsValue', 'ultimateCastsValue',\n",
    "                                    'dealtHeadshotsValue', 'dealtBodyshotsValue', 'dealtLegshotsValue',\n",
    "                                    'econRatingValue', 'suicidesValue',\t'revivedValue',\t'firstBloodsValue',\t\n",
    "                                    'firstDeathsValue',\t'lastDeathsValue', 'survivedValue',\n",
    "                                    'tradedValue', 'kASTValue',\t'flawlessValue',\n",
    "                                    ]]"
   ]
  },
  {
   "cell_type": "code",
   "execution_count": 60,
   "metadata": {},
   "outputs": [],
   "source": [
    "df_matches_agents_result = df_matches_raw[['agentName','result']].groupby(['agentName','result',])['result'] \\\n",
    "                             .count() \\\n",
    "                             .reset_index(name='count') \\\n",
    "                             .sort_values(['agentName'], ascending=False) \\\n",
    "                             .reset_index(drop = True)"
   ]
  },
  {
   "cell_type": "code",
   "execution_count": 45,
   "metadata": {},
   "outputs": [
    {
     "data": {
      "application/vnd.plotly.v1+json": {
       "config": {
        "plotlyServerURL": "https://plot.ly"
       },
       "data": [
        {
         "alignmentgroup": "True",
         "bingroup": "x",
         "histfunc": "sum",
         "hovertemplate": "result=victory<br>agentName=%{x}<br>sum of count=%{y}<extra></extra>",
         "legendgroup": "victory",
         "marker": {
          "color": "#636efa",
          "pattern": {
           "shape": ""
          }
         },
         "name": "victory",
         "offsetgroup": "victory",
         "orientation": "v",
         "showlegend": true,
         "type": "histogram",
         "x": [
          "Yoru",
          "Viper",
          "Sova",
          "Skye",
          "Sage",
          "Reyna",
          "Raze",
          "Phoenix",
          "Omen",
          "Neon",
          "Killjoy",
          "KAY/O",
          "Jett",
          "Harbor",
          "Fade",
          "Cypher",
          "Chamber",
          "Brimstone",
          "Breach",
          "Astra"
         ],
         "xaxis": "x",
         "y": [
          1315,
          12028,
          13844,
          3897,
          6836,
          14170,
          11796,
          4415,
          8093,
          2582,
          1694,
          6158,
          24454,
          733,
          12408,
          1310,
          34485,
          7701,
          4659,
          4127
         ],
         "yaxis": "y"
        },
        {
         "alignmentgroup": "True",
         "bingroup": "x",
         "histfunc": "sum",
         "hovertemplate": "result=tied<br>agentName=%{x}<br>sum of count=%{y}<extra></extra>",
         "legendgroup": "tied",
         "marker": {
          "color": "#EF553B",
          "pattern": {
           "shape": ""
          }
         },
         "name": "tied",
         "offsetgroup": "tied",
         "orientation": "v",
         "showlegend": true,
         "type": "histogram",
         "x": [
          "Yoru",
          "Viper",
          "Sova",
          "Skye",
          "Sage",
          "Reyna",
          "Raze",
          "Phoenix",
          "Omen",
          "Neon",
          "Killjoy",
          "KAY/O",
          "Jett",
          "Harbor",
          "Fade",
          "Cypher",
          "Chamber",
          "Brimstone",
          "Breach",
          "Astra"
         ],
         "xaxis": "x",
         "y": [
          29,
          241,
          295,
          72,
          155,
          286,
          268,
          71,
          175,
          50,
          26,
          126,
          531,
          13,
          248,
          24,
          771,
          181,
          113,
          57
         ],
         "yaxis": "y"
        },
        {
         "alignmentgroup": "True",
         "bingroup": "x",
         "histfunc": "sum",
         "hovertemplate": "result=defeat<br>agentName=%{x}<br>sum of count=%{y}<extra></extra>",
         "legendgroup": "defeat",
         "marker": {
          "color": "#00cc96",
          "pattern": {
           "shape": ""
          }
         },
         "name": "defeat",
         "offsetgroup": "defeat",
         "orientation": "v",
         "showlegend": true,
         "type": "histogram",
         "x": [
          "Yoru",
          "Viper",
          "Sova",
          "Skye",
          "Sage",
          "Reyna",
          "Raze",
          "Phoenix",
          "Omen",
          "Neon",
          "Killjoy",
          "KAY/O",
          "Jett",
          "Harbor",
          "Fade",
          "Cypher",
          "Chamber",
          "Brimstone",
          "Breach",
          "Astra"
         ],
         "xaxis": "x",
         "y": [
          1233,
          10480,
          11966,
          3587,
          5329,
          11846,
          9907,
          3574,
          7306,
          2417,
          1309,
          6533,
          21005,
          772,
          10788,
          1210,
          29862,
          6334,
          4248,
          3692
         ],
         "yaxis": "y"
        }
       ],
       "layout": {
        "barmode": "group",
        "height": 400,
        "legend": {
         "title": {
          "text": "result"
         },
         "tracegroupgap": 0
        },
        "margin": {
         "t": 60
        },
        "template": {
         "data": {
          "bar": [
           {
            "error_x": {
             "color": "#2a3f5f"
            },
            "error_y": {
             "color": "#2a3f5f"
            },
            "marker": {
             "line": {
              "color": "#E5ECF6",
              "width": 0.5
             },
             "pattern": {
              "fillmode": "overlay",
              "size": 10,
              "solidity": 0.2
             }
            },
            "type": "bar"
           }
          ],
          "barpolar": [
           {
            "marker": {
             "line": {
              "color": "#E5ECF6",
              "width": 0.5
             },
             "pattern": {
              "fillmode": "overlay",
              "size": 10,
              "solidity": 0.2
             }
            },
            "type": "barpolar"
           }
          ],
          "carpet": [
           {
            "aaxis": {
             "endlinecolor": "#2a3f5f",
             "gridcolor": "white",
             "linecolor": "white",
             "minorgridcolor": "white",
             "startlinecolor": "#2a3f5f"
            },
            "baxis": {
             "endlinecolor": "#2a3f5f",
             "gridcolor": "white",
             "linecolor": "white",
             "minorgridcolor": "white",
             "startlinecolor": "#2a3f5f"
            },
            "type": "carpet"
           }
          ],
          "choropleth": [
           {
            "colorbar": {
             "outlinewidth": 0,
             "ticks": ""
            },
            "type": "choropleth"
           }
          ],
          "contour": [
           {
            "colorbar": {
             "outlinewidth": 0,
             "ticks": ""
            },
            "colorscale": [
             [
              0,
              "#0d0887"
             ],
             [
              0.1111111111111111,
              "#46039f"
             ],
             [
              0.2222222222222222,
              "#7201a8"
             ],
             [
              0.3333333333333333,
              "#9c179e"
             ],
             [
              0.4444444444444444,
              "#bd3786"
             ],
             [
              0.5555555555555556,
              "#d8576b"
             ],
             [
              0.6666666666666666,
              "#ed7953"
             ],
             [
              0.7777777777777778,
              "#fb9f3a"
             ],
             [
              0.8888888888888888,
              "#fdca26"
             ],
             [
              1,
              "#f0f921"
             ]
            ],
            "type": "contour"
           }
          ],
          "contourcarpet": [
           {
            "colorbar": {
             "outlinewidth": 0,
             "ticks": ""
            },
            "type": "contourcarpet"
           }
          ],
          "heatmap": [
           {
            "colorbar": {
             "outlinewidth": 0,
             "ticks": ""
            },
            "colorscale": [
             [
              0,
              "#0d0887"
             ],
             [
              0.1111111111111111,
              "#46039f"
             ],
             [
              0.2222222222222222,
              "#7201a8"
             ],
             [
              0.3333333333333333,
              "#9c179e"
             ],
             [
              0.4444444444444444,
              "#bd3786"
             ],
             [
              0.5555555555555556,
              "#d8576b"
             ],
             [
              0.6666666666666666,
              "#ed7953"
             ],
             [
              0.7777777777777778,
              "#fb9f3a"
             ],
             [
              0.8888888888888888,
              "#fdca26"
             ],
             [
              1,
              "#f0f921"
             ]
            ],
            "type": "heatmap"
           }
          ],
          "heatmapgl": [
           {
            "colorbar": {
             "outlinewidth": 0,
             "ticks": ""
            },
            "colorscale": [
             [
              0,
              "#0d0887"
             ],
             [
              0.1111111111111111,
              "#46039f"
             ],
             [
              0.2222222222222222,
              "#7201a8"
             ],
             [
              0.3333333333333333,
              "#9c179e"
             ],
             [
              0.4444444444444444,
              "#bd3786"
             ],
             [
              0.5555555555555556,
              "#d8576b"
             ],
             [
              0.6666666666666666,
              "#ed7953"
             ],
             [
              0.7777777777777778,
              "#fb9f3a"
             ],
             [
              0.8888888888888888,
              "#fdca26"
             ],
             [
              1,
              "#f0f921"
             ]
            ],
            "type": "heatmapgl"
           }
          ],
          "histogram": [
           {
            "marker": {
             "pattern": {
              "fillmode": "overlay",
              "size": 10,
              "solidity": 0.2
             }
            },
            "type": "histogram"
           }
          ],
          "histogram2d": [
           {
            "colorbar": {
             "outlinewidth": 0,
             "ticks": ""
            },
            "colorscale": [
             [
              0,
              "#0d0887"
             ],
             [
              0.1111111111111111,
              "#46039f"
             ],
             [
              0.2222222222222222,
              "#7201a8"
             ],
             [
              0.3333333333333333,
              "#9c179e"
             ],
             [
              0.4444444444444444,
              "#bd3786"
             ],
             [
              0.5555555555555556,
              "#d8576b"
             ],
             [
              0.6666666666666666,
              "#ed7953"
             ],
             [
              0.7777777777777778,
              "#fb9f3a"
             ],
             [
              0.8888888888888888,
              "#fdca26"
             ],
             [
              1,
              "#f0f921"
             ]
            ],
            "type": "histogram2d"
           }
          ],
          "histogram2dcontour": [
           {
            "colorbar": {
             "outlinewidth": 0,
             "ticks": ""
            },
            "colorscale": [
             [
              0,
              "#0d0887"
             ],
             [
              0.1111111111111111,
              "#46039f"
             ],
             [
              0.2222222222222222,
              "#7201a8"
             ],
             [
              0.3333333333333333,
              "#9c179e"
             ],
             [
              0.4444444444444444,
              "#bd3786"
             ],
             [
              0.5555555555555556,
              "#d8576b"
             ],
             [
              0.6666666666666666,
              "#ed7953"
             ],
             [
              0.7777777777777778,
              "#fb9f3a"
             ],
             [
              0.8888888888888888,
              "#fdca26"
             ],
             [
              1,
              "#f0f921"
             ]
            ],
            "type": "histogram2dcontour"
           }
          ],
          "mesh3d": [
           {
            "colorbar": {
             "outlinewidth": 0,
             "ticks": ""
            },
            "type": "mesh3d"
           }
          ],
          "parcoords": [
           {
            "line": {
             "colorbar": {
              "outlinewidth": 0,
              "ticks": ""
             }
            },
            "type": "parcoords"
           }
          ],
          "pie": [
           {
            "automargin": true,
            "type": "pie"
           }
          ],
          "scatter": [
           {
            "fillpattern": {
             "fillmode": "overlay",
             "size": 10,
             "solidity": 0.2
            },
            "type": "scatter"
           }
          ],
          "scatter3d": [
           {
            "line": {
             "colorbar": {
              "outlinewidth": 0,
              "ticks": ""
             }
            },
            "marker": {
             "colorbar": {
              "outlinewidth": 0,
              "ticks": ""
             }
            },
            "type": "scatter3d"
           }
          ],
          "scattercarpet": [
           {
            "marker": {
             "colorbar": {
              "outlinewidth": 0,
              "ticks": ""
             }
            },
            "type": "scattercarpet"
           }
          ],
          "scattergeo": [
           {
            "marker": {
             "colorbar": {
              "outlinewidth": 0,
              "ticks": ""
             }
            },
            "type": "scattergeo"
           }
          ],
          "scattergl": [
           {
            "marker": {
             "colorbar": {
              "outlinewidth": 0,
              "ticks": ""
             }
            },
            "type": "scattergl"
           }
          ],
          "scattermapbox": [
           {
            "marker": {
             "colorbar": {
              "outlinewidth": 0,
              "ticks": ""
             }
            },
            "type": "scattermapbox"
           }
          ],
          "scatterpolar": [
           {
            "marker": {
             "colorbar": {
              "outlinewidth": 0,
              "ticks": ""
             }
            },
            "type": "scatterpolar"
           }
          ],
          "scatterpolargl": [
           {
            "marker": {
             "colorbar": {
              "outlinewidth": 0,
              "ticks": ""
             }
            },
            "type": "scatterpolargl"
           }
          ],
          "scatterternary": [
           {
            "marker": {
             "colorbar": {
              "outlinewidth": 0,
              "ticks": ""
             }
            },
            "type": "scatterternary"
           }
          ],
          "surface": [
           {
            "colorbar": {
             "outlinewidth": 0,
             "ticks": ""
            },
            "colorscale": [
             [
              0,
              "#0d0887"
             ],
             [
              0.1111111111111111,
              "#46039f"
             ],
             [
              0.2222222222222222,
              "#7201a8"
             ],
             [
              0.3333333333333333,
              "#9c179e"
             ],
             [
              0.4444444444444444,
              "#bd3786"
             ],
             [
              0.5555555555555556,
              "#d8576b"
             ],
             [
              0.6666666666666666,
              "#ed7953"
             ],
             [
              0.7777777777777778,
              "#fb9f3a"
             ],
             [
              0.8888888888888888,
              "#fdca26"
             ],
             [
              1,
              "#f0f921"
             ]
            ],
            "type": "surface"
           }
          ],
          "table": [
           {
            "cells": {
             "fill": {
              "color": "#EBF0F8"
             },
             "line": {
              "color": "white"
             }
            },
            "header": {
             "fill": {
              "color": "#C8D4E3"
             },
             "line": {
              "color": "white"
             }
            },
            "type": "table"
           }
          ]
         },
         "layout": {
          "annotationdefaults": {
           "arrowcolor": "#2a3f5f",
           "arrowhead": 0,
           "arrowwidth": 1
          },
          "autotypenumbers": "strict",
          "coloraxis": {
           "colorbar": {
            "outlinewidth": 0,
            "ticks": ""
           }
          },
          "colorscale": {
           "diverging": [
            [
             0,
             "#8e0152"
            ],
            [
             0.1,
             "#c51b7d"
            ],
            [
             0.2,
             "#de77ae"
            ],
            [
             0.3,
             "#f1b6da"
            ],
            [
             0.4,
             "#fde0ef"
            ],
            [
             0.5,
             "#f7f7f7"
            ],
            [
             0.6,
             "#e6f5d0"
            ],
            [
             0.7,
             "#b8e186"
            ],
            [
             0.8,
             "#7fbc41"
            ],
            [
             0.9,
             "#4d9221"
            ],
            [
             1,
             "#276419"
            ]
           ],
           "sequential": [
            [
             0,
             "#0d0887"
            ],
            [
             0.1111111111111111,
             "#46039f"
            ],
            [
             0.2222222222222222,
             "#7201a8"
            ],
            [
             0.3333333333333333,
             "#9c179e"
            ],
            [
             0.4444444444444444,
             "#bd3786"
            ],
            [
             0.5555555555555556,
             "#d8576b"
            ],
            [
             0.6666666666666666,
             "#ed7953"
            ],
            [
             0.7777777777777778,
             "#fb9f3a"
            ],
            [
             0.8888888888888888,
             "#fdca26"
            ],
            [
             1,
             "#f0f921"
            ]
           ],
           "sequentialminus": [
            [
             0,
             "#0d0887"
            ],
            [
             0.1111111111111111,
             "#46039f"
            ],
            [
             0.2222222222222222,
             "#7201a8"
            ],
            [
             0.3333333333333333,
             "#9c179e"
            ],
            [
             0.4444444444444444,
             "#bd3786"
            ],
            [
             0.5555555555555556,
             "#d8576b"
            ],
            [
             0.6666666666666666,
             "#ed7953"
            ],
            [
             0.7777777777777778,
             "#fb9f3a"
            ],
            [
             0.8888888888888888,
             "#fdca26"
            ],
            [
             1,
             "#f0f921"
            ]
           ]
          },
          "colorway": [
           "#636efa",
           "#EF553B",
           "#00cc96",
           "#ab63fa",
           "#FFA15A",
           "#19d3f3",
           "#FF6692",
           "#B6E880",
           "#FF97FF",
           "#FECB52"
          ],
          "font": {
           "color": "#2a3f5f"
          },
          "geo": {
           "bgcolor": "white",
           "lakecolor": "white",
           "landcolor": "#E5ECF6",
           "showlakes": true,
           "showland": true,
           "subunitcolor": "white"
          },
          "hoverlabel": {
           "align": "left"
          },
          "hovermode": "closest",
          "mapbox": {
           "style": "light"
          },
          "paper_bgcolor": "white",
          "plot_bgcolor": "#E5ECF6",
          "polar": {
           "angularaxis": {
            "gridcolor": "white",
            "linecolor": "white",
            "ticks": ""
           },
           "bgcolor": "#E5ECF6",
           "radialaxis": {
            "gridcolor": "white",
            "linecolor": "white",
            "ticks": ""
           }
          },
          "scene": {
           "xaxis": {
            "backgroundcolor": "#E5ECF6",
            "gridcolor": "white",
            "gridwidth": 2,
            "linecolor": "white",
            "showbackground": true,
            "ticks": "",
            "zerolinecolor": "white"
           },
           "yaxis": {
            "backgroundcolor": "#E5ECF6",
            "gridcolor": "white",
            "gridwidth": 2,
            "linecolor": "white",
            "showbackground": true,
            "ticks": "",
            "zerolinecolor": "white"
           },
           "zaxis": {
            "backgroundcolor": "#E5ECF6",
            "gridcolor": "white",
            "gridwidth": 2,
            "linecolor": "white",
            "showbackground": true,
            "ticks": "",
            "zerolinecolor": "white"
           }
          },
          "shapedefaults": {
           "line": {
            "color": "#2a3f5f"
           }
          },
          "ternary": {
           "aaxis": {
            "gridcolor": "white",
            "linecolor": "white",
            "ticks": ""
           },
           "baxis": {
            "gridcolor": "white",
            "linecolor": "white",
            "ticks": ""
           },
           "bgcolor": "#E5ECF6",
           "caxis": {
            "gridcolor": "white",
            "linecolor": "white",
            "ticks": ""
           }
          },
          "title": {
           "x": 0.05
          },
          "xaxis": {
           "automargin": true,
           "gridcolor": "white",
           "linecolor": "white",
           "ticks": "",
           "title": {
            "standoff": 15
           },
           "zerolinecolor": "white",
           "zerolinewidth": 2
          },
          "yaxis": {
           "automargin": true,
           "gridcolor": "white",
           "linecolor": "white",
           "ticks": "",
           "title": {
            "standoff": 15
           },
           "zerolinecolor": "white",
           "zerolinewidth": 2
          }
         }
        },
        "xaxis": {
         "anchor": "y",
         "domain": [
          0,
          1
         ],
         "title": {
          "text": "agentName"
         }
        },
        "yaxis": {
         "anchor": "x",
         "domain": [
          0,
          1
         ],
         "title": {
          "text": "sum of count"
         }
        }
       }
      }
     },
     "metadata": {},
     "output_type": "display_data"
    }
   ],
   "source": [
    "fig = px.histogram(df_matches_agents_result, x=df_matches_agents_result['agentName'], y=df_matches_agents_result['count'], color=df_matches_agents_result['result'], barmode='group',\n",
    "             height=400)\n",
    "fig.show()"
   ]
  },
  {
   "cell_type": "code",
   "execution_count": 46,
   "metadata": {},
   "outputs": [
    {
     "data": {
      "text/html": [
       "<div>\n",
       "<style scoped>\n",
       "    .dataframe tbody tr th:only-of-type {\n",
       "        vertical-align: middle;\n",
       "    }\n",
       "\n",
       "    .dataframe tbody tr th {\n",
       "        vertical-align: top;\n",
       "    }\n",
       "\n",
       "    .dataframe thead th {\n",
       "        text-align: right;\n",
       "    }\n",
       "</style>\n",
       "<table border=\"1\" class=\"dataframe\">\n",
       "  <thead>\n",
       "    <tr style=\"text-align: right;\">\n",
       "      <th></th>\n",
       "      <th>hasWon</th>\n",
       "    </tr>\n",
       "    <tr>\n",
       "      <th>agentName</th>\n",
       "      <th></th>\n",
       "    </tr>\n",
       "  </thead>\n",
       "  <tbody>\n",
       "    <tr>\n",
       "      <th>Astra</th>\n",
       "      <td>52.399695</td>\n",
       "    </tr>\n",
       "    <tr>\n",
       "      <th>Breach</th>\n",
       "      <td>51.651885</td>\n",
       "    </tr>\n",
       "    <tr>\n",
       "      <th>Brimstone</th>\n",
       "      <td>54.171356</td>\n",
       "    </tr>\n",
       "    <tr>\n",
       "      <th>Chamber</th>\n",
       "      <td>52.957708</td>\n",
       "    </tr>\n",
       "    <tr>\n",
       "      <th>Cypher</th>\n",
       "      <td>51.493711</td>\n",
       "    </tr>\n",
       "    <tr>\n",
       "      <th>Fade</th>\n",
       "      <td>52.926122</td>\n",
       "    </tr>\n",
       "    <tr>\n",
       "      <th>Harbor</th>\n",
       "      <td>48.287220</td>\n",
       "    </tr>\n",
       "    <tr>\n",
       "      <th>Jett</th>\n",
       "      <td>53.172429</td>\n",
       "    </tr>\n",
       "    <tr>\n",
       "      <th>KAY/O</th>\n",
       "      <td>48.045564</td>\n",
       "    </tr>\n",
       "    <tr>\n",
       "      <th>Killjoy</th>\n",
       "      <td>55.926048</td>\n",
       "    </tr>\n",
       "    <tr>\n",
       "      <th>Neon</th>\n",
       "      <td>51.138839</td>\n",
       "    </tr>\n",
       "    <tr>\n",
       "      <th>Omen</th>\n",
       "      <td>51.964813</td>\n",
       "    </tr>\n",
       "    <tr>\n",
       "      <th>Phoenix</th>\n",
       "      <td>54.776675</td>\n",
       "    </tr>\n",
       "    <tr>\n",
       "      <th>Raze</th>\n",
       "      <td>53.688954</td>\n",
       "    </tr>\n",
       "    <tr>\n",
       "      <th>Reyna</th>\n",
       "      <td>53.874230</td>\n",
       "    </tr>\n",
       "    <tr>\n",
       "      <th>Sage</th>\n",
       "      <td>55.487013</td>\n",
       "    </tr>\n",
       "    <tr>\n",
       "      <th>Skye</th>\n",
       "      <td>51.574907</td>\n",
       "    </tr>\n",
       "    <tr>\n",
       "      <th>Sova</th>\n",
       "      <td>53.031986</td>\n",
       "    </tr>\n",
       "    <tr>\n",
       "      <th>Viper</th>\n",
       "      <td>52.872654</td>\n",
       "    </tr>\n",
       "    <tr>\n",
       "      <th>Yoru</th>\n",
       "      <td>51.028328</td>\n",
       "    </tr>\n",
       "  </tbody>\n",
       "</table>\n",
       "</div>"
      ],
      "text/plain": [
       "              hasWon\n",
       "agentName           \n",
       "Astra      52.399695\n",
       "Breach     51.651885\n",
       "Brimstone  54.171356\n",
       "Chamber    52.957708\n",
       "Cypher     51.493711\n",
       "Fade       52.926122\n",
       "Harbor     48.287220\n",
       "Jett       53.172429\n",
       "KAY/O      48.045564\n",
       "Killjoy    55.926048\n",
       "Neon       51.138839\n",
       "Omen       51.964813\n",
       "Phoenix    54.776675\n",
       "Raze       53.688954\n",
       "Reyna      53.874230\n",
       "Sage       55.487013\n",
       "Skye       51.574907\n",
       "Sova       53.031986\n",
       "Viper      52.872654\n",
       "Yoru       51.028328"
      ]
     },
     "execution_count": 46,
     "metadata": {},
     "output_type": "execute_result"
    }
   ],
   "source": [
    "df_matches_win_percentage_agents=100*df_matches_raw.groupby('agentName')[['hasWon']].sum()/df_matches_raw.groupby('agentName')[['hasWon']].count()\n",
    "df_matches_win_percentage_agents"
   ]
  },
  {
   "cell_type": "code",
   "execution_count": 47,
   "metadata": {},
   "outputs": [
    {
     "data": {
      "text/html": [
       "<div>\n",
       "<style scoped>\n",
       "    .dataframe tbody tr th:only-of-type {\n",
       "        vertical-align: middle;\n",
       "    }\n",
       "\n",
       "    .dataframe tbody tr th {\n",
       "        vertical-align: top;\n",
       "    }\n",
       "\n",
       "    .dataframe thead th {\n",
       "        text-align: right;\n",
       "    }\n",
       "</style>\n",
       "<table border=\"1\" class=\"dataframe\">\n",
       "  <thead>\n",
       "    <tr style=\"text-align: right;\">\n",
       "      <th></th>\n",
       "      <th>agentName</th>\n",
       "      <th>hasWon</th>\n",
       "    </tr>\n",
       "  </thead>\n",
       "  <tbody>\n",
       "    <tr>\n",
       "      <th>0</th>\n",
       "      <td>Astra</td>\n",
       "      <td>4127</td>\n",
       "    </tr>\n",
       "    <tr>\n",
       "      <th>1</th>\n",
       "      <td>Breach</td>\n",
       "      <td>4659</td>\n",
       "    </tr>\n",
       "    <tr>\n",
       "      <th>2</th>\n",
       "      <td>Brimstone</td>\n",
       "      <td>7701</td>\n",
       "    </tr>\n",
       "    <tr>\n",
       "      <th>3</th>\n",
       "      <td>Chamber</td>\n",
       "      <td>34485</td>\n",
       "    </tr>\n",
       "    <tr>\n",
       "      <th>4</th>\n",
       "      <td>Cypher</td>\n",
       "      <td>1310</td>\n",
       "    </tr>\n",
       "    <tr>\n",
       "      <th>5</th>\n",
       "      <td>Fade</td>\n",
       "      <td>12408</td>\n",
       "    </tr>\n",
       "    <tr>\n",
       "      <th>6</th>\n",
       "      <td>Harbor</td>\n",
       "      <td>733</td>\n",
       "    </tr>\n",
       "    <tr>\n",
       "      <th>7</th>\n",
       "      <td>Jett</td>\n",
       "      <td>24454</td>\n",
       "    </tr>\n",
       "    <tr>\n",
       "      <th>8</th>\n",
       "      <td>KAY/O</td>\n",
       "      <td>6158</td>\n",
       "    </tr>\n",
       "    <tr>\n",
       "      <th>9</th>\n",
       "      <td>Killjoy</td>\n",
       "      <td>1694</td>\n",
       "    </tr>\n",
       "    <tr>\n",
       "      <th>10</th>\n",
       "      <td>Neon</td>\n",
       "      <td>2582</td>\n",
       "    </tr>\n",
       "    <tr>\n",
       "      <th>11</th>\n",
       "      <td>Omen</td>\n",
       "      <td>8093</td>\n",
       "    </tr>\n",
       "    <tr>\n",
       "      <th>12</th>\n",
       "      <td>Phoenix</td>\n",
       "      <td>4415</td>\n",
       "    </tr>\n",
       "    <tr>\n",
       "      <th>13</th>\n",
       "      <td>Raze</td>\n",
       "      <td>11796</td>\n",
       "    </tr>\n",
       "    <tr>\n",
       "      <th>14</th>\n",
       "      <td>Reyna</td>\n",
       "      <td>14170</td>\n",
       "    </tr>\n",
       "    <tr>\n",
       "      <th>15</th>\n",
       "      <td>Sage</td>\n",
       "      <td>6836</td>\n",
       "    </tr>\n",
       "    <tr>\n",
       "      <th>16</th>\n",
       "      <td>Skye</td>\n",
       "      <td>3897</td>\n",
       "    </tr>\n",
       "    <tr>\n",
       "      <th>17</th>\n",
       "      <td>Sova</td>\n",
       "      <td>13844</td>\n",
       "    </tr>\n",
       "    <tr>\n",
       "      <th>18</th>\n",
       "      <td>Viper</td>\n",
       "      <td>12028</td>\n",
       "    </tr>\n",
       "    <tr>\n",
       "      <th>19</th>\n",
       "      <td>Yoru</td>\n",
       "      <td>1315</td>\n",
       "    </tr>\n",
       "  </tbody>\n",
       "</table>\n",
       "</div>"
      ],
      "text/plain": [
       "    agentName  hasWon\n",
       "0       Astra    4127\n",
       "1      Breach    4659\n",
       "2   Brimstone    7701\n",
       "3     Chamber   34485\n",
       "4      Cypher    1310\n",
       "5        Fade   12408\n",
       "6      Harbor     733\n",
       "7        Jett   24454\n",
       "8       KAY/O    6158\n",
       "9     Killjoy    1694\n",
       "10       Neon    2582\n",
       "11       Omen    8093\n",
       "12    Phoenix    4415\n",
       "13       Raze   11796\n",
       "14      Reyna   14170\n",
       "15       Sage    6836\n",
       "16       Skye    3897\n",
       "17       Sova   13844\n",
       "18      Viper   12028\n",
       "19       Yoru    1315"
      ]
     },
     "execution_count": 47,
     "metadata": {},
     "output_type": "execute_result"
    }
   ],
   "source": [
    "df_matches_wins_per_agent = df_matches_raw.groupby(['agentName'],as_index=False)[['agentName','hasWon']].sum(numeric_only=True)\n",
    "df_matches_wins_per_agent\n"
   ]
  },
  {
   "cell_type": "code",
   "execution_count": 48,
   "metadata": {},
   "outputs": [],
   "source": [
    "df_matches_date_count = (\n",
    "                            df_matches_raw.groupby(['dateMatch'])['dateMatch']\n",
    "                            .count() \\\n",
    "                            .reset_index(name='count') \\\n",
    "                            .reset_index(drop = True)\n",
    "                        )\n",
    "\n",
    "df_matches_date_count_plot = df_matches_date_count"
   ]
  },
  {
   "cell_type": "code",
   "execution_count": 49,
   "metadata": {},
   "outputs": [
    {
     "data": {
      "application/vnd.plotly.v1+json": {
       "config": {
        "plotlyServerURL": "https://plot.ly"
       },
       "data": [
        {
         "hovertemplate": "x=%{x}<br>y=%{y}<extra></extra>",
         "legendgroup": "",
         "line": {
          "color": "#636efa",
          "dash": "solid"
         },
         "marker": {
          "symbol": "circle"
         },
         "mode": "lines",
         "name": "",
         "orientation": "v",
         "showlegend": false,
         "type": "scatter",
         "x": [
          "2020-06-28",
          "2020-07-29",
          "2020-07-30",
          "2020-07-31",
          "2020-08-03",
          "2020-08-05",
          "2020-08-06",
          "2020-08-08",
          "2020-08-09",
          "2020-08-10",
          "2020-08-11",
          "2020-08-12",
          "2020-08-13",
          "2020-08-16",
          "2020-08-17",
          "2020-08-18",
          "2020-08-19",
          "2020-08-20",
          "2020-08-21",
          "2020-08-24",
          "2020-08-25",
          "2020-08-26",
          "2020-09-13",
          "2020-09-26",
          "2020-09-27",
          "2020-10-04",
          "2020-10-06",
          "2020-10-08",
          "2020-10-10",
          "2020-10-11",
          "2020-10-15",
          "2020-10-30",
          "2020-11-08",
          "2020-11-10",
          "2020-12-06",
          "2021-01-10",
          "2021-01-12",
          "2021-01-15",
          "2021-01-16",
          "2021-01-20",
          "2021-01-21",
          "2021-01-22",
          "2021-01-27",
          "2021-01-28",
          "2021-02-05",
          "2021-02-06",
          "2021-02-07",
          "2021-02-12",
          "2021-02-13",
          "2021-02-14",
          "2021-02-15",
          "2021-02-17",
          "2021-02-18",
          "2021-02-21",
          "2021-02-22",
          "2021-02-23",
          "2021-03-01",
          "2021-03-08",
          "2021-03-10",
          "2021-03-11",
          "2021-03-12",
          "2021-03-13",
          "2021-03-14",
          "2021-03-15",
          "2021-03-16",
          "2021-03-17",
          "2021-03-18",
          "2021-03-19",
          "2021-03-23",
          "2021-03-24",
          "2021-03-25",
          "2021-03-27",
          "2021-03-29",
          "2021-03-31",
          "2021-04-01",
          "2021-04-02",
          "2021-04-03",
          "2021-04-04",
          "2021-04-05",
          "2021-04-06",
          "2021-04-07",
          "2021-04-08",
          "2021-04-09",
          "2021-04-10",
          "2021-04-11",
          "2021-04-12",
          "2021-04-13",
          "2021-04-14",
          "2021-04-15",
          "2021-04-16",
          "2021-04-17",
          "2021-04-18",
          "2021-04-19",
          "2021-04-20",
          "2021-04-21",
          "2021-04-22",
          "2021-04-23",
          "2021-04-24",
          "2021-04-25",
          "2021-04-26",
          "2021-04-27",
          "2021-04-29",
          "2021-04-30",
          "2021-05-01",
          "2021-05-02",
          "2021-05-03",
          "2021-05-04",
          "2021-05-06",
          "2021-05-07",
          "2021-05-08",
          "2021-05-09",
          "2021-05-10",
          "2021-05-11",
          "2021-05-12",
          "2021-05-13",
          "2021-05-14",
          "2021-05-15",
          "2021-05-16",
          "2021-05-17",
          "2021-05-18",
          "2021-05-19",
          "2021-05-22",
          "2021-05-23",
          "2021-05-24",
          "2021-05-25",
          "2021-05-26",
          "2021-05-27",
          "2021-05-28",
          "2021-05-29",
          "2021-05-30",
          "2021-05-31",
          "2021-06-01",
          "2021-06-02",
          "2021-06-03",
          "2021-06-04",
          "2021-06-05",
          "2021-06-06",
          "2021-06-08",
          "2021-06-09",
          "2021-06-10",
          "2021-06-11",
          "2021-06-12",
          "2021-06-13",
          "2021-06-14",
          "2021-06-15",
          "2021-06-16",
          "2021-06-17",
          "2021-06-19",
          "2021-06-20",
          "2021-06-21",
          "2021-06-22",
          "2021-06-23",
          "2021-06-24",
          "2021-06-25",
          "2021-06-26",
          "2021-06-28",
          "2021-06-29",
          "2021-06-30",
          "2021-07-01",
          "2021-07-02",
          "2021-07-03",
          "2021-07-04",
          "2021-07-05",
          "2021-07-06",
          "2021-07-07",
          "2021-07-08",
          "2021-07-09",
          "2021-07-10",
          "2021-07-11",
          "2021-07-12",
          "2021-07-13",
          "2021-07-14",
          "2021-07-15",
          "2021-07-16",
          "2021-07-17",
          "2021-07-18",
          "2021-07-19",
          "2021-07-20",
          "2021-07-21",
          "2021-07-22",
          "2021-07-23",
          "2021-07-24",
          "2021-07-25",
          "2021-07-26",
          "2021-07-27",
          "2021-07-28",
          "2021-07-29",
          "2021-07-30",
          "2021-07-31",
          "2021-08-01",
          "2021-08-02",
          "2021-08-03",
          "2021-08-04",
          "2021-08-05",
          "2021-08-06",
          "2021-08-07",
          "2021-08-09",
          "2021-08-11",
          "2021-08-12",
          "2021-08-13",
          "2021-08-14",
          "2021-08-15",
          "2021-08-16",
          "2021-08-17",
          "2021-08-18",
          "2021-08-19",
          "2021-08-20",
          "2021-08-21",
          "2021-08-22",
          "2021-08-23",
          "2021-08-24",
          "2021-08-25",
          "2021-08-26",
          "2021-08-27",
          "2021-08-28",
          "2021-08-29",
          "2021-08-30",
          "2021-08-31",
          "2021-09-01",
          "2021-09-02",
          "2021-09-03",
          "2021-09-04",
          "2021-09-05",
          "2021-09-06",
          "2021-09-07",
          "2021-09-09",
          "2021-09-10",
          "2021-09-11",
          "2021-09-12",
          "2021-09-13",
          "2021-09-14",
          "2021-09-15",
          "2021-09-16",
          "2021-09-17",
          "2021-09-18",
          "2021-09-19",
          "2021-09-20",
          "2021-09-21",
          "2021-09-22",
          "2021-09-23",
          "2021-09-24",
          "2021-09-25",
          "2021-09-26",
          "2021-09-27",
          "2021-09-28",
          "2021-09-29",
          "2021-09-30",
          "2021-10-01",
          "2021-10-02",
          "2021-10-03",
          "2021-10-04",
          "2021-10-05",
          "2021-10-06",
          "2021-10-07",
          "2021-10-08",
          "2021-10-09",
          "2021-10-10",
          "2021-10-11",
          "2021-10-12",
          "2021-10-13",
          "2021-10-14",
          "2021-10-15",
          "2021-10-16",
          "2021-10-17",
          "2021-10-18",
          "2021-10-19",
          "2021-10-20",
          "2021-10-21",
          "2021-10-22",
          "2021-10-23",
          "2021-10-24",
          "2021-10-25",
          "2021-10-26",
          "2021-10-27",
          "2021-10-28",
          "2021-10-29",
          "2021-10-30",
          "2021-10-31",
          "2021-11-01",
          "2021-11-02",
          "2021-11-03",
          "2021-11-04",
          "2021-11-05",
          "2021-11-06",
          "2021-11-07",
          "2021-11-08",
          "2021-11-09",
          "2021-11-10",
          "2021-11-11",
          "2021-11-12",
          "2021-11-13",
          "2021-11-14",
          "2021-11-15",
          "2021-11-16",
          "2021-11-17",
          "2021-11-18",
          "2021-11-19",
          "2021-11-20",
          "2021-11-21",
          "2021-11-22",
          "2021-11-23",
          "2021-11-24",
          "2021-11-25",
          "2021-11-26",
          "2021-11-27",
          "2021-11-28",
          "2021-11-29",
          "2021-11-30",
          "2021-12-01",
          "2021-12-02",
          "2021-12-03",
          "2021-12-04",
          "2021-12-05",
          "2021-12-06",
          "2021-12-07",
          "2021-12-08",
          "2021-12-09",
          "2021-12-10",
          "2021-12-11",
          "2021-12-12",
          "2021-12-13",
          "2021-12-14",
          "2021-12-15",
          "2021-12-16",
          "2021-12-17",
          "2021-12-18",
          "2021-12-19",
          "2021-12-20",
          "2021-12-21",
          "2021-12-22",
          "2021-12-23",
          "2021-12-24",
          "2021-12-25",
          "2021-12-26",
          "2021-12-27",
          "2021-12-28",
          "2021-12-29",
          "2021-12-30",
          "2021-12-31",
          "2022-01-01",
          "2022-01-02",
          "2022-01-03",
          "2022-01-04",
          "2022-01-05",
          "2022-01-06",
          "2022-01-07",
          "2022-01-08",
          "2022-01-09",
          "2022-01-10",
          "2022-01-11",
          "2022-01-12",
          "2022-01-13",
          "2022-01-14",
          "2022-01-15",
          "2022-01-16",
          "2022-01-17",
          "2022-01-18",
          "2022-01-19",
          "2022-01-20",
          "2022-01-21",
          "2022-01-22",
          "2022-01-23",
          "2022-01-24",
          "2022-01-25",
          "2022-01-26",
          "2022-01-27",
          "2022-01-28",
          "2022-01-29",
          "2022-01-30",
          "2022-01-31",
          "2022-02-01",
          "2022-02-02",
          "2022-02-03",
          "2022-02-04",
          "2022-02-05",
          "2022-02-06",
          "2022-02-07",
          "2022-02-08",
          "2022-02-09",
          "2022-02-10",
          "2022-02-11",
          "2022-02-12",
          "2022-02-13",
          "2022-02-14",
          "2022-02-15",
          "2022-02-16",
          "2022-02-17",
          "2022-02-18",
          "2022-02-19",
          "2022-02-20",
          "2022-02-21",
          "2022-02-22",
          "2022-02-23",
          "2022-02-24",
          "2022-02-25",
          "2022-02-26",
          "2022-02-27",
          "2022-02-28",
          "2022-03-01",
          "2022-03-02",
          "2022-03-03",
          "2022-03-04",
          "2022-03-05",
          "2022-03-06",
          "2022-03-07",
          "2022-03-08",
          "2022-03-09",
          "2022-03-10",
          "2022-03-11",
          "2022-03-12",
          "2022-03-13",
          "2022-03-14",
          "2022-03-15",
          "2022-03-16",
          "2022-03-17",
          "2022-03-18",
          "2022-03-19",
          "2022-03-20",
          "2022-03-21",
          "2022-03-22",
          "2022-03-23",
          "2022-03-24",
          "2022-03-25",
          "2022-03-26",
          "2022-03-27",
          "2022-03-28",
          "2022-03-29",
          "2022-03-30",
          "2022-03-31",
          "2022-04-01",
          "2022-04-02",
          "2022-04-03",
          "2022-04-04",
          "2022-04-05",
          "2022-04-06",
          "2022-04-07",
          "2022-04-08",
          "2022-04-09",
          "2022-04-10",
          "2022-04-11",
          "2022-04-12",
          "2022-04-13",
          "2022-04-14",
          "2022-04-15",
          "2022-04-16",
          "2022-04-17",
          "2022-04-18",
          "2022-04-19",
          "2022-04-20",
          "2022-04-21",
          "2022-04-22",
          "2022-04-23",
          "2022-04-24",
          "2022-04-25",
          "2022-04-26",
          "2022-04-27",
          "2022-04-28",
          "2022-04-29",
          "2022-04-30",
          "2022-05-01",
          "2022-05-02",
          "2022-05-03",
          "2022-05-04",
          "2022-05-05",
          "2022-05-06",
          "2022-05-07",
          "2022-05-08",
          "2022-05-09",
          "2022-05-10",
          "2022-05-11",
          "2022-05-12",
          "2022-05-13",
          "2022-05-14",
          "2022-05-15",
          "2022-05-16",
          "2022-05-17",
          "2022-05-18",
          "2022-05-19",
          "2022-05-20",
          "2022-05-21",
          "2022-05-22",
          "2022-05-23",
          "2022-05-24",
          "2022-05-25",
          "2022-05-26",
          "2022-05-27",
          "2022-05-28",
          "2022-05-29",
          "2022-05-30",
          "2022-05-31",
          "2022-06-01",
          "2022-06-02",
          "2022-06-03",
          "2022-06-04",
          "2022-06-05",
          "2022-06-06",
          "2022-06-07",
          "2022-06-08",
          "2022-06-09",
          "2022-06-10",
          "2022-06-11",
          "2022-06-12",
          "2022-06-13",
          "2022-06-14",
          "2022-06-15",
          "2022-06-16",
          "2022-06-17",
          "2022-06-18",
          "2022-06-19",
          "2022-06-20",
          "2022-06-21",
          "2022-06-22",
          "2022-06-23",
          "2022-06-24",
          "2022-06-25",
          "2022-06-26",
          "2022-06-27",
          "2022-06-28",
          "2022-06-29",
          "2022-06-30",
          "2022-07-01",
          "2022-07-02",
          "2022-07-03",
          "2022-07-04",
          "2022-07-05",
          "2022-07-06",
          "2022-07-07",
          "2022-07-08",
          "2022-07-09",
          "2022-07-10",
          "2022-07-11",
          "2022-07-12",
          "2022-07-13",
          "2022-07-14",
          "2022-07-15",
          "2022-07-16",
          "2022-07-17",
          "2022-07-18",
          "2022-07-19",
          "2022-07-20",
          "2022-07-21",
          "2022-07-22",
          "2022-07-23",
          "2022-07-24",
          "2022-07-25",
          "2022-07-26",
          "2022-07-27",
          "2022-07-28",
          "2022-07-29",
          "2022-07-30",
          "2022-07-31",
          "2022-08-01",
          "2022-08-02",
          "2022-08-03",
          "2022-08-04",
          "2022-08-05",
          "2022-08-06",
          "2022-08-07",
          "2022-08-08",
          "2022-08-09",
          "2022-08-10",
          "2022-08-11",
          "2022-08-12",
          "2022-08-13",
          "2022-08-14",
          "2022-08-15",
          "2022-08-16",
          "2022-08-17",
          "2022-08-18",
          "2022-08-19",
          "2022-08-20",
          "2022-08-21",
          "2022-08-22",
          "2022-08-23",
          "2022-08-24",
          "2022-08-25",
          "2022-08-26",
          "2022-08-27",
          "2022-08-28",
          "2022-08-29",
          "2022-08-30",
          "2022-08-31",
          "2022-09-01",
          "2022-09-02",
          "2022-09-03",
          "2022-09-04",
          "2022-09-05",
          "2022-09-06",
          "2022-09-07",
          "2022-09-08",
          "2022-09-09",
          "2022-09-10",
          "2022-09-11",
          "2022-09-12",
          "2022-09-13",
          "2022-09-14",
          "2022-09-15",
          "2022-09-16",
          "2022-09-17",
          "2022-09-18",
          "2022-09-19",
          "2022-09-20",
          "2022-09-21",
          "2022-09-22",
          "2022-09-23",
          "2022-09-24",
          "2022-09-25",
          "2022-09-26",
          "2022-09-27",
          "2022-09-28",
          "2022-09-29",
          "2022-09-30",
          "2022-10-01",
          "2022-10-02",
          "2022-10-03",
          "2022-10-04",
          "2022-10-05",
          "2022-10-06",
          "2022-10-07",
          "2022-10-08",
          "2022-10-09",
          "2022-10-10",
          "2022-10-11",
          "2022-10-12",
          "2022-10-13",
          "2022-10-14",
          "2022-10-15",
          "2022-10-16",
          "2022-10-17",
          "2022-10-18",
          "2022-10-19",
          "2022-10-20",
          "2022-10-21",
          "2022-10-22",
          "2022-10-23",
          "2022-10-24",
          "2022-10-25",
          "2022-10-26",
          "2022-10-27",
          "2022-10-28",
          "2022-10-29",
          "2022-10-30",
          "2022-10-31",
          "2022-11-01",
          "2022-11-02",
          "2022-11-03",
          "2022-11-04",
          "2022-11-05",
          "2022-11-06",
          "2022-11-07",
          "2022-11-08",
          "2022-11-09",
          "2022-11-10"
         ],
         "xaxis": "x",
         "y": [
          1,
          5,
          7,
          2,
          2,
          2,
          8,
          1,
          2,
          1,
          3,
          2,
          1,
          1,
          3,
          6,
          2,
          5,
          4,
          3,
          3,
          2,
          2,
          1,
          1,
          1,
          7,
          2,
          2,
          1,
          1,
          1,
          3,
          1,
          1,
          1,
          1,
          3,
          3,
          2,
          5,
          3,
          3,
          6,
          4,
          3,
          4,
          1,
          2,
          4,
          3,
          1,
          1,
          2,
          1,
          4,
          5,
          1,
          4,
          1,
          4,
          2,
          2,
          4,
          1,
          2,
          2,
          2,
          6,
          1,
          2,
          1,
          2,
          1,
          9,
          2,
          7,
          16,
          7,
          14,
          4,
          9,
          7,
          9,
          6,
          1,
          7,
          2,
          4,
          1,
          5,
          3,
          11,
          6,
          11,
          16,
          15,
          11,
          11,
          2,
          3,
          1,
          1,
          4,
          3,
          1,
          3,
          1,
          4,
          6,
          8,
          8,
          8,
          5,
          6,
          14,
          3,
          4,
          13,
          5,
          2,
          2,
          1,
          4,
          12,
          14,
          8,
          13,
          15,
          7,
          3,
          4,
          5,
          4,
          8,
          5,
          10,
          5,
          4,
          8,
          2,
          3,
          9,
          7,
          6,
          8,
          5,
          4,
          1,
          2,
          3,
          20,
          13,
          3,
          6,
          10,
          4,
          5,
          16,
          14,
          3,
          8,
          1,
          14,
          6,
          7,
          2,
          3,
          4,
          16,
          15,
          29,
          4,
          14,
          13,
          3,
          9,
          8,
          3,
          5,
          8,
          8,
          10,
          12,
          14,
          9,
          3,
          8,
          10,
          11,
          6,
          3,
          4,
          1,
          4,
          10,
          2,
          7,
          11,
          10,
          11,
          8,
          11,
          5,
          3,
          6,
          8,
          20,
          19,
          17,
          3,
          2,
          1,
          5,
          5,
          10,
          4,
          11,
          6,
          4,
          9,
          3,
          12,
          10,
          6,
          10,
          8,
          18,
          4,
          8,
          5,
          6,
          4,
          8,
          15,
          1,
          22,
          4,
          6,
          4,
          7,
          16,
          18,
          6,
          12,
          12,
          13,
          7,
          24,
          17,
          13,
          14,
          11,
          1,
          8,
          8,
          13,
          15,
          10,
          17,
          9,
          10,
          8,
          4,
          7,
          5,
          8,
          14,
          9,
          12,
          2,
          2,
          17,
          4,
          4,
          6,
          12,
          11,
          12,
          4,
          19,
          27,
          26,
          16,
          9,
          12,
          10,
          10,
          17,
          6,
          9,
          12,
          15,
          7,
          5,
          11,
          12,
          9,
          29,
          14,
          16,
          7,
          11,
          25,
          9,
          17,
          11,
          13,
          18,
          14,
          4,
          14,
          7,
          19,
          22,
          13,
          15,
          5,
          22,
          23,
          35,
          8,
          16,
          12,
          20,
          36,
          24,
          18,
          32,
          14,
          26,
          16,
          33,
          19,
          15,
          3,
          18,
          9,
          8,
          8,
          19,
          9,
          23,
          29,
          32,
          23,
          23,
          19,
          19,
          13,
          37,
          24,
          26,
          36,
          34,
          32,
          35,
          48,
          26,
          11,
          30,
          24,
          18,
          21,
          23,
          16,
          29,
          34,
          31,
          27,
          15,
          21,
          27,
          17,
          27,
          21,
          25,
          19,
          33,
          22,
          10,
          11,
          38,
          29,
          25,
          27,
          12,
          12,
          32,
          22,
          16,
          44,
          39,
          31,
          41,
          41,
          34,
          33,
          24,
          32,
          21,
          14,
          21,
          34,
          28,
          30,
          30,
          30,
          30,
          40,
          20,
          19,
          24,
          19,
          8,
          18,
          24,
          28,
          32,
          28,
          22,
          14,
          23,
          32,
          34,
          27,
          60,
          40,
          49,
          46,
          57,
          55,
          47,
          23,
          30,
          36,
          53,
          23,
          23,
          36,
          39,
          31,
          31,
          33,
          46,
          65,
          51,
          45,
          52,
          41,
          32,
          37,
          24,
          30,
          39,
          55,
          91,
          118,
          125,
          104,
          62,
          88,
          84,
          70,
          86,
          79,
          102,
          98,
          108,
          97,
          62,
          83,
          75,
          62,
          83,
          74,
          80,
          93,
          80,
          55,
          53,
          90,
          68,
          92,
          102,
          87,
          87,
          94,
          106,
          87,
          107,
          96,
          117,
          111,
          137,
          91,
          86,
          95,
          110,
          112,
          162,
          137,
          158,
          162,
          151,
          127,
          140,
          171,
          201,
          176,
          188,
          143,
          327,
          275,
          317,
          299,
          332,
          274,
          356,
          357,
          391,
          354,
          342,
          389,
          387,
          355,
          325,
          358,
          344,
          372,
          390,
          304,
          432,
          429,
          402,
          461,
          402,
          423,
          504,
          471,
          458,
          458,
          444,
          493,
          440,
          540,
          499,
          562,
          540,
          454,
          473,
          453,
          453,
          530,
          568,
          450,
          509,
          508,
          603,
          527,
          437,
          578,
          579,
          449,
          572,
          668,
          606,
          586,
          633,
          602,
          810,
          726,
          660,
          490,
          1520,
          1397,
          1341,
          1625,
          1447,
          1501,
          1463,
          1408,
          1338,
          1328,
          1590,
          1742,
          1478,
          1781,
          1639,
          1760,
          1627,
          1815,
          1908,
          1830,
          1686,
          1943,
          1994,
          1863,
          2009,
          1985,
          2313,
          2310,
          2651,
          2677,
          2600,
          2722,
          2934,
          2713,
          3193,
          2994,
          3060,
          3458,
          3898,
          3735,
          3553,
          3806,
          3641,
          3712,
          3790,
          4024,
          4085,
          3993,
          3957,
          4072,
          4184,
          4686,
          4709,
          5115,
          4811,
          5013,
          11010,
          9859,
          10156,
          10082,
          10152,
          9248,
          8900,
          8703,
          8131,
          6916,
          5948,
          5496,
          5348,
          5158,
          5035,
          4716,
          4204,
          3647,
          3116,
          2793,
          1979,
          870,
          144
         ],
         "yaxis": "y"
        }
       ],
       "layout": {
        "legend": {
         "tracegroupgap": 0
        },
        "margin": {
         "t": 60
        },
        "template": {
         "data": {
          "bar": [
           {
            "error_x": {
             "color": "#2a3f5f"
            },
            "error_y": {
             "color": "#2a3f5f"
            },
            "marker": {
             "line": {
              "color": "#E5ECF6",
              "width": 0.5
             },
             "pattern": {
              "fillmode": "overlay",
              "size": 10,
              "solidity": 0.2
             }
            },
            "type": "bar"
           }
          ],
          "barpolar": [
           {
            "marker": {
             "line": {
              "color": "#E5ECF6",
              "width": 0.5
             },
             "pattern": {
              "fillmode": "overlay",
              "size": 10,
              "solidity": 0.2
             }
            },
            "type": "barpolar"
           }
          ],
          "carpet": [
           {
            "aaxis": {
             "endlinecolor": "#2a3f5f",
             "gridcolor": "white",
             "linecolor": "white",
             "minorgridcolor": "white",
             "startlinecolor": "#2a3f5f"
            },
            "baxis": {
             "endlinecolor": "#2a3f5f",
             "gridcolor": "white",
             "linecolor": "white",
             "minorgridcolor": "white",
             "startlinecolor": "#2a3f5f"
            },
            "type": "carpet"
           }
          ],
          "choropleth": [
           {
            "colorbar": {
             "outlinewidth": 0,
             "ticks": ""
            },
            "type": "choropleth"
           }
          ],
          "contour": [
           {
            "colorbar": {
             "outlinewidth": 0,
             "ticks": ""
            },
            "colorscale": [
             [
              0,
              "#0d0887"
             ],
             [
              0.1111111111111111,
              "#46039f"
             ],
             [
              0.2222222222222222,
              "#7201a8"
             ],
             [
              0.3333333333333333,
              "#9c179e"
             ],
             [
              0.4444444444444444,
              "#bd3786"
             ],
             [
              0.5555555555555556,
              "#d8576b"
             ],
             [
              0.6666666666666666,
              "#ed7953"
             ],
             [
              0.7777777777777778,
              "#fb9f3a"
             ],
             [
              0.8888888888888888,
              "#fdca26"
             ],
             [
              1,
              "#f0f921"
             ]
            ],
            "type": "contour"
           }
          ],
          "contourcarpet": [
           {
            "colorbar": {
             "outlinewidth": 0,
             "ticks": ""
            },
            "type": "contourcarpet"
           }
          ],
          "heatmap": [
           {
            "colorbar": {
             "outlinewidth": 0,
             "ticks": ""
            },
            "colorscale": [
             [
              0,
              "#0d0887"
             ],
             [
              0.1111111111111111,
              "#46039f"
             ],
             [
              0.2222222222222222,
              "#7201a8"
             ],
             [
              0.3333333333333333,
              "#9c179e"
             ],
             [
              0.4444444444444444,
              "#bd3786"
             ],
             [
              0.5555555555555556,
              "#d8576b"
             ],
             [
              0.6666666666666666,
              "#ed7953"
             ],
             [
              0.7777777777777778,
              "#fb9f3a"
             ],
             [
              0.8888888888888888,
              "#fdca26"
             ],
             [
              1,
              "#f0f921"
             ]
            ],
            "type": "heatmap"
           }
          ],
          "heatmapgl": [
           {
            "colorbar": {
             "outlinewidth": 0,
             "ticks": ""
            },
            "colorscale": [
             [
              0,
              "#0d0887"
             ],
             [
              0.1111111111111111,
              "#46039f"
             ],
             [
              0.2222222222222222,
              "#7201a8"
             ],
             [
              0.3333333333333333,
              "#9c179e"
             ],
             [
              0.4444444444444444,
              "#bd3786"
             ],
             [
              0.5555555555555556,
              "#d8576b"
             ],
             [
              0.6666666666666666,
              "#ed7953"
             ],
             [
              0.7777777777777778,
              "#fb9f3a"
             ],
             [
              0.8888888888888888,
              "#fdca26"
             ],
             [
              1,
              "#f0f921"
             ]
            ],
            "type": "heatmapgl"
           }
          ],
          "histogram": [
           {
            "marker": {
             "pattern": {
              "fillmode": "overlay",
              "size": 10,
              "solidity": 0.2
             }
            },
            "type": "histogram"
           }
          ],
          "histogram2d": [
           {
            "colorbar": {
             "outlinewidth": 0,
             "ticks": ""
            },
            "colorscale": [
             [
              0,
              "#0d0887"
             ],
             [
              0.1111111111111111,
              "#46039f"
             ],
             [
              0.2222222222222222,
              "#7201a8"
             ],
             [
              0.3333333333333333,
              "#9c179e"
             ],
             [
              0.4444444444444444,
              "#bd3786"
             ],
             [
              0.5555555555555556,
              "#d8576b"
             ],
             [
              0.6666666666666666,
              "#ed7953"
             ],
             [
              0.7777777777777778,
              "#fb9f3a"
             ],
             [
              0.8888888888888888,
              "#fdca26"
             ],
             [
              1,
              "#f0f921"
             ]
            ],
            "type": "histogram2d"
           }
          ],
          "histogram2dcontour": [
           {
            "colorbar": {
             "outlinewidth": 0,
             "ticks": ""
            },
            "colorscale": [
             [
              0,
              "#0d0887"
             ],
             [
              0.1111111111111111,
              "#46039f"
             ],
             [
              0.2222222222222222,
              "#7201a8"
             ],
             [
              0.3333333333333333,
              "#9c179e"
             ],
             [
              0.4444444444444444,
              "#bd3786"
             ],
             [
              0.5555555555555556,
              "#d8576b"
             ],
             [
              0.6666666666666666,
              "#ed7953"
             ],
             [
              0.7777777777777778,
              "#fb9f3a"
             ],
             [
              0.8888888888888888,
              "#fdca26"
             ],
             [
              1,
              "#f0f921"
             ]
            ],
            "type": "histogram2dcontour"
           }
          ],
          "mesh3d": [
           {
            "colorbar": {
             "outlinewidth": 0,
             "ticks": ""
            },
            "type": "mesh3d"
           }
          ],
          "parcoords": [
           {
            "line": {
             "colorbar": {
              "outlinewidth": 0,
              "ticks": ""
             }
            },
            "type": "parcoords"
           }
          ],
          "pie": [
           {
            "automargin": true,
            "type": "pie"
           }
          ],
          "scatter": [
           {
            "fillpattern": {
             "fillmode": "overlay",
             "size": 10,
             "solidity": 0.2
            },
            "type": "scatter"
           }
          ],
          "scatter3d": [
           {
            "line": {
             "colorbar": {
              "outlinewidth": 0,
              "ticks": ""
             }
            },
            "marker": {
             "colorbar": {
              "outlinewidth": 0,
              "ticks": ""
             }
            },
            "type": "scatter3d"
           }
          ],
          "scattercarpet": [
           {
            "marker": {
             "colorbar": {
              "outlinewidth": 0,
              "ticks": ""
             }
            },
            "type": "scattercarpet"
           }
          ],
          "scattergeo": [
           {
            "marker": {
             "colorbar": {
              "outlinewidth": 0,
              "ticks": ""
             }
            },
            "type": "scattergeo"
           }
          ],
          "scattergl": [
           {
            "marker": {
             "colorbar": {
              "outlinewidth": 0,
              "ticks": ""
             }
            },
            "type": "scattergl"
           }
          ],
          "scattermapbox": [
           {
            "marker": {
             "colorbar": {
              "outlinewidth": 0,
              "ticks": ""
             }
            },
            "type": "scattermapbox"
           }
          ],
          "scatterpolar": [
           {
            "marker": {
             "colorbar": {
              "outlinewidth": 0,
              "ticks": ""
             }
            },
            "type": "scatterpolar"
           }
          ],
          "scatterpolargl": [
           {
            "marker": {
             "colorbar": {
              "outlinewidth": 0,
              "ticks": ""
             }
            },
            "type": "scatterpolargl"
           }
          ],
          "scatterternary": [
           {
            "marker": {
             "colorbar": {
              "outlinewidth": 0,
              "ticks": ""
             }
            },
            "type": "scatterternary"
           }
          ],
          "surface": [
           {
            "colorbar": {
             "outlinewidth": 0,
             "ticks": ""
            },
            "colorscale": [
             [
              0,
              "#0d0887"
             ],
             [
              0.1111111111111111,
              "#46039f"
             ],
             [
              0.2222222222222222,
              "#7201a8"
             ],
             [
              0.3333333333333333,
              "#9c179e"
             ],
             [
              0.4444444444444444,
              "#bd3786"
             ],
             [
              0.5555555555555556,
              "#d8576b"
             ],
             [
              0.6666666666666666,
              "#ed7953"
             ],
             [
              0.7777777777777778,
              "#fb9f3a"
             ],
             [
              0.8888888888888888,
              "#fdca26"
             ],
             [
              1,
              "#f0f921"
             ]
            ],
            "type": "surface"
           }
          ],
          "table": [
           {
            "cells": {
             "fill": {
              "color": "#EBF0F8"
             },
             "line": {
              "color": "white"
             }
            },
            "header": {
             "fill": {
              "color": "#C8D4E3"
             },
             "line": {
              "color": "white"
             }
            },
            "type": "table"
           }
          ]
         },
         "layout": {
          "annotationdefaults": {
           "arrowcolor": "#2a3f5f",
           "arrowhead": 0,
           "arrowwidth": 1
          },
          "autotypenumbers": "strict",
          "coloraxis": {
           "colorbar": {
            "outlinewidth": 0,
            "ticks": ""
           }
          },
          "colorscale": {
           "diverging": [
            [
             0,
             "#8e0152"
            ],
            [
             0.1,
             "#c51b7d"
            ],
            [
             0.2,
             "#de77ae"
            ],
            [
             0.3,
             "#f1b6da"
            ],
            [
             0.4,
             "#fde0ef"
            ],
            [
             0.5,
             "#f7f7f7"
            ],
            [
             0.6,
             "#e6f5d0"
            ],
            [
             0.7,
             "#b8e186"
            ],
            [
             0.8,
             "#7fbc41"
            ],
            [
             0.9,
             "#4d9221"
            ],
            [
             1,
             "#276419"
            ]
           ],
           "sequential": [
            [
             0,
             "#0d0887"
            ],
            [
             0.1111111111111111,
             "#46039f"
            ],
            [
             0.2222222222222222,
             "#7201a8"
            ],
            [
             0.3333333333333333,
             "#9c179e"
            ],
            [
             0.4444444444444444,
             "#bd3786"
            ],
            [
             0.5555555555555556,
             "#d8576b"
            ],
            [
             0.6666666666666666,
             "#ed7953"
            ],
            [
             0.7777777777777778,
             "#fb9f3a"
            ],
            [
             0.8888888888888888,
             "#fdca26"
            ],
            [
             1,
             "#f0f921"
            ]
           ],
           "sequentialminus": [
            [
             0,
             "#0d0887"
            ],
            [
             0.1111111111111111,
             "#46039f"
            ],
            [
             0.2222222222222222,
             "#7201a8"
            ],
            [
             0.3333333333333333,
             "#9c179e"
            ],
            [
             0.4444444444444444,
             "#bd3786"
            ],
            [
             0.5555555555555556,
             "#d8576b"
            ],
            [
             0.6666666666666666,
             "#ed7953"
            ],
            [
             0.7777777777777778,
             "#fb9f3a"
            ],
            [
             0.8888888888888888,
             "#fdca26"
            ],
            [
             1,
             "#f0f921"
            ]
           ]
          },
          "colorway": [
           "#636efa",
           "#EF553B",
           "#00cc96",
           "#ab63fa",
           "#FFA15A",
           "#19d3f3",
           "#FF6692",
           "#B6E880",
           "#FF97FF",
           "#FECB52"
          ],
          "font": {
           "color": "#2a3f5f"
          },
          "geo": {
           "bgcolor": "white",
           "lakecolor": "white",
           "landcolor": "#E5ECF6",
           "showlakes": true,
           "showland": true,
           "subunitcolor": "white"
          },
          "hoverlabel": {
           "align": "left"
          },
          "hovermode": "closest",
          "mapbox": {
           "style": "light"
          },
          "paper_bgcolor": "white",
          "plot_bgcolor": "#E5ECF6",
          "polar": {
           "angularaxis": {
            "gridcolor": "white",
            "linecolor": "white",
            "ticks": ""
           },
           "bgcolor": "#E5ECF6",
           "radialaxis": {
            "gridcolor": "white",
            "linecolor": "white",
            "ticks": ""
           }
          },
          "scene": {
           "xaxis": {
            "backgroundcolor": "#E5ECF6",
            "gridcolor": "white",
            "gridwidth": 2,
            "linecolor": "white",
            "showbackground": true,
            "ticks": "",
            "zerolinecolor": "white"
           },
           "yaxis": {
            "backgroundcolor": "#E5ECF6",
            "gridcolor": "white",
            "gridwidth": 2,
            "linecolor": "white",
            "showbackground": true,
            "ticks": "",
            "zerolinecolor": "white"
           },
           "zaxis": {
            "backgroundcolor": "#E5ECF6",
            "gridcolor": "white",
            "gridwidth": 2,
            "linecolor": "white",
            "showbackground": true,
            "ticks": "",
            "zerolinecolor": "white"
           }
          },
          "shapedefaults": {
           "line": {
            "color": "#2a3f5f"
           }
          },
          "ternary": {
           "aaxis": {
            "gridcolor": "white",
            "linecolor": "white",
            "ticks": ""
           },
           "baxis": {
            "gridcolor": "white",
            "linecolor": "white",
            "ticks": ""
           },
           "bgcolor": "#E5ECF6",
           "caxis": {
            "gridcolor": "white",
            "linecolor": "white",
            "ticks": ""
           }
          },
          "title": {
           "x": 0.05
          },
          "xaxis": {
           "automargin": true,
           "gridcolor": "white",
           "linecolor": "white",
           "ticks": "",
           "title": {
            "standoff": 15
           },
           "zerolinecolor": "white",
           "zerolinewidth": 2
          },
          "yaxis": {
           "automargin": true,
           "gridcolor": "white",
           "linecolor": "white",
           "ticks": "",
           "title": {
            "standoff": 15
           },
           "zerolinecolor": "white",
           "zerolinewidth": 2
          }
         }
        },
        "xaxis": {
         "anchor": "y",
         "domain": [
          0,
          1
         ],
         "title": {
          "text": "x"
         }
        },
        "yaxis": {
         "anchor": "x",
         "domain": [
          0,
          1
         ],
         "title": {
          "text": "y"
         }
        }
       }
      }
     },
     "metadata": {},
     "output_type": "display_data"
    }
   ],
   "source": [
    "fig = px.line(x = df_matches_date_count_plot['dateMatch'], y = df_matches_date_count_plot['count'])\n",
    "fig.show()"
   ]
  },
  {
   "cell_type": "code",
   "execution_count": 50,
   "metadata": {},
   "outputs": [
    {
     "data": {
      "text/html": [
       "<div>\n",
       "<style scoped>\n",
       "    .dataframe tbody tr th:only-of-type {\n",
       "        vertical-align: middle;\n",
       "    }\n",
       "\n",
       "    .dataframe tbody tr th {\n",
       "        vertical-align: top;\n",
       "    }\n",
       "\n",
       "    .dataframe thead th {\n",
       "        text-align: right;\n",
       "    }\n",
       "</style>\n",
       "<table border=\"1\" class=\"dataframe\">\n",
       "  <thead>\n",
       "    <tr style=\"text-align: right;\">\n",
       "      <th></th>\n",
       "      <th>agentName</th>\n",
       "      <th>count</th>\n",
       "    </tr>\n",
       "  </thead>\n",
       "  <tbody>\n",
       "    <tr>\n",
       "      <th>0</th>\n",
       "      <td>Chamber</td>\n",
       "      <td>65118</td>\n",
       "    </tr>\n",
       "    <tr>\n",
       "      <th>1</th>\n",
       "      <td>Jett</td>\n",
       "      <td>45990</td>\n",
       "    </tr>\n",
       "    <tr>\n",
       "      <th>2</th>\n",
       "      <td>Reyna</td>\n",
       "      <td>26302</td>\n",
       "    </tr>\n",
       "    <tr>\n",
       "      <th>3</th>\n",
       "      <td>Sova</td>\n",
       "      <td>26105</td>\n",
       "    </tr>\n",
       "    <tr>\n",
       "      <th>4</th>\n",
       "      <td>Fade</td>\n",
       "      <td>23444</td>\n",
       "    </tr>\n",
       "    <tr>\n",
       "      <th>5</th>\n",
       "      <td>Viper</td>\n",
       "      <td>22749</td>\n",
       "    </tr>\n",
       "    <tr>\n",
       "      <th>6</th>\n",
       "      <td>Raze</td>\n",
       "      <td>21971</td>\n",
       "    </tr>\n",
       "    <tr>\n",
       "      <th>7</th>\n",
       "      <td>Omen</td>\n",
       "      <td>15574</td>\n",
       "    </tr>\n",
       "    <tr>\n",
       "      <th>8</th>\n",
       "      <td>Brimstone</td>\n",
       "      <td>14216</td>\n",
       "    </tr>\n",
       "    <tr>\n",
       "      <th>9</th>\n",
       "      <td>KAY/O</td>\n",
       "      <td>12817</td>\n",
       "    </tr>\n",
       "    <tr>\n",
       "      <th>10</th>\n",
       "      <td>Sage</td>\n",
       "      <td>12320</td>\n",
       "    </tr>\n",
       "    <tr>\n",
       "      <th>11</th>\n",
       "      <td>Breach</td>\n",
       "      <td>9020</td>\n",
       "    </tr>\n",
       "    <tr>\n",
       "      <th>12</th>\n",
       "      <td>Phoenix</td>\n",
       "      <td>8060</td>\n",
       "    </tr>\n",
       "    <tr>\n",
       "      <th>13</th>\n",
       "      <td>Astra</td>\n",
       "      <td>7876</td>\n",
       "    </tr>\n",
       "    <tr>\n",
       "      <th>14</th>\n",
       "      <td>Skye</td>\n",
       "      <td>7556</td>\n",
       "    </tr>\n",
       "    <tr>\n",
       "      <th>15</th>\n",
       "      <td>Neon</td>\n",
       "      <td>5049</td>\n",
       "    </tr>\n",
       "    <tr>\n",
       "      <th>16</th>\n",
       "      <td>Killjoy</td>\n",
       "      <td>3029</td>\n",
       "    </tr>\n",
       "    <tr>\n",
       "      <th>17</th>\n",
       "      <td>Yoru</td>\n",
       "      <td>2577</td>\n",
       "    </tr>\n",
       "    <tr>\n",
       "      <th>18</th>\n",
       "      <td>Cypher</td>\n",
       "      <td>2544</td>\n",
       "    </tr>\n",
       "    <tr>\n",
       "      <th>19</th>\n",
       "      <td>Harbor</td>\n",
       "      <td>1518</td>\n",
       "    </tr>\n",
       "  </tbody>\n",
       "</table>\n",
       "</div>"
      ],
      "text/plain": [
       "    agentName  count\n",
       "0     Chamber  65118\n",
       "1        Jett  45990\n",
       "2       Reyna  26302\n",
       "3        Sova  26105\n",
       "4        Fade  23444\n",
       "5       Viper  22749\n",
       "6        Raze  21971\n",
       "7        Omen  15574\n",
       "8   Brimstone  14216\n",
       "9       KAY/O  12817\n",
       "10       Sage  12320\n",
       "11     Breach   9020\n",
       "12    Phoenix   8060\n",
       "13      Astra   7876\n",
       "14       Skye   7556\n",
       "15       Neon   5049\n",
       "16    Killjoy   3029\n",
       "17       Yoru   2577\n",
       "18     Cypher   2544\n",
       "19     Harbor   1518"
      ]
     },
     "execution_count": 50,
     "metadata": {},
     "output_type": "execute_result"
    }
   ],
   "source": [
    "df_matches_agents_selected = (\n",
    "                                df_matches_raw.groupby(['agentName'])['agentName']\n",
    "                                .count() \n",
    "                                .reset_index(name='count') \n",
    "                                .sort_values(['count'], ascending=False) \n",
    "                                .reset_index(drop = True)\n",
    "                              )\n",
    "df_matches_agents_selected"
   ]
  },
  {
   "cell_type": "code",
   "execution_count": 51,
   "metadata": {},
   "outputs": [
    {
     "data": {
      "application/vnd.plotly.v1+json": {
       "config": {
        "plotlyServerURL": "https://plot.ly"
       },
       "data": [
        {
         "alignmentgroup": "True",
         "cliponaxis": false,
         "hovertemplate": "agentName=%{x}<br>count=%{y}<extra></extra>",
         "legendgroup": "",
         "marker": {
          "color": "#636efa",
          "pattern": {
           "shape": ""
          }
         },
         "name": "",
         "offsetgroup": "",
         "orientation": "v",
         "showlegend": false,
         "textangle": 0,
         "textfont": {
          "size": 10
         },
         "textposition": "outside",
         "texttemplate": "%{y:.4s}",
         "type": "bar",
         "x": [
          "Chamber",
          "Jett",
          "Reyna",
          "Sova",
          "Fade",
          "Viper",
          "Raze",
          "Omen",
          "Brimstone",
          "KAY/O",
          "Sage",
          "Breach",
          "Phoenix",
          "Astra",
          "Skye",
          "Neon",
          "Killjoy",
          "Yoru",
          "Cypher",
          "Harbor"
         ],
         "xaxis": "x",
         "y": [
          65118,
          45990,
          26302,
          26105,
          23444,
          22749,
          21971,
          15574,
          14216,
          12817,
          12320,
          9020,
          8060,
          7876,
          7556,
          5049,
          3029,
          2577,
          2544,
          1518
         ],
         "yaxis": "y"
        }
       ],
       "layout": {
        "barmode": "relative",
        "legend": {
         "tracegroupgap": 0
        },
        "template": {
         "data": {
          "bar": [
           {
            "error_x": {
             "color": "#2a3f5f"
            },
            "error_y": {
             "color": "#2a3f5f"
            },
            "marker": {
             "line": {
              "color": "#E5ECF6",
              "width": 0.5
             },
             "pattern": {
              "fillmode": "overlay",
              "size": 10,
              "solidity": 0.2
             }
            },
            "type": "bar"
           }
          ],
          "barpolar": [
           {
            "marker": {
             "line": {
              "color": "#E5ECF6",
              "width": 0.5
             },
             "pattern": {
              "fillmode": "overlay",
              "size": 10,
              "solidity": 0.2
             }
            },
            "type": "barpolar"
           }
          ],
          "carpet": [
           {
            "aaxis": {
             "endlinecolor": "#2a3f5f",
             "gridcolor": "white",
             "linecolor": "white",
             "minorgridcolor": "white",
             "startlinecolor": "#2a3f5f"
            },
            "baxis": {
             "endlinecolor": "#2a3f5f",
             "gridcolor": "white",
             "linecolor": "white",
             "minorgridcolor": "white",
             "startlinecolor": "#2a3f5f"
            },
            "type": "carpet"
           }
          ],
          "choropleth": [
           {
            "colorbar": {
             "outlinewidth": 0,
             "ticks": ""
            },
            "type": "choropleth"
           }
          ],
          "contour": [
           {
            "colorbar": {
             "outlinewidth": 0,
             "ticks": ""
            },
            "colorscale": [
             [
              0,
              "#0d0887"
             ],
             [
              0.1111111111111111,
              "#46039f"
             ],
             [
              0.2222222222222222,
              "#7201a8"
             ],
             [
              0.3333333333333333,
              "#9c179e"
             ],
             [
              0.4444444444444444,
              "#bd3786"
             ],
             [
              0.5555555555555556,
              "#d8576b"
             ],
             [
              0.6666666666666666,
              "#ed7953"
             ],
             [
              0.7777777777777778,
              "#fb9f3a"
             ],
             [
              0.8888888888888888,
              "#fdca26"
             ],
             [
              1,
              "#f0f921"
             ]
            ],
            "type": "contour"
           }
          ],
          "contourcarpet": [
           {
            "colorbar": {
             "outlinewidth": 0,
             "ticks": ""
            },
            "type": "contourcarpet"
           }
          ],
          "heatmap": [
           {
            "colorbar": {
             "outlinewidth": 0,
             "ticks": ""
            },
            "colorscale": [
             [
              0,
              "#0d0887"
             ],
             [
              0.1111111111111111,
              "#46039f"
             ],
             [
              0.2222222222222222,
              "#7201a8"
             ],
             [
              0.3333333333333333,
              "#9c179e"
             ],
             [
              0.4444444444444444,
              "#bd3786"
             ],
             [
              0.5555555555555556,
              "#d8576b"
             ],
             [
              0.6666666666666666,
              "#ed7953"
             ],
             [
              0.7777777777777778,
              "#fb9f3a"
             ],
             [
              0.8888888888888888,
              "#fdca26"
             ],
             [
              1,
              "#f0f921"
             ]
            ],
            "type": "heatmap"
           }
          ],
          "heatmapgl": [
           {
            "colorbar": {
             "outlinewidth": 0,
             "ticks": ""
            },
            "colorscale": [
             [
              0,
              "#0d0887"
             ],
             [
              0.1111111111111111,
              "#46039f"
             ],
             [
              0.2222222222222222,
              "#7201a8"
             ],
             [
              0.3333333333333333,
              "#9c179e"
             ],
             [
              0.4444444444444444,
              "#bd3786"
             ],
             [
              0.5555555555555556,
              "#d8576b"
             ],
             [
              0.6666666666666666,
              "#ed7953"
             ],
             [
              0.7777777777777778,
              "#fb9f3a"
             ],
             [
              0.8888888888888888,
              "#fdca26"
             ],
             [
              1,
              "#f0f921"
             ]
            ],
            "type": "heatmapgl"
           }
          ],
          "histogram": [
           {
            "marker": {
             "pattern": {
              "fillmode": "overlay",
              "size": 10,
              "solidity": 0.2
             }
            },
            "type": "histogram"
           }
          ],
          "histogram2d": [
           {
            "colorbar": {
             "outlinewidth": 0,
             "ticks": ""
            },
            "colorscale": [
             [
              0,
              "#0d0887"
             ],
             [
              0.1111111111111111,
              "#46039f"
             ],
             [
              0.2222222222222222,
              "#7201a8"
             ],
             [
              0.3333333333333333,
              "#9c179e"
             ],
             [
              0.4444444444444444,
              "#bd3786"
             ],
             [
              0.5555555555555556,
              "#d8576b"
             ],
             [
              0.6666666666666666,
              "#ed7953"
             ],
             [
              0.7777777777777778,
              "#fb9f3a"
             ],
             [
              0.8888888888888888,
              "#fdca26"
             ],
             [
              1,
              "#f0f921"
             ]
            ],
            "type": "histogram2d"
           }
          ],
          "histogram2dcontour": [
           {
            "colorbar": {
             "outlinewidth": 0,
             "ticks": ""
            },
            "colorscale": [
             [
              0,
              "#0d0887"
             ],
             [
              0.1111111111111111,
              "#46039f"
             ],
             [
              0.2222222222222222,
              "#7201a8"
             ],
             [
              0.3333333333333333,
              "#9c179e"
             ],
             [
              0.4444444444444444,
              "#bd3786"
             ],
             [
              0.5555555555555556,
              "#d8576b"
             ],
             [
              0.6666666666666666,
              "#ed7953"
             ],
             [
              0.7777777777777778,
              "#fb9f3a"
             ],
             [
              0.8888888888888888,
              "#fdca26"
             ],
             [
              1,
              "#f0f921"
             ]
            ],
            "type": "histogram2dcontour"
           }
          ],
          "mesh3d": [
           {
            "colorbar": {
             "outlinewidth": 0,
             "ticks": ""
            },
            "type": "mesh3d"
           }
          ],
          "parcoords": [
           {
            "line": {
             "colorbar": {
              "outlinewidth": 0,
              "ticks": ""
             }
            },
            "type": "parcoords"
           }
          ],
          "pie": [
           {
            "automargin": true,
            "type": "pie"
           }
          ],
          "scatter": [
           {
            "fillpattern": {
             "fillmode": "overlay",
             "size": 10,
             "solidity": 0.2
            },
            "type": "scatter"
           }
          ],
          "scatter3d": [
           {
            "line": {
             "colorbar": {
              "outlinewidth": 0,
              "ticks": ""
             }
            },
            "marker": {
             "colorbar": {
              "outlinewidth": 0,
              "ticks": ""
             }
            },
            "type": "scatter3d"
           }
          ],
          "scattercarpet": [
           {
            "marker": {
             "colorbar": {
              "outlinewidth": 0,
              "ticks": ""
             }
            },
            "type": "scattercarpet"
           }
          ],
          "scattergeo": [
           {
            "marker": {
             "colorbar": {
              "outlinewidth": 0,
              "ticks": ""
             }
            },
            "type": "scattergeo"
           }
          ],
          "scattergl": [
           {
            "marker": {
             "colorbar": {
              "outlinewidth": 0,
              "ticks": ""
             }
            },
            "type": "scattergl"
           }
          ],
          "scattermapbox": [
           {
            "marker": {
             "colorbar": {
              "outlinewidth": 0,
              "ticks": ""
             }
            },
            "type": "scattermapbox"
           }
          ],
          "scatterpolar": [
           {
            "marker": {
             "colorbar": {
              "outlinewidth": 0,
              "ticks": ""
             }
            },
            "type": "scatterpolar"
           }
          ],
          "scatterpolargl": [
           {
            "marker": {
             "colorbar": {
              "outlinewidth": 0,
              "ticks": ""
             }
            },
            "type": "scatterpolargl"
           }
          ],
          "scatterternary": [
           {
            "marker": {
             "colorbar": {
              "outlinewidth": 0,
              "ticks": ""
             }
            },
            "type": "scatterternary"
           }
          ],
          "surface": [
           {
            "colorbar": {
             "outlinewidth": 0,
             "ticks": ""
            },
            "colorscale": [
             [
              0,
              "#0d0887"
             ],
             [
              0.1111111111111111,
              "#46039f"
             ],
             [
              0.2222222222222222,
              "#7201a8"
             ],
             [
              0.3333333333333333,
              "#9c179e"
             ],
             [
              0.4444444444444444,
              "#bd3786"
             ],
             [
              0.5555555555555556,
              "#d8576b"
             ],
             [
              0.6666666666666666,
              "#ed7953"
             ],
             [
              0.7777777777777778,
              "#fb9f3a"
             ],
             [
              0.8888888888888888,
              "#fdca26"
             ],
             [
              1,
              "#f0f921"
             ]
            ],
            "type": "surface"
           }
          ],
          "table": [
           {
            "cells": {
             "fill": {
              "color": "#EBF0F8"
             },
             "line": {
              "color": "white"
             }
            },
            "header": {
             "fill": {
              "color": "#C8D4E3"
             },
             "line": {
              "color": "white"
             }
            },
            "type": "table"
           }
          ]
         },
         "layout": {
          "annotationdefaults": {
           "arrowcolor": "#2a3f5f",
           "arrowhead": 0,
           "arrowwidth": 1
          },
          "autotypenumbers": "strict",
          "coloraxis": {
           "colorbar": {
            "outlinewidth": 0,
            "ticks": ""
           }
          },
          "colorscale": {
           "diverging": [
            [
             0,
             "#8e0152"
            ],
            [
             0.1,
             "#c51b7d"
            ],
            [
             0.2,
             "#de77ae"
            ],
            [
             0.3,
             "#f1b6da"
            ],
            [
             0.4,
             "#fde0ef"
            ],
            [
             0.5,
             "#f7f7f7"
            ],
            [
             0.6,
             "#e6f5d0"
            ],
            [
             0.7,
             "#b8e186"
            ],
            [
             0.8,
             "#7fbc41"
            ],
            [
             0.9,
             "#4d9221"
            ],
            [
             1,
             "#276419"
            ]
           ],
           "sequential": [
            [
             0,
             "#0d0887"
            ],
            [
             0.1111111111111111,
             "#46039f"
            ],
            [
             0.2222222222222222,
             "#7201a8"
            ],
            [
             0.3333333333333333,
             "#9c179e"
            ],
            [
             0.4444444444444444,
             "#bd3786"
            ],
            [
             0.5555555555555556,
             "#d8576b"
            ],
            [
             0.6666666666666666,
             "#ed7953"
            ],
            [
             0.7777777777777778,
             "#fb9f3a"
            ],
            [
             0.8888888888888888,
             "#fdca26"
            ],
            [
             1,
             "#f0f921"
            ]
           ],
           "sequentialminus": [
            [
             0,
             "#0d0887"
            ],
            [
             0.1111111111111111,
             "#46039f"
            ],
            [
             0.2222222222222222,
             "#7201a8"
            ],
            [
             0.3333333333333333,
             "#9c179e"
            ],
            [
             0.4444444444444444,
             "#bd3786"
            ],
            [
             0.5555555555555556,
             "#d8576b"
            ],
            [
             0.6666666666666666,
             "#ed7953"
            ],
            [
             0.7777777777777778,
             "#fb9f3a"
            ],
            [
             0.8888888888888888,
             "#fdca26"
            ],
            [
             1,
             "#f0f921"
            ]
           ]
          },
          "colorway": [
           "#636efa",
           "#EF553B",
           "#00cc96",
           "#ab63fa",
           "#FFA15A",
           "#19d3f3",
           "#FF6692",
           "#B6E880",
           "#FF97FF",
           "#FECB52"
          ],
          "font": {
           "color": "#2a3f5f"
          },
          "geo": {
           "bgcolor": "white",
           "lakecolor": "white",
           "landcolor": "#E5ECF6",
           "showlakes": true,
           "showland": true,
           "subunitcolor": "white"
          },
          "hoverlabel": {
           "align": "left"
          },
          "hovermode": "closest",
          "mapbox": {
           "style": "light"
          },
          "paper_bgcolor": "white",
          "plot_bgcolor": "#E5ECF6",
          "polar": {
           "angularaxis": {
            "gridcolor": "white",
            "linecolor": "white",
            "ticks": ""
           },
           "bgcolor": "#E5ECF6",
           "radialaxis": {
            "gridcolor": "white",
            "linecolor": "white",
            "ticks": ""
           }
          },
          "scene": {
           "xaxis": {
            "backgroundcolor": "#E5ECF6",
            "gridcolor": "white",
            "gridwidth": 2,
            "linecolor": "white",
            "showbackground": true,
            "ticks": "",
            "zerolinecolor": "white"
           },
           "yaxis": {
            "backgroundcolor": "#E5ECF6",
            "gridcolor": "white",
            "gridwidth": 2,
            "linecolor": "white",
            "showbackground": true,
            "ticks": "",
            "zerolinecolor": "white"
           },
           "zaxis": {
            "backgroundcolor": "#E5ECF6",
            "gridcolor": "white",
            "gridwidth": 2,
            "linecolor": "white",
            "showbackground": true,
            "ticks": "",
            "zerolinecolor": "white"
           }
          },
          "shapedefaults": {
           "line": {
            "color": "#2a3f5f"
           }
          },
          "ternary": {
           "aaxis": {
            "gridcolor": "white",
            "linecolor": "white",
            "ticks": ""
           },
           "baxis": {
            "gridcolor": "white",
            "linecolor": "white",
            "ticks": ""
           },
           "bgcolor": "#E5ECF6",
           "caxis": {
            "gridcolor": "white",
            "linecolor": "white",
            "ticks": ""
           }
          },
          "title": {
           "x": 0.05
          },
          "xaxis": {
           "automargin": true,
           "gridcolor": "white",
           "linecolor": "white",
           "ticks": "",
           "title": {
            "standoff": 15
           },
           "zerolinecolor": "white",
           "zerolinewidth": 2
          },
          "yaxis": {
           "automargin": true,
           "gridcolor": "white",
           "linecolor": "white",
           "ticks": "",
           "title": {
            "standoff": 15
           },
           "zerolinecolor": "white",
           "zerolinewidth": 2
          }
         }
        },
        "title": {
         "text": "Number of matches an agent has been selected"
        },
        "xaxis": {
         "anchor": "y",
         "domain": [
          0,
          1
         ],
         "title": {
          "text": "agentName"
         }
        },
        "yaxis": {
         "anchor": "x",
         "domain": [
          0,
          1
         ],
         "title": {
          "text": "count"
         }
        }
       }
      }
     },
     "metadata": {},
     "output_type": "display_data"
    }
   ],
   "source": [
    "fig = px.bar(df_matches_agents_selected, y='count', x='agentName', text_auto='.4s', orientation='v',\n",
    "            title=\"Number of matches an agent has been selected\")\n",
    "fig.update_traces(textfont_size=10, textangle=0, textposition=\"outside\", cliponaxis=False)\n",
    "\n",
    "fig.show()"
   ]
  },
  {
   "cell_type": "code",
   "execution_count": 52,
   "metadata": {},
   "outputs": [
    {
     "data": {
      "text/html": [
       "<div>\n",
       "<style scoped>\n",
       "    .dataframe tbody tr th:only-of-type {\n",
       "        vertical-align: middle;\n",
       "    }\n",
       "\n",
       "    .dataframe tbody tr th {\n",
       "        vertical-align: top;\n",
       "    }\n",
       "\n",
       "    .dataframe thead th {\n",
       "        text-align: right;\n",
       "    }\n",
       "</style>\n",
       "<table border=\"1\" class=\"dataframe\">\n",
       "  <thead>\n",
       "    <tr style=\"text-align: right;\">\n",
       "      <th></th>\n",
       "      <th>mapName</th>\n",
       "      <th>count</th>\n",
       "    </tr>\n",
       "  </thead>\n",
       "  <tbody>\n",
       "    <tr>\n",
       "      <th>4</th>\n",
       "      <td>Haven</td>\n",
       "      <td>48369</td>\n",
       "    </tr>\n",
       "    <tr>\n",
       "      <th>1</th>\n",
       "      <td>Bind</td>\n",
       "      <td>48175</td>\n",
       "    </tr>\n",
       "    <tr>\n",
       "      <th>0</th>\n",
       "      <td>Ascent</td>\n",
       "      <td>48022</td>\n",
       "    </tr>\n",
       "    <tr>\n",
       "      <th>5</th>\n",
       "      <td>Icebox</td>\n",
       "      <td>48003</td>\n",
       "    </tr>\n",
       "    <tr>\n",
       "      <th>2</th>\n",
       "      <td>Breeze</td>\n",
       "      <td>47766</td>\n",
       "    </tr>\n",
       "    <tr>\n",
       "      <th>3</th>\n",
       "      <td>Fracture</td>\n",
       "      <td>47178</td>\n",
       "    </tr>\n",
       "    <tr>\n",
       "      <th>6</th>\n",
       "      <td>Pearl</td>\n",
       "      <td>44508</td>\n",
       "    </tr>\n",
       "    <tr>\n",
       "      <th>7</th>\n",
       "      <td>Split</td>\n",
       "      <td>1814</td>\n",
       "    </tr>\n",
       "  </tbody>\n",
       "</table>\n",
       "</div>"
      ],
      "text/plain": [
       "    mapName  count\n",
       "4     Haven  48369\n",
       "1      Bind  48175\n",
       "0    Ascent  48022\n",
       "5    Icebox  48003\n",
       "2    Breeze  47766\n",
       "3  Fracture  47178\n",
       "6     Pearl  44508\n",
       "7     Split   1814"
      ]
     },
     "execution_count": 52,
     "metadata": {},
     "output_type": "execute_result"
    }
   ],
   "source": [
    "df_matches_maps = df_matches_raw[['mapName',]].groupby(['mapName'])['mapName'] \\\n",
    "                             .count() \\\n",
    "                             .reset_index(name='count') \\\n",
    "                             .sort_values(['count'], ascending=False) \\\n",
    "                             \n",
    "df_matches_maps"
   ]
  },
  {
   "cell_type": "code",
   "execution_count": 53,
   "metadata": {},
   "outputs": [
    {
     "data": {
      "application/vnd.plotly.v1+json": {
       "config": {
        "plotlyServerURL": "https://plot.ly"
       },
       "data": [
        {
         "alignmentgroup": "True",
         "cliponaxis": false,
         "hovertemplate": "mapName=%{x}<br>count=%{y}<extra></extra>",
         "legendgroup": "",
         "marker": {
          "color": "#636efa",
          "pattern": {
           "shape": ""
          }
         },
         "name": "",
         "offsetgroup": "",
         "orientation": "v",
         "showlegend": false,
         "textangle": 0,
         "textfont": {
          "size": 10
         },
         "textposition": "outside",
         "texttemplate": "%{y:.5s}",
         "type": "bar",
         "x": [
          "Haven",
          "Bind",
          "Ascent",
          "Icebox",
          "Breeze",
          "Fracture",
          "Pearl",
          "Split"
         ],
         "xaxis": "x",
         "y": [
          48369,
          48175,
          48022,
          48003,
          47766,
          47178,
          44508,
          1814
         ],
         "yaxis": "y"
        }
       ],
       "layout": {
        "barmode": "relative",
        "legend": {
         "tracegroupgap": 0
        },
        "template": {
         "data": {
          "bar": [
           {
            "error_x": {
             "color": "#2a3f5f"
            },
            "error_y": {
             "color": "#2a3f5f"
            },
            "marker": {
             "line": {
              "color": "#E5ECF6",
              "width": 0.5
             },
             "pattern": {
              "fillmode": "overlay",
              "size": 10,
              "solidity": 0.2
             }
            },
            "type": "bar"
           }
          ],
          "barpolar": [
           {
            "marker": {
             "line": {
              "color": "#E5ECF6",
              "width": 0.5
             },
             "pattern": {
              "fillmode": "overlay",
              "size": 10,
              "solidity": 0.2
             }
            },
            "type": "barpolar"
           }
          ],
          "carpet": [
           {
            "aaxis": {
             "endlinecolor": "#2a3f5f",
             "gridcolor": "white",
             "linecolor": "white",
             "minorgridcolor": "white",
             "startlinecolor": "#2a3f5f"
            },
            "baxis": {
             "endlinecolor": "#2a3f5f",
             "gridcolor": "white",
             "linecolor": "white",
             "minorgridcolor": "white",
             "startlinecolor": "#2a3f5f"
            },
            "type": "carpet"
           }
          ],
          "choropleth": [
           {
            "colorbar": {
             "outlinewidth": 0,
             "ticks": ""
            },
            "type": "choropleth"
           }
          ],
          "contour": [
           {
            "colorbar": {
             "outlinewidth": 0,
             "ticks": ""
            },
            "colorscale": [
             [
              0,
              "#0d0887"
             ],
             [
              0.1111111111111111,
              "#46039f"
             ],
             [
              0.2222222222222222,
              "#7201a8"
             ],
             [
              0.3333333333333333,
              "#9c179e"
             ],
             [
              0.4444444444444444,
              "#bd3786"
             ],
             [
              0.5555555555555556,
              "#d8576b"
             ],
             [
              0.6666666666666666,
              "#ed7953"
             ],
             [
              0.7777777777777778,
              "#fb9f3a"
             ],
             [
              0.8888888888888888,
              "#fdca26"
             ],
             [
              1,
              "#f0f921"
             ]
            ],
            "type": "contour"
           }
          ],
          "contourcarpet": [
           {
            "colorbar": {
             "outlinewidth": 0,
             "ticks": ""
            },
            "type": "contourcarpet"
           }
          ],
          "heatmap": [
           {
            "colorbar": {
             "outlinewidth": 0,
             "ticks": ""
            },
            "colorscale": [
             [
              0,
              "#0d0887"
             ],
             [
              0.1111111111111111,
              "#46039f"
             ],
             [
              0.2222222222222222,
              "#7201a8"
             ],
             [
              0.3333333333333333,
              "#9c179e"
             ],
             [
              0.4444444444444444,
              "#bd3786"
             ],
             [
              0.5555555555555556,
              "#d8576b"
             ],
             [
              0.6666666666666666,
              "#ed7953"
             ],
             [
              0.7777777777777778,
              "#fb9f3a"
             ],
             [
              0.8888888888888888,
              "#fdca26"
             ],
             [
              1,
              "#f0f921"
             ]
            ],
            "type": "heatmap"
           }
          ],
          "heatmapgl": [
           {
            "colorbar": {
             "outlinewidth": 0,
             "ticks": ""
            },
            "colorscale": [
             [
              0,
              "#0d0887"
             ],
             [
              0.1111111111111111,
              "#46039f"
             ],
             [
              0.2222222222222222,
              "#7201a8"
             ],
             [
              0.3333333333333333,
              "#9c179e"
             ],
             [
              0.4444444444444444,
              "#bd3786"
             ],
             [
              0.5555555555555556,
              "#d8576b"
             ],
             [
              0.6666666666666666,
              "#ed7953"
             ],
             [
              0.7777777777777778,
              "#fb9f3a"
             ],
             [
              0.8888888888888888,
              "#fdca26"
             ],
             [
              1,
              "#f0f921"
             ]
            ],
            "type": "heatmapgl"
           }
          ],
          "histogram": [
           {
            "marker": {
             "pattern": {
              "fillmode": "overlay",
              "size": 10,
              "solidity": 0.2
             }
            },
            "type": "histogram"
           }
          ],
          "histogram2d": [
           {
            "colorbar": {
             "outlinewidth": 0,
             "ticks": ""
            },
            "colorscale": [
             [
              0,
              "#0d0887"
             ],
             [
              0.1111111111111111,
              "#46039f"
             ],
             [
              0.2222222222222222,
              "#7201a8"
             ],
             [
              0.3333333333333333,
              "#9c179e"
             ],
             [
              0.4444444444444444,
              "#bd3786"
             ],
             [
              0.5555555555555556,
              "#d8576b"
             ],
             [
              0.6666666666666666,
              "#ed7953"
             ],
             [
              0.7777777777777778,
              "#fb9f3a"
             ],
             [
              0.8888888888888888,
              "#fdca26"
             ],
             [
              1,
              "#f0f921"
             ]
            ],
            "type": "histogram2d"
           }
          ],
          "histogram2dcontour": [
           {
            "colorbar": {
             "outlinewidth": 0,
             "ticks": ""
            },
            "colorscale": [
             [
              0,
              "#0d0887"
             ],
             [
              0.1111111111111111,
              "#46039f"
             ],
             [
              0.2222222222222222,
              "#7201a8"
             ],
             [
              0.3333333333333333,
              "#9c179e"
             ],
             [
              0.4444444444444444,
              "#bd3786"
             ],
             [
              0.5555555555555556,
              "#d8576b"
             ],
             [
              0.6666666666666666,
              "#ed7953"
             ],
             [
              0.7777777777777778,
              "#fb9f3a"
             ],
             [
              0.8888888888888888,
              "#fdca26"
             ],
             [
              1,
              "#f0f921"
             ]
            ],
            "type": "histogram2dcontour"
           }
          ],
          "mesh3d": [
           {
            "colorbar": {
             "outlinewidth": 0,
             "ticks": ""
            },
            "type": "mesh3d"
           }
          ],
          "parcoords": [
           {
            "line": {
             "colorbar": {
              "outlinewidth": 0,
              "ticks": ""
             }
            },
            "type": "parcoords"
           }
          ],
          "pie": [
           {
            "automargin": true,
            "type": "pie"
           }
          ],
          "scatter": [
           {
            "fillpattern": {
             "fillmode": "overlay",
             "size": 10,
             "solidity": 0.2
            },
            "type": "scatter"
           }
          ],
          "scatter3d": [
           {
            "line": {
             "colorbar": {
              "outlinewidth": 0,
              "ticks": ""
             }
            },
            "marker": {
             "colorbar": {
              "outlinewidth": 0,
              "ticks": ""
             }
            },
            "type": "scatter3d"
           }
          ],
          "scattercarpet": [
           {
            "marker": {
             "colorbar": {
              "outlinewidth": 0,
              "ticks": ""
             }
            },
            "type": "scattercarpet"
           }
          ],
          "scattergeo": [
           {
            "marker": {
             "colorbar": {
              "outlinewidth": 0,
              "ticks": ""
             }
            },
            "type": "scattergeo"
           }
          ],
          "scattergl": [
           {
            "marker": {
             "colorbar": {
              "outlinewidth": 0,
              "ticks": ""
             }
            },
            "type": "scattergl"
           }
          ],
          "scattermapbox": [
           {
            "marker": {
             "colorbar": {
              "outlinewidth": 0,
              "ticks": ""
             }
            },
            "type": "scattermapbox"
           }
          ],
          "scatterpolar": [
           {
            "marker": {
             "colorbar": {
              "outlinewidth": 0,
              "ticks": ""
             }
            },
            "type": "scatterpolar"
           }
          ],
          "scatterpolargl": [
           {
            "marker": {
             "colorbar": {
              "outlinewidth": 0,
              "ticks": ""
             }
            },
            "type": "scatterpolargl"
           }
          ],
          "scatterternary": [
           {
            "marker": {
             "colorbar": {
              "outlinewidth": 0,
              "ticks": ""
             }
            },
            "type": "scatterternary"
           }
          ],
          "surface": [
           {
            "colorbar": {
             "outlinewidth": 0,
             "ticks": ""
            },
            "colorscale": [
             [
              0,
              "#0d0887"
             ],
             [
              0.1111111111111111,
              "#46039f"
             ],
             [
              0.2222222222222222,
              "#7201a8"
             ],
             [
              0.3333333333333333,
              "#9c179e"
             ],
             [
              0.4444444444444444,
              "#bd3786"
             ],
             [
              0.5555555555555556,
              "#d8576b"
             ],
             [
              0.6666666666666666,
              "#ed7953"
             ],
             [
              0.7777777777777778,
              "#fb9f3a"
             ],
             [
              0.8888888888888888,
              "#fdca26"
             ],
             [
              1,
              "#f0f921"
             ]
            ],
            "type": "surface"
           }
          ],
          "table": [
           {
            "cells": {
             "fill": {
              "color": "#EBF0F8"
             },
             "line": {
              "color": "white"
             }
            },
            "header": {
             "fill": {
              "color": "#C8D4E3"
             },
             "line": {
              "color": "white"
             }
            },
            "type": "table"
           }
          ]
         },
         "layout": {
          "annotationdefaults": {
           "arrowcolor": "#2a3f5f",
           "arrowhead": 0,
           "arrowwidth": 1
          },
          "autotypenumbers": "strict",
          "coloraxis": {
           "colorbar": {
            "outlinewidth": 0,
            "ticks": ""
           }
          },
          "colorscale": {
           "diverging": [
            [
             0,
             "#8e0152"
            ],
            [
             0.1,
             "#c51b7d"
            ],
            [
             0.2,
             "#de77ae"
            ],
            [
             0.3,
             "#f1b6da"
            ],
            [
             0.4,
             "#fde0ef"
            ],
            [
             0.5,
             "#f7f7f7"
            ],
            [
             0.6,
             "#e6f5d0"
            ],
            [
             0.7,
             "#b8e186"
            ],
            [
             0.8,
             "#7fbc41"
            ],
            [
             0.9,
             "#4d9221"
            ],
            [
             1,
             "#276419"
            ]
           ],
           "sequential": [
            [
             0,
             "#0d0887"
            ],
            [
             0.1111111111111111,
             "#46039f"
            ],
            [
             0.2222222222222222,
             "#7201a8"
            ],
            [
             0.3333333333333333,
             "#9c179e"
            ],
            [
             0.4444444444444444,
             "#bd3786"
            ],
            [
             0.5555555555555556,
             "#d8576b"
            ],
            [
             0.6666666666666666,
             "#ed7953"
            ],
            [
             0.7777777777777778,
             "#fb9f3a"
            ],
            [
             0.8888888888888888,
             "#fdca26"
            ],
            [
             1,
             "#f0f921"
            ]
           ],
           "sequentialminus": [
            [
             0,
             "#0d0887"
            ],
            [
             0.1111111111111111,
             "#46039f"
            ],
            [
             0.2222222222222222,
             "#7201a8"
            ],
            [
             0.3333333333333333,
             "#9c179e"
            ],
            [
             0.4444444444444444,
             "#bd3786"
            ],
            [
             0.5555555555555556,
             "#d8576b"
            ],
            [
             0.6666666666666666,
             "#ed7953"
            ],
            [
             0.7777777777777778,
             "#fb9f3a"
            ],
            [
             0.8888888888888888,
             "#fdca26"
            ],
            [
             1,
             "#f0f921"
            ]
           ]
          },
          "colorway": [
           "#636efa",
           "#EF553B",
           "#00cc96",
           "#ab63fa",
           "#FFA15A",
           "#19d3f3",
           "#FF6692",
           "#B6E880",
           "#FF97FF",
           "#FECB52"
          ],
          "font": {
           "color": "#2a3f5f"
          },
          "geo": {
           "bgcolor": "white",
           "lakecolor": "white",
           "landcolor": "#E5ECF6",
           "showlakes": true,
           "showland": true,
           "subunitcolor": "white"
          },
          "hoverlabel": {
           "align": "left"
          },
          "hovermode": "closest",
          "mapbox": {
           "style": "light"
          },
          "paper_bgcolor": "white",
          "plot_bgcolor": "#E5ECF6",
          "polar": {
           "angularaxis": {
            "gridcolor": "white",
            "linecolor": "white",
            "ticks": ""
           },
           "bgcolor": "#E5ECF6",
           "radialaxis": {
            "gridcolor": "white",
            "linecolor": "white",
            "ticks": ""
           }
          },
          "scene": {
           "xaxis": {
            "backgroundcolor": "#E5ECF6",
            "gridcolor": "white",
            "gridwidth": 2,
            "linecolor": "white",
            "showbackground": true,
            "ticks": "",
            "zerolinecolor": "white"
           },
           "yaxis": {
            "backgroundcolor": "#E5ECF6",
            "gridcolor": "white",
            "gridwidth": 2,
            "linecolor": "white",
            "showbackground": true,
            "ticks": "",
            "zerolinecolor": "white"
           },
           "zaxis": {
            "backgroundcolor": "#E5ECF6",
            "gridcolor": "white",
            "gridwidth": 2,
            "linecolor": "white",
            "showbackground": true,
            "ticks": "",
            "zerolinecolor": "white"
           }
          },
          "shapedefaults": {
           "line": {
            "color": "#2a3f5f"
           }
          },
          "ternary": {
           "aaxis": {
            "gridcolor": "white",
            "linecolor": "white",
            "ticks": ""
           },
           "baxis": {
            "gridcolor": "white",
            "linecolor": "white",
            "ticks": ""
           },
           "bgcolor": "#E5ECF6",
           "caxis": {
            "gridcolor": "white",
            "linecolor": "white",
            "ticks": ""
           }
          },
          "title": {
           "x": 0.05
          },
          "xaxis": {
           "automargin": true,
           "gridcolor": "white",
           "linecolor": "white",
           "ticks": "",
           "title": {
            "standoff": 15
           },
           "zerolinecolor": "white",
           "zerolinewidth": 2
          },
          "yaxis": {
           "automargin": true,
           "gridcolor": "white",
           "linecolor": "white",
           "ticks": "",
           "title": {
            "standoff": 15
           },
           "zerolinecolor": "white",
           "zerolinewidth": 2
          }
         }
        },
        "title": {
         "text": "Total number of matches per maps"
        },
        "xaxis": {
         "anchor": "y",
         "domain": [
          0,
          1
         ],
         "title": {
          "text": "mapName"
         }
        },
        "yaxis": {
         "anchor": "x",
         "domain": [
          0,
          1
         ],
         "title": {
          "text": "count"
         }
        }
       }
      }
     },
     "metadata": {},
     "output_type": "display_data"
    }
   ],
   "source": [
    "fig = px.bar(df_matches_maps, y='count', x='mapName', text_auto='.5s',\n",
    "            title=\"Total number of matches per maps\")\n",
    "fig.update_traces(textfont_size=10, textangle=0, textposition=\"outside\", cliponaxis=False)\n",
    "fig.show()"
   ]
  }
 ],
 "metadata": {
  "kernelspec": {
   "display_name": "Python 3.9.7 ('base')",
   "language": "python",
   "name": "python3"
  },
  "language_info": {
   "codemirror_mode": {
    "name": "ipython",
    "version": 3
   },
   "file_extension": ".py",
   "mimetype": "text/x-python",
   "name": "python",
   "nbconvert_exporter": "python",
   "pygments_lexer": "ipython3",
   "version": "3.9.7"
  },
  "orig_nbformat": 4,
  "vscode": {
   "interpreter": {
    "hash": "277d713a2869ad522e0f58de96fa3cb2620734b34dd3b3afd7f1966d69d2580f"
   }
  }
 },
 "nbformat": 4,
 "nbformat_minor": 2
}
