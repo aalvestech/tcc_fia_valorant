{
 "cells": [
  {
   "cell_type": "markdown",
   "metadata": {},
   "source": [
    "Libs"
   ]
  },
  {
   "cell_type": "code",
   "execution_count": 1,
   "metadata": {},
   "outputs": [],
   "source": [
    "import pandas as pd\n",
    "from datetime import datetime\n",
    "import pathlib\n",
    "import seaborn as sns\n",
    "import matplotlib.pyplot as plt\n",
    "import plotly.express as px\n",
    "from plotly.subplots import make_subplots\n",
    "import plotly.graph_objects as go\n",
    "import warnings\n",
    "warnings.filterwarnings(\"ignore\")"
   ]
  },
  {
   "cell_type": "code",
   "execution_count": 2,
   "metadata": {},
   "outputs": [],
   "source": [
    "abs_path = pathlib.Path.cwd().parent"
   ]
  },
  {
   "cell_type": "markdown",
   "metadata": {},
   "source": [
    "Matches"
   ]
  },
  {
   "cell_type": "code",
   "execution_count": 37,
   "metadata": {},
   "outputs": [
    {
     "data": {
      "text/html": [
       "<div>\n",
       "<style scoped>\n",
       "    .dataframe tbody tr th:only-of-type {\n",
       "        vertical-align: middle;\n",
       "    }\n",
       "\n",
       "    .dataframe tbody tr th {\n",
       "        vertical-align: top;\n",
       "    }\n",
       "\n",
       "    .dataframe thead th {\n",
       "        text-align: right;\n",
       "    }\n",
       "</style>\n",
       "<table border=\"1\" class=\"dataframe\">\n",
       "  <thead>\n",
       "    <tr style=\"text-align: right;\">\n",
       "      <th></th>\n",
       "      <th>matchId</th>\n",
       "      <th>timestamp</th>\n",
       "      <th>metadataResult</th>\n",
       "      <th>map</th>\n",
       "      <th>mapName</th>\n",
       "      <th>mapImageUrl</th>\n",
       "      <th>timestamp.1</th>\n",
       "      <th>metadataResult.1</th>\n",
       "      <th>map.1</th>\n",
       "      <th>mapName.1</th>\n",
       "      <th>...</th>\n",
       "      <th>scorePerRoundValue</th>\n",
       "      <th>scorePerRoundDisplayValue</th>\n",
       "      <th>damagePerRoundValue</th>\n",
       "      <th>damagePerRoundDisplayValue</th>\n",
       "      <th>headshotsPercentageValue</th>\n",
       "      <th>headshotsPercentageDisplayValue</th>\n",
       "      <th>leaderboardRank</th>\n",
       "      <th>competitiveTier</th>\n",
       "      <th>rankedRating</th>\n",
       "      <th>server</th>\n",
       "    </tr>\n",
       "  </thead>\n",
       "  <tbody>\n",
       "    <tr>\n",
       "      <th>0</th>\n",
       "      <td>7a6df5ad-6c30-4cf7-a999-3816c38980f7</td>\n",
       "      <td>2022-11-08T18:10:05.755+00:00</td>\n",
       "      <td>defeat</td>\n",
       "      <td>2bee0dc9-4ffe-519b-1cbd-7fbe763a6047</td>\n",
       "      <td>Haven</td>\n",
       "      <td>https://trackercdn.com/cdn/tracker.gg/valorant...</td>\n",
       "      <td>2022-11-08T18:10:05.755+00:00</td>\n",
       "      <td>defeat</td>\n",
       "      <td>2bee0dc9-4ffe-519b-1cbd-7fbe763a6047</td>\n",
       "      <td>Haven</td>\n",
       "      <td>...</td>\n",
       "      <td>265.619048</td>\n",
       "      <td>265.6</td>\n",
       "      <td>182.428571</td>\n",
       "      <td>182.4</td>\n",
       "      <td>28.125000</td>\n",
       "      <td>28</td>\n",
       "      <td>2</td>\n",
       "      <td>27</td>\n",
       "      <td>902</td>\n",
       "      <td>br</td>\n",
       "    </tr>\n",
       "    <tr>\n",
       "      <th>1</th>\n",
       "      <td>f98c7a4b-9892-4395-995f-bd6fcc261dc9</td>\n",
       "      <td>2022-11-08T17:23:58.171+00:00</td>\n",
       "      <td>victory</td>\n",
       "      <td>2bee0dc9-4ffe-519b-1cbd-7fbe763a6047</td>\n",
       "      <td>Haven</td>\n",
       "      <td>https://trackercdn.com/cdn/tracker.gg/valorant...</td>\n",
       "      <td>2022-11-08T17:23:58.171+00:00</td>\n",
       "      <td>victory</td>\n",
       "      <td>2bee0dc9-4ffe-519b-1cbd-7fbe763a6047</td>\n",
       "      <td>Haven</td>\n",
       "      <td>...</td>\n",
       "      <td>192.315789</td>\n",
       "      <td>192.3</td>\n",
       "      <td>121.263158</td>\n",
       "      <td>121.3</td>\n",
       "      <td>25.000000</td>\n",
       "      <td>25</td>\n",
       "      <td>2</td>\n",
       "      <td>27</td>\n",
       "      <td>902</td>\n",
       "      <td>br</td>\n",
       "    </tr>\n",
       "    <tr>\n",
       "      <th>2</th>\n",
       "      <td>57ab0df2-5309-4809-93dd-b1a6d24adad1</td>\n",
       "      <td>2022-11-08T16:48:52.583+00:00</td>\n",
       "      <td>defeat</td>\n",
       "      <td>2c9d57ec-4431-9c5e-2939-8f9ef6dd5cba</td>\n",
       "      <td>Bind</td>\n",
       "      <td>https://trackercdn.com/cdn/tracker.gg/valorant...</td>\n",
       "      <td>2022-11-08T16:48:52.583+00:00</td>\n",
       "      <td>defeat</td>\n",
       "      <td>2c9d57ec-4431-9c5e-2939-8f9ef6dd5cba</td>\n",
       "      <td>Bind</td>\n",
       "      <td>...</td>\n",
       "      <td>268.000000</td>\n",
       "      <td>268.0</td>\n",
       "      <td>167.947368</td>\n",
       "      <td>167.9</td>\n",
       "      <td>26.530612</td>\n",
       "      <td>27</td>\n",
       "      <td>2</td>\n",
       "      <td>27</td>\n",
       "      <td>902</td>\n",
       "      <td>br</td>\n",
       "    </tr>\n",
       "    <tr>\n",
       "      <th>3</th>\n",
       "      <td>2b03d90d-24e2-4139-a518-93c9917ad57b</td>\n",
       "      <td>2022-11-08T15:59:51.22+00:00</td>\n",
       "      <td>defeat</td>\n",
       "      <td>fd267378-4d1d-484f-ff52-77821ed10dc2</td>\n",
       "      <td>Pearl</td>\n",
       "      <td>https://titles.trackercdn.com/valorant-api/map...</td>\n",
       "      <td>2022-11-08T15:59:51.22+00:00</td>\n",
       "      <td>defeat</td>\n",
       "      <td>fd267378-4d1d-484f-ff52-77821ed10dc2</td>\n",
       "      <td>Pearl</td>\n",
       "      <td>...</td>\n",
       "      <td>227.416667</td>\n",
       "      <td>227.4</td>\n",
       "      <td>159.208333</td>\n",
       "      <td>159.2</td>\n",
       "      <td>16.000000</td>\n",
       "      <td>16</td>\n",
       "      <td>2</td>\n",
       "      <td>27</td>\n",
       "      <td>902</td>\n",
       "      <td>br</td>\n",
       "    </tr>\n",
       "    <tr>\n",
       "      <th>4</th>\n",
       "      <td>ffc2bcc5-b041-4932-8150-c6cf0df2bad8</td>\n",
       "      <td>2022-11-05T22:17:04.347+00:00</td>\n",
       "      <td>defeat</td>\n",
       "      <td>2fb9a4fd-47b8-4e7d-a969-74b4046ebd53</td>\n",
       "      <td>Breeze</td>\n",
       "      <td>https://titles.trackercdn.com/valorant-api/map...</td>\n",
       "      <td>2022-11-05T22:17:04.347+00:00</td>\n",
       "      <td>defeat</td>\n",
       "      <td>2fb9a4fd-47b8-4e7d-a969-74b4046ebd53</td>\n",
       "      <td>Breeze</td>\n",
       "      <td>...</td>\n",
       "      <td>216.033333</td>\n",
       "      <td>216.0</td>\n",
       "      <td>136.300000</td>\n",
       "      <td>136.3</td>\n",
       "      <td>32.075472</td>\n",
       "      <td>32</td>\n",
       "      <td>2</td>\n",
       "      <td>27</td>\n",
       "      <td>902</td>\n",
       "      <td>br</td>\n",
       "    </tr>\n",
       "  </tbody>\n",
       "</table>\n",
       "<p>5 rows × 105 columns</p>\n",
       "</div>"
      ],
      "text/plain": [
       "                                matchId                      timestamp  \\\n",
       "0  7a6df5ad-6c30-4cf7-a999-3816c38980f7  2022-11-08T18:10:05.755+00:00   \n",
       "1  f98c7a4b-9892-4395-995f-bd6fcc261dc9  2022-11-08T17:23:58.171+00:00   \n",
       "2  57ab0df2-5309-4809-93dd-b1a6d24adad1  2022-11-08T16:48:52.583+00:00   \n",
       "3  2b03d90d-24e2-4139-a518-93c9917ad57b   2022-11-08T15:59:51.22+00:00   \n",
       "4  ffc2bcc5-b041-4932-8150-c6cf0df2bad8  2022-11-05T22:17:04.347+00:00   \n",
       "\n",
       "  metadataResult                                   map mapName  \\\n",
       "0         defeat  2bee0dc9-4ffe-519b-1cbd-7fbe763a6047   Haven   \n",
       "1        victory  2bee0dc9-4ffe-519b-1cbd-7fbe763a6047   Haven   \n",
       "2         defeat  2c9d57ec-4431-9c5e-2939-8f9ef6dd5cba    Bind   \n",
       "3         defeat  fd267378-4d1d-484f-ff52-77821ed10dc2   Pearl   \n",
       "4         defeat  2fb9a4fd-47b8-4e7d-a969-74b4046ebd53  Breeze   \n",
       "\n",
       "                                         mapImageUrl  \\\n",
       "0  https://trackercdn.com/cdn/tracker.gg/valorant...   \n",
       "1  https://trackercdn.com/cdn/tracker.gg/valorant...   \n",
       "2  https://trackercdn.com/cdn/tracker.gg/valorant...   \n",
       "3  https://titles.trackercdn.com/valorant-api/map...   \n",
       "4  https://titles.trackercdn.com/valorant-api/map...   \n",
       "\n",
       "                     timestamp.1 metadataResult.1  \\\n",
       "0  2022-11-08T18:10:05.755+00:00           defeat   \n",
       "1  2022-11-08T17:23:58.171+00:00          victory   \n",
       "2  2022-11-08T16:48:52.583+00:00           defeat   \n",
       "3   2022-11-08T15:59:51.22+00:00           defeat   \n",
       "4  2022-11-05T22:17:04.347+00:00           defeat   \n",
       "\n",
       "                                  map.1 mapName.1  ... scorePerRoundValue  \\\n",
       "0  2bee0dc9-4ffe-519b-1cbd-7fbe763a6047     Haven  ...         265.619048   \n",
       "1  2bee0dc9-4ffe-519b-1cbd-7fbe763a6047     Haven  ...         192.315789   \n",
       "2  2c9d57ec-4431-9c5e-2939-8f9ef6dd5cba      Bind  ...         268.000000   \n",
       "3  fd267378-4d1d-484f-ff52-77821ed10dc2     Pearl  ...         227.416667   \n",
       "4  2fb9a4fd-47b8-4e7d-a969-74b4046ebd53    Breeze  ...         216.033333   \n",
       "\n",
       "  scorePerRoundDisplayValue damagePerRoundValue damagePerRoundDisplayValue  \\\n",
       "0                     265.6          182.428571                      182.4   \n",
       "1                     192.3          121.263158                      121.3   \n",
       "2                     268.0          167.947368                      167.9   \n",
       "3                     227.4          159.208333                      159.2   \n",
       "4                     216.0          136.300000                      136.3   \n",
       "\n",
       "   headshotsPercentageValue headshotsPercentageDisplayValue leaderboardRank  \\\n",
       "0                 28.125000                              28               2   \n",
       "1                 25.000000                              25               2   \n",
       "2                 26.530612                              27               2   \n",
       "3                 16.000000                              16               2   \n",
       "4                 32.075472                              32               2   \n",
       "\n",
       "   competitiveTier rankedRating  server  \n",
       "0               27          902      br  \n",
       "1               27          902      br  \n",
       "2               27          902      br  \n",
       "3               27          902      br  \n",
       "4               27          902      br  \n",
       "\n",
       "[5 rows x 105 columns]"
      ]
     },
     "execution_count": 37,
     "metadata": {},
     "output_type": "execute_result"
    }
   ],
   "source": [
    "file_read = pathlib.Path(abs_path).joinpath('data').joinpath('matches').joinpath('matches_processed.csv')\n",
    "\n",
    "df_matches_raw = pd.read_csv(file_read)\n",
    "\n",
    "del df_matches_raw['Unnamed: 0']\n",
    "\n",
    "df_matches_raw.head()"
   ]
  },
  {
   "cell_type": "code",
   "execution_count": 38,
   "metadata": {},
   "outputs": [
    {
     "data": {
      "text/html": [
       "<div>\n",
       "<style scoped>\n",
       "    .dataframe tbody tr th:only-of-type {\n",
       "        vertical-align: middle;\n",
       "    }\n",
       "\n",
       "    .dataframe tbody tr th {\n",
       "        vertical-align: top;\n",
       "    }\n",
       "\n",
       "    .dataframe thead th {\n",
       "        text-align: right;\n",
       "    }\n",
       "</style>\n",
       "<table border=\"1\" class=\"dataframe\">\n",
       "  <thead>\n",
       "    <tr style=\"text-align: right;\">\n",
       "      <th></th>\n",
       "      <th>25%</th>\n",
       "      <th>50%</th>\n",
       "      <th>75%</th>\n",
       "      <th>count</th>\n",
       "      <th>max</th>\n",
       "      <th>mean</th>\n",
       "      <th>min</th>\n",
       "      <th>std</th>\n",
       "    </tr>\n",
       "  </thead>\n",
       "  <tbody>\n",
       "    <tr>\n",
       "      <th>ability1CastsDisplayValue</th>\n",
       "      <td>6.0</td>\n",
       "      <td>10.0</td>\n",
       "      <td>16.0</td>\n",
       "      <td>333679.0</td>\n",
       "      <td>87.0</td>\n",
       "      <td>11.532671</td>\n",
       "      <td>0.0</td>\n",
       "      <td>7.280749</td>\n",
       "    </tr>\n",
       "    <tr>\n",
       "      <th>ability1CastsValue</th>\n",
       "      <td>6.0</td>\n",
       "      <td>10.0</td>\n",
       "      <td>16.0</td>\n",
       "      <td>333679.0</td>\n",
       "      <td>87.0</td>\n",
       "      <td>11.532671</td>\n",
       "      <td>0.0</td>\n",
       "      <td>7.280749</td>\n",
       "    </tr>\n",
       "    <tr>\n",
       "      <th>ability2CastsDisplayValue</th>\n",
       "      <td>13.0</td>\n",
       "      <td>20.0</td>\n",
       "      <td>26.0</td>\n",
       "      <td>333679.0</td>\n",
       "      <td>109.0</td>\n",
       "      <td>20.509598</td>\n",
       "      <td>0.0</td>\n",
       "      <td>11.271582</td>\n",
       "    </tr>\n",
       "    <tr>\n",
       "      <th>ability2CastsValue</th>\n",
       "      <td>13.0</td>\n",
       "      <td>20.0</td>\n",
       "      <td>26.0</td>\n",
       "      <td>333679.0</td>\n",
       "      <td>109.0</td>\n",
       "      <td>20.509598</td>\n",
       "      <td>0.0</td>\n",
       "      <td>11.271582</td>\n",
       "    </tr>\n",
       "    <tr>\n",
       "      <th>acesDisplayValue</th>\n",
       "      <td>0.0</td>\n",
       "      <td>0.0</td>\n",
       "      <td>0.0</td>\n",
       "      <td>333835.0</td>\n",
       "      <td>3.0</td>\n",
       "      <td>0.027571</td>\n",
       "      <td>0.0</td>\n",
       "      <td>0.167447</td>\n",
       "    </tr>\n",
       "    <tr>\n",
       "      <th>...</th>\n",
       "      <td>...</td>\n",
       "      <td>...</td>\n",
       "      <td>...</td>\n",
       "      <td>...</td>\n",
       "      <td>...</td>\n",
       "      <td>...</td>\n",
       "      <td>...</td>\n",
       "      <td>...</td>\n",
       "    </tr>\n",
       "    <tr>\n",
       "      <th>thriftyValue</th>\n",
       "      <td>NaN</td>\n",
       "      <td>NaN</td>\n",
       "      <td>NaN</td>\n",
       "      <td>0.0</td>\n",
       "      <td>NaN</td>\n",
       "      <td>NaN</td>\n",
       "      <td>NaN</td>\n",
       "      <td>NaN</td>\n",
       "    </tr>\n",
       "    <tr>\n",
       "      <th>tradedDisplayValue</th>\n",
       "      <td>1.0</td>\n",
       "      <td>3.0</td>\n",
       "      <td>4.0</td>\n",
       "      <td>333835.0</td>\n",
       "      <td>14.0</td>\n",
       "      <td>2.809397</td>\n",
       "      <td>0.0</td>\n",
       "      <td>1.824662</td>\n",
       "    </tr>\n",
       "    <tr>\n",
       "      <th>tradedValue</th>\n",
       "      <td>1.0</td>\n",
       "      <td>3.0</td>\n",
       "      <td>4.0</td>\n",
       "      <td>333835.0</td>\n",
       "      <td>14.0</td>\n",
       "      <td>2.809397</td>\n",
       "      <td>0.0</td>\n",
       "      <td>1.824662</td>\n",
       "    </tr>\n",
       "    <tr>\n",
       "      <th>ultimateCastsDisplayValue</th>\n",
       "      <td>2.0</td>\n",
       "      <td>3.0</td>\n",
       "      <td>3.0</td>\n",
       "      <td>333679.0</td>\n",
       "      <td>17.0</td>\n",
       "      <td>2.616455</td>\n",
       "      <td>0.0</td>\n",
       "      <td>1.104440</td>\n",
       "    </tr>\n",
       "    <tr>\n",
       "      <th>ultimateCastsValue</th>\n",
       "      <td>2.0</td>\n",
       "      <td>3.0</td>\n",
       "      <td>3.0</td>\n",
       "      <td>333679.0</td>\n",
       "      <td>17.0</td>\n",
       "      <td>2.616455</td>\n",
       "      <td>0.0</td>\n",
       "      <td>1.104440</td>\n",
       "    </tr>\n",
       "  </tbody>\n",
       "</table>\n",
       "<p>82 rows × 8 columns</p>\n",
       "</div>"
      ],
      "text/plain": [
       "                            25%   50%   75%     count    max       mean  min  \\\n",
       "ability1CastsDisplayValue   6.0  10.0  16.0  333679.0   87.0  11.532671  0.0   \n",
       "ability1CastsValue          6.0  10.0  16.0  333679.0   87.0  11.532671  0.0   \n",
       "ability2CastsDisplayValue  13.0  20.0  26.0  333679.0  109.0  20.509598  0.0   \n",
       "ability2CastsValue         13.0  20.0  26.0  333679.0  109.0  20.509598  0.0   \n",
       "acesDisplayValue            0.0   0.0   0.0  333835.0    3.0   0.027571  0.0   \n",
       "...                         ...   ...   ...       ...    ...        ...  ...   \n",
       "thriftyValue                NaN   NaN   NaN       0.0    NaN        NaN  NaN   \n",
       "tradedDisplayValue          1.0   3.0   4.0  333835.0   14.0   2.809397  0.0   \n",
       "tradedValue                 1.0   3.0   4.0  333835.0   14.0   2.809397  0.0   \n",
       "ultimateCastsDisplayValue   2.0   3.0   3.0  333679.0   17.0   2.616455  0.0   \n",
       "ultimateCastsValue          2.0   3.0   3.0  333679.0   17.0   2.616455  0.0   \n",
       "\n",
       "                                 std  \n",
       "ability1CastsDisplayValue   7.280749  \n",
       "ability1CastsValue          7.280749  \n",
       "ability2CastsDisplayValue  11.271582  \n",
       "ability2CastsValue         11.271582  \n",
       "acesDisplayValue            0.167447  \n",
       "...                              ...  \n",
       "thriftyValue                     NaN  \n",
       "tradedDisplayValue          1.824662  \n",
       "tradedValue                 1.824662  \n",
       "ultimateCastsDisplayValue   1.104440  \n",
       "ultimateCastsValue          1.104440  \n",
       "\n",
       "[82 rows x 8 columns]"
      ]
     },
     "execution_count": 38,
     "metadata": {},
     "output_type": "execute_result"
    }
   ],
   "source": [
    "df_matches_raw_describe = df_matches_raw.describe()\n",
    "df_matches_raw_describe = pd.pivot_table(df_matches_raw_describe, columns=[\"count\", 'mean', 'std', 'min', '25%', '50%', '75%', 'max'])\n",
    "df_matches_raw_describe"
   ]
  },
  {
   "cell_type": "code",
   "execution_count": 39,
   "metadata": {},
   "outputs": [
    {
     "name": "stdout",
     "output_type": "stream",
     "text": [
      "Total lines is: 333835 \n",
      "Total columns is: 105\n"
     ]
    }
   ],
   "source": [
    "row_num = df_matches_raw.shape[0]\n",
    "col_num = df_matches_raw.shape[1]\n",
    "print('Total lines is: {} \\nTotal columns is: {}'.format(row_num, col_num))"
   ]
  },
  {
   "cell_type": "code",
   "execution_count": 40,
   "metadata": {},
   "outputs": [
    {
     "data": {
      "text/plain": [
       "matchId                            0\n",
       "timestamp                          0\n",
       "metadataResult                     0\n",
       "map                                0\n",
       "mapName                            0\n",
       "                                  ..\n",
       "headshotsPercentageDisplayValue    0\n",
       "leaderboardRank                    0\n",
       "competitiveTier                    0\n",
       "rankedRating                       0\n",
       "server                             0\n",
       "Length: 105, dtype: int64"
      ]
     },
     "execution_count": 40,
     "metadata": {},
     "output_type": "execute_result"
    }
   ],
   "source": [
    "nan_num = df_matches_raw.isna().sum()\n",
    "nan_num\n"
   ]
  },
  {
   "cell_type": "code",
   "execution_count": 57,
   "metadata": {},
   "outputs": [
    {
     "data": {
      "text/html": [
       "<div>\n",
       "<style scoped>\n",
       "    .dataframe tbody tr th:only-of-type {\n",
       "        vertical-align: middle;\n",
       "    }\n",
       "\n",
       "    .dataframe tbody tr th {\n",
       "        vertical-align: top;\n",
       "    }\n",
       "\n",
       "    .dataframe thead th {\n",
       "        text-align: right;\n",
       "    }\n",
       "</style>\n",
       "<table border=\"1\" class=\"dataframe\">\n",
       "  <thead>\n",
       "    <tr style=\"text-align: right;\">\n",
       "      <th></th>\n",
       "      <th>matchId</th>\n",
       "      <th>timestamp</th>\n",
       "      <th>metadataResult</th>\n",
       "      <th>map</th>\n",
       "      <th>mapName</th>\n",
       "      <th>mapImageUrl</th>\n",
       "      <th>timestamp.1</th>\n",
       "      <th>metadataResult.1</th>\n",
       "      <th>map.1</th>\n",
       "      <th>mapName.1</th>\n",
       "      <th>...</th>\n",
       "      <th>scorePerRoundValue</th>\n",
       "      <th>scorePerRoundDisplayValue</th>\n",
       "      <th>damagePerRoundValue</th>\n",
       "      <th>damagePerRoundDisplayValue</th>\n",
       "      <th>headshotsPercentageValue</th>\n",
       "      <th>headshotsPercentageDisplayValue</th>\n",
       "      <th>leaderboardRank</th>\n",
       "      <th>competitiveTier</th>\n",
       "      <th>rankedRating</th>\n",
       "      <th>server</th>\n",
       "    </tr>\n",
       "  </thead>\n",
       "  <tbody>\n",
       "    <tr>\n",
       "      <th>0</th>\n",
       "      <td>7a6df5ad-6c30-4cf7-a999-3816c38980f7</td>\n",
       "      <td>2022-11-08T18:10:05.755+00:00</td>\n",
       "      <td>defeat</td>\n",
       "      <td>2bee0dc9-4ffe-519b-1cbd-7fbe763a6047</td>\n",
       "      <td>Haven</td>\n",
       "      <td>https://trackercdn.com/cdn/tracker.gg/valorant...</td>\n",
       "      <td>2022-11-08T18:10:05.755+00:00</td>\n",
       "      <td>defeat</td>\n",
       "      <td>2bee0dc9-4ffe-519b-1cbd-7fbe763a6047</td>\n",
       "      <td>Haven</td>\n",
       "      <td>...</td>\n",
       "      <td>265.619048</td>\n",
       "      <td>265.6</td>\n",
       "      <td>182.428571</td>\n",
       "      <td>182.4</td>\n",
       "      <td>28.125000</td>\n",
       "      <td>28</td>\n",
       "      <td>2</td>\n",
       "      <td>27</td>\n",
       "      <td>902</td>\n",
       "      <td>br</td>\n",
       "    </tr>\n",
       "    <tr>\n",
       "      <th>1</th>\n",
       "      <td>f98c7a4b-9892-4395-995f-bd6fcc261dc9</td>\n",
       "      <td>2022-11-08T17:23:58.171+00:00</td>\n",
       "      <td>victory</td>\n",
       "      <td>2bee0dc9-4ffe-519b-1cbd-7fbe763a6047</td>\n",
       "      <td>Haven</td>\n",
       "      <td>https://trackercdn.com/cdn/tracker.gg/valorant...</td>\n",
       "      <td>2022-11-08T17:23:58.171+00:00</td>\n",
       "      <td>victory</td>\n",
       "      <td>2bee0dc9-4ffe-519b-1cbd-7fbe763a6047</td>\n",
       "      <td>Haven</td>\n",
       "      <td>...</td>\n",
       "      <td>192.315789</td>\n",
       "      <td>192.3</td>\n",
       "      <td>121.263158</td>\n",
       "      <td>121.3</td>\n",
       "      <td>25.000000</td>\n",
       "      <td>25</td>\n",
       "      <td>2</td>\n",
       "      <td>27</td>\n",
       "      <td>902</td>\n",
       "      <td>br</td>\n",
       "    </tr>\n",
       "    <tr>\n",
       "      <th>2</th>\n",
       "      <td>57ab0df2-5309-4809-93dd-b1a6d24adad1</td>\n",
       "      <td>2022-11-08T16:48:52.583+00:00</td>\n",
       "      <td>defeat</td>\n",
       "      <td>2c9d57ec-4431-9c5e-2939-8f9ef6dd5cba</td>\n",
       "      <td>Bind</td>\n",
       "      <td>https://trackercdn.com/cdn/tracker.gg/valorant...</td>\n",
       "      <td>2022-11-08T16:48:52.583+00:00</td>\n",
       "      <td>defeat</td>\n",
       "      <td>2c9d57ec-4431-9c5e-2939-8f9ef6dd5cba</td>\n",
       "      <td>Bind</td>\n",
       "      <td>...</td>\n",
       "      <td>268.000000</td>\n",
       "      <td>268.0</td>\n",
       "      <td>167.947368</td>\n",
       "      <td>167.9</td>\n",
       "      <td>26.530612</td>\n",
       "      <td>27</td>\n",
       "      <td>2</td>\n",
       "      <td>27</td>\n",
       "      <td>902</td>\n",
       "      <td>br</td>\n",
       "    </tr>\n",
       "    <tr>\n",
       "      <th>3</th>\n",
       "      <td>2b03d90d-24e2-4139-a518-93c9917ad57b</td>\n",
       "      <td>2022-11-08T15:59:51.22+00:00</td>\n",
       "      <td>defeat</td>\n",
       "      <td>fd267378-4d1d-484f-ff52-77821ed10dc2</td>\n",
       "      <td>Pearl</td>\n",
       "      <td>https://titles.trackercdn.com/valorant-api/map...</td>\n",
       "      <td>2022-11-08T15:59:51.22+00:00</td>\n",
       "      <td>defeat</td>\n",
       "      <td>fd267378-4d1d-484f-ff52-77821ed10dc2</td>\n",
       "      <td>Pearl</td>\n",
       "      <td>...</td>\n",
       "      <td>227.416667</td>\n",
       "      <td>227.4</td>\n",
       "      <td>159.208333</td>\n",
       "      <td>159.2</td>\n",
       "      <td>16.000000</td>\n",
       "      <td>16</td>\n",
       "      <td>2</td>\n",
       "      <td>27</td>\n",
       "      <td>902</td>\n",
       "      <td>br</td>\n",
       "    </tr>\n",
       "    <tr>\n",
       "      <th>4</th>\n",
       "      <td>ffc2bcc5-b041-4932-8150-c6cf0df2bad8</td>\n",
       "      <td>2022-11-05T22:17:04.347+00:00</td>\n",
       "      <td>defeat</td>\n",
       "      <td>2fb9a4fd-47b8-4e7d-a969-74b4046ebd53</td>\n",
       "      <td>Breeze</td>\n",
       "      <td>https://titles.trackercdn.com/valorant-api/map...</td>\n",
       "      <td>2022-11-05T22:17:04.347+00:00</td>\n",
       "      <td>defeat</td>\n",
       "      <td>2fb9a4fd-47b8-4e7d-a969-74b4046ebd53</td>\n",
       "      <td>Breeze</td>\n",
       "      <td>...</td>\n",
       "      <td>216.033333</td>\n",
       "      <td>216.0</td>\n",
       "      <td>136.300000</td>\n",
       "      <td>136.3</td>\n",
       "      <td>32.075472</td>\n",
       "      <td>32</td>\n",
       "      <td>2</td>\n",
       "      <td>27</td>\n",
       "      <td>902</td>\n",
       "      <td>br</td>\n",
       "    </tr>\n",
       "    <tr>\n",
       "      <th>...</th>\n",
       "      <td>...</td>\n",
       "      <td>...</td>\n",
       "      <td>...</td>\n",
       "      <td>...</td>\n",
       "      <td>...</td>\n",
       "      <td>...</td>\n",
       "      <td>...</td>\n",
       "      <td>...</td>\n",
       "      <td>...</td>\n",
       "      <td>...</td>\n",
       "      <td>...</td>\n",
       "      <td>...</td>\n",
       "      <td>...</td>\n",
       "      <td>...</td>\n",
       "      <td>...</td>\n",
       "      <td>...</td>\n",
       "      <td>...</td>\n",
       "      <td>...</td>\n",
       "      <td>...</td>\n",
       "      <td>...</td>\n",
       "      <td>...</td>\n",
       "    </tr>\n",
       "    <tr>\n",
       "      <th>333830</th>\n",
       "      <td>5d3e3389-2731-4bb3-bddf-592e23567692</td>\n",
       "      <td>2022-07-21T18:38:24.302+00:00</td>\n",
       "      <td>defeat</td>\n",
       "      <td>7eaecc1b-4337-bbf6-6ab9-04b8f06b3319</td>\n",
       "      <td>Ascent</td>\n",
       "      <td>https://trackercdn.com/cdn/tracker.gg/valorant...</td>\n",
       "      <td>2022-07-21T18:38:24.302+00:00</td>\n",
       "      <td>defeat</td>\n",
       "      <td>7eaecc1b-4337-bbf6-6ab9-04b8f06b3319</td>\n",
       "      <td>Ascent</td>\n",
       "      <td>...</td>\n",
       "      <td>195.318182</td>\n",
       "      <td>195.3</td>\n",
       "      <td>129.590909</td>\n",
       "      <td>129.6</td>\n",
       "      <td>14.634146</td>\n",
       "      <td>15</td>\n",
       "      <td>399</td>\n",
       "      <td>27</td>\n",
       "      <td>400</td>\n",
       "      <td>ap</td>\n",
       "    </tr>\n",
       "    <tr>\n",
       "      <th>333831</th>\n",
       "      <td>33110063-8c60-4a04-8b81-08d36fdf6e69</td>\n",
       "      <td>2022-07-21T18:05:55.168+00:00</td>\n",
       "      <td>defeat</td>\n",
       "      <td>2fb9a4fd-47b8-4e7d-a969-74b4046ebd53</td>\n",
       "      <td>Breeze</td>\n",
       "      <td>https://titles.trackercdn.com/valorant-api/map...</td>\n",
       "      <td>2022-07-21T18:05:55.168+00:00</td>\n",
       "      <td>defeat</td>\n",
       "      <td>2fb9a4fd-47b8-4e7d-a969-74b4046ebd53</td>\n",
       "      <td>Breeze</td>\n",
       "      <td>...</td>\n",
       "      <td>322.800000</td>\n",
       "      <td>322.8</td>\n",
       "      <td>202.400000</td>\n",
       "      <td>202.4</td>\n",
       "      <td>29.411765</td>\n",
       "      <td>29</td>\n",
       "      <td>399</td>\n",
       "      <td>27</td>\n",
       "      <td>400</td>\n",
       "      <td>ap</td>\n",
       "    </tr>\n",
       "    <tr>\n",
       "      <th>333832</th>\n",
       "      <td>22f3f7f3-12d4-416b-ae98-681aa7d36c93</td>\n",
       "      <td>2022-07-17T13:39:00.2+00:00</td>\n",
       "      <td>defeat</td>\n",
       "      <td>2c9d57ec-4431-9c5e-2939-8f9ef6dd5cba</td>\n",
       "      <td>Bind</td>\n",
       "      <td>https://trackercdn.com/cdn/tracker.gg/valorant...</td>\n",
       "      <td>2022-07-17T13:39:00.2+00:00</td>\n",
       "      <td>defeat</td>\n",
       "      <td>2c9d57ec-4431-9c5e-2939-8f9ef6dd5cba</td>\n",
       "      <td>Bind</td>\n",
       "      <td>...</td>\n",
       "      <td>230.173913</td>\n",
       "      <td>230.2</td>\n",
       "      <td>135.608696</td>\n",
       "      <td>135.6</td>\n",
       "      <td>31.250000</td>\n",
       "      <td>31</td>\n",
       "      <td>399</td>\n",
       "      <td>27</td>\n",
       "      <td>400</td>\n",
       "      <td>ap</td>\n",
       "    </tr>\n",
       "    <tr>\n",
       "      <th>333833</th>\n",
       "      <td>ba6de7a0-2b28-4a3d-b18e-92897e8287a9</td>\n",
       "      <td>2022-07-17T12:48:54.326+00:00</td>\n",
       "      <td>victory</td>\n",
       "      <td>fd267378-4d1d-484f-ff52-77821ed10dc2</td>\n",
       "      <td>Pearl</td>\n",
       "      <td>https://titles.trackercdn.com/valorant-api/map...</td>\n",
       "      <td>2022-07-17T12:48:54.326+00:00</td>\n",
       "      <td>victory</td>\n",
       "      <td>fd267378-4d1d-484f-ff52-77821ed10dc2</td>\n",
       "      <td>Pearl</td>\n",
       "      <td>...</td>\n",
       "      <td>121.933333</td>\n",
       "      <td>121.9</td>\n",
       "      <td>85.033333</td>\n",
       "      <td>85.0</td>\n",
       "      <td>30.555556</td>\n",
       "      <td>31</td>\n",
       "      <td>399</td>\n",
       "      <td>27</td>\n",
       "      <td>400</td>\n",
       "      <td>ap</td>\n",
       "    </tr>\n",
       "    <tr>\n",
       "      <th>333834</th>\n",
       "      <td>b321ddb7-7dd1-4ef6-98a4-3f44f5955c87</td>\n",
       "      <td>2022-05-03T09:06:31.729+00:00</td>\n",
       "      <td>defeat</td>\n",
       "      <td>b529448b-4d60-346e-e89e-00a4c527a405</td>\n",
       "      <td>Fracture</td>\n",
       "      <td>https://titles.trackercdn.com/valorant-api/map...</td>\n",
       "      <td>2022-05-03T09:06:31.729+00:00</td>\n",
       "      <td>defeat</td>\n",
       "      <td>b529448b-4d60-346e-e89e-00a4c527a405</td>\n",
       "      <td>Fracture</td>\n",
       "      <td>...</td>\n",
       "      <td>70.652174</td>\n",
       "      <td>70.7</td>\n",
       "      <td>48.869565</td>\n",
       "      <td>48.9</td>\n",
       "      <td>12.500000</td>\n",
       "      <td>12</td>\n",
       "      <td>399</td>\n",
       "      <td>27</td>\n",
       "      <td>400</td>\n",
       "      <td>ap</td>\n",
       "    </tr>\n",
       "  </tbody>\n",
       "</table>\n",
       "<p>333835 rows × 101 columns</p>\n",
       "</div>"
      ],
      "text/plain": [
       "                                     matchId                      timestamp  \\\n",
       "0       7a6df5ad-6c30-4cf7-a999-3816c38980f7  2022-11-08T18:10:05.755+00:00   \n",
       "1       f98c7a4b-9892-4395-995f-bd6fcc261dc9  2022-11-08T17:23:58.171+00:00   \n",
       "2       57ab0df2-5309-4809-93dd-b1a6d24adad1  2022-11-08T16:48:52.583+00:00   \n",
       "3       2b03d90d-24e2-4139-a518-93c9917ad57b   2022-11-08T15:59:51.22+00:00   \n",
       "4       ffc2bcc5-b041-4932-8150-c6cf0df2bad8  2022-11-05T22:17:04.347+00:00   \n",
       "...                                      ...                            ...   \n",
       "333830  5d3e3389-2731-4bb3-bddf-592e23567692  2022-07-21T18:38:24.302+00:00   \n",
       "333831  33110063-8c60-4a04-8b81-08d36fdf6e69  2022-07-21T18:05:55.168+00:00   \n",
       "333832  22f3f7f3-12d4-416b-ae98-681aa7d36c93    2022-07-17T13:39:00.2+00:00   \n",
       "333833  ba6de7a0-2b28-4a3d-b18e-92897e8287a9  2022-07-17T12:48:54.326+00:00   \n",
       "333834  b321ddb7-7dd1-4ef6-98a4-3f44f5955c87  2022-05-03T09:06:31.729+00:00   \n",
       "\n",
       "       metadataResult                                   map   mapName  \\\n",
       "0              defeat  2bee0dc9-4ffe-519b-1cbd-7fbe763a6047     Haven   \n",
       "1             victory  2bee0dc9-4ffe-519b-1cbd-7fbe763a6047     Haven   \n",
       "2              defeat  2c9d57ec-4431-9c5e-2939-8f9ef6dd5cba      Bind   \n",
       "3              defeat  fd267378-4d1d-484f-ff52-77821ed10dc2     Pearl   \n",
       "4              defeat  2fb9a4fd-47b8-4e7d-a969-74b4046ebd53    Breeze   \n",
       "...               ...                                   ...       ...   \n",
       "333830         defeat  7eaecc1b-4337-bbf6-6ab9-04b8f06b3319    Ascent   \n",
       "333831         defeat  2fb9a4fd-47b8-4e7d-a969-74b4046ebd53    Breeze   \n",
       "333832         defeat  2c9d57ec-4431-9c5e-2939-8f9ef6dd5cba      Bind   \n",
       "333833        victory  fd267378-4d1d-484f-ff52-77821ed10dc2     Pearl   \n",
       "333834         defeat  b529448b-4d60-346e-e89e-00a4c527a405  Fracture   \n",
       "\n",
       "                                              mapImageUrl  \\\n",
       "0       https://trackercdn.com/cdn/tracker.gg/valorant...   \n",
       "1       https://trackercdn.com/cdn/tracker.gg/valorant...   \n",
       "2       https://trackercdn.com/cdn/tracker.gg/valorant...   \n",
       "3       https://titles.trackercdn.com/valorant-api/map...   \n",
       "4       https://titles.trackercdn.com/valorant-api/map...   \n",
       "...                                                   ...   \n",
       "333830  https://trackercdn.com/cdn/tracker.gg/valorant...   \n",
       "333831  https://titles.trackercdn.com/valorant-api/map...   \n",
       "333832  https://trackercdn.com/cdn/tracker.gg/valorant...   \n",
       "333833  https://titles.trackercdn.com/valorant-api/map...   \n",
       "333834  https://titles.trackercdn.com/valorant-api/map...   \n",
       "\n",
       "                          timestamp.1 metadataResult.1  \\\n",
       "0       2022-11-08T18:10:05.755+00:00           defeat   \n",
       "1       2022-11-08T17:23:58.171+00:00          victory   \n",
       "2       2022-11-08T16:48:52.583+00:00           defeat   \n",
       "3        2022-11-08T15:59:51.22+00:00           defeat   \n",
       "4       2022-11-05T22:17:04.347+00:00           defeat   \n",
       "...                               ...              ...   \n",
       "333830  2022-07-21T18:38:24.302+00:00           defeat   \n",
       "333831  2022-07-21T18:05:55.168+00:00           defeat   \n",
       "333832    2022-07-17T13:39:00.2+00:00           defeat   \n",
       "333833  2022-07-17T12:48:54.326+00:00          victory   \n",
       "333834  2022-05-03T09:06:31.729+00:00           defeat   \n",
       "\n",
       "                                       map.1 mapName.1  ...  \\\n",
       "0       2bee0dc9-4ffe-519b-1cbd-7fbe763a6047     Haven  ...   \n",
       "1       2bee0dc9-4ffe-519b-1cbd-7fbe763a6047     Haven  ...   \n",
       "2       2c9d57ec-4431-9c5e-2939-8f9ef6dd5cba      Bind  ...   \n",
       "3       fd267378-4d1d-484f-ff52-77821ed10dc2     Pearl  ...   \n",
       "4       2fb9a4fd-47b8-4e7d-a969-74b4046ebd53    Breeze  ...   \n",
       "...                                      ...       ...  ...   \n",
       "333830  7eaecc1b-4337-bbf6-6ab9-04b8f06b3319    Ascent  ...   \n",
       "333831  2fb9a4fd-47b8-4e7d-a969-74b4046ebd53    Breeze  ...   \n",
       "333832  2c9d57ec-4431-9c5e-2939-8f9ef6dd5cba      Bind  ...   \n",
       "333833  fd267378-4d1d-484f-ff52-77821ed10dc2     Pearl  ...   \n",
       "333834  b529448b-4d60-346e-e89e-00a4c527a405  Fracture  ...   \n",
       "\n",
       "       scorePerRoundValue scorePerRoundDisplayValue damagePerRoundValue  \\\n",
       "0              265.619048                     265.6          182.428571   \n",
       "1              192.315789                     192.3          121.263158   \n",
       "2              268.000000                     268.0          167.947368   \n",
       "3              227.416667                     227.4          159.208333   \n",
       "4              216.033333                     216.0          136.300000   \n",
       "...                   ...                       ...                 ...   \n",
       "333830         195.318182                     195.3          129.590909   \n",
       "333831         322.800000                     322.8          202.400000   \n",
       "333832         230.173913                     230.2          135.608696   \n",
       "333833         121.933333                     121.9           85.033333   \n",
       "333834          70.652174                      70.7           48.869565   \n",
       "\n",
       "       damagePerRoundDisplayValue  headshotsPercentageValue  \\\n",
       "0                           182.4                 28.125000   \n",
       "1                           121.3                 25.000000   \n",
       "2                           167.9                 26.530612   \n",
       "3                           159.2                 16.000000   \n",
       "4                           136.3                 32.075472   \n",
       "...                           ...                       ...   \n",
       "333830                      129.6                 14.634146   \n",
       "333831                      202.4                 29.411765   \n",
       "333832                      135.6                 31.250000   \n",
       "333833                       85.0                 30.555556   \n",
       "333834                       48.9                 12.500000   \n",
       "\n",
       "       headshotsPercentageDisplayValue leaderboardRank  competitiveTier  \\\n",
       "0                                   28               2               27   \n",
       "1                                   25               2               27   \n",
       "2                                   27               2               27   \n",
       "3                                   16               2               27   \n",
       "4                                   32               2               27   \n",
       "...                                ...             ...              ...   \n",
       "333830                              15             399               27   \n",
       "333831                              29             399               27   \n",
       "333832                              31             399               27   \n",
       "333833                              31             399               27   \n",
       "333834                              12             399               27   \n",
       "\n",
       "       rankedRating  server  \n",
       "0               902      br  \n",
       "1               902      br  \n",
       "2               902      br  \n",
       "3               902      br  \n",
       "4               902      br  \n",
       "...             ...     ...  \n",
       "333830          400      ap  \n",
       "333831          400      ap  \n",
       "333832          400      ap  \n",
       "333833          400      ap  \n",
       "333834          400      ap  \n",
       "\n",
       "[333835 rows x 101 columns]"
      ]
     },
     "execution_count": 57,
     "metadata": {},
     "output_type": "execute_result"
    }
   ],
   "source": [
    "df_matches_clean = df_matches_raw.dropna(how='all', axis=1)\n",
    "df_matches_clean"
   ]
  },
  {
   "cell_type": "code",
   "execution_count": 58,
   "metadata": {},
   "outputs": [
    {
     "data": {
      "text/html": [
       "<div>\n",
       "<style scoped>\n",
       "    .dataframe tbody tr th:only-of-type {\n",
       "        vertical-align: middle;\n",
       "    }\n",
       "\n",
       "    .dataframe tbody tr th {\n",
       "        vertical-align: top;\n",
       "    }\n",
       "\n",
       "    .dataframe thead th {\n",
       "        text-align: right;\n",
       "    }\n",
       "</style>\n",
       "<table border=\"1\" class=\"dataframe\">\n",
       "  <thead>\n",
       "    <tr style=\"text-align: right;\">\n",
       "      <th></th>\n",
       "      <th>matchId</th>\n",
       "      <th>timestamp</th>\n",
       "      <th>metadataResult</th>\n",
       "      <th>map</th>\n",
       "      <th>mapName</th>\n",
       "      <th>mapImageUrl</th>\n",
       "      <th>timestamp.1</th>\n",
       "      <th>metadataResult.1</th>\n",
       "      <th>map.1</th>\n",
       "      <th>mapName.1</th>\n",
       "      <th>...</th>\n",
       "      <th>scorePerRoundValue</th>\n",
       "      <th>scorePerRoundDisplayValue</th>\n",
       "      <th>damagePerRoundValue</th>\n",
       "      <th>damagePerRoundDisplayValue</th>\n",
       "      <th>headshotsPercentageValue</th>\n",
       "      <th>headshotsPercentageDisplayValue</th>\n",
       "      <th>leaderboardRank</th>\n",
       "      <th>competitiveTier</th>\n",
       "      <th>rankedRating</th>\n",
       "      <th>server</th>\n",
       "    </tr>\n",
       "  </thead>\n",
       "  <tbody>\n",
       "    <tr>\n",
       "      <th>0</th>\n",
       "      <td>7a6df5ad-6c30-4cf7-a999-3816c38980f7</td>\n",
       "      <td>2022-11-08T18:10:05.755+00:00</td>\n",
       "      <td>defeat</td>\n",
       "      <td>2bee0dc9-4ffe-519b-1cbd-7fbe763a6047</td>\n",
       "      <td>Haven</td>\n",
       "      <td>https://trackercdn.com/cdn/tracker.gg/valorant...</td>\n",
       "      <td>2022-11-08T18:10:05.755+00:00</td>\n",
       "      <td>defeat</td>\n",
       "      <td>2bee0dc9-4ffe-519b-1cbd-7fbe763a6047</td>\n",
       "      <td>Haven</td>\n",
       "      <td>...</td>\n",
       "      <td>265.619048</td>\n",
       "      <td>265.6</td>\n",
       "      <td>182.428571</td>\n",
       "      <td>182.4</td>\n",
       "      <td>28.125000</td>\n",
       "      <td>28</td>\n",
       "      <td>2</td>\n",
       "      <td>27</td>\n",
       "      <td>902</td>\n",
       "      <td>br</td>\n",
       "    </tr>\n",
       "    <tr>\n",
       "      <th>1</th>\n",
       "      <td>f98c7a4b-9892-4395-995f-bd6fcc261dc9</td>\n",
       "      <td>2022-11-08T17:23:58.171+00:00</td>\n",
       "      <td>victory</td>\n",
       "      <td>2bee0dc9-4ffe-519b-1cbd-7fbe763a6047</td>\n",
       "      <td>Haven</td>\n",
       "      <td>https://trackercdn.com/cdn/tracker.gg/valorant...</td>\n",
       "      <td>2022-11-08T17:23:58.171+00:00</td>\n",
       "      <td>victory</td>\n",
       "      <td>2bee0dc9-4ffe-519b-1cbd-7fbe763a6047</td>\n",
       "      <td>Haven</td>\n",
       "      <td>...</td>\n",
       "      <td>192.315789</td>\n",
       "      <td>192.3</td>\n",
       "      <td>121.263158</td>\n",
       "      <td>121.3</td>\n",
       "      <td>25.000000</td>\n",
       "      <td>25</td>\n",
       "      <td>2</td>\n",
       "      <td>27</td>\n",
       "      <td>902</td>\n",
       "      <td>br</td>\n",
       "    </tr>\n",
       "    <tr>\n",
       "      <th>2</th>\n",
       "      <td>57ab0df2-5309-4809-93dd-b1a6d24adad1</td>\n",
       "      <td>2022-11-08T16:48:52.583+00:00</td>\n",
       "      <td>defeat</td>\n",
       "      <td>2c9d57ec-4431-9c5e-2939-8f9ef6dd5cba</td>\n",
       "      <td>Bind</td>\n",
       "      <td>https://trackercdn.com/cdn/tracker.gg/valorant...</td>\n",
       "      <td>2022-11-08T16:48:52.583+00:00</td>\n",
       "      <td>defeat</td>\n",
       "      <td>2c9d57ec-4431-9c5e-2939-8f9ef6dd5cba</td>\n",
       "      <td>Bind</td>\n",
       "      <td>...</td>\n",
       "      <td>268.000000</td>\n",
       "      <td>268.0</td>\n",
       "      <td>167.947368</td>\n",
       "      <td>167.9</td>\n",
       "      <td>26.530612</td>\n",
       "      <td>27</td>\n",
       "      <td>2</td>\n",
       "      <td>27</td>\n",
       "      <td>902</td>\n",
       "      <td>br</td>\n",
       "    </tr>\n",
       "    <tr>\n",
       "      <th>3</th>\n",
       "      <td>2b03d90d-24e2-4139-a518-93c9917ad57b</td>\n",
       "      <td>2022-11-08T15:59:51.22+00:00</td>\n",
       "      <td>defeat</td>\n",
       "      <td>fd267378-4d1d-484f-ff52-77821ed10dc2</td>\n",
       "      <td>Pearl</td>\n",
       "      <td>https://titles.trackercdn.com/valorant-api/map...</td>\n",
       "      <td>2022-11-08T15:59:51.22+00:00</td>\n",
       "      <td>defeat</td>\n",
       "      <td>fd267378-4d1d-484f-ff52-77821ed10dc2</td>\n",
       "      <td>Pearl</td>\n",
       "      <td>...</td>\n",
       "      <td>227.416667</td>\n",
       "      <td>227.4</td>\n",
       "      <td>159.208333</td>\n",
       "      <td>159.2</td>\n",
       "      <td>16.000000</td>\n",
       "      <td>16</td>\n",
       "      <td>2</td>\n",
       "      <td>27</td>\n",
       "      <td>902</td>\n",
       "      <td>br</td>\n",
       "    </tr>\n",
       "    <tr>\n",
       "      <th>4</th>\n",
       "      <td>ffc2bcc5-b041-4932-8150-c6cf0df2bad8</td>\n",
       "      <td>2022-11-05T22:17:04.347+00:00</td>\n",
       "      <td>defeat</td>\n",
       "      <td>2fb9a4fd-47b8-4e7d-a969-74b4046ebd53</td>\n",
       "      <td>Breeze</td>\n",
       "      <td>https://titles.trackercdn.com/valorant-api/map...</td>\n",
       "      <td>2022-11-05T22:17:04.347+00:00</td>\n",
       "      <td>defeat</td>\n",
       "      <td>2fb9a4fd-47b8-4e7d-a969-74b4046ebd53</td>\n",
       "      <td>Breeze</td>\n",
       "      <td>...</td>\n",
       "      <td>216.033333</td>\n",
       "      <td>216.0</td>\n",
       "      <td>136.300000</td>\n",
       "      <td>136.3</td>\n",
       "      <td>32.075472</td>\n",
       "      <td>32</td>\n",
       "      <td>2</td>\n",
       "      <td>27</td>\n",
       "      <td>902</td>\n",
       "      <td>br</td>\n",
       "    </tr>\n",
       "    <tr>\n",
       "      <th>...</th>\n",
       "      <td>...</td>\n",
       "      <td>...</td>\n",
       "      <td>...</td>\n",
       "      <td>...</td>\n",
       "      <td>...</td>\n",
       "      <td>...</td>\n",
       "      <td>...</td>\n",
       "      <td>...</td>\n",
       "      <td>...</td>\n",
       "      <td>...</td>\n",
       "      <td>...</td>\n",
       "      <td>...</td>\n",
       "      <td>...</td>\n",
       "      <td>...</td>\n",
       "      <td>...</td>\n",
       "      <td>...</td>\n",
       "      <td>...</td>\n",
       "      <td>...</td>\n",
       "      <td>...</td>\n",
       "      <td>...</td>\n",
       "      <td>...</td>\n",
       "    </tr>\n",
       "    <tr>\n",
       "      <th>209423</th>\n",
       "      <td>5d3e3389-2731-4bb3-bddf-592e23567692</td>\n",
       "      <td>2022-07-21T18:38:24.302+00:00</td>\n",
       "      <td>defeat</td>\n",
       "      <td>7eaecc1b-4337-bbf6-6ab9-04b8f06b3319</td>\n",
       "      <td>Ascent</td>\n",
       "      <td>https://trackercdn.com/cdn/tracker.gg/valorant...</td>\n",
       "      <td>2022-07-21T18:38:24.302+00:00</td>\n",
       "      <td>defeat</td>\n",
       "      <td>7eaecc1b-4337-bbf6-6ab9-04b8f06b3319</td>\n",
       "      <td>Ascent</td>\n",
       "      <td>...</td>\n",
       "      <td>195.318182</td>\n",
       "      <td>195.3</td>\n",
       "      <td>129.590909</td>\n",
       "      <td>129.6</td>\n",
       "      <td>14.634146</td>\n",
       "      <td>15</td>\n",
       "      <td>399</td>\n",
       "      <td>27</td>\n",
       "      <td>400</td>\n",
       "      <td>ap</td>\n",
       "    </tr>\n",
       "    <tr>\n",
       "      <th>209424</th>\n",
       "      <td>33110063-8c60-4a04-8b81-08d36fdf6e69</td>\n",
       "      <td>2022-07-21T18:05:55.168+00:00</td>\n",
       "      <td>defeat</td>\n",
       "      <td>2fb9a4fd-47b8-4e7d-a969-74b4046ebd53</td>\n",
       "      <td>Breeze</td>\n",
       "      <td>https://titles.trackercdn.com/valorant-api/map...</td>\n",
       "      <td>2022-07-21T18:05:55.168+00:00</td>\n",
       "      <td>defeat</td>\n",
       "      <td>2fb9a4fd-47b8-4e7d-a969-74b4046ebd53</td>\n",
       "      <td>Breeze</td>\n",
       "      <td>...</td>\n",
       "      <td>322.800000</td>\n",
       "      <td>322.8</td>\n",
       "      <td>202.400000</td>\n",
       "      <td>202.4</td>\n",
       "      <td>29.411765</td>\n",
       "      <td>29</td>\n",
       "      <td>399</td>\n",
       "      <td>27</td>\n",
       "      <td>400</td>\n",
       "      <td>ap</td>\n",
       "    </tr>\n",
       "    <tr>\n",
       "      <th>209425</th>\n",
       "      <td>22f3f7f3-12d4-416b-ae98-681aa7d36c93</td>\n",
       "      <td>2022-07-17T13:39:00.2+00:00</td>\n",
       "      <td>defeat</td>\n",
       "      <td>2c9d57ec-4431-9c5e-2939-8f9ef6dd5cba</td>\n",
       "      <td>Bind</td>\n",
       "      <td>https://trackercdn.com/cdn/tracker.gg/valorant...</td>\n",
       "      <td>2022-07-17T13:39:00.2+00:00</td>\n",
       "      <td>defeat</td>\n",
       "      <td>2c9d57ec-4431-9c5e-2939-8f9ef6dd5cba</td>\n",
       "      <td>Bind</td>\n",
       "      <td>...</td>\n",
       "      <td>230.173913</td>\n",
       "      <td>230.2</td>\n",
       "      <td>135.608696</td>\n",
       "      <td>135.6</td>\n",
       "      <td>31.250000</td>\n",
       "      <td>31</td>\n",
       "      <td>399</td>\n",
       "      <td>27</td>\n",
       "      <td>400</td>\n",
       "      <td>ap</td>\n",
       "    </tr>\n",
       "    <tr>\n",
       "      <th>209426</th>\n",
       "      <td>ba6de7a0-2b28-4a3d-b18e-92897e8287a9</td>\n",
       "      <td>2022-07-17T12:48:54.326+00:00</td>\n",
       "      <td>victory</td>\n",
       "      <td>fd267378-4d1d-484f-ff52-77821ed10dc2</td>\n",
       "      <td>Pearl</td>\n",
       "      <td>https://titles.trackercdn.com/valorant-api/map...</td>\n",
       "      <td>2022-07-17T12:48:54.326+00:00</td>\n",
       "      <td>victory</td>\n",
       "      <td>fd267378-4d1d-484f-ff52-77821ed10dc2</td>\n",
       "      <td>Pearl</td>\n",
       "      <td>...</td>\n",
       "      <td>121.933333</td>\n",
       "      <td>121.9</td>\n",
       "      <td>85.033333</td>\n",
       "      <td>85.0</td>\n",
       "      <td>30.555556</td>\n",
       "      <td>31</td>\n",
       "      <td>399</td>\n",
       "      <td>27</td>\n",
       "      <td>400</td>\n",
       "      <td>ap</td>\n",
       "    </tr>\n",
       "    <tr>\n",
       "      <th>209427</th>\n",
       "      <td>b321ddb7-7dd1-4ef6-98a4-3f44f5955c87</td>\n",
       "      <td>2022-05-03T09:06:31.729+00:00</td>\n",
       "      <td>defeat</td>\n",
       "      <td>b529448b-4d60-346e-e89e-00a4c527a405</td>\n",
       "      <td>Fracture</td>\n",
       "      <td>https://titles.trackercdn.com/valorant-api/map...</td>\n",
       "      <td>2022-05-03T09:06:31.729+00:00</td>\n",
       "      <td>defeat</td>\n",
       "      <td>b529448b-4d60-346e-e89e-00a4c527a405</td>\n",
       "      <td>Fracture</td>\n",
       "      <td>...</td>\n",
       "      <td>70.652174</td>\n",
       "      <td>70.7</td>\n",
       "      <td>48.869565</td>\n",
       "      <td>48.9</td>\n",
       "      <td>12.500000</td>\n",
       "      <td>12</td>\n",
       "      <td>399</td>\n",
       "      <td>27</td>\n",
       "      <td>400</td>\n",
       "      <td>ap</td>\n",
       "    </tr>\n",
       "  </tbody>\n",
       "</table>\n",
       "<p>209428 rows × 101 columns</p>\n",
       "</div>"
      ],
      "text/plain": [
       "                                     matchId                      timestamp  \\\n",
       "0       7a6df5ad-6c30-4cf7-a999-3816c38980f7  2022-11-08T18:10:05.755+00:00   \n",
       "1       f98c7a4b-9892-4395-995f-bd6fcc261dc9  2022-11-08T17:23:58.171+00:00   \n",
       "2       57ab0df2-5309-4809-93dd-b1a6d24adad1  2022-11-08T16:48:52.583+00:00   \n",
       "3       2b03d90d-24e2-4139-a518-93c9917ad57b   2022-11-08T15:59:51.22+00:00   \n",
       "4       ffc2bcc5-b041-4932-8150-c6cf0df2bad8  2022-11-05T22:17:04.347+00:00   \n",
       "...                                      ...                            ...   \n",
       "209423  5d3e3389-2731-4bb3-bddf-592e23567692  2022-07-21T18:38:24.302+00:00   \n",
       "209424  33110063-8c60-4a04-8b81-08d36fdf6e69  2022-07-21T18:05:55.168+00:00   \n",
       "209425  22f3f7f3-12d4-416b-ae98-681aa7d36c93    2022-07-17T13:39:00.2+00:00   \n",
       "209426  ba6de7a0-2b28-4a3d-b18e-92897e8287a9  2022-07-17T12:48:54.326+00:00   \n",
       "209427  b321ddb7-7dd1-4ef6-98a4-3f44f5955c87  2022-05-03T09:06:31.729+00:00   \n",
       "\n",
       "       metadataResult                                   map   mapName  \\\n",
       "0              defeat  2bee0dc9-4ffe-519b-1cbd-7fbe763a6047     Haven   \n",
       "1             victory  2bee0dc9-4ffe-519b-1cbd-7fbe763a6047     Haven   \n",
       "2              defeat  2c9d57ec-4431-9c5e-2939-8f9ef6dd5cba      Bind   \n",
       "3              defeat  fd267378-4d1d-484f-ff52-77821ed10dc2     Pearl   \n",
       "4              defeat  2fb9a4fd-47b8-4e7d-a969-74b4046ebd53    Breeze   \n",
       "...               ...                                   ...       ...   \n",
       "209423         defeat  7eaecc1b-4337-bbf6-6ab9-04b8f06b3319    Ascent   \n",
       "209424         defeat  2fb9a4fd-47b8-4e7d-a969-74b4046ebd53    Breeze   \n",
       "209425         defeat  2c9d57ec-4431-9c5e-2939-8f9ef6dd5cba      Bind   \n",
       "209426        victory  fd267378-4d1d-484f-ff52-77821ed10dc2     Pearl   \n",
       "209427         defeat  b529448b-4d60-346e-e89e-00a4c527a405  Fracture   \n",
       "\n",
       "                                              mapImageUrl  \\\n",
       "0       https://trackercdn.com/cdn/tracker.gg/valorant...   \n",
       "1       https://trackercdn.com/cdn/tracker.gg/valorant...   \n",
       "2       https://trackercdn.com/cdn/tracker.gg/valorant...   \n",
       "3       https://titles.trackercdn.com/valorant-api/map...   \n",
       "4       https://titles.trackercdn.com/valorant-api/map...   \n",
       "...                                                   ...   \n",
       "209423  https://trackercdn.com/cdn/tracker.gg/valorant...   \n",
       "209424  https://titles.trackercdn.com/valorant-api/map...   \n",
       "209425  https://trackercdn.com/cdn/tracker.gg/valorant...   \n",
       "209426  https://titles.trackercdn.com/valorant-api/map...   \n",
       "209427  https://titles.trackercdn.com/valorant-api/map...   \n",
       "\n",
       "                          timestamp.1 metadataResult.1  \\\n",
       "0       2022-11-08T18:10:05.755+00:00           defeat   \n",
       "1       2022-11-08T17:23:58.171+00:00          victory   \n",
       "2       2022-11-08T16:48:52.583+00:00           defeat   \n",
       "3        2022-11-08T15:59:51.22+00:00           defeat   \n",
       "4       2022-11-05T22:17:04.347+00:00           defeat   \n",
       "...                               ...              ...   \n",
       "209423  2022-07-21T18:38:24.302+00:00           defeat   \n",
       "209424  2022-07-21T18:05:55.168+00:00           defeat   \n",
       "209425    2022-07-17T13:39:00.2+00:00           defeat   \n",
       "209426  2022-07-17T12:48:54.326+00:00          victory   \n",
       "209427  2022-05-03T09:06:31.729+00:00           defeat   \n",
       "\n",
       "                                       map.1 mapName.1  ...  \\\n",
       "0       2bee0dc9-4ffe-519b-1cbd-7fbe763a6047     Haven  ...   \n",
       "1       2bee0dc9-4ffe-519b-1cbd-7fbe763a6047     Haven  ...   \n",
       "2       2c9d57ec-4431-9c5e-2939-8f9ef6dd5cba      Bind  ...   \n",
       "3       fd267378-4d1d-484f-ff52-77821ed10dc2     Pearl  ...   \n",
       "4       2fb9a4fd-47b8-4e7d-a969-74b4046ebd53    Breeze  ...   \n",
       "...                                      ...       ...  ...   \n",
       "209423  7eaecc1b-4337-bbf6-6ab9-04b8f06b3319    Ascent  ...   \n",
       "209424  2fb9a4fd-47b8-4e7d-a969-74b4046ebd53    Breeze  ...   \n",
       "209425  2c9d57ec-4431-9c5e-2939-8f9ef6dd5cba      Bind  ...   \n",
       "209426  fd267378-4d1d-484f-ff52-77821ed10dc2     Pearl  ...   \n",
       "209427  b529448b-4d60-346e-e89e-00a4c527a405  Fracture  ...   \n",
       "\n",
       "       scorePerRoundValue scorePerRoundDisplayValue damagePerRoundValue  \\\n",
       "0              265.619048                     265.6          182.428571   \n",
       "1              192.315789                     192.3          121.263158   \n",
       "2              268.000000                     268.0          167.947368   \n",
       "3              227.416667                     227.4          159.208333   \n",
       "4              216.033333                     216.0          136.300000   \n",
       "...                   ...                       ...                 ...   \n",
       "209423         195.318182                     195.3          129.590909   \n",
       "209424         322.800000                     322.8          202.400000   \n",
       "209425         230.173913                     230.2          135.608696   \n",
       "209426         121.933333                     121.9           85.033333   \n",
       "209427          70.652174                      70.7           48.869565   \n",
       "\n",
       "       damagePerRoundDisplayValue  headshotsPercentageValue  \\\n",
       "0                           182.4                 28.125000   \n",
       "1                           121.3                 25.000000   \n",
       "2                           167.9                 26.530612   \n",
       "3                           159.2                 16.000000   \n",
       "4                           136.3                 32.075472   \n",
       "...                           ...                       ...   \n",
       "209423                      129.6                 14.634146   \n",
       "209424                      202.4                 29.411765   \n",
       "209425                      135.6                 31.250000   \n",
       "209426                       85.0                 30.555556   \n",
       "209427                       48.9                 12.500000   \n",
       "\n",
       "       headshotsPercentageDisplayValue leaderboardRank  competitiveTier  \\\n",
       "0                                   28               2               27   \n",
       "1                                   25               2               27   \n",
       "2                                   27               2               27   \n",
       "3                                   16               2               27   \n",
       "4                                   32               2               27   \n",
       "...                                ...             ...              ...   \n",
       "209423                              15             399               27   \n",
       "209424                              29             399               27   \n",
       "209425                              31             399               27   \n",
       "209426                              31             399               27   \n",
       "209427                              12             399               27   \n",
       "\n",
       "       rankedRating  server  \n",
       "0               902      br  \n",
       "1               902      br  \n",
       "2               902      br  \n",
       "3               902      br  \n",
       "4               902      br  \n",
       "...             ...     ...  \n",
       "209423          400      ap  \n",
       "209424          400      ap  \n",
       "209425          400      ap  \n",
       "209426          400      ap  \n",
       "209427          400      ap  \n",
       "\n",
       "[209428 rows x 101 columns]"
      ]
     },
     "execution_count": 58,
     "metadata": {},
     "output_type": "execute_result"
    }
   ],
   "source": [
    "df_matches_clean.drop_duplicates('matchId',inplace=True)\n",
    "df_matches_clean = df_matches_clean.reset_index(drop = True)\n",
    "df_matches_clean"
   ]
  },
  {
   "cell_type": "code",
   "execution_count": 60,
   "metadata": {},
   "outputs": [
    {
     "name": "stdout",
     "output_type": "stream",
     "text": [
      "Total lines is: 209428 \n",
      "Total columns is: 101\n"
     ]
    }
   ],
   "source": [
    "row_num = df_matches_clean.shape[0]\n",
    "col_num = df_matches_clean.shape[1]\n",
    "print('Total lines is: {} \\nTotal columns is: {}'.format(row_num, col_num))"
   ]
  },
  {
   "cell_type": "code",
   "execution_count": 63,
   "metadata": {},
   "outputs": [
    {
     "data": {
      "text/plain": [
       "209428"
      ]
     },
     "execution_count": 63,
     "metadata": {},
     "output_type": "execute_result"
    }
   ],
   "source": [
    "num_matches=df_matches_clean['matchId'].nunique()\n",
    "num_matches"
   ]
  },
  {
   "cell_type": "code",
   "execution_count": 64,
   "metadata": {},
   "outputs": [
    {
     "data": {
      "text/plain": [
       "1869"
      ]
     },
     "execution_count": 64,
     "metadata": {},
     "output_type": "execute_result"
    }
   ],
   "source": [
    "num_playes=df_matches_clean['nickNameFull'].nunique()\n",
    "num_playes"
   ]
  },
  {
   "cell_type": "code",
   "execution_count": 70,
   "metadata": {},
   "outputs": [
    {
     "data": {
      "text/html": [
       "<div>\n",
       "<style scoped>\n",
       "    .dataframe tbody tr th:only-of-type {\n",
       "        vertical-align: middle;\n",
       "    }\n",
       "\n",
       "    .dataframe tbody tr th {\n",
       "        vertical-align: top;\n",
       "    }\n",
       "\n",
       "    .dataframe thead th {\n",
       "        text-align: right;\n",
       "    }\n",
       "</style>\n",
       "<table border=\"1\" class=\"dataframe\">\n",
       "  <thead>\n",
       "    <tr style=\"text-align: right;\">\n",
       "      <th></th>\n",
       "      <th>nickNameFull</th>\n",
       "      <th>matchId</th>\n",
       "      <th>timestamp</th>\n",
       "      <th>metadataResult</th>\n",
       "      <th>map</th>\n",
       "      <th>mapName</th>\n",
       "      <th>mapImageUrl</th>\n",
       "      <th>seasonName</th>\n",
       "      <th>userId</th>\n",
       "      <th>hasWon</th>\n",
       "      <th>result</th>\n",
       "      <th>agentName</th>\n",
       "    </tr>\n",
       "  </thead>\n",
       "  <tbody>\n",
       "    <tr>\n",
       "      <th>0</th>\n",
       "      <td>NIP cauanzin%232233</td>\n",
       "      <td>7a6df5ad-6c30-4cf7-a999-3816c38980f7</td>\n",
       "      <td>2022-11-08T18:10:05.755+00:00</td>\n",
       "      <td>defeat</td>\n",
       "      <td>2bee0dc9-4ffe-519b-1cbd-7fbe763a6047</td>\n",
       "      <td>Haven</td>\n",
       "      <td>https://trackercdn.com/cdn/tracker.gg/valorant...</td>\n",
       "      <td>E5: A3</td>\n",
       "      <td>NIP cauanzin#2233</td>\n",
       "      <td>False</td>\n",
       "      <td>defeat</td>\n",
       "      <td>Fade</td>\n",
       "    </tr>\n",
       "    <tr>\n",
       "      <th>1</th>\n",
       "      <td>NIP cauanzin%232233</td>\n",
       "      <td>f98c7a4b-9892-4395-995f-bd6fcc261dc9</td>\n",
       "      <td>2022-11-08T17:23:58.171+00:00</td>\n",
       "      <td>victory</td>\n",
       "      <td>2bee0dc9-4ffe-519b-1cbd-7fbe763a6047</td>\n",
       "      <td>Haven</td>\n",
       "      <td>https://trackercdn.com/cdn/tracker.gg/valorant...</td>\n",
       "      <td>E5: A3</td>\n",
       "      <td>NIP cauanzin#2233</td>\n",
       "      <td>True</td>\n",
       "      <td>victory</td>\n",
       "      <td>Fade</td>\n",
       "    </tr>\n",
       "    <tr>\n",
       "      <th>2</th>\n",
       "      <td>NIP cauanzin%232233</td>\n",
       "      <td>57ab0df2-5309-4809-93dd-b1a6d24adad1</td>\n",
       "      <td>2022-11-08T16:48:52.583+00:00</td>\n",
       "      <td>defeat</td>\n",
       "      <td>2c9d57ec-4431-9c5e-2939-8f9ef6dd5cba</td>\n",
       "      <td>Bind</td>\n",
       "      <td>https://trackercdn.com/cdn/tracker.gg/valorant...</td>\n",
       "      <td>E5: A3</td>\n",
       "      <td>NIP cauanzin#2233</td>\n",
       "      <td>False</td>\n",
       "      <td>defeat</td>\n",
       "      <td>Skye</td>\n",
       "    </tr>\n",
       "    <tr>\n",
       "      <th>3</th>\n",
       "      <td>NIP cauanzin%232233</td>\n",
       "      <td>2b03d90d-24e2-4139-a518-93c9917ad57b</td>\n",
       "      <td>2022-11-08T15:59:51.22+00:00</td>\n",
       "      <td>defeat</td>\n",
       "      <td>fd267378-4d1d-484f-ff52-77821ed10dc2</td>\n",
       "      <td>Pearl</td>\n",
       "      <td>https://titles.trackercdn.com/valorant-api/map...</td>\n",
       "      <td>E5: A3</td>\n",
       "      <td>NIP cauanzin#2233</td>\n",
       "      <td>False</td>\n",
       "      <td>defeat</td>\n",
       "      <td>Fade</td>\n",
       "    </tr>\n",
       "    <tr>\n",
       "      <th>4</th>\n",
       "      <td>NIP cauanzin%232233</td>\n",
       "      <td>ffc2bcc5-b041-4932-8150-c6cf0df2bad8</td>\n",
       "      <td>2022-11-05T22:17:04.347+00:00</td>\n",
       "      <td>defeat</td>\n",
       "      <td>2fb9a4fd-47b8-4e7d-a969-74b4046ebd53</td>\n",
       "      <td>Breeze</td>\n",
       "      <td>https://titles.trackercdn.com/valorant-api/map...</td>\n",
       "      <td>E5: A3</td>\n",
       "      <td>NIP cauanzin#2233</td>\n",
       "      <td>False</td>\n",
       "      <td>defeat</td>\n",
       "      <td>Sova</td>\n",
       "    </tr>\n",
       "    <tr>\n",
       "      <th>...</th>\n",
       "      <td>...</td>\n",
       "      <td>...</td>\n",
       "      <td>...</td>\n",
       "      <td>...</td>\n",
       "      <td>...</td>\n",
       "      <td>...</td>\n",
       "      <td>...</td>\n",
       "      <td>...</td>\n",
       "      <td>...</td>\n",
       "      <td>...</td>\n",
       "      <td>...</td>\n",
       "      <td>...</td>\n",
       "    </tr>\n",
       "    <tr>\n",
       "      <th>209423</th>\n",
       "      <td>machoke%23mepls</td>\n",
       "      <td>5d3e3389-2731-4bb3-bddf-592e23567692</td>\n",
       "      <td>2022-07-21T18:38:24.302+00:00</td>\n",
       "      <td>defeat</td>\n",
       "      <td>7eaecc1b-4337-bbf6-6ab9-04b8f06b3319</td>\n",
       "      <td>Ascent</td>\n",
       "      <td>https://trackercdn.com/cdn/tracker.gg/valorant...</td>\n",
       "      <td>E5: A1</td>\n",
       "      <td>machoke#mepls</td>\n",
       "      <td>False</td>\n",
       "      <td>defeat</td>\n",
       "      <td>Jett</td>\n",
       "    </tr>\n",
       "    <tr>\n",
       "      <th>209424</th>\n",
       "      <td>machoke%23mepls</td>\n",
       "      <td>33110063-8c60-4a04-8b81-08d36fdf6e69</td>\n",
       "      <td>2022-07-21T18:05:55.168+00:00</td>\n",
       "      <td>defeat</td>\n",
       "      <td>2fb9a4fd-47b8-4e7d-a969-74b4046ebd53</td>\n",
       "      <td>Breeze</td>\n",
       "      <td>https://titles.trackercdn.com/valorant-api/map...</td>\n",
       "      <td>E5: A1</td>\n",
       "      <td>machoke#mepls</td>\n",
       "      <td>False</td>\n",
       "      <td>defeat</td>\n",
       "      <td>Jett</td>\n",
       "    </tr>\n",
       "    <tr>\n",
       "      <th>209425</th>\n",
       "      <td>machoke%23mepls</td>\n",
       "      <td>22f3f7f3-12d4-416b-ae98-681aa7d36c93</td>\n",
       "      <td>2022-07-17T13:39:00.2+00:00</td>\n",
       "      <td>defeat</td>\n",
       "      <td>2c9d57ec-4431-9c5e-2939-8f9ef6dd5cba</td>\n",
       "      <td>Bind</td>\n",
       "      <td>https://trackercdn.com/cdn/tracker.gg/valorant...</td>\n",
       "      <td>E5: A1</td>\n",
       "      <td>machoke#mepls</td>\n",
       "      <td>False</td>\n",
       "      <td>defeat</td>\n",
       "      <td>Skye</td>\n",
       "    </tr>\n",
       "    <tr>\n",
       "      <th>209426</th>\n",
       "      <td>machoke%23mepls</td>\n",
       "      <td>ba6de7a0-2b28-4a3d-b18e-92897e8287a9</td>\n",
       "      <td>2022-07-17T12:48:54.326+00:00</td>\n",
       "      <td>victory</td>\n",
       "      <td>fd267378-4d1d-484f-ff52-77821ed10dc2</td>\n",
       "      <td>Pearl</td>\n",
       "      <td>https://titles.trackercdn.com/valorant-api/map...</td>\n",
       "      <td>E5: A1</td>\n",
       "      <td>machoke#mepls</td>\n",
       "      <td>True</td>\n",
       "      <td>victory</td>\n",
       "      <td>Brimstone</td>\n",
       "    </tr>\n",
       "    <tr>\n",
       "      <th>209427</th>\n",
       "      <td>machoke%23mepls</td>\n",
       "      <td>b321ddb7-7dd1-4ef6-98a4-3f44f5955c87</td>\n",
       "      <td>2022-05-03T09:06:31.729+00:00</td>\n",
       "      <td>defeat</td>\n",
       "      <td>b529448b-4d60-346e-e89e-00a4c527a405</td>\n",
       "      <td>Fracture</td>\n",
       "      <td>https://titles.trackercdn.com/valorant-api/map...</td>\n",
       "      <td>E4: A3</td>\n",
       "      <td>machoke#mepls</td>\n",
       "      <td>False</td>\n",
       "      <td>defeat</td>\n",
       "      <td>Viper</td>\n",
       "    </tr>\n",
       "  </tbody>\n",
       "</table>\n",
       "<p>209428 rows × 12 columns</p>\n",
       "</div>"
      ],
      "text/plain": [
       "               nickNameFull                               matchId  \\\n",
       "0       NIP cauanzin%232233  7a6df5ad-6c30-4cf7-a999-3816c38980f7   \n",
       "1       NIP cauanzin%232233  f98c7a4b-9892-4395-995f-bd6fcc261dc9   \n",
       "2       NIP cauanzin%232233  57ab0df2-5309-4809-93dd-b1a6d24adad1   \n",
       "3       NIP cauanzin%232233  2b03d90d-24e2-4139-a518-93c9917ad57b   \n",
       "4       NIP cauanzin%232233  ffc2bcc5-b041-4932-8150-c6cf0df2bad8   \n",
       "...                     ...                                   ...   \n",
       "209423      machoke%23mepls  5d3e3389-2731-4bb3-bddf-592e23567692   \n",
       "209424      machoke%23mepls  33110063-8c60-4a04-8b81-08d36fdf6e69   \n",
       "209425      machoke%23mepls  22f3f7f3-12d4-416b-ae98-681aa7d36c93   \n",
       "209426      machoke%23mepls  ba6de7a0-2b28-4a3d-b18e-92897e8287a9   \n",
       "209427      machoke%23mepls  b321ddb7-7dd1-4ef6-98a4-3f44f5955c87   \n",
       "\n",
       "                            timestamp metadataResult  \\\n",
       "0       2022-11-08T18:10:05.755+00:00         defeat   \n",
       "1       2022-11-08T17:23:58.171+00:00        victory   \n",
       "2       2022-11-08T16:48:52.583+00:00         defeat   \n",
       "3        2022-11-08T15:59:51.22+00:00         defeat   \n",
       "4       2022-11-05T22:17:04.347+00:00         defeat   \n",
       "...                               ...            ...   \n",
       "209423  2022-07-21T18:38:24.302+00:00         defeat   \n",
       "209424  2022-07-21T18:05:55.168+00:00         defeat   \n",
       "209425    2022-07-17T13:39:00.2+00:00         defeat   \n",
       "209426  2022-07-17T12:48:54.326+00:00        victory   \n",
       "209427  2022-05-03T09:06:31.729+00:00         defeat   \n",
       "\n",
       "                                         map   mapName  \\\n",
       "0       2bee0dc9-4ffe-519b-1cbd-7fbe763a6047     Haven   \n",
       "1       2bee0dc9-4ffe-519b-1cbd-7fbe763a6047     Haven   \n",
       "2       2c9d57ec-4431-9c5e-2939-8f9ef6dd5cba      Bind   \n",
       "3       fd267378-4d1d-484f-ff52-77821ed10dc2     Pearl   \n",
       "4       2fb9a4fd-47b8-4e7d-a969-74b4046ebd53    Breeze   \n",
       "...                                      ...       ...   \n",
       "209423  7eaecc1b-4337-bbf6-6ab9-04b8f06b3319    Ascent   \n",
       "209424  2fb9a4fd-47b8-4e7d-a969-74b4046ebd53    Breeze   \n",
       "209425  2c9d57ec-4431-9c5e-2939-8f9ef6dd5cba      Bind   \n",
       "209426  fd267378-4d1d-484f-ff52-77821ed10dc2     Pearl   \n",
       "209427  b529448b-4d60-346e-e89e-00a4c527a405  Fracture   \n",
       "\n",
       "                                              mapImageUrl seasonName  \\\n",
       "0       https://trackercdn.com/cdn/tracker.gg/valorant...     E5: A3   \n",
       "1       https://trackercdn.com/cdn/tracker.gg/valorant...     E5: A3   \n",
       "2       https://trackercdn.com/cdn/tracker.gg/valorant...     E5: A3   \n",
       "3       https://titles.trackercdn.com/valorant-api/map...     E5: A3   \n",
       "4       https://titles.trackercdn.com/valorant-api/map...     E5: A3   \n",
       "...                                                   ...        ...   \n",
       "209423  https://trackercdn.com/cdn/tracker.gg/valorant...     E5: A1   \n",
       "209424  https://titles.trackercdn.com/valorant-api/map...     E5: A1   \n",
       "209425  https://trackercdn.com/cdn/tracker.gg/valorant...     E5: A1   \n",
       "209426  https://titles.trackercdn.com/valorant-api/map...     E5: A1   \n",
       "209427  https://titles.trackercdn.com/valorant-api/map...     E4: A3   \n",
       "\n",
       "                   userId  hasWon   result  agentName  \n",
       "0       NIP cauanzin#2233   False   defeat       Fade  \n",
       "1       NIP cauanzin#2233    True  victory       Fade  \n",
       "2       NIP cauanzin#2233   False   defeat       Skye  \n",
       "3       NIP cauanzin#2233   False   defeat       Fade  \n",
       "4       NIP cauanzin#2233   False   defeat       Sova  \n",
       "...                   ...     ...      ...        ...  \n",
       "209423      machoke#mepls   False   defeat       Jett  \n",
       "209424      machoke#mepls   False   defeat       Jett  \n",
       "209425      machoke#mepls   False   defeat       Skye  \n",
       "209426      machoke#mepls    True  victory  Brimstone  \n",
       "209427      machoke#mepls   False   defeat      Viper  \n",
       "\n",
       "[209428 rows x 12 columns]"
      ]
     },
     "execution_count": 70,
     "metadata": {},
     "output_type": "execute_result"
    }
   ],
   "source": [
    "df_cat_features = df_matches_clean[['matchId', 'nickNameFull','modeName','modeImageUrl','modeMaxRounds','timestamp','metadataResult','map','mapName','mapImageUrl','seasonName','userId',\n",
    "    'hasWon','result','agentName',]]"
   ]
  },
  {
   "cell_type": "code",
   "execution_count": 77,
   "metadata": {},
   "outputs": [
    {
     "data": {
      "text/html": [
       "<div>\n",
       "<style scoped>\n",
       "    .dataframe tbody tr th:only-of-type {\n",
       "        vertical-align: middle;\n",
       "    }\n",
       "\n",
       "    .dataframe tbody tr th {\n",
       "        vertical-align: top;\n",
       "    }\n",
       "\n",
       "    .dataframe thead th {\n",
       "        text-align: right;\n",
       "    }\n",
       "</style>\n",
       "<table border=\"1\" class=\"dataframe\">\n",
       "  <thead>\n",
       "    <tr style=\"text-align: right;\">\n",
       "      <th></th>\n",
       "      <th>timestamp.1</th>\n",
       "      <th>metadataResult.1</th>\n",
       "      <th>map.1</th>\n",
       "      <th>mapName.1</th>\n",
       "      <th>mapImageUrl.1</th>\n",
       "      <th>playtimeValue</th>\n",
       "      <th>playtimeDisplayValue</th>\n",
       "      <th>roundsPlayedValue</th>\n",
       "      <th>roundsPlayedDisplayValue</th>\n",
       "      <th>roundsWonValue</th>\n",
       "      <th>...</th>\n",
       "      <th>scorePerRoundValue</th>\n",
       "      <th>scorePerRoundDisplayValue</th>\n",
       "      <th>damagePerRoundValue</th>\n",
       "      <th>damagePerRoundDisplayValue</th>\n",
       "      <th>headshotsPercentageValue</th>\n",
       "      <th>headshotsPercentageDisplayValue</th>\n",
       "      <th>leaderboardRank</th>\n",
       "      <th>competitiveTier</th>\n",
       "      <th>rankedRating</th>\n",
       "      <th>server</th>\n",
       "    </tr>\n",
       "  </thead>\n",
       "  <tbody>\n",
       "    <tr>\n",
       "      <th>0</th>\n",
       "      <td>2022-11-08T18:10:05.755+00:00</td>\n",
       "      <td>defeat</td>\n",
       "      <td>2bee0dc9-4ffe-519b-1cbd-7fbe763a6047</td>\n",
       "      <td>Haven</td>\n",
       "      <td>https://trackercdn.com/cdn/tracker.gg/valorant...</td>\n",
       "      <td>2225</td>\n",
       "      <td>37m 05s</td>\n",
       "      <td>21</td>\n",
       "      <td>21</td>\n",
       "      <td>8</td>\n",
       "      <td>...</td>\n",
       "      <td>265.619048</td>\n",
       "      <td>265.6</td>\n",
       "      <td>182.428571</td>\n",
       "      <td>182.4</td>\n",
       "      <td>28.125000</td>\n",
       "      <td>28</td>\n",
       "      <td>2</td>\n",
       "      <td>27</td>\n",
       "      <td>902</td>\n",
       "      <td>br</td>\n",
       "    </tr>\n",
       "    <tr>\n",
       "      <th>1</th>\n",
       "      <td>2022-11-08T17:23:58.171+00:00</td>\n",
       "      <td>victory</td>\n",
       "      <td>2bee0dc9-4ffe-519b-1cbd-7fbe763a6047</td>\n",
       "      <td>Haven</td>\n",
       "      <td>https://trackercdn.com/cdn/tracker.gg/valorant...</td>\n",
       "      <td>1880</td>\n",
       "      <td>31m 20s</td>\n",
       "      <td>19</td>\n",
       "      <td>19</td>\n",
       "      <td>13</td>\n",
       "      <td>...</td>\n",
       "      <td>192.315789</td>\n",
       "      <td>192.3</td>\n",
       "      <td>121.263158</td>\n",
       "      <td>121.3</td>\n",
       "      <td>25.000000</td>\n",
       "      <td>25</td>\n",
       "      <td>2</td>\n",
       "      <td>27</td>\n",
       "      <td>902</td>\n",
       "      <td>br</td>\n",
       "    </tr>\n",
       "    <tr>\n",
       "      <th>2</th>\n",
       "      <td>2022-11-08T16:48:52.583+00:00</td>\n",
       "      <td>defeat</td>\n",
       "      <td>2c9d57ec-4431-9c5e-2939-8f9ef6dd5cba</td>\n",
       "      <td>Bind</td>\n",
       "      <td>https://trackercdn.com/cdn/tracker.gg/valorant...</td>\n",
       "      <td>1982</td>\n",
       "      <td>33m 02s</td>\n",
       "      <td>19</td>\n",
       "      <td>19</td>\n",
       "      <td>6</td>\n",
       "      <td>...</td>\n",
       "      <td>268.000000</td>\n",
       "      <td>268.0</td>\n",
       "      <td>167.947368</td>\n",
       "      <td>167.9</td>\n",
       "      <td>26.530612</td>\n",
       "      <td>27</td>\n",
       "      <td>2</td>\n",
       "      <td>27</td>\n",
       "      <td>902</td>\n",
       "      <td>br</td>\n",
       "    </tr>\n",
       "    <tr>\n",
       "      <th>3</th>\n",
       "      <td>2022-11-08T15:59:51.22+00:00</td>\n",
       "      <td>defeat</td>\n",
       "      <td>fd267378-4d1d-484f-ff52-77821ed10dc2</td>\n",
       "      <td>Pearl</td>\n",
       "      <td>https://titles.trackercdn.com/valorant-api/map...</td>\n",
       "      <td>2525</td>\n",
       "      <td>42m 05s</td>\n",
       "      <td>24</td>\n",
       "      <td>24</td>\n",
       "      <td>11</td>\n",
       "      <td>...</td>\n",
       "      <td>227.416667</td>\n",
       "      <td>227.4</td>\n",
       "      <td>159.208333</td>\n",
       "      <td>159.2</td>\n",
       "      <td>16.000000</td>\n",
       "      <td>16</td>\n",
       "      <td>2</td>\n",
       "      <td>27</td>\n",
       "      <td>902</td>\n",
       "      <td>br</td>\n",
       "    </tr>\n",
       "    <tr>\n",
       "      <th>4</th>\n",
       "      <td>2022-11-05T22:17:04.347+00:00</td>\n",
       "      <td>defeat</td>\n",
       "      <td>2fb9a4fd-47b8-4e7d-a969-74b4046ebd53</td>\n",
       "      <td>Breeze</td>\n",
       "      <td>https://titles.trackercdn.com/valorant-api/map...</td>\n",
       "      <td>3073</td>\n",
       "      <td>51m 13s</td>\n",
       "      <td>30</td>\n",
       "      <td>30</td>\n",
       "      <td>14</td>\n",
       "      <td>...</td>\n",
       "      <td>216.033333</td>\n",
       "      <td>216.0</td>\n",
       "      <td>136.300000</td>\n",
       "      <td>136.3</td>\n",
       "      <td>32.075472</td>\n",
       "      <td>32</td>\n",
       "      <td>2</td>\n",
       "      <td>27</td>\n",
       "      <td>902</td>\n",
       "      <td>br</td>\n",
       "    </tr>\n",
       "    <tr>\n",
       "      <th>...</th>\n",
       "      <td>...</td>\n",
       "      <td>...</td>\n",
       "      <td>...</td>\n",
       "      <td>...</td>\n",
       "      <td>...</td>\n",
       "      <td>...</td>\n",
       "      <td>...</td>\n",
       "      <td>...</td>\n",
       "      <td>...</td>\n",
       "      <td>...</td>\n",
       "      <td>...</td>\n",
       "      <td>...</td>\n",
       "      <td>...</td>\n",
       "      <td>...</td>\n",
       "      <td>...</td>\n",
       "      <td>...</td>\n",
       "      <td>...</td>\n",
       "      <td>...</td>\n",
       "      <td>...</td>\n",
       "      <td>...</td>\n",
       "      <td>...</td>\n",
       "    </tr>\n",
       "    <tr>\n",
       "      <th>209423</th>\n",
       "      <td>2022-07-21T18:38:24.302+00:00</td>\n",
       "      <td>defeat</td>\n",
       "      <td>7eaecc1b-4337-bbf6-6ab9-04b8f06b3319</td>\n",
       "      <td>Ascent</td>\n",
       "      <td>https://trackercdn.com/cdn/tracker.gg/valorant...</td>\n",
       "      <td>2239</td>\n",
       "      <td>37m 19s</td>\n",
       "      <td>22</td>\n",
       "      <td>22</td>\n",
       "      <td>9</td>\n",
       "      <td>...</td>\n",
       "      <td>195.318182</td>\n",
       "      <td>195.3</td>\n",
       "      <td>129.590909</td>\n",
       "      <td>129.6</td>\n",
       "      <td>14.634146</td>\n",
       "      <td>15</td>\n",
       "      <td>399</td>\n",
       "      <td>27</td>\n",
       "      <td>400</td>\n",
       "      <td>ap</td>\n",
       "    </tr>\n",
       "    <tr>\n",
       "      <th>209424</th>\n",
       "      <td>2022-07-21T18:05:55.168+00:00</td>\n",
       "      <td>defeat</td>\n",
       "      <td>2fb9a4fd-47b8-4e7d-a969-74b4046ebd53</td>\n",
       "      <td>Breeze</td>\n",
       "      <td>https://titles.trackercdn.com/valorant-api/map...</td>\n",
       "      <td>1723</td>\n",
       "      <td>28m 43s</td>\n",
       "      <td>15</td>\n",
       "      <td>15</td>\n",
       "      <td>2</td>\n",
       "      <td>...</td>\n",
       "      <td>322.800000</td>\n",
       "      <td>322.8</td>\n",
       "      <td>202.400000</td>\n",
       "      <td>202.4</td>\n",
       "      <td>29.411765</td>\n",
       "      <td>29</td>\n",
       "      <td>399</td>\n",
       "      <td>27</td>\n",
       "      <td>400</td>\n",
       "      <td>ap</td>\n",
       "    </tr>\n",
       "    <tr>\n",
       "      <th>209425</th>\n",
       "      <td>2022-07-17T13:39:00.2+00:00</td>\n",
       "      <td>defeat</td>\n",
       "      <td>2c9d57ec-4431-9c5e-2939-8f9ef6dd5cba</td>\n",
       "      <td>Bind</td>\n",
       "      <td>https://trackercdn.com/cdn/tracker.gg/valorant...</td>\n",
       "      <td>2394</td>\n",
       "      <td>39m 54s</td>\n",
       "      <td>23</td>\n",
       "      <td>23</td>\n",
       "      <td>10</td>\n",
       "      <td>...</td>\n",
       "      <td>230.173913</td>\n",
       "      <td>230.2</td>\n",
       "      <td>135.608696</td>\n",
       "      <td>135.6</td>\n",
       "      <td>31.250000</td>\n",
       "      <td>31</td>\n",
       "      <td>399</td>\n",
       "      <td>27</td>\n",
       "      <td>400</td>\n",
       "      <td>ap</td>\n",
       "    </tr>\n",
       "    <tr>\n",
       "      <th>209426</th>\n",
       "      <td>2022-07-17T12:48:54.326+00:00</td>\n",
       "      <td>victory</td>\n",
       "      <td>fd267378-4d1d-484f-ff52-77821ed10dc2</td>\n",
       "      <td>Pearl</td>\n",
       "      <td>https://titles.trackercdn.com/valorant-api/map...</td>\n",
       "      <td>2829</td>\n",
       "      <td>47m 09s</td>\n",
       "      <td>30</td>\n",
       "      <td>30</td>\n",
       "      <td>16</td>\n",
       "      <td>...</td>\n",
       "      <td>121.933333</td>\n",
       "      <td>121.9</td>\n",
       "      <td>85.033333</td>\n",
       "      <td>85.0</td>\n",
       "      <td>30.555556</td>\n",
       "      <td>31</td>\n",
       "      <td>399</td>\n",
       "      <td>27</td>\n",
       "      <td>400</td>\n",
       "      <td>ap</td>\n",
       "    </tr>\n",
       "    <tr>\n",
       "      <th>209427</th>\n",
       "      <td>2022-05-03T09:06:31.729+00:00</td>\n",
       "      <td>defeat</td>\n",
       "      <td>b529448b-4d60-346e-e89e-00a4c527a405</td>\n",
       "      <td>Fracture</td>\n",
       "      <td>https://titles.trackercdn.com/valorant-api/map...</td>\n",
       "      <td>1995</td>\n",
       "      <td>33m 15s</td>\n",
       "      <td>23</td>\n",
       "      <td>23</td>\n",
       "      <td>10</td>\n",
       "      <td>...</td>\n",
       "      <td>70.652174</td>\n",
       "      <td>70.7</td>\n",
       "      <td>48.869565</td>\n",
       "      <td>48.9</td>\n",
       "      <td>12.500000</td>\n",
       "      <td>12</td>\n",
       "      <td>399</td>\n",
       "      <td>27</td>\n",
       "      <td>400</td>\n",
       "      <td>ap</td>\n",
       "    </tr>\n",
       "  </tbody>\n",
       "</table>\n",
       "<p>209428 rows × 89 columns</p>\n",
       "</div>"
      ],
      "text/plain": [
       "                          timestamp.1 metadataResult.1  \\\n",
       "0       2022-11-08T18:10:05.755+00:00           defeat   \n",
       "1       2022-11-08T17:23:58.171+00:00          victory   \n",
       "2       2022-11-08T16:48:52.583+00:00           defeat   \n",
       "3        2022-11-08T15:59:51.22+00:00           defeat   \n",
       "4       2022-11-05T22:17:04.347+00:00           defeat   \n",
       "...                               ...              ...   \n",
       "209423  2022-07-21T18:38:24.302+00:00           defeat   \n",
       "209424  2022-07-21T18:05:55.168+00:00           defeat   \n",
       "209425    2022-07-17T13:39:00.2+00:00           defeat   \n",
       "209426  2022-07-17T12:48:54.326+00:00          victory   \n",
       "209427  2022-05-03T09:06:31.729+00:00           defeat   \n",
       "\n",
       "                                       map.1 mapName.1  \\\n",
       "0       2bee0dc9-4ffe-519b-1cbd-7fbe763a6047     Haven   \n",
       "1       2bee0dc9-4ffe-519b-1cbd-7fbe763a6047     Haven   \n",
       "2       2c9d57ec-4431-9c5e-2939-8f9ef6dd5cba      Bind   \n",
       "3       fd267378-4d1d-484f-ff52-77821ed10dc2     Pearl   \n",
       "4       2fb9a4fd-47b8-4e7d-a969-74b4046ebd53    Breeze   \n",
       "...                                      ...       ...   \n",
       "209423  7eaecc1b-4337-bbf6-6ab9-04b8f06b3319    Ascent   \n",
       "209424  2fb9a4fd-47b8-4e7d-a969-74b4046ebd53    Breeze   \n",
       "209425  2c9d57ec-4431-9c5e-2939-8f9ef6dd5cba      Bind   \n",
       "209426  fd267378-4d1d-484f-ff52-77821ed10dc2     Pearl   \n",
       "209427  b529448b-4d60-346e-e89e-00a4c527a405  Fracture   \n",
       "\n",
       "                                            mapImageUrl.1  playtimeValue  \\\n",
       "0       https://trackercdn.com/cdn/tracker.gg/valorant...           2225   \n",
       "1       https://trackercdn.com/cdn/tracker.gg/valorant...           1880   \n",
       "2       https://trackercdn.com/cdn/tracker.gg/valorant...           1982   \n",
       "3       https://titles.trackercdn.com/valorant-api/map...           2525   \n",
       "4       https://titles.trackercdn.com/valorant-api/map...           3073   \n",
       "...                                                   ...            ...   \n",
       "209423  https://trackercdn.com/cdn/tracker.gg/valorant...           2239   \n",
       "209424  https://titles.trackercdn.com/valorant-api/map...           1723   \n",
       "209425  https://trackercdn.com/cdn/tracker.gg/valorant...           2394   \n",
       "209426  https://titles.trackercdn.com/valorant-api/map...           2829   \n",
       "209427  https://titles.trackercdn.com/valorant-api/map...           1995   \n",
       "\n",
       "       playtimeDisplayValue  roundsPlayedValue  roundsPlayedDisplayValue  \\\n",
       "0                   37m 05s                 21                        21   \n",
       "1                   31m 20s                 19                        19   \n",
       "2                   33m 02s                 19                        19   \n",
       "3                   42m 05s                 24                        24   \n",
       "4                   51m 13s                 30                        30   \n",
       "...                     ...                ...                       ...   \n",
       "209423              37m 19s                 22                        22   \n",
       "209424              28m 43s                 15                        15   \n",
       "209425              39m 54s                 23                        23   \n",
       "209426              47m 09s                 30                        30   \n",
       "209427              33m 15s                 23                        23   \n",
       "\n",
       "        roundsWonValue  ...  scorePerRoundValue  scorePerRoundDisplayValue  \\\n",
       "0                    8  ...          265.619048                      265.6   \n",
       "1                   13  ...          192.315789                      192.3   \n",
       "2                    6  ...          268.000000                      268.0   \n",
       "3                   11  ...          227.416667                      227.4   \n",
       "4                   14  ...          216.033333                      216.0   \n",
       "...                ...  ...                 ...                        ...   \n",
       "209423               9  ...          195.318182                      195.3   \n",
       "209424               2  ...          322.800000                      322.8   \n",
       "209425              10  ...          230.173913                      230.2   \n",
       "209426              16  ...          121.933333                      121.9   \n",
       "209427              10  ...           70.652174                       70.7   \n",
       "\n",
       "        damagePerRoundValue  damagePerRoundDisplayValue  \\\n",
       "0                182.428571                       182.4   \n",
       "1                121.263158                       121.3   \n",
       "2                167.947368                       167.9   \n",
       "3                159.208333                       159.2   \n",
       "4                136.300000                       136.3   \n",
       "...                     ...                         ...   \n",
       "209423           129.590909                       129.6   \n",
       "209424           202.400000                       202.4   \n",
       "209425           135.608696                       135.6   \n",
       "209426            85.033333                        85.0   \n",
       "209427            48.869565                        48.9   \n",
       "\n",
       "        headshotsPercentageValue  headshotsPercentageDisplayValue  \\\n",
       "0                      28.125000                               28   \n",
       "1                      25.000000                               25   \n",
       "2                      26.530612                               27   \n",
       "3                      16.000000                               16   \n",
       "4                      32.075472                               32   \n",
       "...                          ...                              ...   \n",
       "209423                 14.634146                               15   \n",
       "209424                 29.411765                               29   \n",
       "209425                 31.250000                               31   \n",
       "209426                 30.555556                               31   \n",
       "209427                 12.500000                               12   \n",
       "\n",
       "        leaderboardRank  competitiveTier rankedRating  server  \n",
       "0                     2               27          902      br  \n",
       "1                     2               27          902      br  \n",
       "2                     2               27          902      br  \n",
       "3                     2               27          902      br  \n",
       "4                     2               27          902      br  \n",
       "...                 ...              ...          ...     ...  \n",
       "209423              399               27          400      ap  \n",
       "209424              399               27          400      ap  \n",
       "209425              399               27          400      ap  \n",
       "209426              399               27          400      ap  \n",
       "209427              399               27          400      ap  \n",
       "\n",
       "[209428 rows x 89 columns]"
      ]
     },
     "execution_count": 77,
     "metadata": {},
     "output_type": "execute_result"
    }
   ],
   "source": [
    "cat_features = df_cat_features.columns\n",
    "num_features=df_matches_clean.loc[:, ~df_matches_clean.columns.isin(cat_features)]\n",
    "\n",
    "num_features"
   ]
  },
  {
   "cell_type": "code",
   "execution_count": 174,
   "metadata": {},
   "outputs": [],
   "source": [
    "df_matches_agents_result = df_matches_raw[['agentName','metadataResult']].groupby(['agentName','metadataResult',])['metadataResult'] \\\n",
    "                             .count() \\\n",
    "                             .reset_index(name='count') \\\n",
    "                             .sort_values(['agentName'], ascending=False) \\\n",
    "                             .reset_index(drop = True)"
   ]
  },
  {
   "cell_type": "code",
   "execution_count": 170,
   "metadata": {},
   "outputs": [
    {
     "data": {
      "application/vnd.plotly.v1+json": {
       "config": {
        "plotlyServerURL": "https://plot.ly"
       },
       "data": [
        {
         "alignmentgroup": "True",
         "bingroup": "x",
         "histfunc": "sum",
         "hovertemplate": "metadataResult=victory<br>agentName=%{x}<br>sum of count=%{y}<extra></extra>",
         "legendgroup": "victory",
         "marker": {
          "color": "#636efa",
          "pattern": {
           "shape": ""
          }
         },
         "name": "victory",
         "offsetgroup": "victory",
         "orientation": "v",
         "showlegend": true,
         "type": "histogram",
         "x": [
          "Yoru",
          "Viper",
          "Sova",
          "Skye",
          "Sage",
          "Reyna",
          "Raze",
          "Phoenix",
          "Omen",
          "Neon",
          "Killjoy",
          "KAY/O",
          "Jett",
          "Harbor",
          "Fade",
          "Cypher",
          "Chamber",
          "Brimstone",
          "Breach",
          "Astra"
         ],
         "xaxis": "x",
         "y": [
          881,
          7293,
          8480,
          2519,
          4056,
          9912,
          7441,
          3086,
          4928,
          1751,
          1073,
          3563,
          16620,
          385,
          7455,
          825,
          22610,
          4700,
          2743,
          2413
         ],
         "yaxis": "y"
        },
        {
         "alignmentgroup": "True",
         "bingroup": "x",
         "histfunc": "sum",
         "hovertemplate": "metadataResult=tied<br>agentName=%{x}<br>sum of count=%{y}<extra></extra>",
         "legendgroup": "tied",
         "marker": {
          "color": "#EF553B",
          "pattern": {
           "shape": ""
          }
         },
         "name": "tied",
         "offsetgroup": "tied",
         "orientation": "v",
         "showlegend": true,
         "type": "histogram",
         "x": [
          "Yoru",
          "Viper",
          "Sova",
          "Skye",
          "Sage",
          "Reyna",
          "Raze",
          "Phoenix",
          "Omen",
          "Neon",
          "Killjoy",
          "KAY/O",
          "Jett",
          "Harbor",
          "Fade",
          "Cypher",
          "Chamber",
          "Brimstone",
          "Breach",
          "Astra"
         ],
         "xaxis": "x",
         "y": [
          24,
          155,
          188,
          53,
          99,
          209,
          157,
          53,
          109,
          30,
          14,
          83,
          378,
          9,
          150,
          18,
          542,
          107,
          67,
          42
         ],
         "yaxis": "y"
        },
        {
         "alignmentgroup": "True",
         "bingroup": "x",
         "histfunc": "sum",
         "hovertemplate": "metadataResult=defeat<br>agentName=%{x}<br>sum of count=%{y}<extra></extra>",
         "legendgroup": "defeat",
         "marker": {
          "color": "#00cc96",
          "pattern": {
           "shape": ""
          }
         },
         "name": "defeat",
         "offsetgroup": "defeat",
         "orientation": "v",
         "showlegend": true,
         "type": "histogram",
         "x": [
          "Yoru",
          "Viper",
          "Sova",
          "Skye",
          "Sage",
          "Reyna",
          "Raze",
          "Phoenix",
          "Omen",
          "Neon",
          "Killjoy",
          "KAY/O",
          "Jett",
          "Harbor",
          "Fade",
          "Cypher",
          "Chamber",
          "Brimstone",
          "Breach",
          "Astra"
         ],
         "xaxis": "x",
         "y": [
          794,
          5983,
          6998,
          2278,
          3087,
          7905,
          5945,
          2483,
          4391,
          1610,
          787,
          3788,
          13773,
          361,
          6289,
          752,
          18769,
          3755,
          2357,
          2102
         ],
         "yaxis": "y"
        }
       ],
       "layout": {
        "barmode": "group",
        "height": 400,
        "legend": {
         "title": {
          "text": "metadataResult"
         },
         "tracegroupgap": 0
        },
        "margin": {
         "t": 60
        },
        "template": {
         "data": {
          "bar": [
           {
            "error_x": {
             "color": "#2a3f5f"
            },
            "error_y": {
             "color": "#2a3f5f"
            },
            "marker": {
             "line": {
              "color": "#E5ECF6",
              "width": 0.5
             },
             "pattern": {
              "fillmode": "overlay",
              "size": 10,
              "solidity": 0.2
             }
            },
            "type": "bar"
           }
          ],
          "barpolar": [
           {
            "marker": {
             "line": {
              "color": "#E5ECF6",
              "width": 0.5
             },
             "pattern": {
              "fillmode": "overlay",
              "size": 10,
              "solidity": 0.2
             }
            },
            "type": "barpolar"
           }
          ],
          "carpet": [
           {
            "aaxis": {
             "endlinecolor": "#2a3f5f",
             "gridcolor": "white",
             "linecolor": "white",
             "minorgridcolor": "white",
             "startlinecolor": "#2a3f5f"
            },
            "baxis": {
             "endlinecolor": "#2a3f5f",
             "gridcolor": "white",
             "linecolor": "white",
             "minorgridcolor": "white",
             "startlinecolor": "#2a3f5f"
            },
            "type": "carpet"
           }
          ],
          "choropleth": [
           {
            "colorbar": {
             "outlinewidth": 0,
             "ticks": ""
            },
            "type": "choropleth"
           }
          ],
          "contour": [
           {
            "colorbar": {
             "outlinewidth": 0,
             "ticks": ""
            },
            "colorscale": [
             [
              0,
              "#0d0887"
             ],
             [
              0.1111111111111111,
              "#46039f"
             ],
             [
              0.2222222222222222,
              "#7201a8"
             ],
             [
              0.3333333333333333,
              "#9c179e"
             ],
             [
              0.4444444444444444,
              "#bd3786"
             ],
             [
              0.5555555555555556,
              "#d8576b"
             ],
             [
              0.6666666666666666,
              "#ed7953"
             ],
             [
              0.7777777777777778,
              "#fb9f3a"
             ],
             [
              0.8888888888888888,
              "#fdca26"
             ],
             [
              1,
              "#f0f921"
             ]
            ],
            "type": "contour"
           }
          ],
          "contourcarpet": [
           {
            "colorbar": {
             "outlinewidth": 0,
             "ticks": ""
            },
            "type": "contourcarpet"
           }
          ],
          "heatmap": [
           {
            "colorbar": {
             "outlinewidth": 0,
             "ticks": ""
            },
            "colorscale": [
             [
              0,
              "#0d0887"
             ],
             [
              0.1111111111111111,
              "#46039f"
             ],
             [
              0.2222222222222222,
              "#7201a8"
             ],
             [
              0.3333333333333333,
              "#9c179e"
             ],
             [
              0.4444444444444444,
              "#bd3786"
             ],
             [
              0.5555555555555556,
              "#d8576b"
             ],
             [
              0.6666666666666666,
              "#ed7953"
             ],
             [
              0.7777777777777778,
              "#fb9f3a"
             ],
             [
              0.8888888888888888,
              "#fdca26"
             ],
             [
              1,
              "#f0f921"
             ]
            ],
            "type": "heatmap"
           }
          ],
          "heatmapgl": [
           {
            "colorbar": {
             "outlinewidth": 0,
             "ticks": ""
            },
            "colorscale": [
             [
              0,
              "#0d0887"
             ],
             [
              0.1111111111111111,
              "#46039f"
             ],
             [
              0.2222222222222222,
              "#7201a8"
             ],
             [
              0.3333333333333333,
              "#9c179e"
             ],
             [
              0.4444444444444444,
              "#bd3786"
             ],
             [
              0.5555555555555556,
              "#d8576b"
             ],
             [
              0.6666666666666666,
              "#ed7953"
             ],
             [
              0.7777777777777778,
              "#fb9f3a"
             ],
             [
              0.8888888888888888,
              "#fdca26"
             ],
             [
              1,
              "#f0f921"
             ]
            ],
            "type": "heatmapgl"
           }
          ],
          "histogram": [
           {
            "marker": {
             "pattern": {
              "fillmode": "overlay",
              "size": 10,
              "solidity": 0.2
             }
            },
            "type": "histogram"
           }
          ],
          "histogram2d": [
           {
            "colorbar": {
             "outlinewidth": 0,
             "ticks": ""
            },
            "colorscale": [
             [
              0,
              "#0d0887"
             ],
             [
              0.1111111111111111,
              "#46039f"
             ],
             [
              0.2222222222222222,
              "#7201a8"
             ],
             [
              0.3333333333333333,
              "#9c179e"
             ],
             [
              0.4444444444444444,
              "#bd3786"
             ],
             [
              0.5555555555555556,
              "#d8576b"
             ],
             [
              0.6666666666666666,
              "#ed7953"
             ],
             [
              0.7777777777777778,
              "#fb9f3a"
             ],
             [
              0.8888888888888888,
              "#fdca26"
             ],
             [
              1,
              "#f0f921"
             ]
            ],
            "type": "histogram2d"
           }
          ],
          "histogram2dcontour": [
           {
            "colorbar": {
             "outlinewidth": 0,
             "ticks": ""
            },
            "colorscale": [
             [
              0,
              "#0d0887"
             ],
             [
              0.1111111111111111,
              "#46039f"
             ],
             [
              0.2222222222222222,
              "#7201a8"
             ],
             [
              0.3333333333333333,
              "#9c179e"
             ],
             [
              0.4444444444444444,
              "#bd3786"
             ],
             [
              0.5555555555555556,
              "#d8576b"
             ],
             [
              0.6666666666666666,
              "#ed7953"
             ],
             [
              0.7777777777777778,
              "#fb9f3a"
             ],
             [
              0.8888888888888888,
              "#fdca26"
             ],
             [
              1,
              "#f0f921"
             ]
            ],
            "type": "histogram2dcontour"
           }
          ],
          "mesh3d": [
           {
            "colorbar": {
             "outlinewidth": 0,
             "ticks": ""
            },
            "type": "mesh3d"
           }
          ],
          "parcoords": [
           {
            "line": {
             "colorbar": {
              "outlinewidth": 0,
              "ticks": ""
             }
            },
            "type": "parcoords"
           }
          ],
          "pie": [
           {
            "automargin": true,
            "type": "pie"
           }
          ],
          "scatter": [
           {
            "fillpattern": {
             "fillmode": "overlay",
             "size": 10,
             "solidity": 0.2
            },
            "type": "scatter"
           }
          ],
          "scatter3d": [
           {
            "line": {
             "colorbar": {
              "outlinewidth": 0,
              "ticks": ""
             }
            },
            "marker": {
             "colorbar": {
              "outlinewidth": 0,
              "ticks": ""
             }
            },
            "type": "scatter3d"
           }
          ],
          "scattercarpet": [
           {
            "marker": {
             "colorbar": {
              "outlinewidth": 0,
              "ticks": ""
             }
            },
            "type": "scattercarpet"
           }
          ],
          "scattergeo": [
           {
            "marker": {
             "colorbar": {
              "outlinewidth": 0,
              "ticks": ""
             }
            },
            "type": "scattergeo"
           }
          ],
          "scattergl": [
           {
            "marker": {
             "colorbar": {
              "outlinewidth": 0,
              "ticks": ""
             }
            },
            "type": "scattergl"
           }
          ],
          "scattermapbox": [
           {
            "marker": {
             "colorbar": {
              "outlinewidth": 0,
              "ticks": ""
             }
            },
            "type": "scattermapbox"
           }
          ],
          "scatterpolar": [
           {
            "marker": {
             "colorbar": {
              "outlinewidth": 0,
              "ticks": ""
             }
            },
            "type": "scatterpolar"
           }
          ],
          "scatterpolargl": [
           {
            "marker": {
             "colorbar": {
              "outlinewidth": 0,
              "ticks": ""
             }
            },
            "type": "scatterpolargl"
           }
          ],
          "scatterternary": [
           {
            "marker": {
             "colorbar": {
              "outlinewidth": 0,
              "ticks": ""
             }
            },
            "type": "scatterternary"
           }
          ],
          "surface": [
           {
            "colorbar": {
             "outlinewidth": 0,
             "ticks": ""
            },
            "colorscale": [
             [
              0,
              "#0d0887"
             ],
             [
              0.1111111111111111,
              "#46039f"
             ],
             [
              0.2222222222222222,
              "#7201a8"
             ],
             [
              0.3333333333333333,
              "#9c179e"
             ],
             [
              0.4444444444444444,
              "#bd3786"
             ],
             [
              0.5555555555555556,
              "#d8576b"
             ],
             [
              0.6666666666666666,
              "#ed7953"
             ],
             [
              0.7777777777777778,
              "#fb9f3a"
             ],
             [
              0.8888888888888888,
              "#fdca26"
             ],
             [
              1,
              "#f0f921"
             ]
            ],
            "type": "surface"
           }
          ],
          "table": [
           {
            "cells": {
             "fill": {
              "color": "#EBF0F8"
             },
             "line": {
              "color": "white"
             }
            },
            "header": {
             "fill": {
              "color": "#C8D4E3"
             },
             "line": {
              "color": "white"
             }
            },
            "type": "table"
           }
          ]
         },
         "layout": {
          "annotationdefaults": {
           "arrowcolor": "#2a3f5f",
           "arrowhead": 0,
           "arrowwidth": 1
          },
          "autotypenumbers": "strict",
          "coloraxis": {
           "colorbar": {
            "outlinewidth": 0,
            "ticks": ""
           }
          },
          "colorscale": {
           "diverging": [
            [
             0,
             "#8e0152"
            ],
            [
             0.1,
             "#c51b7d"
            ],
            [
             0.2,
             "#de77ae"
            ],
            [
             0.3,
             "#f1b6da"
            ],
            [
             0.4,
             "#fde0ef"
            ],
            [
             0.5,
             "#f7f7f7"
            ],
            [
             0.6,
             "#e6f5d0"
            ],
            [
             0.7,
             "#b8e186"
            ],
            [
             0.8,
             "#7fbc41"
            ],
            [
             0.9,
             "#4d9221"
            ],
            [
             1,
             "#276419"
            ]
           ],
           "sequential": [
            [
             0,
             "#0d0887"
            ],
            [
             0.1111111111111111,
             "#46039f"
            ],
            [
             0.2222222222222222,
             "#7201a8"
            ],
            [
             0.3333333333333333,
             "#9c179e"
            ],
            [
             0.4444444444444444,
             "#bd3786"
            ],
            [
             0.5555555555555556,
             "#d8576b"
            ],
            [
             0.6666666666666666,
             "#ed7953"
            ],
            [
             0.7777777777777778,
             "#fb9f3a"
            ],
            [
             0.8888888888888888,
             "#fdca26"
            ],
            [
             1,
             "#f0f921"
            ]
           ],
           "sequentialminus": [
            [
             0,
             "#0d0887"
            ],
            [
             0.1111111111111111,
             "#46039f"
            ],
            [
             0.2222222222222222,
             "#7201a8"
            ],
            [
             0.3333333333333333,
             "#9c179e"
            ],
            [
             0.4444444444444444,
             "#bd3786"
            ],
            [
             0.5555555555555556,
             "#d8576b"
            ],
            [
             0.6666666666666666,
             "#ed7953"
            ],
            [
             0.7777777777777778,
             "#fb9f3a"
            ],
            [
             0.8888888888888888,
             "#fdca26"
            ],
            [
             1,
             "#f0f921"
            ]
           ]
          },
          "colorway": [
           "#636efa",
           "#EF553B",
           "#00cc96",
           "#ab63fa",
           "#FFA15A",
           "#19d3f3",
           "#FF6692",
           "#B6E880",
           "#FF97FF",
           "#FECB52"
          ],
          "font": {
           "color": "#2a3f5f"
          },
          "geo": {
           "bgcolor": "white",
           "lakecolor": "white",
           "landcolor": "#E5ECF6",
           "showlakes": true,
           "showland": true,
           "subunitcolor": "white"
          },
          "hoverlabel": {
           "align": "left"
          },
          "hovermode": "closest",
          "mapbox": {
           "style": "light"
          },
          "paper_bgcolor": "white",
          "plot_bgcolor": "#E5ECF6",
          "polar": {
           "angularaxis": {
            "gridcolor": "white",
            "linecolor": "white",
            "ticks": ""
           },
           "bgcolor": "#E5ECF6",
           "radialaxis": {
            "gridcolor": "white",
            "linecolor": "white",
            "ticks": ""
           }
          },
          "scene": {
           "xaxis": {
            "backgroundcolor": "#E5ECF6",
            "gridcolor": "white",
            "gridwidth": 2,
            "linecolor": "white",
            "showbackground": true,
            "ticks": "",
            "zerolinecolor": "white"
           },
           "yaxis": {
            "backgroundcolor": "#E5ECF6",
            "gridcolor": "white",
            "gridwidth": 2,
            "linecolor": "white",
            "showbackground": true,
            "ticks": "",
            "zerolinecolor": "white"
           },
           "zaxis": {
            "backgroundcolor": "#E5ECF6",
            "gridcolor": "white",
            "gridwidth": 2,
            "linecolor": "white",
            "showbackground": true,
            "ticks": "",
            "zerolinecolor": "white"
           }
          },
          "shapedefaults": {
           "line": {
            "color": "#2a3f5f"
           }
          },
          "ternary": {
           "aaxis": {
            "gridcolor": "white",
            "linecolor": "white",
            "ticks": ""
           },
           "baxis": {
            "gridcolor": "white",
            "linecolor": "white",
            "ticks": ""
           },
           "bgcolor": "#E5ECF6",
           "caxis": {
            "gridcolor": "white",
            "linecolor": "white",
            "ticks": ""
           }
          },
          "title": {
           "x": 0.05
          },
          "xaxis": {
           "automargin": true,
           "gridcolor": "white",
           "linecolor": "white",
           "ticks": "",
           "title": {
            "standoff": 15
           },
           "zerolinecolor": "white",
           "zerolinewidth": 2
          },
          "yaxis": {
           "automargin": true,
           "gridcolor": "white",
           "linecolor": "white",
           "ticks": "",
           "title": {
            "standoff": 15
           },
           "zerolinecolor": "white",
           "zerolinewidth": 2
          }
         }
        },
        "xaxis": {
         "anchor": "y",
         "domain": [
          0,
          1
         ],
         "title": {
          "text": "agentName"
         }
        },
        "yaxis": {
         "anchor": "x",
         "domain": [
          0,
          1
         ],
         "title": {
          "text": "sum of count"
         }
        }
       }
      }
     },
     "metadata": {},
     "output_type": "display_data"
    }
   ],
   "source": [
    "fig = px.histogram(df_matches_agents_result, x=df_matches_agents_result['agentName'], y=df_matches_agents_result['count'], color=df_matches_agents_result['metadataResult'], barmode='group',\n",
    "             height=400)\n",
    "fig.show()"
   ]
  },
  {
   "cell_type": "code",
   "execution_count": 179,
   "metadata": {},
   "outputs": [
    {
     "data": {
      "text/html": [
       "<div>\n",
       "<style scoped>\n",
       "    .dataframe tbody tr th:only-of-type {\n",
       "        vertical-align: middle;\n",
       "    }\n",
       "\n",
       "    .dataframe tbody tr th {\n",
       "        vertical-align: top;\n",
       "    }\n",
       "\n",
       "    .dataframe thead th {\n",
       "        text-align: right;\n",
       "    }\n",
       "</style>\n",
       "<table border=\"1\" class=\"dataframe\">\n",
       "  <thead>\n",
       "    <tr style=\"text-align: right;\">\n",
       "      <th></th>\n",
       "      <th>hasWon</th>\n",
       "    </tr>\n",
       "    <tr>\n",
       "      <th>agentName</th>\n",
       "      <th></th>\n",
       "    </tr>\n",
       "  </thead>\n",
       "  <tbody>\n",
       "    <tr>\n",
       "      <th>Astra</th>\n",
       "      <td>52.951503</td>\n",
       "    </tr>\n",
       "    <tr>\n",
       "      <th>Breach</th>\n",
       "      <td>53.086898</td>\n",
       "    </tr>\n",
       "    <tr>\n",
       "      <th>Brimstone</th>\n",
       "      <td>54.893716</td>\n",
       "    </tr>\n",
       "    <tr>\n",
       "      <th>Chamber</th>\n",
       "      <td>53.934782</td>\n",
       "    </tr>\n",
       "    <tr>\n",
       "      <th>Cypher</th>\n",
       "      <td>51.724138</td>\n",
       "    </tr>\n",
       "    <tr>\n",
       "      <th>Fade</th>\n",
       "      <td>53.656254</td>\n",
       "    </tr>\n",
       "    <tr>\n",
       "      <th>Harbor</th>\n",
       "      <td>50.993377</td>\n",
       "    </tr>\n",
       "    <tr>\n",
       "      <th>Jett</th>\n",
       "      <td>54.011894</td>\n",
       "    </tr>\n",
       "    <tr>\n",
       "      <th>KAY/O</th>\n",
       "      <td>47.928437</td>\n",
       "    </tr>\n",
       "    <tr>\n",
       "      <th>Killjoy</th>\n",
       "      <td>57.257204</td>\n",
       "    </tr>\n",
       "    <tr>\n",
       "      <th>Neon</th>\n",
       "      <td>51.636685</td>\n",
       "    </tr>\n",
       "    <tr>\n",
       "      <th>Omen</th>\n",
       "      <td>52.269835</td>\n",
       "    </tr>\n",
       "    <tr>\n",
       "      <th>Phoenix</th>\n",
       "      <td>54.891498</td>\n",
       "    </tr>\n",
       "    <tr>\n",
       "      <th>Raze</th>\n",
       "      <td>54.943513</td>\n",
       "    </tr>\n",
       "    <tr>\n",
       "      <th>Reyna</th>\n",
       "      <td>54.987241</td>\n",
       "    </tr>\n",
       "    <tr>\n",
       "      <th>Sage</th>\n",
       "      <td>56.006628</td>\n",
       "    </tr>\n",
       "    <tr>\n",
       "      <th>Skye</th>\n",
       "      <td>51.938144</td>\n",
       "    </tr>\n",
       "    <tr>\n",
       "      <th>Sova</th>\n",
       "      <td>54.129963</td>\n",
       "    </tr>\n",
       "    <tr>\n",
       "      <th>Viper</th>\n",
       "      <td>54.299754</td>\n",
       "    </tr>\n",
       "    <tr>\n",
       "      <th>Yoru</th>\n",
       "      <td>51.854032</td>\n",
       "    </tr>\n",
       "  </tbody>\n",
       "</table>\n",
       "</div>"
      ],
      "text/plain": [
       "              hasWon\n",
       "agentName           \n",
       "Astra      52.951503\n",
       "Breach     53.086898\n",
       "Brimstone  54.893716\n",
       "Chamber    53.934782\n",
       "Cypher     51.724138\n",
       "Fade       53.656254\n",
       "Harbor     50.993377\n",
       "Jett       54.011894\n",
       "KAY/O      47.928437\n",
       "Killjoy    57.257204\n",
       "Neon       51.636685\n",
       "Omen       52.269835\n",
       "Phoenix    54.891498\n",
       "Raze       54.943513\n",
       "Reyna      54.987241\n",
       "Sage       56.006628\n",
       "Skye       51.938144\n",
       "Sova       54.129963\n",
       "Viper      54.299754\n",
       "Yoru       51.854032"
      ]
     },
     "execution_count": 179,
     "metadata": {},
     "output_type": "execute_result"
    }
   ],
   "source": [
    "df_matches_win_percentage_agents=100*df_matches_raw.groupby('agentName')[['hasWon']].sum()/df_matches_raw.groupby('agentName')[['hasWon']].count()\n",
    "df_matches_win_percentage_agents"
   ]
  },
  {
   "cell_type": "code",
   "execution_count": 180,
   "metadata": {},
   "outputs": [
    {
     "data": {
      "text/html": [
       "<div>\n",
       "<style scoped>\n",
       "    .dataframe tbody tr th:only-of-type {\n",
       "        vertical-align: middle;\n",
       "    }\n",
       "\n",
       "    .dataframe tbody tr th {\n",
       "        vertical-align: top;\n",
       "    }\n",
       "\n",
       "    .dataframe thead th {\n",
       "        text-align: right;\n",
       "    }\n",
       "</style>\n",
       "<table border=\"1\" class=\"dataframe\">\n",
       "  <thead>\n",
       "    <tr style=\"text-align: right;\">\n",
       "      <th></th>\n",
       "      <th>agentName</th>\n",
       "      <th>hasWon</th>\n",
       "    </tr>\n",
       "  </thead>\n",
       "  <tbody>\n",
       "    <tr>\n",
       "      <th>0</th>\n",
       "      <td>Astra</td>\n",
       "      <td>2413</td>\n",
       "    </tr>\n",
       "    <tr>\n",
       "      <th>1</th>\n",
       "      <td>Breach</td>\n",
       "      <td>2743</td>\n",
       "    </tr>\n",
       "    <tr>\n",
       "      <th>2</th>\n",
       "      <td>Brimstone</td>\n",
       "      <td>4700</td>\n",
       "    </tr>\n",
       "    <tr>\n",
       "      <th>3</th>\n",
       "      <td>Chamber</td>\n",
       "      <td>22610</td>\n",
       "    </tr>\n",
       "    <tr>\n",
       "      <th>4</th>\n",
       "      <td>Cypher</td>\n",
       "      <td>825</td>\n",
       "    </tr>\n",
       "    <tr>\n",
       "      <th>5</th>\n",
       "      <td>Fade</td>\n",
       "      <td>7455</td>\n",
       "    </tr>\n",
       "    <tr>\n",
       "      <th>6</th>\n",
       "      <td>Harbor</td>\n",
       "      <td>385</td>\n",
       "    </tr>\n",
       "    <tr>\n",
       "      <th>7</th>\n",
       "      <td>Jett</td>\n",
       "      <td>16620</td>\n",
       "    </tr>\n",
       "    <tr>\n",
       "      <th>8</th>\n",
       "      <td>KAY/O</td>\n",
       "      <td>3563</td>\n",
       "    </tr>\n",
       "    <tr>\n",
       "      <th>9</th>\n",
       "      <td>Killjoy</td>\n",
       "      <td>1073</td>\n",
       "    </tr>\n",
       "    <tr>\n",
       "      <th>10</th>\n",
       "      <td>Neon</td>\n",
       "      <td>1751</td>\n",
       "    </tr>\n",
       "    <tr>\n",
       "      <th>11</th>\n",
       "      <td>Omen</td>\n",
       "      <td>4928</td>\n",
       "    </tr>\n",
       "    <tr>\n",
       "      <th>12</th>\n",
       "      <td>Phoenix</td>\n",
       "      <td>3086</td>\n",
       "    </tr>\n",
       "    <tr>\n",
       "      <th>13</th>\n",
       "      <td>Raze</td>\n",
       "      <td>7441</td>\n",
       "    </tr>\n",
       "    <tr>\n",
       "      <th>14</th>\n",
       "      <td>Reyna</td>\n",
       "      <td>9912</td>\n",
       "    </tr>\n",
       "    <tr>\n",
       "      <th>15</th>\n",
       "      <td>Sage</td>\n",
       "      <td>4056</td>\n",
       "    </tr>\n",
       "    <tr>\n",
       "      <th>16</th>\n",
       "      <td>Skye</td>\n",
       "      <td>2519</td>\n",
       "    </tr>\n",
       "    <tr>\n",
       "      <th>17</th>\n",
       "      <td>Sova</td>\n",
       "      <td>8480</td>\n",
       "    </tr>\n",
       "    <tr>\n",
       "      <th>18</th>\n",
       "      <td>Viper</td>\n",
       "      <td>7293</td>\n",
       "    </tr>\n",
       "    <tr>\n",
       "      <th>19</th>\n",
       "      <td>Yoru</td>\n",
       "      <td>881</td>\n",
       "    </tr>\n",
       "  </tbody>\n",
       "</table>\n",
       "</div>"
      ],
      "text/plain": [
       "    agentName  hasWon\n",
       "0       Astra    2413\n",
       "1      Breach    2743\n",
       "2   Brimstone    4700\n",
       "3     Chamber   22610\n",
       "4      Cypher     825\n",
       "5        Fade    7455\n",
       "6      Harbor     385\n",
       "7        Jett   16620\n",
       "8       KAY/O    3563\n",
       "9     Killjoy    1073\n",
       "10       Neon    1751\n",
       "11       Omen    4928\n",
       "12    Phoenix    3086\n",
       "13       Raze    7441\n",
       "14      Reyna    9912\n",
       "15       Sage    4056\n",
       "16       Skye    2519\n",
       "17       Sova    8480\n",
       "18      Viper    7293\n",
       "19       Yoru     881"
      ]
     },
     "execution_count": 180,
     "metadata": {},
     "output_type": "execute_result"
    }
   ],
   "source": [
    "df_matches_wins_per_agent = df_matches_raw.groupby(['agentName'],as_index=False)[['agentName','hasWon']].sum(numeric_only=True)\n",
    "df_matches_wins_per_agent\n"
   ]
  },
  {
   "cell_type": "code",
   "execution_count": 173,
   "metadata": {},
   "outputs": [],
   "source": [
    "df_matches_date_count = (\n",
    "                            df_matches_raw.groupby(['dateMatch'])['dateMatch']\n",
    "                            .count() \\\n",
    "                            .reset_index(name='count') \\\n",
    "                            .reset_index(drop = True)\n",
    "                        )\n",
    "\n",
    "df_matches_date_count_plot = df_matches_date_count"
   ]
  },
  {
   "cell_type": "code",
   "execution_count": 155,
   "metadata": {},
   "outputs": [
    {
     "data": {
      "application/vnd.plotly.v1+json": {
       "config": {
        "plotlyServerURL": "https://plot.ly"
       },
       "data": [
        {
         "hovertemplate": "x=%{x}<br>y=%{y}<extra></extra>",
         "legendgroup": "",
         "line": {
          "color": "#636efa",
          "dash": "solid"
         },
         "marker": {
          "symbol": "circle"
         },
         "mode": "lines",
         "name": "",
         "orientation": "v",
         "showlegend": false,
         "type": "scatter",
         "x": [
          "2020-06-28",
          "2020-07-29",
          "2020-07-30",
          "2020-07-31",
          "2020-08-03",
          "2020-08-05",
          "2020-08-06",
          "2020-08-08",
          "2020-08-09",
          "2020-08-10",
          "2020-08-11",
          "2020-08-12",
          "2020-08-13",
          "2020-08-16",
          "2020-08-17",
          "2020-08-18",
          "2020-08-19",
          "2020-08-20",
          "2020-08-21",
          "2020-08-24",
          "2020-08-25",
          "2020-08-26",
          "2020-09-13",
          "2020-09-26",
          "2020-09-27",
          "2020-10-04",
          "2020-10-06",
          "2020-10-08",
          "2020-10-10",
          "2020-10-11",
          "2020-10-15",
          "2020-10-30",
          "2020-11-08",
          "2020-11-10",
          "2020-12-06",
          "2021-01-10",
          "2021-01-12",
          "2021-01-15",
          "2021-01-16",
          "2021-01-20",
          "2021-01-21",
          "2021-01-22",
          "2021-01-27",
          "2021-01-28",
          "2021-02-05",
          "2021-02-06",
          "2021-02-07",
          "2021-02-12",
          "2021-02-13",
          "2021-02-14",
          "2021-02-15",
          "2021-02-17",
          "2021-02-18",
          "2021-02-21",
          "2021-02-22",
          "2021-02-23",
          "2021-03-01",
          "2021-03-08",
          "2021-03-10",
          "2021-03-11",
          "2021-03-12",
          "2021-03-13",
          "2021-03-14",
          "2021-03-15",
          "2021-03-16",
          "2021-03-17",
          "2021-03-18",
          "2021-03-19",
          "2021-03-23",
          "2021-03-24",
          "2021-03-25",
          "2021-03-27",
          "2021-03-29",
          "2021-03-31",
          "2021-04-01",
          "2021-04-02",
          "2021-04-03",
          "2021-04-04",
          "2021-04-05",
          "2021-04-06",
          "2021-04-07",
          "2021-04-08",
          "2021-04-09",
          "2021-04-10",
          "2021-04-11",
          "2021-04-12",
          "2021-04-13",
          "2021-04-14",
          "2021-04-15",
          "2021-04-16",
          "2021-04-17",
          "2021-04-18",
          "2021-04-19",
          "2021-04-20",
          "2021-04-21",
          "2021-04-22",
          "2021-04-23",
          "2021-04-24",
          "2021-04-25",
          "2021-04-26",
          "2021-04-27",
          "2021-04-29",
          "2021-04-30",
          "2021-05-01",
          "2021-05-02",
          "2021-05-03",
          "2021-05-04",
          "2021-05-06",
          "2021-05-07",
          "2021-05-08",
          "2021-05-09",
          "2021-05-10",
          "2021-05-11",
          "2021-05-12",
          "2021-05-13",
          "2021-05-14",
          "2021-05-15",
          "2021-05-16",
          "2021-05-17",
          "2021-05-18",
          "2021-05-19",
          "2021-05-22",
          "2021-05-23",
          "2021-05-24",
          "2021-05-25",
          "2021-05-26",
          "2021-05-27",
          "2021-05-28",
          "2021-05-29",
          "2021-05-30",
          "2021-05-31",
          "2021-06-01",
          "2021-06-02",
          "2021-06-03",
          "2021-06-04",
          "2021-06-05",
          "2021-06-06",
          "2021-06-08",
          "2021-06-09",
          "2021-06-10",
          "2021-06-11",
          "2021-06-12",
          "2021-06-13",
          "2021-06-14",
          "2021-06-15",
          "2021-06-16",
          "2021-06-17",
          "2021-06-19",
          "2021-06-20",
          "2021-06-21",
          "2021-06-22",
          "2021-06-23",
          "2021-06-24",
          "2021-06-25",
          "2021-06-26",
          "2021-06-28",
          "2021-06-29",
          "2021-06-30",
          "2021-07-01",
          "2021-07-02",
          "2021-07-03",
          "2021-07-04",
          "2021-07-05",
          "2021-07-06",
          "2021-07-07",
          "2021-07-08",
          "2021-07-09",
          "2021-07-10",
          "2021-07-11",
          "2021-07-12",
          "2021-07-13",
          "2021-07-14",
          "2021-07-15",
          "2021-07-16",
          "2021-07-17",
          "2021-07-18",
          "2021-07-19",
          "2021-07-20",
          "2021-07-21",
          "2021-07-22",
          "2021-07-23",
          "2021-07-24",
          "2021-07-25",
          "2021-07-26",
          "2021-07-27",
          "2021-07-28",
          "2021-07-29",
          "2021-07-30",
          "2021-07-31",
          "2021-08-01",
          "2021-08-02",
          "2021-08-03",
          "2021-08-04",
          "2021-08-05",
          "2021-08-06",
          "2021-08-07",
          "2021-08-09",
          "2021-08-11",
          "2021-08-12",
          "2021-08-13",
          "2021-08-14",
          "2021-08-15",
          "2021-08-16",
          "2021-08-17",
          "2021-08-18",
          "2021-08-19",
          "2021-08-20",
          "2021-08-21",
          "2021-08-22",
          "2021-08-23",
          "2021-08-24",
          "2021-08-25",
          "2021-08-26",
          "2021-08-27",
          "2021-08-28",
          "2021-08-29",
          "2021-08-30",
          "2021-08-31",
          "2021-09-01",
          "2021-09-02",
          "2021-09-03",
          "2021-09-04",
          "2021-09-05",
          "2021-09-06",
          "2021-09-07",
          "2021-09-09",
          "2021-09-10",
          "2021-09-11",
          "2021-09-12",
          "2021-09-13",
          "2021-09-14",
          "2021-09-15",
          "2021-09-16",
          "2021-09-17",
          "2021-09-18",
          "2021-09-19",
          "2021-09-20",
          "2021-09-21",
          "2021-09-22",
          "2021-09-23",
          "2021-09-24",
          "2021-09-25",
          "2021-09-26",
          "2021-09-27",
          "2021-09-28",
          "2021-09-29",
          "2021-09-30",
          "2021-10-01",
          "2021-10-02",
          "2021-10-03",
          "2021-10-04",
          "2021-10-05",
          "2021-10-06",
          "2021-10-07",
          "2021-10-08",
          "2021-10-09",
          "2021-10-10",
          "2021-10-11",
          "2021-10-12",
          "2021-10-13",
          "2021-10-14",
          "2021-10-15",
          "2021-10-16",
          "2021-10-17",
          "2021-10-18",
          "2021-10-19",
          "2021-10-20",
          "2021-10-21",
          "2021-10-22",
          "2021-10-23",
          "2021-10-24",
          "2021-10-25",
          "2021-10-26",
          "2021-10-27",
          "2021-10-28",
          "2021-10-29",
          "2021-10-30",
          "2021-10-31",
          "2021-11-01",
          "2021-11-02",
          "2021-11-03",
          "2021-11-04",
          "2021-11-05",
          "2021-11-06",
          "2021-11-07",
          "2021-11-08",
          "2021-11-09",
          "2021-11-10",
          "2021-11-11",
          "2021-11-12",
          "2021-11-13",
          "2021-11-14",
          "2021-11-15",
          "2021-11-16",
          "2021-11-17",
          "2021-11-18",
          "2021-11-19",
          "2021-11-20",
          "2021-11-21",
          "2021-11-22",
          "2021-11-23",
          "2021-11-24",
          "2021-11-25",
          "2021-11-26",
          "2021-11-27",
          "2021-11-28",
          "2021-11-29",
          "2021-11-30",
          "2021-12-01",
          "2021-12-02",
          "2021-12-03",
          "2021-12-04",
          "2021-12-05",
          "2021-12-06",
          "2021-12-07",
          "2021-12-08",
          "2021-12-09",
          "2021-12-10",
          "2021-12-11",
          "2021-12-12",
          "2021-12-13",
          "2021-12-14",
          "2021-12-15",
          "2021-12-16",
          "2021-12-17",
          "2021-12-18",
          "2021-12-19",
          "2021-12-20",
          "2021-12-21",
          "2021-12-22",
          "2021-12-23",
          "2021-12-24",
          "2021-12-25",
          "2021-12-26",
          "2021-12-27",
          "2021-12-28",
          "2021-12-29",
          "2021-12-30",
          "2021-12-31",
          "2022-01-01",
          "2022-01-02",
          "2022-01-03",
          "2022-01-04",
          "2022-01-05",
          "2022-01-06",
          "2022-01-07",
          "2022-01-08",
          "2022-01-09",
          "2022-01-10",
          "2022-01-11",
          "2022-01-12",
          "2022-01-13",
          "2022-01-14",
          "2022-01-15",
          "2022-01-16",
          "2022-01-17",
          "2022-01-18",
          "2022-01-19",
          "2022-01-20",
          "2022-01-21",
          "2022-01-22",
          "2022-01-23",
          "2022-01-24",
          "2022-01-25",
          "2022-01-26",
          "2022-01-27",
          "2022-01-28",
          "2022-01-29",
          "2022-01-30",
          "2022-01-31",
          "2022-02-01",
          "2022-02-02",
          "2022-02-03",
          "2022-02-04",
          "2022-02-05",
          "2022-02-06",
          "2022-02-07",
          "2022-02-08",
          "2022-02-09",
          "2022-02-10",
          "2022-02-11",
          "2022-02-12",
          "2022-02-13",
          "2022-02-14",
          "2022-02-15",
          "2022-02-16",
          "2022-02-17",
          "2022-02-18",
          "2022-02-19",
          "2022-02-20",
          "2022-02-21",
          "2022-02-22",
          "2022-02-23",
          "2022-02-24",
          "2022-02-25",
          "2022-02-26",
          "2022-02-27",
          "2022-02-28",
          "2022-03-01",
          "2022-03-02",
          "2022-03-03",
          "2022-03-04",
          "2022-03-05",
          "2022-03-06",
          "2022-03-07",
          "2022-03-08",
          "2022-03-09",
          "2022-03-10",
          "2022-03-11",
          "2022-03-12",
          "2022-03-13",
          "2022-03-14",
          "2022-03-15",
          "2022-03-16",
          "2022-03-17",
          "2022-03-18",
          "2022-03-19",
          "2022-03-20",
          "2022-03-21",
          "2022-03-22",
          "2022-03-23",
          "2022-03-24",
          "2022-03-25",
          "2022-03-26",
          "2022-03-27",
          "2022-03-28",
          "2022-03-29",
          "2022-03-30",
          "2022-03-31",
          "2022-04-01",
          "2022-04-02",
          "2022-04-03",
          "2022-04-04",
          "2022-04-05",
          "2022-04-06",
          "2022-04-07",
          "2022-04-08",
          "2022-04-09",
          "2022-04-10",
          "2022-04-11",
          "2022-04-12",
          "2022-04-13",
          "2022-04-14",
          "2022-04-15",
          "2022-04-16",
          "2022-04-17",
          "2022-04-18",
          "2022-04-19",
          "2022-04-20",
          "2022-04-21",
          "2022-04-22",
          "2022-04-23",
          "2022-04-24",
          "2022-04-25",
          "2022-04-26",
          "2022-04-27",
          "2022-04-28",
          "2022-04-29",
          "2022-04-30",
          "2022-05-01",
          "2022-05-02",
          "2022-05-03",
          "2022-05-04",
          "2022-05-05",
          "2022-05-06",
          "2022-05-07",
          "2022-05-08",
          "2022-05-09",
          "2022-05-10",
          "2022-05-11",
          "2022-05-12",
          "2022-05-13",
          "2022-05-14",
          "2022-05-15",
          "2022-05-16",
          "2022-05-17",
          "2022-05-18",
          "2022-05-19",
          "2022-05-20",
          "2022-05-21",
          "2022-05-22",
          "2022-05-23",
          "2022-05-24",
          "2022-05-25",
          "2022-05-26",
          "2022-05-27",
          "2022-05-28",
          "2022-05-29",
          "2022-05-30",
          "2022-05-31",
          "2022-06-01",
          "2022-06-02",
          "2022-06-03",
          "2022-06-04",
          "2022-06-05",
          "2022-06-06",
          "2022-06-07",
          "2022-06-08",
          "2022-06-09",
          "2022-06-10",
          "2022-06-11",
          "2022-06-12",
          "2022-06-13",
          "2022-06-14",
          "2022-06-15",
          "2022-06-16",
          "2022-06-17",
          "2022-06-18",
          "2022-06-19",
          "2022-06-20",
          "2022-06-21",
          "2022-06-22",
          "2022-06-23",
          "2022-06-24",
          "2022-06-25",
          "2022-06-26",
          "2022-06-27",
          "2022-06-28",
          "2022-06-29",
          "2022-06-30",
          "2022-07-01",
          "2022-07-02",
          "2022-07-03",
          "2022-07-04",
          "2022-07-05",
          "2022-07-06",
          "2022-07-07",
          "2022-07-08",
          "2022-07-09",
          "2022-07-10",
          "2022-07-11",
          "2022-07-12",
          "2022-07-13",
          "2022-07-14",
          "2022-07-15",
          "2022-07-16",
          "2022-07-17",
          "2022-07-18",
          "2022-07-19",
          "2022-07-20",
          "2022-07-21",
          "2022-07-22",
          "2022-07-23",
          "2022-07-24",
          "2022-07-25",
          "2022-07-26",
          "2022-07-27",
          "2022-07-28",
          "2022-07-29",
          "2022-07-30",
          "2022-07-31",
          "2022-08-01",
          "2022-08-02",
          "2022-08-03",
          "2022-08-04",
          "2022-08-05",
          "2022-08-06",
          "2022-08-07",
          "2022-08-08",
          "2022-08-09",
          "2022-08-10",
          "2022-08-11",
          "2022-08-12",
          "2022-08-13",
          "2022-08-14",
          "2022-08-15",
          "2022-08-16",
          "2022-08-17",
          "2022-08-18",
          "2022-08-19",
          "2022-08-20",
          "2022-08-21",
          "2022-08-22",
          "2022-08-23",
          "2022-08-24",
          "2022-08-25",
          "2022-08-26",
          "2022-08-27",
          "2022-08-28",
          "2022-08-29",
          "2022-08-30",
          "2022-08-31",
          "2022-09-01",
          "2022-09-02",
          "2022-09-03",
          "2022-09-04",
          "2022-09-05",
          "2022-09-06",
          "2022-09-07",
          "2022-09-08",
          "2022-09-09",
          "2022-09-10",
          "2022-09-11",
          "2022-09-12",
          "2022-09-13",
          "2022-09-14",
          "2022-09-15",
          "2022-09-16",
          "2022-09-17",
          "2022-09-18",
          "2022-09-19",
          "2022-09-20",
          "2022-09-21",
          "2022-09-22",
          "2022-09-23",
          "2022-09-24",
          "2022-09-25",
          "2022-09-26",
          "2022-09-27",
          "2022-09-28",
          "2022-09-29",
          "2022-09-30",
          "2022-10-01",
          "2022-10-02",
          "2022-10-03",
          "2022-10-04",
          "2022-10-05",
          "2022-10-06",
          "2022-10-07",
          "2022-10-08",
          "2022-10-09",
          "2022-10-10",
          "2022-10-11",
          "2022-10-12",
          "2022-10-13",
          "2022-10-14",
          "2022-10-15",
          "2022-10-16",
          "2022-10-17",
          "2022-10-18",
          "2022-10-19",
          "2022-10-20",
          "2022-10-21",
          "2022-10-22",
          "2022-10-23",
          "2022-10-24",
          "2022-10-25",
          "2022-10-26",
          "2022-10-27",
          "2022-10-28",
          "2022-10-29",
          "2022-10-30",
          "2022-10-31",
          "2022-11-01",
          "2022-11-02",
          "2022-11-03",
          "2022-11-04",
          "2022-11-05",
          "2022-11-06",
          "2022-11-07",
          "2022-11-08",
          "2022-11-09",
          "2022-11-10"
         ],
         "xaxis": "x",
         "y": [
          1,
          5,
          7,
          2,
          2,
          2,
          8,
          1,
          2,
          1,
          3,
          2,
          1,
          1,
          3,
          6,
          2,
          5,
          4,
          3,
          3,
          2,
          2,
          1,
          1,
          1,
          7,
          2,
          2,
          1,
          1,
          1,
          3,
          1,
          1,
          1,
          1,
          3,
          3,
          2,
          5,
          3,
          3,
          6,
          4,
          3,
          4,
          1,
          2,
          4,
          3,
          1,
          1,
          2,
          1,
          4,
          5,
          1,
          4,
          1,
          4,
          2,
          2,
          4,
          1,
          2,
          2,
          2,
          6,
          1,
          2,
          1,
          2,
          1,
          9,
          2,
          7,
          16,
          7,
          14,
          4,
          9,
          7,
          9,
          6,
          1,
          7,
          2,
          4,
          1,
          5,
          3,
          11,
          6,
          11,
          16,
          15,
          11,
          11,
          2,
          3,
          1,
          1,
          4,
          3,
          1,
          3,
          1,
          4,
          6,
          8,
          8,
          8,
          5,
          6,
          14,
          3,
          4,
          13,
          5,
          2,
          2,
          1,
          4,
          12,
          14,
          8,
          13,
          15,
          7,
          3,
          4,
          5,
          4,
          8,
          5,
          10,
          5,
          4,
          8,
          2,
          3,
          9,
          7,
          6,
          8,
          5,
          4,
          1,
          2,
          3,
          20,
          13,
          3,
          6,
          10,
          4,
          5,
          16,
          14,
          3,
          8,
          1,
          14,
          6,
          7,
          2,
          3,
          4,
          16,
          15,
          29,
          4,
          14,
          13,
          3,
          9,
          8,
          3,
          5,
          8,
          8,
          10,
          12,
          14,
          9,
          3,
          8,
          10,
          11,
          6,
          3,
          4,
          1,
          4,
          10,
          2,
          7,
          11,
          10,
          11,
          8,
          11,
          5,
          3,
          6,
          8,
          20,
          19,
          17,
          3,
          2,
          1,
          5,
          5,
          10,
          4,
          11,
          6,
          4,
          9,
          3,
          12,
          10,
          5,
          10,
          8,
          18,
          4,
          8,
          5,
          6,
          4,
          8,
          15,
          1,
          22,
          4,
          6,
          4,
          7,
          16,
          18,
          6,
          12,
          12,
          13,
          7,
          24,
          16,
          13,
          14,
          11,
          1,
          8,
          8,
          13,
          15,
          10,
          17,
          9,
          10,
          8,
          4,
          6,
          5,
          8,
          14,
          9,
          12,
          2,
          2,
          17,
          4,
          4,
          6,
          11,
          11,
          12,
          4,
          19,
          27,
          26,
          16,
          9,
          12,
          10,
          10,
          17,
          6,
          9,
          12,
          15,
          6,
          5,
          11,
          9,
          7,
          19,
          14,
          16,
          7,
          10,
          23,
          9,
          17,
          11,
          13,
          17,
          14,
          4,
          14,
          7,
          19,
          22,
          13,
          15,
          5,
          22,
          21,
          35,
          8,
          16,
          12,
          20,
          33,
          18,
          18,
          28,
          13,
          20,
          12,
          24,
          16,
          11,
          2,
          14,
          9,
          8,
          8,
          17,
          9,
          20,
          26,
          31,
          21,
          23,
          18,
          17,
          10,
          33,
          21,
          26,
          36,
          29,
          29,
          35,
          47,
          26,
          11,
          30,
          24,
          18,
          21,
          23,
          16,
          29,
          34,
          31,
          27,
          15,
          21,
          27,
          17,
          27,
          21,
          24,
          18,
          33,
          22,
          10,
          11,
          38,
          29,
          25,
          26,
          12,
          12,
          32,
          22,
          16,
          44,
          39,
          31,
          40,
          40,
          34,
          33,
          24,
          31,
          21,
          14,
          21,
          30,
          24,
          27,
          26,
          27,
          28,
          37,
          20,
          18,
          23,
          19,
          8,
          18,
          24,
          28,
          32,
          27,
          22,
          14,
          23,
          32,
          34,
          27,
          58,
          40,
          47,
          46,
          56,
          55,
          46,
          23,
          29,
          36,
          53,
          23,
          23,
          36,
          39,
          31,
          31,
          30,
          46,
          65,
          51,
          45,
          52,
          41,
          31,
          37,
          24,
          30,
          39,
          55,
          90,
          117,
          125,
          104,
          58,
          85,
          83,
          70,
          82,
          76,
          102,
          95,
          106,
          90,
          60,
          82,
          71,
          60,
          82,
          70,
          80,
          91,
          79,
          55,
          53,
          86,
          64,
          90,
          96,
          87,
          84,
          92,
          106,
          81,
          107,
          94,
          112,
          105,
          131,
          88,
          83,
          87,
          110,
          109,
          157,
          134,
          155,
          158,
          142,
          123,
          137,
          161,
          174,
          167,
          174,
          131,
          294,
          255,
          300,
          281,
          316,
          261,
          334,
          329,
          352,
          314,
          310,
          353,
          341,
          325,
          309,
          337,
          317,
          337,
          353,
          285,
          396,
          388,
          363,
          447,
          376,
          384,
          469,
          450,
          410,
          411,
          406,
          444,
          415,
          495,
          470,
          499,
          453,
          408,
          433,
          412,
          429,
          473,
          486,
          396,
          448,
          456,
          529,
          448,
          380,
          514,
          533,
          418,
          523,
          610,
          544,
          530,
          550,
          510,
          683,
          655,
          588,
          445,
          1296,
          1209,
          1149,
          1375,
          1225,
          1247,
          1205,
          1172,
          1141,
          1128,
          1339,
          1460,
          1190,
          1483,
          1287,
          1417,
          1284,
          1466,
          1514,
          1470,
          1319,
          1513,
          1474,
          1432,
          1582,
          1585,
          1778,
          1628,
          1888,
          1901,
          1821,
          1945,
          2134,
          1857,
          2160,
          2063,
          2135,
          2246,
          2570,
          2485,
          2320,
          2416,
          2273,
          2218,
          2305,
          2530,
          2465,
          2368,
          2313,
          2391,
          2380,
          2585,
          2622,
          2807,
          2515,
          2486,
          5576,
          4881,
          4806,
          4896,
          4730,
          4209,
          4044,
          3809,
          3595,
          3063,
          2818,
          2762,
          2536,
          2422,
          2482,
          2383,
          2203,
          2083,
          1900,
          1747,
          1375,
          716,
          137
         ],
         "yaxis": "y"
        }
       ],
       "layout": {
        "legend": {
         "tracegroupgap": 0
        },
        "margin": {
         "t": 60
        },
        "template": {
         "data": {
          "bar": [
           {
            "error_x": {
             "color": "#2a3f5f"
            },
            "error_y": {
             "color": "#2a3f5f"
            },
            "marker": {
             "line": {
              "color": "#E5ECF6",
              "width": 0.5
             },
             "pattern": {
              "fillmode": "overlay",
              "size": 10,
              "solidity": 0.2
             }
            },
            "type": "bar"
           }
          ],
          "barpolar": [
           {
            "marker": {
             "line": {
              "color": "#E5ECF6",
              "width": 0.5
             },
             "pattern": {
              "fillmode": "overlay",
              "size": 10,
              "solidity": 0.2
             }
            },
            "type": "barpolar"
           }
          ],
          "carpet": [
           {
            "aaxis": {
             "endlinecolor": "#2a3f5f",
             "gridcolor": "white",
             "linecolor": "white",
             "minorgridcolor": "white",
             "startlinecolor": "#2a3f5f"
            },
            "baxis": {
             "endlinecolor": "#2a3f5f",
             "gridcolor": "white",
             "linecolor": "white",
             "minorgridcolor": "white",
             "startlinecolor": "#2a3f5f"
            },
            "type": "carpet"
           }
          ],
          "choropleth": [
           {
            "colorbar": {
             "outlinewidth": 0,
             "ticks": ""
            },
            "type": "choropleth"
           }
          ],
          "contour": [
           {
            "colorbar": {
             "outlinewidth": 0,
             "ticks": ""
            },
            "colorscale": [
             [
              0,
              "#0d0887"
             ],
             [
              0.1111111111111111,
              "#46039f"
             ],
             [
              0.2222222222222222,
              "#7201a8"
             ],
             [
              0.3333333333333333,
              "#9c179e"
             ],
             [
              0.4444444444444444,
              "#bd3786"
             ],
             [
              0.5555555555555556,
              "#d8576b"
             ],
             [
              0.6666666666666666,
              "#ed7953"
             ],
             [
              0.7777777777777778,
              "#fb9f3a"
             ],
             [
              0.8888888888888888,
              "#fdca26"
             ],
             [
              1,
              "#f0f921"
             ]
            ],
            "type": "contour"
           }
          ],
          "contourcarpet": [
           {
            "colorbar": {
             "outlinewidth": 0,
             "ticks": ""
            },
            "type": "contourcarpet"
           }
          ],
          "heatmap": [
           {
            "colorbar": {
             "outlinewidth": 0,
             "ticks": ""
            },
            "colorscale": [
             [
              0,
              "#0d0887"
             ],
             [
              0.1111111111111111,
              "#46039f"
             ],
             [
              0.2222222222222222,
              "#7201a8"
             ],
             [
              0.3333333333333333,
              "#9c179e"
             ],
             [
              0.4444444444444444,
              "#bd3786"
             ],
             [
              0.5555555555555556,
              "#d8576b"
             ],
             [
              0.6666666666666666,
              "#ed7953"
             ],
             [
              0.7777777777777778,
              "#fb9f3a"
             ],
             [
              0.8888888888888888,
              "#fdca26"
             ],
             [
              1,
              "#f0f921"
             ]
            ],
            "type": "heatmap"
           }
          ],
          "heatmapgl": [
           {
            "colorbar": {
             "outlinewidth": 0,
             "ticks": ""
            },
            "colorscale": [
             [
              0,
              "#0d0887"
             ],
             [
              0.1111111111111111,
              "#46039f"
             ],
             [
              0.2222222222222222,
              "#7201a8"
             ],
             [
              0.3333333333333333,
              "#9c179e"
             ],
             [
              0.4444444444444444,
              "#bd3786"
             ],
             [
              0.5555555555555556,
              "#d8576b"
             ],
             [
              0.6666666666666666,
              "#ed7953"
             ],
             [
              0.7777777777777778,
              "#fb9f3a"
             ],
             [
              0.8888888888888888,
              "#fdca26"
             ],
             [
              1,
              "#f0f921"
             ]
            ],
            "type": "heatmapgl"
           }
          ],
          "histogram": [
           {
            "marker": {
             "pattern": {
              "fillmode": "overlay",
              "size": 10,
              "solidity": 0.2
             }
            },
            "type": "histogram"
           }
          ],
          "histogram2d": [
           {
            "colorbar": {
             "outlinewidth": 0,
             "ticks": ""
            },
            "colorscale": [
             [
              0,
              "#0d0887"
             ],
             [
              0.1111111111111111,
              "#46039f"
             ],
             [
              0.2222222222222222,
              "#7201a8"
             ],
             [
              0.3333333333333333,
              "#9c179e"
             ],
             [
              0.4444444444444444,
              "#bd3786"
             ],
             [
              0.5555555555555556,
              "#d8576b"
             ],
             [
              0.6666666666666666,
              "#ed7953"
             ],
             [
              0.7777777777777778,
              "#fb9f3a"
             ],
             [
              0.8888888888888888,
              "#fdca26"
             ],
             [
              1,
              "#f0f921"
             ]
            ],
            "type": "histogram2d"
           }
          ],
          "histogram2dcontour": [
           {
            "colorbar": {
             "outlinewidth": 0,
             "ticks": ""
            },
            "colorscale": [
             [
              0,
              "#0d0887"
             ],
             [
              0.1111111111111111,
              "#46039f"
             ],
             [
              0.2222222222222222,
              "#7201a8"
             ],
             [
              0.3333333333333333,
              "#9c179e"
             ],
             [
              0.4444444444444444,
              "#bd3786"
             ],
             [
              0.5555555555555556,
              "#d8576b"
             ],
             [
              0.6666666666666666,
              "#ed7953"
             ],
             [
              0.7777777777777778,
              "#fb9f3a"
             ],
             [
              0.8888888888888888,
              "#fdca26"
             ],
             [
              1,
              "#f0f921"
             ]
            ],
            "type": "histogram2dcontour"
           }
          ],
          "mesh3d": [
           {
            "colorbar": {
             "outlinewidth": 0,
             "ticks": ""
            },
            "type": "mesh3d"
           }
          ],
          "parcoords": [
           {
            "line": {
             "colorbar": {
              "outlinewidth": 0,
              "ticks": ""
             }
            },
            "type": "parcoords"
           }
          ],
          "pie": [
           {
            "automargin": true,
            "type": "pie"
           }
          ],
          "scatter": [
           {
            "fillpattern": {
             "fillmode": "overlay",
             "size": 10,
             "solidity": 0.2
            },
            "type": "scatter"
           }
          ],
          "scatter3d": [
           {
            "line": {
             "colorbar": {
              "outlinewidth": 0,
              "ticks": ""
             }
            },
            "marker": {
             "colorbar": {
              "outlinewidth": 0,
              "ticks": ""
             }
            },
            "type": "scatter3d"
           }
          ],
          "scattercarpet": [
           {
            "marker": {
             "colorbar": {
              "outlinewidth": 0,
              "ticks": ""
             }
            },
            "type": "scattercarpet"
           }
          ],
          "scattergeo": [
           {
            "marker": {
             "colorbar": {
              "outlinewidth": 0,
              "ticks": ""
             }
            },
            "type": "scattergeo"
           }
          ],
          "scattergl": [
           {
            "marker": {
             "colorbar": {
              "outlinewidth": 0,
              "ticks": ""
             }
            },
            "type": "scattergl"
           }
          ],
          "scattermapbox": [
           {
            "marker": {
             "colorbar": {
              "outlinewidth": 0,
              "ticks": ""
             }
            },
            "type": "scattermapbox"
           }
          ],
          "scatterpolar": [
           {
            "marker": {
             "colorbar": {
              "outlinewidth": 0,
              "ticks": ""
             }
            },
            "type": "scatterpolar"
           }
          ],
          "scatterpolargl": [
           {
            "marker": {
             "colorbar": {
              "outlinewidth": 0,
              "ticks": ""
             }
            },
            "type": "scatterpolargl"
           }
          ],
          "scatterternary": [
           {
            "marker": {
             "colorbar": {
              "outlinewidth": 0,
              "ticks": ""
             }
            },
            "type": "scatterternary"
           }
          ],
          "surface": [
           {
            "colorbar": {
             "outlinewidth": 0,
             "ticks": ""
            },
            "colorscale": [
             [
              0,
              "#0d0887"
             ],
             [
              0.1111111111111111,
              "#46039f"
             ],
             [
              0.2222222222222222,
              "#7201a8"
             ],
             [
              0.3333333333333333,
              "#9c179e"
             ],
             [
              0.4444444444444444,
              "#bd3786"
             ],
             [
              0.5555555555555556,
              "#d8576b"
             ],
             [
              0.6666666666666666,
              "#ed7953"
             ],
             [
              0.7777777777777778,
              "#fb9f3a"
             ],
             [
              0.8888888888888888,
              "#fdca26"
             ],
             [
              1,
              "#f0f921"
             ]
            ],
            "type": "surface"
           }
          ],
          "table": [
           {
            "cells": {
             "fill": {
              "color": "#EBF0F8"
             },
             "line": {
              "color": "white"
             }
            },
            "header": {
             "fill": {
              "color": "#C8D4E3"
             },
             "line": {
              "color": "white"
             }
            },
            "type": "table"
           }
          ]
         },
         "layout": {
          "annotationdefaults": {
           "arrowcolor": "#2a3f5f",
           "arrowhead": 0,
           "arrowwidth": 1
          },
          "autotypenumbers": "strict",
          "coloraxis": {
           "colorbar": {
            "outlinewidth": 0,
            "ticks": ""
           }
          },
          "colorscale": {
           "diverging": [
            [
             0,
             "#8e0152"
            ],
            [
             0.1,
             "#c51b7d"
            ],
            [
             0.2,
             "#de77ae"
            ],
            [
             0.3,
             "#f1b6da"
            ],
            [
             0.4,
             "#fde0ef"
            ],
            [
             0.5,
             "#f7f7f7"
            ],
            [
             0.6,
             "#e6f5d0"
            ],
            [
             0.7,
             "#b8e186"
            ],
            [
             0.8,
             "#7fbc41"
            ],
            [
             0.9,
             "#4d9221"
            ],
            [
             1,
             "#276419"
            ]
           ],
           "sequential": [
            [
             0,
             "#0d0887"
            ],
            [
             0.1111111111111111,
             "#46039f"
            ],
            [
             0.2222222222222222,
             "#7201a8"
            ],
            [
             0.3333333333333333,
             "#9c179e"
            ],
            [
             0.4444444444444444,
             "#bd3786"
            ],
            [
             0.5555555555555556,
             "#d8576b"
            ],
            [
             0.6666666666666666,
             "#ed7953"
            ],
            [
             0.7777777777777778,
             "#fb9f3a"
            ],
            [
             0.8888888888888888,
             "#fdca26"
            ],
            [
             1,
             "#f0f921"
            ]
           ],
           "sequentialminus": [
            [
             0,
             "#0d0887"
            ],
            [
             0.1111111111111111,
             "#46039f"
            ],
            [
             0.2222222222222222,
             "#7201a8"
            ],
            [
             0.3333333333333333,
             "#9c179e"
            ],
            [
             0.4444444444444444,
             "#bd3786"
            ],
            [
             0.5555555555555556,
             "#d8576b"
            ],
            [
             0.6666666666666666,
             "#ed7953"
            ],
            [
             0.7777777777777778,
             "#fb9f3a"
            ],
            [
             0.8888888888888888,
             "#fdca26"
            ],
            [
             1,
             "#f0f921"
            ]
           ]
          },
          "colorway": [
           "#636efa",
           "#EF553B",
           "#00cc96",
           "#ab63fa",
           "#FFA15A",
           "#19d3f3",
           "#FF6692",
           "#B6E880",
           "#FF97FF",
           "#FECB52"
          ],
          "font": {
           "color": "#2a3f5f"
          },
          "geo": {
           "bgcolor": "white",
           "lakecolor": "white",
           "landcolor": "#E5ECF6",
           "showlakes": true,
           "showland": true,
           "subunitcolor": "white"
          },
          "hoverlabel": {
           "align": "left"
          },
          "hovermode": "closest",
          "mapbox": {
           "style": "light"
          },
          "paper_bgcolor": "white",
          "plot_bgcolor": "#E5ECF6",
          "polar": {
           "angularaxis": {
            "gridcolor": "white",
            "linecolor": "white",
            "ticks": ""
           },
           "bgcolor": "#E5ECF6",
           "radialaxis": {
            "gridcolor": "white",
            "linecolor": "white",
            "ticks": ""
           }
          },
          "scene": {
           "xaxis": {
            "backgroundcolor": "#E5ECF6",
            "gridcolor": "white",
            "gridwidth": 2,
            "linecolor": "white",
            "showbackground": true,
            "ticks": "",
            "zerolinecolor": "white"
           },
           "yaxis": {
            "backgroundcolor": "#E5ECF6",
            "gridcolor": "white",
            "gridwidth": 2,
            "linecolor": "white",
            "showbackground": true,
            "ticks": "",
            "zerolinecolor": "white"
           },
           "zaxis": {
            "backgroundcolor": "#E5ECF6",
            "gridcolor": "white",
            "gridwidth": 2,
            "linecolor": "white",
            "showbackground": true,
            "ticks": "",
            "zerolinecolor": "white"
           }
          },
          "shapedefaults": {
           "line": {
            "color": "#2a3f5f"
           }
          },
          "ternary": {
           "aaxis": {
            "gridcolor": "white",
            "linecolor": "white",
            "ticks": ""
           },
           "baxis": {
            "gridcolor": "white",
            "linecolor": "white",
            "ticks": ""
           },
           "bgcolor": "#E5ECF6",
           "caxis": {
            "gridcolor": "white",
            "linecolor": "white",
            "ticks": ""
           }
          },
          "title": {
           "x": 0.05
          },
          "xaxis": {
           "automargin": true,
           "gridcolor": "white",
           "linecolor": "white",
           "ticks": "",
           "title": {
            "standoff": 15
           },
           "zerolinecolor": "white",
           "zerolinewidth": 2
          },
          "yaxis": {
           "automargin": true,
           "gridcolor": "white",
           "linecolor": "white",
           "ticks": "",
           "title": {
            "standoff": 15
           },
           "zerolinecolor": "white",
           "zerolinewidth": 2
          }
         }
        },
        "xaxis": {
         "anchor": "y",
         "domain": [
          0,
          1
         ],
         "title": {
          "text": "x"
         }
        },
        "yaxis": {
         "anchor": "x",
         "domain": [
          0,
          1
         ],
         "title": {
          "text": "y"
         }
        }
       }
      }
     },
     "metadata": {},
     "output_type": "display_data"
    }
   ],
   "source": [
    "fig = px.line(x = df_matches_date_count_plot['dateMatch'], y = df_matches_date_count_plot['count'])\n",
    "fig.show()"
   ]
  },
  {
   "cell_type": "code",
   "execution_count": 205,
   "metadata": {},
   "outputs": [
    {
     "data": {
      "text/html": [
       "<div>\n",
       "<style scoped>\n",
       "    .dataframe tbody tr th:only-of-type {\n",
       "        vertical-align: middle;\n",
       "    }\n",
       "\n",
       "    .dataframe tbody tr th {\n",
       "        vertical-align: top;\n",
       "    }\n",
       "\n",
       "    .dataframe thead th {\n",
       "        text-align: right;\n",
       "    }\n",
       "</style>\n",
       "<table border=\"1\" class=\"dataframe\">\n",
       "  <thead>\n",
       "    <tr style=\"text-align: right;\">\n",
       "      <th></th>\n",
       "      <th>agentName</th>\n",
       "      <th>count</th>\n",
       "    </tr>\n",
       "  </thead>\n",
       "  <tbody>\n",
       "    <tr>\n",
       "      <th>0</th>\n",
       "      <td>Chamber</td>\n",
       "      <td>41921</td>\n",
       "    </tr>\n",
       "    <tr>\n",
       "      <th>1</th>\n",
       "      <td>Jett</td>\n",
       "      <td>30771</td>\n",
       "    </tr>\n",
       "    <tr>\n",
       "      <th>2</th>\n",
       "      <td>Reyna</td>\n",
       "      <td>18026</td>\n",
       "    </tr>\n",
       "    <tr>\n",
       "      <th>3</th>\n",
       "      <td>Sova</td>\n",
       "      <td>15666</td>\n",
       "    </tr>\n",
       "    <tr>\n",
       "      <th>4</th>\n",
       "      <td>Fade</td>\n",
       "      <td>13894</td>\n",
       "    </tr>\n",
       "    <tr>\n",
       "      <th>5</th>\n",
       "      <td>Raze</td>\n",
       "      <td>13543</td>\n",
       "    </tr>\n",
       "    <tr>\n",
       "      <th>6</th>\n",
       "      <td>Viper</td>\n",
       "      <td>13431</td>\n",
       "    </tr>\n",
       "    <tr>\n",
       "      <th>7</th>\n",
       "      <td>Omen</td>\n",
       "      <td>9428</td>\n",
       "    </tr>\n",
       "    <tr>\n",
       "      <th>8</th>\n",
       "      <td>Brimstone</td>\n",
       "      <td>8562</td>\n",
       "    </tr>\n",
       "    <tr>\n",
       "      <th>9</th>\n",
       "      <td>KAY/O</td>\n",
       "      <td>7434</td>\n",
       "    </tr>\n",
       "    <tr>\n",
       "      <th>10</th>\n",
       "      <td>Sage</td>\n",
       "      <td>7242</td>\n",
       "    </tr>\n",
       "    <tr>\n",
       "      <th>11</th>\n",
       "      <td>Phoenix</td>\n",
       "      <td>5622</td>\n",
       "    </tr>\n",
       "    <tr>\n",
       "      <th>12</th>\n",
       "      <td>Breach</td>\n",
       "      <td>5167</td>\n",
       "    </tr>\n",
       "    <tr>\n",
       "      <th>13</th>\n",
       "      <td>Skye</td>\n",
       "      <td>4850</td>\n",
       "    </tr>\n",
       "    <tr>\n",
       "      <th>14</th>\n",
       "      <td>Astra</td>\n",
       "      <td>4557</td>\n",
       "    </tr>\n",
       "    <tr>\n",
       "      <th>15</th>\n",
       "      <td>Neon</td>\n",
       "      <td>3391</td>\n",
       "    </tr>\n",
       "    <tr>\n",
       "      <th>16</th>\n",
       "      <td>Killjoy</td>\n",
       "      <td>1874</td>\n",
       "    </tr>\n",
       "    <tr>\n",
       "      <th>17</th>\n",
       "      <td>Yoru</td>\n",
       "      <td>1699</td>\n",
       "    </tr>\n",
       "    <tr>\n",
       "      <th>18</th>\n",
       "      <td>Cypher</td>\n",
       "      <td>1595</td>\n",
       "    </tr>\n",
       "    <tr>\n",
       "      <th>19</th>\n",
       "      <td>Harbor</td>\n",
       "      <td>755</td>\n",
       "    </tr>\n",
       "  </tbody>\n",
       "</table>\n",
       "</div>"
      ],
      "text/plain": [
       "    agentName  count\n",
       "0     Chamber  41921\n",
       "1        Jett  30771\n",
       "2       Reyna  18026\n",
       "3        Sova  15666\n",
       "4        Fade  13894\n",
       "5        Raze  13543\n",
       "6       Viper  13431\n",
       "7        Omen   9428\n",
       "8   Brimstone   8562\n",
       "9       KAY/O   7434\n",
       "10       Sage   7242\n",
       "11    Phoenix   5622\n",
       "12     Breach   5167\n",
       "13       Skye   4850\n",
       "14      Astra   4557\n",
       "15       Neon   3391\n",
       "16    Killjoy   1874\n",
       "17       Yoru   1699\n",
       "18     Cypher   1595\n",
       "19     Harbor    755"
      ]
     },
     "execution_count": 205,
     "metadata": {},
     "output_type": "execute_result"
    }
   ],
   "source": [
    "df_matches_agents_selected = (\n",
    "                                df_matches_raw.groupby(['agentName'])['agentName']\n",
    "                                .count() \n",
    "                                .reset_index(name='count') \n",
    "                                .sort_values(['count'], ascending=False) \n",
    "                                .reset_index(drop = True)\n",
    "                              )\n",
    "df_matches_agents_selected"
   ]
  },
  {
   "cell_type": "code",
   "execution_count": 217,
   "metadata": {},
   "outputs": [
    {
     "data": {
      "application/vnd.plotly.v1+json": {
       "config": {
        "plotlyServerURL": "https://plot.ly"
       },
       "data": [
        {
         "alignmentgroup": "True",
         "cliponaxis": false,
         "hovertemplate": "agentName=%{x}<br>count=%{y}<extra></extra>",
         "legendgroup": "",
         "marker": {
          "color": "#636efa",
          "pattern": {
           "shape": ""
          }
         },
         "name": "",
         "offsetgroup": "",
         "orientation": "v",
         "showlegend": false,
         "textangle": 0,
         "textfont": {
          "size": 10
         },
         "textposition": "outside",
         "texttemplate": "%{y:.4s}",
         "type": "bar",
         "x": [
          "Chamber",
          "Jett",
          "Reyna",
          "Sova",
          "Fade",
          "Raze",
          "Viper",
          "Omen",
          "Brimstone",
          "KAY/O",
          "Sage",
          "Phoenix",
          "Breach",
          "Skye",
          "Astra",
          "Neon",
          "Killjoy",
          "Yoru",
          "Cypher",
          "Harbor"
         ],
         "xaxis": "x",
         "y": [
          41921,
          30771,
          18026,
          15666,
          13894,
          13543,
          13431,
          9428,
          8562,
          7434,
          7242,
          5622,
          5167,
          4850,
          4557,
          3391,
          1874,
          1699,
          1595,
          755
         ],
         "yaxis": "y"
        }
       ],
       "layout": {
        "barmode": "relative",
        "legend": {
         "tracegroupgap": 0
        },
        "template": {
         "data": {
          "bar": [
           {
            "error_x": {
             "color": "#2a3f5f"
            },
            "error_y": {
             "color": "#2a3f5f"
            },
            "marker": {
             "line": {
              "color": "#E5ECF6",
              "width": 0.5
             },
             "pattern": {
              "fillmode": "overlay",
              "size": 10,
              "solidity": 0.2
             }
            },
            "type": "bar"
           }
          ],
          "barpolar": [
           {
            "marker": {
             "line": {
              "color": "#E5ECF6",
              "width": 0.5
             },
             "pattern": {
              "fillmode": "overlay",
              "size": 10,
              "solidity": 0.2
             }
            },
            "type": "barpolar"
           }
          ],
          "carpet": [
           {
            "aaxis": {
             "endlinecolor": "#2a3f5f",
             "gridcolor": "white",
             "linecolor": "white",
             "minorgridcolor": "white",
             "startlinecolor": "#2a3f5f"
            },
            "baxis": {
             "endlinecolor": "#2a3f5f",
             "gridcolor": "white",
             "linecolor": "white",
             "minorgridcolor": "white",
             "startlinecolor": "#2a3f5f"
            },
            "type": "carpet"
           }
          ],
          "choropleth": [
           {
            "colorbar": {
             "outlinewidth": 0,
             "ticks": ""
            },
            "type": "choropleth"
           }
          ],
          "contour": [
           {
            "colorbar": {
             "outlinewidth": 0,
             "ticks": ""
            },
            "colorscale": [
             [
              0,
              "#0d0887"
             ],
             [
              0.1111111111111111,
              "#46039f"
             ],
             [
              0.2222222222222222,
              "#7201a8"
             ],
             [
              0.3333333333333333,
              "#9c179e"
             ],
             [
              0.4444444444444444,
              "#bd3786"
             ],
             [
              0.5555555555555556,
              "#d8576b"
             ],
             [
              0.6666666666666666,
              "#ed7953"
             ],
             [
              0.7777777777777778,
              "#fb9f3a"
             ],
             [
              0.8888888888888888,
              "#fdca26"
             ],
             [
              1,
              "#f0f921"
             ]
            ],
            "type": "contour"
           }
          ],
          "contourcarpet": [
           {
            "colorbar": {
             "outlinewidth": 0,
             "ticks": ""
            },
            "type": "contourcarpet"
           }
          ],
          "heatmap": [
           {
            "colorbar": {
             "outlinewidth": 0,
             "ticks": ""
            },
            "colorscale": [
             [
              0,
              "#0d0887"
             ],
             [
              0.1111111111111111,
              "#46039f"
             ],
             [
              0.2222222222222222,
              "#7201a8"
             ],
             [
              0.3333333333333333,
              "#9c179e"
             ],
             [
              0.4444444444444444,
              "#bd3786"
             ],
             [
              0.5555555555555556,
              "#d8576b"
             ],
             [
              0.6666666666666666,
              "#ed7953"
             ],
             [
              0.7777777777777778,
              "#fb9f3a"
             ],
             [
              0.8888888888888888,
              "#fdca26"
             ],
             [
              1,
              "#f0f921"
             ]
            ],
            "type": "heatmap"
           }
          ],
          "heatmapgl": [
           {
            "colorbar": {
             "outlinewidth": 0,
             "ticks": ""
            },
            "colorscale": [
             [
              0,
              "#0d0887"
             ],
             [
              0.1111111111111111,
              "#46039f"
             ],
             [
              0.2222222222222222,
              "#7201a8"
             ],
             [
              0.3333333333333333,
              "#9c179e"
             ],
             [
              0.4444444444444444,
              "#bd3786"
             ],
             [
              0.5555555555555556,
              "#d8576b"
             ],
             [
              0.6666666666666666,
              "#ed7953"
             ],
             [
              0.7777777777777778,
              "#fb9f3a"
             ],
             [
              0.8888888888888888,
              "#fdca26"
             ],
             [
              1,
              "#f0f921"
             ]
            ],
            "type": "heatmapgl"
           }
          ],
          "histogram": [
           {
            "marker": {
             "pattern": {
              "fillmode": "overlay",
              "size": 10,
              "solidity": 0.2
             }
            },
            "type": "histogram"
           }
          ],
          "histogram2d": [
           {
            "colorbar": {
             "outlinewidth": 0,
             "ticks": ""
            },
            "colorscale": [
             [
              0,
              "#0d0887"
             ],
             [
              0.1111111111111111,
              "#46039f"
             ],
             [
              0.2222222222222222,
              "#7201a8"
             ],
             [
              0.3333333333333333,
              "#9c179e"
             ],
             [
              0.4444444444444444,
              "#bd3786"
             ],
             [
              0.5555555555555556,
              "#d8576b"
             ],
             [
              0.6666666666666666,
              "#ed7953"
             ],
             [
              0.7777777777777778,
              "#fb9f3a"
             ],
             [
              0.8888888888888888,
              "#fdca26"
             ],
             [
              1,
              "#f0f921"
             ]
            ],
            "type": "histogram2d"
           }
          ],
          "histogram2dcontour": [
           {
            "colorbar": {
             "outlinewidth": 0,
             "ticks": ""
            },
            "colorscale": [
             [
              0,
              "#0d0887"
             ],
             [
              0.1111111111111111,
              "#46039f"
             ],
             [
              0.2222222222222222,
              "#7201a8"
             ],
             [
              0.3333333333333333,
              "#9c179e"
             ],
             [
              0.4444444444444444,
              "#bd3786"
             ],
             [
              0.5555555555555556,
              "#d8576b"
             ],
             [
              0.6666666666666666,
              "#ed7953"
             ],
             [
              0.7777777777777778,
              "#fb9f3a"
             ],
             [
              0.8888888888888888,
              "#fdca26"
             ],
             [
              1,
              "#f0f921"
             ]
            ],
            "type": "histogram2dcontour"
           }
          ],
          "mesh3d": [
           {
            "colorbar": {
             "outlinewidth": 0,
             "ticks": ""
            },
            "type": "mesh3d"
           }
          ],
          "parcoords": [
           {
            "line": {
             "colorbar": {
              "outlinewidth": 0,
              "ticks": ""
             }
            },
            "type": "parcoords"
           }
          ],
          "pie": [
           {
            "automargin": true,
            "type": "pie"
           }
          ],
          "scatter": [
           {
            "fillpattern": {
             "fillmode": "overlay",
             "size": 10,
             "solidity": 0.2
            },
            "type": "scatter"
           }
          ],
          "scatter3d": [
           {
            "line": {
             "colorbar": {
              "outlinewidth": 0,
              "ticks": ""
             }
            },
            "marker": {
             "colorbar": {
              "outlinewidth": 0,
              "ticks": ""
             }
            },
            "type": "scatter3d"
           }
          ],
          "scattercarpet": [
           {
            "marker": {
             "colorbar": {
              "outlinewidth": 0,
              "ticks": ""
             }
            },
            "type": "scattercarpet"
           }
          ],
          "scattergeo": [
           {
            "marker": {
             "colorbar": {
              "outlinewidth": 0,
              "ticks": ""
             }
            },
            "type": "scattergeo"
           }
          ],
          "scattergl": [
           {
            "marker": {
             "colorbar": {
              "outlinewidth": 0,
              "ticks": ""
             }
            },
            "type": "scattergl"
           }
          ],
          "scattermapbox": [
           {
            "marker": {
             "colorbar": {
              "outlinewidth": 0,
              "ticks": ""
             }
            },
            "type": "scattermapbox"
           }
          ],
          "scatterpolar": [
           {
            "marker": {
             "colorbar": {
              "outlinewidth": 0,
              "ticks": ""
             }
            },
            "type": "scatterpolar"
           }
          ],
          "scatterpolargl": [
           {
            "marker": {
             "colorbar": {
              "outlinewidth": 0,
              "ticks": ""
             }
            },
            "type": "scatterpolargl"
           }
          ],
          "scatterternary": [
           {
            "marker": {
             "colorbar": {
              "outlinewidth": 0,
              "ticks": ""
             }
            },
            "type": "scatterternary"
           }
          ],
          "surface": [
           {
            "colorbar": {
             "outlinewidth": 0,
             "ticks": ""
            },
            "colorscale": [
             [
              0,
              "#0d0887"
             ],
             [
              0.1111111111111111,
              "#46039f"
             ],
             [
              0.2222222222222222,
              "#7201a8"
             ],
             [
              0.3333333333333333,
              "#9c179e"
             ],
             [
              0.4444444444444444,
              "#bd3786"
             ],
             [
              0.5555555555555556,
              "#d8576b"
             ],
             [
              0.6666666666666666,
              "#ed7953"
             ],
             [
              0.7777777777777778,
              "#fb9f3a"
             ],
             [
              0.8888888888888888,
              "#fdca26"
             ],
             [
              1,
              "#f0f921"
             ]
            ],
            "type": "surface"
           }
          ],
          "table": [
           {
            "cells": {
             "fill": {
              "color": "#EBF0F8"
             },
             "line": {
              "color": "white"
             }
            },
            "header": {
             "fill": {
              "color": "#C8D4E3"
             },
             "line": {
              "color": "white"
             }
            },
            "type": "table"
           }
          ]
         },
         "layout": {
          "annotationdefaults": {
           "arrowcolor": "#2a3f5f",
           "arrowhead": 0,
           "arrowwidth": 1
          },
          "autotypenumbers": "strict",
          "coloraxis": {
           "colorbar": {
            "outlinewidth": 0,
            "ticks": ""
           }
          },
          "colorscale": {
           "diverging": [
            [
             0,
             "#8e0152"
            ],
            [
             0.1,
             "#c51b7d"
            ],
            [
             0.2,
             "#de77ae"
            ],
            [
             0.3,
             "#f1b6da"
            ],
            [
             0.4,
             "#fde0ef"
            ],
            [
             0.5,
             "#f7f7f7"
            ],
            [
             0.6,
             "#e6f5d0"
            ],
            [
             0.7,
             "#b8e186"
            ],
            [
             0.8,
             "#7fbc41"
            ],
            [
             0.9,
             "#4d9221"
            ],
            [
             1,
             "#276419"
            ]
           ],
           "sequential": [
            [
             0,
             "#0d0887"
            ],
            [
             0.1111111111111111,
             "#46039f"
            ],
            [
             0.2222222222222222,
             "#7201a8"
            ],
            [
             0.3333333333333333,
             "#9c179e"
            ],
            [
             0.4444444444444444,
             "#bd3786"
            ],
            [
             0.5555555555555556,
             "#d8576b"
            ],
            [
             0.6666666666666666,
             "#ed7953"
            ],
            [
             0.7777777777777778,
             "#fb9f3a"
            ],
            [
             0.8888888888888888,
             "#fdca26"
            ],
            [
             1,
             "#f0f921"
            ]
           ],
           "sequentialminus": [
            [
             0,
             "#0d0887"
            ],
            [
             0.1111111111111111,
             "#46039f"
            ],
            [
             0.2222222222222222,
             "#7201a8"
            ],
            [
             0.3333333333333333,
             "#9c179e"
            ],
            [
             0.4444444444444444,
             "#bd3786"
            ],
            [
             0.5555555555555556,
             "#d8576b"
            ],
            [
             0.6666666666666666,
             "#ed7953"
            ],
            [
             0.7777777777777778,
             "#fb9f3a"
            ],
            [
             0.8888888888888888,
             "#fdca26"
            ],
            [
             1,
             "#f0f921"
            ]
           ]
          },
          "colorway": [
           "#636efa",
           "#EF553B",
           "#00cc96",
           "#ab63fa",
           "#FFA15A",
           "#19d3f3",
           "#FF6692",
           "#B6E880",
           "#FF97FF",
           "#FECB52"
          ],
          "font": {
           "color": "#2a3f5f"
          },
          "geo": {
           "bgcolor": "white",
           "lakecolor": "white",
           "landcolor": "#E5ECF6",
           "showlakes": true,
           "showland": true,
           "subunitcolor": "white"
          },
          "hoverlabel": {
           "align": "left"
          },
          "hovermode": "closest",
          "mapbox": {
           "style": "light"
          },
          "paper_bgcolor": "white",
          "plot_bgcolor": "#E5ECF6",
          "polar": {
           "angularaxis": {
            "gridcolor": "white",
            "linecolor": "white",
            "ticks": ""
           },
           "bgcolor": "#E5ECF6",
           "radialaxis": {
            "gridcolor": "white",
            "linecolor": "white",
            "ticks": ""
           }
          },
          "scene": {
           "xaxis": {
            "backgroundcolor": "#E5ECF6",
            "gridcolor": "white",
            "gridwidth": 2,
            "linecolor": "white",
            "showbackground": true,
            "ticks": "",
            "zerolinecolor": "white"
           },
           "yaxis": {
            "backgroundcolor": "#E5ECF6",
            "gridcolor": "white",
            "gridwidth": 2,
            "linecolor": "white",
            "showbackground": true,
            "ticks": "",
            "zerolinecolor": "white"
           },
           "zaxis": {
            "backgroundcolor": "#E5ECF6",
            "gridcolor": "white",
            "gridwidth": 2,
            "linecolor": "white",
            "showbackground": true,
            "ticks": "",
            "zerolinecolor": "white"
           }
          },
          "shapedefaults": {
           "line": {
            "color": "#2a3f5f"
           }
          },
          "ternary": {
           "aaxis": {
            "gridcolor": "white",
            "linecolor": "white",
            "ticks": ""
           },
           "baxis": {
            "gridcolor": "white",
            "linecolor": "white",
            "ticks": ""
           },
           "bgcolor": "#E5ECF6",
           "caxis": {
            "gridcolor": "white",
            "linecolor": "white",
            "ticks": ""
           }
          },
          "title": {
           "x": 0.05
          },
          "xaxis": {
           "automargin": true,
           "gridcolor": "white",
           "linecolor": "white",
           "ticks": "",
           "title": {
            "standoff": 15
           },
           "zerolinecolor": "white",
           "zerolinewidth": 2
          },
          "yaxis": {
           "automargin": true,
           "gridcolor": "white",
           "linecolor": "white",
           "ticks": "",
           "title": {
            "standoff": 15
           },
           "zerolinecolor": "white",
           "zerolinewidth": 2
          }
         }
        },
        "title": {
         "text": "Number of matches an agent has been selected"
        },
        "xaxis": {
         "anchor": "y",
         "domain": [
          0,
          1
         ],
         "title": {
          "text": "agentName"
         }
        },
        "yaxis": {
         "anchor": "x",
         "domain": [
          0,
          1
         ],
         "title": {
          "text": "count"
         }
        }
       }
      }
     },
     "metadata": {},
     "output_type": "display_data"
    }
   ],
   "source": [
    "fig = px.bar(df_matches_agents_selected, y='count', x='agentName', text_auto='.4s', orientation='v',\n",
    "            title=\"Number of matches an agent has been selected\")\n",
    "fig.update_traces(textfont_size=10, textangle=0, textposition=\"outside\", cliponaxis=False)\n",
    "\n",
    "fig.show()"
   ]
  },
  {
   "cell_type": "code",
   "execution_count": 218,
   "metadata": {},
   "outputs": [
    {
     "data": {
      "text/html": [
       "<div>\n",
       "<style scoped>\n",
       "    .dataframe tbody tr th:only-of-type {\n",
       "        vertical-align: middle;\n",
       "    }\n",
       "\n",
       "    .dataframe tbody tr th {\n",
       "        vertical-align: top;\n",
       "    }\n",
       "\n",
       "    .dataframe thead th {\n",
       "        text-align: right;\n",
       "    }\n",
       "</style>\n",
       "<table border=\"1\" class=\"dataframe\">\n",
       "  <thead>\n",
       "    <tr style=\"text-align: right;\">\n",
       "      <th></th>\n",
       "      <th>mapName</th>\n",
       "      <th>count</th>\n",
       "    </tr>\n",
       "  </thead>\n",
       "  <tbody>\n",
       "    <tr>\n",
       "      <th>4</th>\n",
       "      <td>Haven</td>\n",
       "      <td>30348</td>\n",
       "    </tr>\n",
       "    <tr>\n",
       "      <th>1</th>\n",
       "      <td>Bind</td>\n",
       "      <td>30250</td>\n",
       "    </tr>\n",
       "    <tr>\n",
       "      <th>0</th>\n",
       "      <td>Ascent</td>\n",
       "      <td>30225</td>\n",
       "    </tr>\n",
       "    <tr>\n",
       "      <th>5</th>\n",
       "      <td>Icebox</td>\n",
       "      <td>30140</td>\n",
       "    </tr>\n",
       "    <tr>\n",
       "      <th>2</th>\n",
       "      <td>Breeze</td>\n",
       "      <td>29852</td>\n",
       "    </tr>\n",
       "    <tr>\n",
       "      <th>3</th>\n",
       "      <td>Fracture</td>\n",
       "      <td>29679</td>\n",
       "    </tr>\n",
       "    <tr>\n",
       "      <th>6</th>\n",
       "      <td>Pearl</td>\n",
       "      <td>27176</td>\n",
       "    </tr>\n",
       "    <tr>\n",
       "      <th>7</th>\n",
       "      <td>Split</td>\n",
       "      <td>1758</td>\n",
       "    </tr>\n",
       "  </tbody>\n",
       "</table>\n",
       "</div>"
      ],
      "text/plain": [
       "    mapName  count\n",
       "4     Haven  30348\n",
       "1      Bind  30250\n",
       "0    Ascent  30225\n",
       "5    Icebox  30140\n",
       "2    Breeze  29852\n",
       "3  Fracture  29679\n",
       "6     Pearl  27176\n",
       "7     Split   1758"
      ]
     },
     "execution_count": 218,
     "metadata": {},
     "output_type": "execute_result"
    }
   ],
   "source": [
    "df_matches_maps = df_matches_raw[['mapName',]].groupby(['mapName'])['mapName'] \\\n",
    "                             .count() \\\n",
    "                             .reset_index(name='count') \\\n",
    "                             .sort_values(['count'], ascending=False) \\\n",
    "                             \n",
    "df_matches_maps"
   ]
  },
  {
   "cell_type": "code",
   "execution_count": 219,
   "metadata": {},
   "outputs": [
    {
     "data": {
      "application/vnd.plotly.v1+json": {
       "config": {
        "plotlyServerURL": "https://plot.ly"
       },
       "data": [
        {
         "alignmentgroup": "True",
         "cliponaxis": false,
         "hovertemplate": "mapName=%{x}<br>count=%{y}<extra></extra>",
         "legendgroup": "",
         "marker": {
          "color": "#636efa",
          "pattern": {
           "shape": ""
          }
         },
         "name": "",
         "offsetgroup": "",
         "orientation": "v",
         "showlegend": false,
         "textangle": 0,
         "textfont": {
          "size": 10
         },
         "textposition": "outside",
         "texttemplate": "%{y:.5s}",
         "type": "bar",
         "x": [
          "Haven",
          "Bind",
          "Ascent",
          "Icebox",
          "Breeze",
          "Fracture",
          "Pearl",
          "Split"
         ],
         "xaxis": "x",
         "y": [
          30348,
          30250,
          30225,
          30140,
          29852,
          29679,
          27176,
          1758
         ],
         "yaxis": "y"
        }
       ],
       "layout": {
        "barmode": "relative",
        "legend": {
         "tracegroupgap": 0
        },
        "template": {
         "data": {
          "bar": [
           {
            "error_x": {
             "color": "#2a3f5f"
            },
            "error_y": {
             "color": "#2a3f5f"
            },
            "marker": {
             "line": {
              "color": "#E5ECF6",
              "width": 0.5
             },
             "pattern": {
              "fillmode": "overlay",
              "size": 10,
              "solidity": 0.2
             }
            },
            "type": "bar"
           }
          ],
          "barpolar": [
           {
            "marker": {
             "line": {
              "color": "#E5ECF6",
              "width": 0.5
             },
             "pattern": {
              "fillmode": "overlay",
              "size": 10,
              "solidity": 0.2
             }
            },
            "type": "barpolar"
           }
          ],
          "carpet": [
           {
            "aaxis": {
             "endlinecolor": "#2a3f5f",
             "gridcolor": "white",
             "linecolor": "white",
             "minorgridcolor": "white",
             "startlinecolor": "#2a3f5f"
            },
            "baxis": {
             "endlinecolor": "#2a3f5f",
             "gridcolor": "white",
             "linecolor": "white",
             "minorgridcolor": "white",
             "startlinecolor": "#2a3f5f"
            },
            "type": "carpet"
           }
          ],
          "choropleth": [
           {
            "colorbar": {
             "outlinewidth": 0,
             "ticks": ""
            },
            "type": "choropleth"
           }
          ],
          "contour": [
           {
            "colorbar": {
             "outlinewidth": 0,
             "ticks": ""
            },
            "colorscale": [
             [
              0,
              "#0d0887"
             ],
             [
              0.1111111111111111,
              "#46039f"
             ],
             [
              0.2222222222222222,
              "#7201a8"
             ],
             [
              0.3333333333333333,
              "#9c179e"
             ],
             [
              0.4444444444444444,
              "#bd3786"
             ],
             [
              0.5555555555555556,
              "#d8576b"
             ],
             [
              0.6666666666666666,
              "#ed7953"
             ],
             [
              0.7777777777777778,
              "#fb9f3a"
             ],
             [
              0.8888888888888888,
              "#fdca26"
             ],
             [
              1,
              "#f0f921"
             ]
            ],
            "type": "contour"
           }
          ],
          "contourcarpet": [
           {
            "colorbar": {
             "outlinewidth": 0,
             "ticks": ""
            },
            "type": "contourcarpet"
           }
          ],
          "heatmap": [
           {
            "colorbar": {
             "outlinewidth": 0,
             "ticks": ""
            },
            "colorscale": [
             [
              0,
              "#0d0887"
             ],
             [
              0.1111111111111111,
              "#46039f"
             ],
             [
              0.2222222222222222,
              "#7201a8"
             ],
             [
              0.3333333333333333,
              "#9c179e"
             ],
             [
              0.4444444444444444,
              "#bd3786"
             ],
             [
              0.5555555555555556,
              "#d8576b"
             ],
             [
              0.6666666666666666,
              "#ed7953"
             ],
             [
              0.7777777777777778,
              "#fb9f3a"
             ],
             [
              0.8888888888888888,
              "#fdca26"
             ],
             [
              1,
              "#f0f921"
             ]
            ],
            "type": "heatmap"
           }
          ],
          "heatmapgl": [
           {
            "colorbar": {
             "outlinewidth": 0,
             "ticks": ""
            },
            "colorscale": [
             [
              0,
              "#0d0887"
             ],
             [
              0.1111111111111111,
              "#46039f"
             ],
             [
              0.2222222222222222,
              "#7201a8"
             ],
             [
              0.3333333333333333,
              "#9c179e"
             ],
             [
              0.4444444444444444,
              "#bd3786"
             ],
             [
              0.5555555555555556,
              "#d8576b"
             ],
             [
              0.6666666666666666,
              "#ed7953"
             ],
             [
              0.7777777777777778,
              "#fb9f3a"
             ],
             [
              0.8888888888888888,
              "#fdca26"
             ],
             [
              1,
              "#f0f921"
             ]
            ],
            "type": "heatmapgl"
           }
          ],
          "histogram": [
           {
            "marker": {
             "pattern": {
              "fillmode": "overlay",
              "size": 10,
              "solidity": 0.2
             }
            },
            "type": "histogram"
           }
          ],
          "histogram2d": [
           {
            "colorbar": {
             "outlinewidth": 0,
             "ticks": ""
            },
            "colorscale": [
             [
              0,
              "#0d0887"
             ],
             [
              0.1111111111111111,
              "#46039f"
             ],
             [
              0.2222222222222222,
              "#7201a8"
             ],
             [
              0.3333333333333333,
              "#9c179e"
             ],
             [
              0.4444444444444444,
              "#bd3786"
             ],
             [
              0.5555555555555556,
              "#d8576b"
             ],
             [
              0.6666666666666666,
              "#ed7953"
             ],
             [
              0.7777777777777778,
              "#fb9f3a"
             ],
             [
              0.8888888888888888,
              "#fdca26"
             ],
             [
              1,
              "#f0f921"
             ]
            ],
            "type": "histogram2d"
           }
          ],
          "histogram2dcontour": [
           {
            "colorbar": {
             "outlinewidth": 0,
             "ticks": ""
            },
            "colorscale": [
             [
              0,
              "#0d0887"
             ],
             [
              0.1111111111111111,
              "#46039f"
             ],
             [
              0.2222222222222222,
              "#7201a8"
             ],
             [
              0.3333333333333333,
              "#9c179e"
             ],
             [
              0.4444444444444444,
              "#bd3786"
             ],
             [
              0.5555555555555556,
              "#d8576b"
             ],
             [
              0.6666666666666666,
              "#ed7953"
             ],
             [
              0.7777777777777778,
              "#fb9f3a"
             ],
             [
              0.8888888888888888,
              "#fdca26"
             ],
             [
              1,
              "#f0f921"
             ]
            ],
            "type": "histogram2dcontour"
           }
          ],
          "mesh3d": [
           {
            "colorbar": {
             "outlinewidth": 0,
             "ticks": ""
            },
            "type": "mesh3d"
           }
          ],
          "parcoords": [
           {
            "line": {
             "colorbar": {
              "outlinewidth": 0,
              "ticks": ""
             }
            },
            "type": "parcoords"
           }
          ],
          "pie": [
           {
            "automargin": true,
            "type": "pie"
           }
          ],
          "scatter": [
           {
            "fillpattern": {
             "fillmode": "overlay",
             "size": 10,
             "solidity": 0.2
            },
            "type": "scatter"
           }
          ],
          "scatter3d": [
           {
            "line": {
             "colorbar": {
              "outlinewidth": 0,
              "ticks": ""
             }
            },
            "marker": {
             "colorbar": {
              "outlinewidth": 0,
              "ticks": ""
             }
            },
            "type": "scatter3d"
           }
          ],
          "scattercarpet": [
           {
            "marker": {
             "colorbar": {
              "outlinewidth": 0,
              "ticks": ""
             }
            },
            "type": "scattercarpet"
           }
          ],
          "scattergeo": [
           {
            "marker": {
             "colorbar": {
              "outlinewidth": 0,
              "ticks": ""
             }
            },
            "type": "scattergeo"
           }
          ],
          "scattergl": [
           {
            "marker": {
             "colorbar": {
              "outlinewidth": 0,
              "ticks": ""
             }
            },
            "type": "scattergl"
           }
          ],
          "scattermapbox": [
           {
            "marker": {
             "colorbar": {
              "outlinewidth": 0,
              "ticks": ""
             }
            },
            "type": "scattermapbox"
           }
          ],
          "scatterpolar": [
           {
            "marker": {
             "colorbar": {
              "outlinewidth": 0,
              "ticks": ""
             }
            },
            "type": "scatterpolar"
           }
          ],
          "scatterpolargl": [
           {
            "marker": {
             "colorbar": {
              "outlinewidth": 0,
              "ticks": ""
             }
            },
            "type": "scatterpolargl"
           }
          ],
          "scatterternary": [
           {
            "marker": {
             "colorbar": {
              "outlinewidth": 0,
              "ticks": ""
             }
            },
            "type": "scatterternary"
           }
          ],
          "surface": [
           {
            "colorbar": {
             "outlinewidth": 0,
             "ticks": ""
            },
            "colorscale": [
             [
              0,
              "#0d0887"
             ],
             [
              0.1111111111111111,
              "#46039f"
             ],
             [
              0.2222222222222222,
              "#7201a8"
             ],
             [
              0.3333333333333333,
              "#9c179e"
             ],
             [
              0.4444444444444444,
              "#bd3786"
             ],
             [
              0.5555555555555556,
              "#d8576b"
             ],
             [
              0.6666666666666666,
              "#ed7953"
             ],
             [
              0.7777777777777778,
              "#fb9f3a"
             ],
             [
              0.8888888888888888,
              "#fdca26"
             ],
             [
              1,
              "#f0f921"
             ]
            ],
            "type": "surface"
           }
          ],
          "table": [
           {
            "cells": {
             "fill": {
              "color": "#EBF0F8"
             },
             "line": {
              "color": "white"
             }
            },
            "header": {
             "fill": {
              "color": "#C8D4E3"
             },
             "line": {
              "color": "white"
             }
            },
            "type": "table"
           }
          ]
         },
         "layout": {
          "annotationdefaults": {
           "arrowcolor": "#2a3f5f",
           "arrowhead": 0,
           "arrowwidth": 1
          },
          "autotypenumbers": "strict",
          "coloraxis": {
           "colorbar": {
            "outlinewidth": 0,
            "ticks": ""
           }
          },
          "colorscale": {
           "diverging": [
            [
             0,
             "#8e0152"
            ],
            [
             0.1,
             "#c51b7d"
            ],
            [
             0.2,
             "#de77ae"
            ],
            [
             0.3,
             "#f1b6da"
            ],
            [
             0.4,
             "#fde0ef"
            ],
            [
             0.5,
             "#f7f7f7"
            ],
            [
             0.6,
             "#e6f5d0"
            ],
            [
             0.7,
             "#b8e186"
            ],
            [
             0.8,
             "#7fbc41"
            ],
            [
             0.9,
             "#4d9221"
            ],
            [
             1,
             "#276419"
            ]
           ],
           "sequential": [
            [
             0,
             "#0d0887"
            ],
            [
             0.1111111111111111,
             "#46039f"
            ],
            [
             0.2222222222222222,
             "#7201a8"
            ],
            [
             0.3333333333333333,
             "#9c179e"
            ],
            [
             0.4444444444444444,
             "#bd3786"
            ],
            [
             0.5555555555555556,
             "#d8576b"
            ],
            [
             0.6666666666666666,
             "#ed7953"
            ],
            [
             0.7777777777777778,
             "#fb9f3a"
            ],
            [
             0.8888888888888888,
             "#fdca26"
            ],
            [
             1,
             "#f0f921"
            ]
           ],
           "sequentialminus": [
            [
             0,
             "#0d0887"
            ],
            [
             0.1111111111111111,
             "#46039f"
            ],
            [
             0.2222222222222222,
             "#7201a8"
            ],
            [
             0.3333333333333333,
             "#9c179e"
            ],
            [
             0.4444444444444444,
             "#bd3786"
            ],
            [
             0.5555555555555556,
             "#d8576b"
            ],
            [
             0.6666666666666666,
             "#ed7953"
            ],
            [
             0.7777777777777778,
             "#fb9f3a"
            ],
            [
             0.8888888888888888,
             "#fdca26"
            ],
            [
             1,
             "#f0f921"
            ]
           ]
          },
          "colorway": [
           "#636efa",
           "#EF553B",
           "#00cc96",
           "#ab63fa",
           "#FFA15A",
           "#19d3f3",
           "#FF6692",
           "#B6E880",
           "#FF97FF",
           "#FECB52"
          ],
          "font": {
           "color": "#2a3f5f"
          },
          "geo": {
           "bgcolor": "white",
           "lakecolor": "white",
           "landcolor": "#E5ECF6",
           "showlakes": true,
           "showland": true,
           "subunitcolor": "white"
          },
          "hoverlabel": {
           "align": "left"
          },
          "hovermode": "closest",
          "mapbox": {
           "style": "light"
          },
          "paper_bgcolor": "white",
          "plot_bgcolor": "#E5ECF6",
          "polar": {
           "angularaxis": {
            "gridcolor": "white",
            "linecolor": "white",
            "ticks": ""
           },
           "bgcolor": "#E5ECF6",
           "radialaxis": {
            "gridcolor": "white",
            "linecolor": "white",
            "ticks": ""
           }
          },
          "scene": {
           "xaxis": {
            "backgroundcolor": "#E5ECF6",
            "gridcolor": "white",
            "gridwidth": 2,
            "linecolor": "white",
            "showbackground": true,
            "ticks": "",
            "zerolinecolor": "white"
           },
           "yaxis": {
            "backgroundcolor": "#E5ECF6",
            "gridcolor": "white",
            "gridwidth": 2,
            "linecolor": "white",
            "showbackground": true,
            "ticks": "",
            "zerolinecolor": "white"
           },
           "zaxis": {
            "backgroundcolor": "#E5ECF6",
            "gridcolor": "white",
            "gridwidth": 2,
            "linecolor": "white",
            "showbackground": true,
            "ticks": "",
            "zerolinecolor": "white"
           }
          },
          "shapedefaults": {
           "line": {
            "color": "#2a3f5f"
           }
          },
          "ternary": {
           "aaxis": {
            "gridcolor": "white",
            "linecolor": "white",
            "ticks": ""
           },
           "baxis": {
            "gridcolor": "white",
            "linecolor": "white",
            "ticks": ""
           },
           "bgcolor": "#E5ECF6",
           "caxis": {
            "gridcolor": "white",
            "linecolor": "white",
            "ticks": ""
           }
          },
          "title": {
           "x": 0.05
          },
          "xaxis": {
           "automargin": true,
           "gridcolor": "white",
           "linecolor": "white",
           "ticks": "",
           "title": {
            "standoff": 15
           },
           "zerolinecolor": "white",
           "zerolinewidth": 2
          },
          "yaxis": {
           "automargin": true,
           "gridcolor": "white",
           "linecolor": "white",
           "ticks": "",
           "title": {
            "standoff": 15
           },
           "zerolinecolor": "white",
           "zerolinewidth": 2
          }
         }
        },
        "title": {
         "text": "Total number of matches per maps"
        },
        "xaxis": {
         "anchor": "y",
         "domain": [
          0,
          1
         ],
         "title": {
          "text": "mapName"
         }
        },
        "yaxis": {
         "anchor": "x",
         "domain": [
          0,
          1
         ],
         "title": {
          "text": "count"
         }
        }
       }
      }
     },
     "metadata": {},
     "output_type": "display_data"
    }
   ],
   "source": [
    "fig = px.bar(df_matches_maps, y='count', x='mapName', text_auto='.5s',\n",
    "            title=\"Total number of matches per maps\")\n",
    "fig.update_traces(textfont_size=10, textangle=0, textposition=\"outside\", cliponaxis=False)\n",
    "fig.show()"
   ]
  }
 ],
 "metadata": {
  "kernelspec": {
   "display_name": "Python 3.9.7 ('base')",
   "language": "python",
   "name": "python3"
  },
  "language_info": {
   "codemirror_mode": {
    "name": "ipython",
    "version": 3
   },
   "file_extension": ".py",
   "mimetype": "text/x-python",
   "name": "python",
   "nbconvert_exporter": "python",
   "pygments_lexer": "ipython3",
   "version": "3.9.7"
  },
  "orig_nbformat": 4,
  "vscode": {
   "interpreter": {
    "hash": "277d713a2869ad522e0f58de96fa3cb2620734b34dd3b3afd7f1966d69d2580f"
   }
  }
 },
 "nbformat": 4,
 "nbformat_minor": 2
}
