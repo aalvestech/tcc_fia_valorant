{
 "cells": [
  {
   "attachments": {},
   "cell_type": "markdown",
   "metadata": {},
   "source": [
    "# Data Crawler - Valorant"
   ]
  },
  {
   "attachments": {},
   "cell_type": "markdown",
   "metadata": {},
   "source": [
    "## Libs"
   ]
  },
  {
   "cell_type": "code",
   "execution_count": null,
   "metadata": {},
   "outputs": [],
   "source": [
    "import pandas as pd\n",
    "import requests\n",
    "import json\n",
    "import pathlib\n",
    "from selenium import webdriver\n",
    "from webdriver_manager.chrome import ChromeDriverManager"
   ]
  },
  {
   "attachments": {},
   "cell_type": "markdown",
   "metadata": {},
   "source": [
    "## Initial Settings"
   ]
  },
  {
   "cell_type": "code",
   "execution_count": null,
   "metadata": {},
   "outputs": [],
   "source": [
    "abs_path = pathlib.Path.cwd().parent"
   ]
  },
  {
   "cell_type": "code",
   "execution_count": null,
   "metadata": {},
   "outputs": [],
   "source": [
    "player_path = pathlib.Path(abs_path).joinpath('data').joinpath('players').joinpath('players.csv')\n",
    "matches_path = pathlib.Path(abs_path).joinpath('data').joinpath('matches').joinpath('matches.csv')\n",
    "weapons_path = pathlib.Path(abs_path).joinpath('data').joinpath('weapons').joinpath('weapons.csv')\n",
    "webdriver_path = pathlib.Path(abs_path).joinpath('chromedriver.exe')"
   ]
  },
  {
   "attachments": {},
   "cell_type": "markdown",
   "metadata": {},
   "source": [
    "## Players"
   ]
  },
  {
   "cell_type": "code",
   "execution_count": null,
   "metadata": {},
   "outputs": [],
   "source": [
    "def get_top_players(servers_list) -> str:\n",
    "    '''\n",
    "        This function's mission is to get all players that are ranked in the top 500 of a server list.\n",
    "        :param [list] server_list: A variable that receives a server list. For example: 'kr', 'eu', 'na', 'br', 'latam', 'ap'.\n",
    "        :return [pd.dataframe] data: A variable that receives a string with the structure of a json. This string contains the summarized information of a player that who's in top 500.\n",
    "    '''\n",
    "    path_write = 'raw/rank/top500/all_servers/'\n",
    "    data = []\n",
    "    df = pd.DataFrame()\n",
    "    file_format = '.csv'\n",
    "\n",
    "    for server in servers_list:\n",
    "            \n",
    "        for page in range(1, 5):\n",
    "\n",
    "            response = requests.get('https://val.dakgg.io/api/v1/leaderboards/{}/aca29595-40e4-01f5-3f35-b1b3d304c96e?page={}&tier=top500'.format(server, page))\n",
    "            data_aux = response.json()\n",
    "            data.append(data_aux)\n",
    "\n",
    "        data_upload = str(data)\n",
    "\n",
    "\n",
    "    df = pd.DataFrame(data)\n",
    "    df = pd.json_normalize(json.loads(df.to_json(orient='records'))).explode('leaderboards')\n",
    "    df = pd.json_normalize(json.loads(df.to_json(orient='records')))\n",
    "\n",
    "    df['leaderboards.full_nickname'] = (df['leaderboards.gameName'].map(str) + '%23' + df['leaderboards.tagLine'].map(str))\n",
    "    df.to_csv(player_path, index=False)"
   ]
  },
  {
   "cell_type": "code",
   "execution_count": null,
   "metadata": {},
   "outputs": [],
   "source": [
    "get_top_players(['br', 'na', 'latam', 'eu', 'kr', 'ap'])"
   ]
  },
  {
   "attachments": {},
   "cell_type": "markdown",
   "metadata": {},
   "source": [
    "## Matches"
   ]
  },
  {
   "cell_type": "code",
   "execution_count": null,
   "metadata": {},
   "outputs": [],
   "source": [
    "def get_matches(players_list) -> str:\n",
    "    '''\n",
    "        This function's mission is to get a summary report of all the last 200 matches of a specific player.\n",
    "        :param [list] players_list: A variable that receives a players list. For example: ['NaraKa%232299','NakaRa%233265','RayzenSama%236999'].\n",
    "        :return [str] data_pre: A variable that receives a string with the structure of a json. This string contains the summarized information of a player who's in the top 500.\n",
    "    '''\n",
    "\n",
    "    driver = webdriver.Chrome(webdriver_path)\n",
    "    # driver = webdriver.Chrome(ChromeDriverManager().install())\n",
    "    \n",
    "    \n",
    "    data = []\n",
    "    for player in players_list:\n",
    "        \n",
    "\n",
    "        for page in range(1,10):\n",
    "\n",
    "            \n",
    "            driver.get('https://api.tracker.gg/api/v2/valorant/standard/matches/riot/{}?type=competitive&next={}'.format(player, page))\n",
    "            data_pre = driver.find_element('xpath', '//pre').text\n",
    "            data_json = json.loads(data_pre)\n",
    "            if 'data' in data_json.keys():\n",
    "                matches = data_json['data']['matches']\n",
    "                for match in matches:\n",
    "                    dataframe_row = dict()\n",
    "                    dataframe_row['player'] = player\n",
    "                    dataframe_row['matchId'] = match['attributes']['id']\n",
    "                    dataframe_row['mapId'] = match['attributes']['mapId']\n",
    "                    dataframe_row['modeId'] = match['attributes']['modeId']\n",
    "                    dataframe_row['modeKey'] = match['metadata']['modeKey']\n",
    "                    dataframe_row['modeName'] = match['metadata']['modeName']\n",
    "                    dataframe_row['modeImageUrl'] = match['metadata']['modeImageUrl']\n",
    "                    dataframe_row['modeMaxRounds'] = match['metadata']['modeMaxRounds']\n",
    "                    dataframe_row['isAvailable'] = match['metadata']['isAvailable']\n",
    "                    dataframe_row['timestamp'] = match['metadata']['timestamp']\n",
    "                    dataframe_row['metadataResult'] = match['metadata']['result']\n",
    "                    dataframe_row['map'] = match['metadata']['map']\n",
    "                    dataframe_row['mapName'] = match['metadata']['mapName']\n",
    "                    dataframe_row['mapImageUrl'] = match['metadata']['mapImageUrl']\n",
    "                    dataframe_row['seasonName'] = match['metadata']['seasonName']\n",
    "                    dataframe_row['userId'] = match['segments'][0]['attributes']['platformUserIdentifier']\n",
    "                    dataframe_row['hasWon'] = match['segments'][0]['metadata']['hasWon']\n",
    "                    dataframe_row['result'] = match['segments'][0]['metadata']['result']\n",
    "                    dataframe_row['agentName'] = match['segments'][0]['metadata']['agentName']\n",
    "                    for stat_name, stat_value in match['segments'][0]['stats'].items():\n",
    "                        dataframe_row[f\"{stat_name}Value\"] = stat_value['value']\n",
    "                        dataframe_row[f\"{stat_name}DisplayValue\"] = stat_value['displayValue']\n",
    "                        dataframe_row[f\"{stat_name}DisplayType\"] = stat_value['displayType']\n",
    "                    data.append(dataframe_row)\n",
    "\n",
    "    df = pd.DataFrame.from_dict(data)\n",
    "    df.to_csv(matches_path, index=False)\n",
    "\n",
    "    driver.quit()"
   ]
  },
  {
   "cell_type": "code",
   "execution_count": null,
   "metadata": {},
   "outputs": [],
   "source": [
    "player_list = pd.read_csv(player_path)\n",
    "player_list = player_list['leaderboards.full_nickname'].drop_duplicates()"
   ]
  },
  {
   "cell_type": "code",
   "execution_count": null,
   "metadata": {},
   "outputs": [],
   "source": [
    "get_matches(player_list)"
   ]
  },
  {
   "cell_type": "code",
   "execution_count": null,
   "metadata": {},
   "outputs": [],
   "source": [
    "def get_weapons(players_list) -> str:\n",
    "    '''\n",
    "        This function's mission is to get a summary report of all the last 200 matches of a specific player.\n",
    "        :param [list] players_list: A variable that receives a players list. For example: ['NaraKa%232299','NakaRa%233265','RayzenSama%236999'].\n",
    "        :return [str] data_pre: A variable that receives a string with the structure of a json. This string contains the summarized information of a player who's in the top 500.\n",
    "    '''\n",
    "    driver = webdriver.Chrome(webdriver_path)\n",
    "    data = []\n",
    "    for player in players_list:\n",
    "        \n",
    "        driver.get('https://api.tracker.gg/api/v2/valorant/standard/profile/riot/{}/segments/weapon?playlist=competitive&seasonId=default'.format(player))\n",
    "        data_pre = driver.find_element('xpath', '//pre').text\n",
    "        data_json = json.loads(data_pre)\n",
    "        if 'data' in data_json.keys():\n",
    "            weapons = data_json['data']\n",
    "            for weapon in weapons:\n",
    "                dataframe_row = dict()\n",
    "                dataframe_row['player'] = player\n",
    "                dataframe_row['weaponName'] = weapon['attributes']['key']\n",
    "                for stat_name, stat_value in weapon['stats'].items():\n",
    "                    dataframe_row[f\"{stat_name}Value\"] = stat_value['value']\n",
    "                    dataframe_row[f\"{stat_name}DisplayValue\"] = stat_value['displayValue']\n",
    "                    dataframe_row[f\"{stat_name}DisplayType\"] = stat_value['displayType']\n",
    "                data.append(dataframe_row)\n",
    "\n",
    "    df = pd.DataFrame.from_dict(data)\n",
    "    df.to_csv(weapons_path, index=False)\n",
    "    driver.quit()"
   ]
  },
  {
   "cell_type": "code",
   "execution_count": null,
   "metadata": {},
   "outputs": [],
   "source": [
    "get_weapons(player_list)"
   ]
  }
 ],
 "metadata": {
  "kernelspec": {
   "display_name": "base",
   "language": "python",
   "name": "python3"
  },
  "language_info": {
   "codemirror_mode": {
    "name": "ipython",
    "version": 3
   },
   "file_extension": ".py",
   "mimetype": "text/x-python",
   "name": "python",
   "nbconvert_exporter": "python",
   "pygments_lexer": "ipython3",
   "version": "3.9.13 (main, Aug 25 2022, 23:51:50) [MSC v.1916 64 bit (AMD64)]"
  },
  "orig_nbformat": 4,
  "vscode": {
   "interpreter": {
    "hash": "277d713a2869ad522e0f58de96fa3cb2620734b34dd3b3afd7f1966d69d2580f"
   }
  }
 },
 "nbformat": 4,
 "nbformat_minor": 2
}
