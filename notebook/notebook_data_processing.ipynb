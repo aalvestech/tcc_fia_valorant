{
 "cells": [
  {
   "cell_type": "markdown",
   "metadata": {},
   "source": [
    "Libs"
   ]
  },
  {
   "cell_type": "code",
   "execution_count": 1,
   "metadata": {},
   "outputs": [],
   "source": [
    "import pandas as pd"
   ]
  },
  {
   "cell_type": "markdown",
   "metadata": {},
   "source": [
    "Players"
   ]
  },
  {
   "cell_type": "code",
   "execution_count": 2,
   "metadata": {},
   "outputs": [
    {
     "data": {
      "text/html": [
       "<div>\n",
       "<style scoped>\n",
       "    .dataframe tbody tr th:only-of-type {\n",
       "        vertical-align: middle;\n",
       "    }\n",
       "\n",
       "    .dataframe tbody tr th {\n",
       "        vertical-align: top;\n",
       "    }\n",
       "\n",
       "    .dataframe thead th {\n",
       "        text-align: right;\n",
       "    }\n",
       "</style>\n",
       "<table border=\"1\" class=\"dataframe\">\n",
       "  <thead>\n",
       "    <tr style=\"text-align: right;\">\n",
       "      <th></th>\n",
       "      <th>Unnamed: 0</th>\n",
       "      <th>meta.shard</th>\n",
       "      <th>meta.season</th>\n",
       "      <th>meta.page</th>\n",
       "      <th>meta.perPage</th>\n",
       "      <th>meta.totalCount</th>\n",
       "      <th>meta.updatedAt</th>\n",
       "      <th>leaderboards.puuid</th>\n",
       "      <th>leaderboards.gameName</th>\n",
       "      <th>leaderboards.tagLine</th>\n",
       "      <th>leaderboards.leaderboardRank</th>\n",
       "      <th>leaderboards.rankedRating</th>\n",
       "      <th>leaderboards.numberOfWins</th>\n",
       "      <th>leaderboards.competitiveTier</th>\n",
       "      <th>leaderboards.stat.winRatio</th>\n",
       "      <th>leaderboards.stat.avgScore</th>\n",
       "      <th>leaderboards.stat.headshotRatio</th>\n",
       "      <th>leaderboards.stat.mostCharacters</th>\n",
       "      <th>leaderboards.full_nickname</th>\n",
       "    </tr>\n",
       "  </thead>\n",
       "  <tbody>\n",
       "    <tr>\n",
       "      <th>0</th>\n",
       "      <td>0</td>\n",
       "      <td>br</td>\n",
       "      <td>aca29595-40e4-01f5-3f35-b1b3d304c96e</td>\n",
       "      <td>1</td>\n",
       "      <td>100</td>\n",
       "      <td>500</td>\n",
       "      <td>2022-10-29T00:10:34.000Z</td>\n",
       "      <td>H54BruRabl10rwGbWHq_QCCLETxlgkxTECYxdgBSjr3nsF...</td>\n",
       "      <td>znjder</td>\n",
       "      <td>dgzin</td>\n",
       "      <td>1</td>\n",
       "      <td>979</td>\n",
       "      <td>92</td>\n",
       "      <td>27</td>\n",
       "      <td>0.633</td>\n",
       "      <td>250.0</td>\n",
       "      <td>0.314</td>\n",
       "      <td>[{'characterId': 'add6443a-41bd-e414-f6ad-e58d...</td>\n",
       "      <td>znjder%23dgzin</td>\n",
       "    </tr>\n",
       "    <tr>\n",
       "      <th>1</th>\n",
       "      <td>1</td>\n",
       "      <td>br</td>\n",
       "      <td>aca29595-40e4-01f5-3f35-b1b3d304c96e</td>\n",
       "      <td>1</td>\n",
       "      <td>100</td>\n",
       "      <td>500</td>\n",
       "      <td>2022-10-29T00:10:34.000Z</td>\n",
       "      <td>1q93nnIL_LTjr-30olVrL1T5PBFkTEe-UFL90_Nv__3L1h...</td>\n",
       "      <td>NIP cauanzin</td>\n",
       "      <td>2233</td>\n",
       "      <td>2</td>\n",
       "      <td>902</td>\n",
       "      <td>64</td>\n",
       "      <td>27</td>\n",
       "      <td>0.670</td>\n",
       "      <td>233.0</td>\n",
       "      <td>0.258</td>\n",
       "      <td>[{'characterId': 'dade69b4-4f5a-8528-247b-219e...</td>\n",
       "      <td>NIP cauanzin%232233</td>\n",
       "    </tr>\n",
       "    <tr>\n",
       "      <th>2</th>\n",
       "      <td>2</td>\n",
       "      <td>br</td>\n",
       "      <td>aca29595-40e4-01f5-3f35-b1b3d304c96e</td>\n",
       "      <td>1</td>\n",
       "      <td>100</td>\n",
       "      <td>500</td>\n",
       "      <td>2022-10-29T00:10:34.000Z</td>\n",
       "      <td>VAYOzZsNw-wGTnit3SrMAcay5VpfXGQrD1ycHVqjOkee5E...</td>\n",
       "      <td>FUR mwzera</td>\n",
       "      <td>2323</td>\n",
       "      <td>3</td>\n",
       "      <td>845</td>\n",
       "      <td>44</td>\n",
       "      <td>27</td>\n",
       "      <td>0.677</td>\n",
       "      <td>278.0</td>\n",
       "      <td>0.237</td>\n",
       "      <td>[{'characterId': '22697a3d-45bf-8dd7-4fec-84a9...</td>\n",
       "      <td>FUR mwzera%232323</td>\n",
       "    </tr>\n",
       "    <tr>\n",
       "      <th>3</th>\n",
       "      <td>3</td>\n",
       "      <td>br</td>\n",
       "      <td>aca29595-40e4-01f5-3f35-b1b3d304c96e</td>\n",
       "      <td>1</td>\n",
       "      <td>100</td>\n",
       "      <td>500</td>\n",
       "      <td>2022-10-29T00:10:34.000Z</td>\n",
       "      <td>ZuovuYNrb_WWpF2dupCgBNrGHjQFemFUEoLpXQipwW5ULs...</td>\n",
       "      <td>lula molusco</td>\n",
       "      <td>nariz</td>\n",
       "      <td>4</td>\n",
       "      <td>788</td>\n",
       "      <td>61</td>\n",
       "      <td>27</td>\n",
       "      <td>0.544</td>\n",
       "      <td>233.0</td>\n",
       "      <td>0.256</td>\n",
       "      <td>[{'characterId': '22697a3d-45bf-8dd7-4fec-84a9...</td>\n",
       "      <td>lula molusco%23nariz</td>\n",
       "    </tr>\n",
       "    <tr>\n",
       "      <th>4</th>\n",
       "      <td>4</td>\n",
       "      <td>br</td>\n",
       "      <td>aca29595-40e4-01f5-3f35-b1b3d304c96e</td>\n",
       "      <td>1</td>\n",
       "      <td>100</td>\n",
       "      <td>500</td>\n",
       "      <td>2022-10-29T00:10:34.000Z</td>\n",
       "      <td>NaN</td>\n",
       "      <td>NaN</td>\n",
       "      <td>NaN</td>\n",
       "      <td>5</td>\n",
       "      <td>766</td>\n",
       "      <td>54</td>\n",
       "      <td>27</td>\n",
       "      <td>NaN</td>\n",
       "      <td>NaN</td>\n",
       "      <td>NaN</td>\n",
       "      <td>NaN</td>\n",
       "      <td>nan%23nan</td>\n",
       "    </tr>\n",
       "  </tbody>\n",
       "</table>\n",
       "</div>"
      ],
      "text/plain": [
       "   Unnamed: 0 meta.shard                           meta.season  meta.page  \\\n",
       "0           0         br  aca29595-40e4-01f5-3f35-b1b3d304c96e          1   \n",
       "1           1         br  aca29595-40e4-01f5-3f35-b1b3d304c96e          1   \n",
       "2           2         br  aca29595-40e4-01f5-3f35-b1b3d304c96e          1   \n",
       "3           3         br  aca29595-40e4-01f5-3f35-b1b3d304c96e          1   \n",
       "4           4         br  aca29595-40e4-01f5-3f35-b1b3d304c96e          1   \n",
       "\n",
       "   meta.perPage  meta.totalCount            meta.updatedAt  \\\n",
       "0           100              500  2022-10-29T00:10:34.000Z   \n",
       "1           100              500  2022-10-29T00:10:34.000Z   \n",
       "2           100              500  2022-10-29T00:10:34.000Z   \n",
       "3           100              500  2022-10-29T00:10:34.000Z   \n",
       "4           100              500  2022-10-29T00:10:34.000Z   \n",
       "\n",
       "                                  leaderboards.puuid leaderboards.gameName  \\\n",
       "0  H54BruRabl10rwGbWHq_QCCLETxlgkxTECYxdgBSjr3nsF...                znjder   \n",
       "1  1q93nnIL_LTjr-30olVrL1T5PBFkTEe-UFL90_Nv__3L1h...          NIP cauanzin   \n",
       "2  VAYOzZsNw-wGTnit3SrMAcay5VpfXGQrD1ycHVqjOkee5E...            FUR mwzera   \n",
       "3  ZuovuYNrb_WWpF2dupCgBNrGHjQFemFUEoLpXQipwW5ULs...          lula molusco   \n",
       "4                                                NaN                   NaN   \n",
       "\n",
       "  leaderboards.tagLine  leaderboards.leaderboardRank  \\\n",
       "0                dgzin                             1   \n",
       "1                 2233                             2   \n",
       "2                 2323                             3   \n",
       "3                nariz                             4   \n",
       "4                  NaN                             5   \n",
       "\n",
       "   leaderboards.rankedRating  leaderboards.numberOfWins  \\\n",
       "0                        979                         92   \n",
       "1                        902                         64   \n",
       "2                        845                         44   \n",
       "3                        788                         61   \n",
       "4                        766                         54   \n",
       "\n",
       "   leaderboards.competitiveTier  leaderboards.stat.winRatio  \\\n",
       "0                            27                       0.633   \n",
       "1                            27                       0.670   \n",
       "2                            27                       0.677   \n",
       "3                            27                       0.544   \n",
       "4                            27                         NaN   \n",
       "\n",
       "   leaderboards.stat.avgScore  leaderboards.stat.headshotRatio  \\\n",
       "0                       250.0                            0.314   \n",
       "1                       233.0                            0.258   \n",
       "2                       278.0                            0.237   \n",
       "3                       233.0                            0.256   \n",
       "4                         NaN                              NaN   \n",
       "\n",
       "                    leaderboards.stat.mostCharacters  \\\n",
       "0  [{'characterId': 'add6443a-41bd-e414-f6ad-e58d...   \n",
       "1  [{'characterId': 'dade69b4-4f5a-8528-247b-219e...   \n",
       "2  [{'characterId': '22697a3d-45bf-8dd7-4fec-84a9...   \n",
       "3  [{'characterId': '22697a3d-45bf-8dd7-4fec-84a9...   \n",
       "4                                                NaN   \n",
       "\n",
       "  leaderboards.full_nickname  \n",
       "0             znjder%23dgzin  \n",
       "1        NIP cauanzin%232233  \n",
       "2          FUR mwzera%232323  \n",
       "3       lula molusco%23nariz  \n",
       "4                  nan%23nan  "
      ]
     },
     "execution_count": 2,
     "metadata": {},
     "output_type": "execute_result"
    }
   ],
   "source": [
    "df_players_raw = pd.read_csv('C:\\\\repos\\\\tcc_fia_valorant\\\\data\\\\players\\\\players.csv')\n",
    "df_players_raw.head()"
   ]
  },
  {
   "cell_type": "code",
   "execution_count": 3,
   "metadata": {},
   "outputs": [
    {
     "name": "stdout",
     "output_type": "stream",
     "text": [
      "Total lines is: 2400 \n",
      "Total columns is: 19\n"
     ]
    }
   ],
   "source": [
    "row_num=df_players_raw.shape[0]\n",
    "col_num=df_players_raw.shape[1]\n",
    "print('Total lines is: {} \\nTotal columns is: {}'.format(row_num, col_num))"
   ]
  },
  {
   "cell_type": "code",
   "execution_count": 4,
   "metadata": {},
   "outputs": [
    {
     "data": {
      "text/plain": [
       "Unnamed: 0                            0\n",
       "meta.shard                            0\n",
       "meta.season                           0\n",
       "meta.page                             0\n",
       "meta.perPage                          0\n",
       "meta.totalCount                       0\n",
       "meta.updatedAt                        0\n",
       "leaderboards.puuid                  242\n",
       "leaderboards.gameName               242\n",
       "leaderboards.tagLine                242\n",
       "leaderboards.leaderboardRank          0\n",
       "leaderboards.rankedRating             0\n",
       "leaderboards.numberOfWins             0\n",
       "leaderboards.competitiveTier          0\n",
       "leaderboards.stat.winRatio          242\n",
       "leaderboards.stat.avgScore          242\n",
       "leaderboards.stat.headshotRatio     242\n",
       "leaderboards.stat.mostCharacters    242\n",
       "leaderboards.full_nickname            0\n",
       "dtype: int64"
      ]
     },
     "execution_count": 4,
     "metadata": {},
     "output_type": "execute_result"
    }
   ],
   "source": [
    "nan_num=df_players_raw.isna().sum()\n",
    "nan_num"
   ]
  },
  {
   "cell_type": "code",
   "execution_count": 5,
   "metadata": {},
   "outputs": [],
   "source": [
    "df_players_raw = df_players_raw[['meta.shard', 'meta.updatedAt', 'leaderboards.gameName','leaderboards.tagLine',\n",
    "                                                  'leaderboards.full_nickname','leaderboards.leaderboardRank','leaderboards.rankedRating',\n",
    "                                                  'leaderboards.numberOfWins', 'leaderboards.competitiveTier','leaderboards.stat.winRatio',\n",
    "                                                  'leaderboards.stat.avgScore', 'leaderboards.stat.headshotRatio',]]"
   ]
  },
  {
   "cell_type": "code",
   "execution_count": 6,
   "metadata": {},
   "outputs": [],
   "source": [
    "df_players_renamed = df_players_raw.rename(columns={'meta.shard': 'server', 'meta.updatedAt': 'updatedAt',\n",
    "                                      'leaderboards.gameName': 'gameName', 'leaderboards.tagLine': 'tagLine',\n",
    "                                      'leaderboards.full_nickname': 'nickNameFull', 'leaderboards.leaderboardRank': 'leaderboardRank',\n",
    "                                      'leaderboards.rankedRating': 'rankedRating', 'leaderboards.numberOfWins': 'numberOfWins',\n",
    "                                      'leaderboards.competitiveTier': 'competitiveTier', 'leaderboards.stat.winRatio': 'winRatio',\n",
    "                                      'leaderboards.stat.avgScore': 'avgScore', 'leaderboards.stat.headshotRatio': 'headshotRatio',})"
   ]
  },
  {
   "cell_type": "code",
   "execution_count": 7,
   "metadata": {},
   "outputs": [],
   "source": [
    "df_players = df_players_renamed.dropna().reset_index(drop=True)"
   ]
  },
  {
   "cell_type": "code",
   "execution_count": 8,
   "metadata": {},
   "outputs": [
    {
     "name": "stdout",
     "output_type": "stream",
     "text": [
      "Total lines is: 2158 \n",
      "Total columns is: 12\n"
     ]
    }
   ],
   "source": [
    "row_num=df_players.shape[0]\n",
    "col_num=df_players.shape[1]\n",
    "print('Total lines is: {} \\nTotal columns is: {}'.format(row_num, col_num))"
   ]
  },
  {
   "cell_type": "code",
   "execution_count": 9,
   "metadata": {},
   "outputs": [
    {
     "data": {
      "text/plain": [
       "server             0\n",
       "updatedAt          0\n",
       "gameName           0\n",
       "tagLine            0\n",
       "nickNameFull       0\n",
       "leaderboardRank    0\n",
       "rankedRating       0\n",
       "numberOfWins       0\n",
       "competitiveTier    0\n",
       "winRatio           0\n",
       "avgScore           0\n",
       "headshotRatio      0\n",
       "dtype: int64"
      ]
     },
     "execution_count": 9,
     "metadata": {},
     "output_type": "execute_result"
    }
   ],
   "source": [
    "nan_num=df_players.isna().sum()\n",
    "nan_num"
   ]
  },
  {
   "cell_type": "code",
   "execution_count": 10,
   "metadata": {},
   "outputs": [
    {
     "data": {
      "text/html": [
       "<div>\n",
       "<style scoped>\n",
       "    .dataframe tbody tr th:only-of-type {\n",
       "        vertical-align: middle;\n",
       "    }\n",
       "\n",
       "    .dataframe tbody tr th {\n",
       "        vertical-align: top;\n",
       "    }\n",
       "\n",
       "    .dataframe thead th {\n",
       "        text-align: right;\n",
       "    }\n",
       "</style>\n",
       "<table border=\"1\" class=\"dataframe\">\n",
       "  <thead>\n",
       "    <tr style=\"text-align: right;\">\n",
       "      <th></th>\n",
       "      <th>server</th>\n",
       "      <th>updatedAt</th>\n",
       "      <th>gameName</th>\n",
       "      <th>tagLine</th>\n",
       "      <th>nickNameFull</th>\n",
       "      <th>leaderboardRank</th>\n",
       "      <th>rankedRating</th>\n",
       "      <th>numberOfWins</th>\n",
       "      <th>competitiveTier</th>\n",
       "      <th>winRatio</th>\n",
       "      <th>avgScore</th>\n",
       "      <th>headshotRatio</th>\n",
       "    </tr>\n",
       "  </thead>\n",
       "  <tbody>\n",
       "    <tr>\n",
       "      <th>0</th>\n",
       "      <td>br</td>\n",
       "      <td>2022-10-29T00:10:34.000Z</td>\n",
       "      <td>znjder</td>\n",
       "      <td>dgzin</td>\n",
       "      <td>znjder%23dgzin</td>\n",
       "      <td>1</td>\n",
       "      <td>979</td>\n",
       "      <td>92</td>\n",
       "      <td>27</td>\n",
       "      <td>0.633</td>\n",
       "      <td>250.0</td>\n",
       "      <td>0.314</td>\n",
       "    </tr>\n",
       "    <tr>\n",
       "      <th>1</th>\n",
       "      <td>br</td>\n",
       "      <td>2022-10-29T00:10:34.000Z</td>\n",
       "      <td>NIP cauanzin</td>\n",
       "      <td>2233</td>\n",
       "      <td>NIP cauanzin%232233</td>\n",
       "      <td>2</td>\n",
       "      <td>902</td>\n",
       "      <td>64</td>\n",
       "      <td>27</td>\n",
       "      <td>0.670</td>\n",
       "      <td>233.0</td>\n",
       "      <td>0.258</td>\n",
       "    </tr>\n",
       "    <tr>\n",
       "      <th>2</th>\n",
       "      <td>br</td>\n",
       "      <td>2022-10-29T00:10:34.000Z</td>\n",
       "      <td>FUR mwzera</td>\n",
       "      <td>2323</td>\n",
       "      <td>FUR mwzera%232323</td>\n",
       "      <td>3</td>\n",
       "      <td>845</td>\n",
       "      <td>44</td>\n",
       "      <td>27</td>\n",
       "      <td>0.677</td>\n",
       "      <td>278.0</td>\n",
       "      <td>0.237</td>\n",
       "    </tr>\n",
       "    <tr>\n",
       "      <th>3</th>\n",
       "      <td>br</td>\n",
       "      <td>2022-10-29T00:10:34.000Z</td>\n",
       "      <td>lula molusco</td>\n",
       "      <td>nariz</td>\n",
       "      <td>lula molusco%23nariz</td>\n",
       "      <td>4</td>\n",
       "      <td>788</td>\n",
       "      <td>61</td>\n",
       "      <td>27</td>\n",
       "      <td>0.544</td>\n",
       "      <td>233.0</td>\n",
       "      <td>0.256</td>\n",
       "    </tr>\n",
       "    <tr>\n",
       "      <th>4</th>\n",
       "      <td>br</td>\n",
       "      <td>2022-10-29T00:10:34.000Z</td>\n",
       "      <td>tisora</td>\n",
       "      <td>zzz</td>\n",
       "      <td>tisora%23zzz</td>\n",
       "      <td>6</td>\n",
       "      <td>756</td>\n",
       "      <td>32</td>\n",
       "      <td>27</td>\n",
       "      <td>0.733</td>\n",
       "      <td>293.0</td>\n",
       "      <td>0.256</td>\n",
       "    </tr>\n",
       "    <tr>\n",
       "      <th>...</th>\n",
       "      <td>...</td>\n",
       "      <td>...</td>\n",
       "      <td>...</td>\n",
       "      <td>...</td>\n",
       "      <td>...</td>\n",
       "      <td>...</td>\n",
       "      <td>...</td>\n",
       "      <td>...</td>\n",
       "      <td>...</td>\n",
       "      <td>...</td>\n",
       "      <td>...</td>\n",
       "      <td>...</td>\n",
       "    </tr>\n",
       "    <tr>\n",
       "      <th>2153</th>\n",
       "      <td>ap</td>\n",
       "      <td>2022-10-29T00:11:29.000Z</td>\n",
       "      <td>ENGM karam1l</td>\n",
       "      <td>118</td>\n",
       "      <td>ENGM karam1l%23118</td>\n",
       "      <td>396</td>\n",
       "      <td>400</td>\n",
       "      <td>46</td>\n",
       "      <td>27</td>\n",
       "      <td>0.506</td>\n",
       "      <td>243.0</td>\n",
       "      <td>0.307</td>\n",
       "    </tr>\n",
       "    <tr>\n",
       "      <th>2154</th>\n",
       "      <td>ap</td>\n",
       "      <td>2022-10-29T00:11:29.000Z</td>\n",
       "      <td>CaesarGG</td>\n",
       "      <td>0217</td>\n",
       "      <td>CaesarGG%230217</td>\n",
       "      <td>397</td>\n",
       "      <td>400</td>\n",
       "      <td>40</td>\n",
       "      <td>27</td>\n",
       "      <td>0.651</td>\n",
       "      <td>249.0</td>\n",
       "      <td>0.334</td>\n",
       "    </tr>\n",
       "    <tr>\n",
       "      <th>2155</th>\n",
       "      <td>ap</td>\n",
       "      <td>2022-10-29T00:11:29.000Z</td>\n",
       "      <td>Nanoi7</td>\n",
       "      <td>7777</td>\n",
       "      <td>Nanoi7%237777</td>\n",
       "      <td>398</td>\n",
       "      <td>400</td>\n",
       "      <td>67</td>\n",
       "      <td>27</td>\n",
       "      <td>0.642</td>\n",
       "      <td>243.0</td>\n",
       "      <td>0.237</td>\n",
       "    </tr>\n",
       "    <tr>\n",
       "      <th>2156</th>\n",
       "      <td>ap</td>\n",
       "      <td>2022-10-29T00:11:29.000Z</td>\n",
       "      <td>machoke</td>\n",
       "      <td>mepls</td>\n",
       "      <td>machoke%23mepls</td>\n",
       "      <td>399</td>\n",
       "      <td>400</td>\n",
       "      <td>40</td>\n",
       "      <td>27</td>\n",
       "      <td>0.732</td>\n",
       "      <td>267.0</td>\n",
       "      <td>0.285</td>\n",
       "    </tr>\n",
       "    <tr>\n",
       "      <th>2157</th>\n",
       "      <td>ap</td>\n",
       "      <td>2022-10-29T00:11:29.000Z</td>\n",
       "      <td>Either W or L</td>\n",
       "      <td>Wonly</td>\n",
       "      <td>Either W or L%23Wonly</td>\n",
       "      <td>400</td>\n",
       "      <td>400</td>\n",
       "      <td>69</td>\n",
       "      <td>27</td>\n",
       "      <td>0.636</td>\n",
       "      <td>228.0</td>\n",
       "      <td>0.289</td>\n",
       "    </tr>\n",
       "  </tbody>\n",
       "</table>\n",
       "<p>2158 rows × 12 columns</p>\n",
       "</div>"
      ],
      "text/plain": [
       "     server                 updatedAt       gameName tagLine  \\\n",
       "0        br  2022-10-29T00:10:34.000Z         znjder   dgzin   \n",
       "1        br  2022-10-29T00:10:34.000Z   NIP cauanzin    2233   \n",
       "2        br  2022-10-29T00:10:34.000Z     FUR mwzera    2323   \n",
       "3        br  2022-10-29T00:10:34.000Z   lula molusco   nariz   \n",
       "4        br  2022-10-29T00:10:34.000Z         tisora     zzz   \n",
       "...     ...                       ...            ...     ...   \n",
       "2153     ap  2022-10-29T00:11:29.000Z   ENGM karam1l     118   \n",
       "2154     ap  2022-10-29T00:11:29.000Z       CaesarGG    0217   \n",
       "2155     ap  2022-10-29T00:11:29.000Z         Nanoi7    7777   \n",
       "2156     ap  2022-10-29T00:11:29.000Z        machoke   mepls   \n",
       "2157     ap  2022-10-29T00:11:29.000Z  Either W or L   Wonly   \n",
       "\n",
       "               nickNameFull  leaderboardRank  rankedRating  numberOfWins  \\\n",
       "0            znjder%23dgzin                1           979            92   \n",
       "1       NIP cauanzin%232233                2           902            64   \n",
       "2         FUR mwzera%232323                3           845            44   \n",
       "3      lula molusco%23nariz                4           788            61   \n",
       "4              tisora%23zzz                6           756            32   \n",
       "...                     ...              ...           ...           ...   \n",
       "2153     ENGM karam1l%23118              396           400            46   \n",
       "2154        CaesarGG%230217              397           400            40   \n",
       "2155          Nanoi7%237777              398           400            67   \n",
       "2156        machoke%23mepls              399           400            40   \n",
       "2157  Either W or L%23Wonly              400           400            69   \n",
       "\n",
       "      competitiveTier  winRatio  avgScore  headshotRatio  \n",
       "0                  27     0.633     250.0          0.314  \n",
       "1                  27     0.670     233.0          0.258  \n",
       "2                  27     0.677     278.0          0.237  \n",
       "3                  27     0.544     233.0          0.256  \n",
       "4                  27     0.733     293.0          0.256  \n",
       "...               ...       ...       ...            ...  \n",
       "2153               27     0.506     243.0          0.307  \n",
       "2154               27     0.651     249.0          0.334  \n",
       "2155               27     0.642     243.0          0.237  \n",
       "2156               27     0.732     267.0          0.285  \n",
       "2157               27     0.636     228.0          0.289  \n",
       "\n",
       "[2158 rows x 12 columns]"
      ]
     },
     "execution_count": 10,
     "metadata": {},
     "output_type": "execute_result"
    }
   ],
   "source": [
    "df_players"
   ]
  },
  {
   "cell_type": "code",
   "execution_count": 11,
   "metadata": {},
   "outputs": [],
   "source": [
    "df_players.to_csv('C:\\\\repos\\\\tcc_valorant_analysis\\\\data\\\\players\\\\player_book.csv')"
   ]
  },
  {
   "cell_type": "markdown",
   "metadata": {},
   "source": [
    "Matches"
   ]
  },
  {
   "cell_type": "code",
   "execution_count": 12,
   "metadata": {},
   "outputs": [],
   "source": [
    "df_matches_raw = pd.read_csv('C:\\\\repos\\\\tcc_valorant_analysis\\\\data\\\\matches\\\\matches.csv')\n",
    "df_matches_raw.head()"
   ]
  },
  {
   "cell_type": "code",
   "execution_count": null,
   "metadata": {},
   "outputs": [],
   "source": [
    "row_num=df_matches_raw.shape[0]\n",
    "col_num=df_matches_raw.shape[1]\n",
    "print('Total lines is: {} \\nTotal columns is: {}'.format(row_num, col_num))"
   ]
  },
  {
   "cell_type": "code",
   "execution_count": null,
   "metadata": {},
   "outputs": [],
   "source": [
    "nan_num=df_matches_raw.isna().sum()\n",
    "nan_num"
   ]
  },
  {
   "cell_type": "code",
   "execution_count": null,
   "metadata": {},
   "outputs": [],
   "source": [
    "df_matches_raw = df_matches_raw[[\n",
    "                                    'player', 'matchId',\n",
    "                                    'modeName', 'modeImageUrl', 'modeMaxRounds',\n",
    "                                    'timestamp', 'metadataResult', 'map', 'mapName', 'mapImageUrl',\n",
    "                                    'seasonName', 'userId', 'hasWon', 'result', 'agentName', 'playtimeValue',\n",
    "                                    'playtimeDisplayValue', 'roundsPlayedValue',\n",
    "                                    'roundsPlayedDisplayValue', 'roundsWonValue',\n",
    "                                    'roundsWonDisplayValue', 'roundsLostValue',\n",
    "                                    'roundsLostDisplayValue', 'roundsDisconnectedValue',\n",
    "                                    'roundsDisconnectedDisplayValue', 'placementValue',\n",
    "                                    'placementDisplayValue',  'scoreValue', 'scoreDisplayValue',\n",
    "                                    'killsValue', 'killsDisplayValue', 'deathsValue',\n",
    "                                    'deathsDisplayValue', 'assistsValue', 'assistsDisplayValue',\n",
    "                                    'damageValue', 'damageDisplayValue', \n",
    "                                    'damageReceivedValue', 'damageReceivedDisplayValue',\n",
    "                                    'headshotsValue', 'headshotsDisplayValue', 'grenadeCastsValue',\n",
    "                                    'grenadeCastsDisplayValue', 'ability1CastsValue',\n",
    "                                    'ability1CastsDisplayValue','ability2CastsValue',\n",
    "                                    'ability2CastsDisplayValue', 'ultimateCastsValue',\n",
    "                                    'ultimateCastsDisplayValue', 'dealtHeadshotsValue',\n",
    "                                    'dealtHeadshotsDisplayValue', 'dealtBodyshotsValue',\n",
    "                                    'dealtBodyshotsDisplayValue', 'dealtLegshotsValue',\n",
    "                                    'dealtLegshotsDisplayValue', 'econRatingValue',\n",
    "                                    'econRatingDisplayValue', 'suicidesValue', 'suicidesDisplayValue',\n",
    "                                    'revivedValue', 'revivedDisplayValue',\n",
    "                                    'firstBloodsValue', 'firstBloodsDisplayValue', 'firstDeathsValue',\n",
    "                                    'firstDeathsDisplayValue', 'lastDeathsValue', 'lastDeathsDisplayValue',\n",
    "                                    'survivedValue', 'survivedDisplayValue', 'tradedValue',\n",
    "                                    'tradedDisplayValue', 'kastedValue', 'kastedDisplayValue',\n",
    "                                    'kASTValue', 'kASTDisplayValue', 'flawlessValue', 'flawlessDisplayValue',\n",
    "                                    'thriftyValue', 'thriftyDisplayValue', 'acesValue',\n",
    "                                    'acesDisplayValue', 'teamAcesValue', 'teamAcesDisplayValue',\n",
    "                                    'clutchesValue', 'clutchesDisplayValue', 'clutchesLostValue', 'clutchesLostDisplayValue',\n",
    "                                    'plantsValue', 'plantsDisplayValue', 'defusesValue',\n",
    "                                    'defusesDisplayValue', 'kdRatioValue', 'kdRatioDisplayValue',\n",
    "                                    'scorePerRoundValue', 'scorePerRoundDisplayValue', 'damagePerRoundValue',\n",
    "                                    'damagePerRoundDisplayValue', 'headshotsPercentageValue', 'headshotsPercentageDisplayValue',\n",
    "                                ]]\n",
    "df_matches_raw.head()"
   ]
  },
  {
   "cell_type": "code",
   "execution_count": null,
   "metadata": {},
   "outputs": [],
   "source": [
    "df_matches_renamed = df_matches_raw.rename(columns={'player': 'nickNameFull'})"
   ]
  },
  {
   "cell_type": "code",
   "execution_count": null,
   "metadata": {},
   "outputs": [],
   "source": [
    "df_matches_merged = df_matches_renamed.merge(df_players[[\"nickNameFull\", \"leaderboardRank\", 'competitiveTier', 'rankedRating','server']])\n",
    "df_matches_merged.head(1)"
   ]
  },
  {
   "cell_type": "code",
   "execution_count": null,
   "metadata": {},
   "outputs": [],
   "source": [
    "qt_rows = df_matches_merged.shape[0]\n",
    "qt_columns = df_matches_merged.shape[1]\n",
    "print('Rows: {} Columns: {}'.format(qt_rows, qt_columns))"
   ]
  },
  {
   "cell_type": "code",
   "execution_count": null,
   "metadata": {},
   "outputs": [],
   "source": [
    "nan_num=df_matches_merged.isna().sum()\n",
    "nan_num"
   ]
  },
  {
   "cell_type": "code",
   "execution_count": null,
   "metadata": {},
   "outputs": [],
   "source": [
    "df_matches = df_matches_merged"
   ]
  },
  {
   "cell_type": "code",
   "execution_count": null,
   "metadata": {},
   "outputs": [],
   "source": [
    "df_matches['dateMatch'] = df_matches_merged['timestamp'].apply(lambda x: pd.Timestamp(x).strftime('%Y-%m-%d'))\n",
    "df_matches['hourMatch'] = df_matches_merged['timestamp'].apply(lambda x: pd.Timestamp(x).strftime('%H'))"
   ]
  },
  {
   "cell_type": "code",
   "execution_count": null,
   "metadata": {},
   "outputs": [],
   "source": [
    "df_matches.to_csv('C:\\\\repos\\\\tcc_valorant\\\\data\\\\matches\\\\matches_book.csv')"
   ]
  },
  {
   "cell_type": "markdown",
   "metadata": {},
   "source": [
    "Weapons"
   ]
  },
  {
   "cell_type": "code",
   "execution_count": null,
   "metadata": {},
   "outputs": [],
   "source": [
    "df_weapons_raw = pd.read_csv('C:\\\\repos\\\\tcc_valorant_analysis\\\\data\\\\weapons\\\\weapons.csv', low_memory=False)\n",
    "df_weapons_raw.head(5)"
   ]
  },
  {
   "cell_type": "code",
   "execution_count": null,
   "metadata": {},
   "outputs": [],
   "source": [
    "qt_rows = df_weapons_raw.shape[0]\n",
    "qt_columns = df_weapons_raw.shape[1]\n",
    "print('Rows: {} Columns: {}'.format(qt_rows, qt_columns))"
   ]
  },
  {
   "cell_type": "code",
   "execution_count": null,
   "metadata": {},
   "outputs": [],
   "source": [
    "nan_num=df_weapons_raw.isna().sum()\n",
    "nan_num"
   ]
  },
  {
   "cell_type": "code",
   "execution_count": null,
   "metadata": {},
   "outputs": [],
   "source": [
    "df_weapons_raw = df_weapons_raw[[\n",
    "    'player','weaponName','matchesPlayedValue', 'matchesWonValue',\n",
    "    'matchesLostValue', 'matchesTiedValue','matchesWinPctValue','roundsPlayedValue',\n",
    "    'killsValue','killsPerRoundValue','killsPerMatchDisplayValue',\n",
    "    'secondaryKillsValue','headshotsValue','secondaryKillsPerRoundDisplayValue',\n",
    "    'secondaryKillsPerMatchDisplayValue','deathsValue','deathsPerRoundDisplayValue',\n",
    "    'deathsPerMatchDisplayValue','kDRatioValue','kDRatioDisplayValue','headshotsPercentageValue',\n",
    "    'damageValue','damagePerRoundValue','damagePerMatchValue','damageReceivedValue',\n",
    "    'dealtHeadshotsValue','dealtBodyshotsValue','dealtLegshotsValue','killDistanceValue',\n",
    "    'killDistanceDisplayValue','avgKillDistanceValue','avgKillDistanceDisplayValue',\n",
    "    'longestKillDistanceValue','longestKillDistanceDisplayValue',\n",
    "]]"
   ]
  },
  {
   "cell_type": "code",
   "execution_count": null,
   "metadata": {},
   "outputs": [],
   "source": [
    "df_weapons_renamed = df_weapons_raw.rename(columns={'player': 'nickNameFull'})\n",
    "df_weapons_renamed.head(1)"
   ]
  },
  {
   "cell_type": "code",
   "execution_count": null,
   "metadata": {},
   "outputs": [],
   "source": [
    "df_weapons_renamed.to_csv('C:\\\\repos\\\\tcc_valorant_analysis\\\\data\\\\weapons\\\\weapon_book.csv')"
   ]
  }
 ],
 "metadata": {
  "kernelspec": {
   "display_name": "Python 3.9.7 ('base')",
   "language": "python",
   "name": "python3"
  },
  "language_info": {
   "codemirror_mode": {
    "name": "ipython",
    "version": 3
   },
   "file_extension": ".py",
   "mimetype": "text/x-python",
   "name": "python",
   "nbconvert_exporter": "python",
   "pygments_lexer": "ipython3",
   "version": "3.9.7"
  },
  "orig_nbformat": 4,
  "vscode": {
   "interpreter": {
    "hash": "277d713a2869ad522e0f58de96fa3cb2620734b34dd3b3afd7f1966d69d2580f"
   }
  }
 },
 "nbformat": 4,
 "nbformat_minor": 2
}
