{
 "cells": [
  {
   "cell_type": "markdown",
   "metadata": {},
   "source": [
    "Libs"
   ]
  },
  {
   "cell_type": "code",
   "execution_count": 20,
   "metadata": {},
   "outputs": [],
   "source": [
    "import pandas as pd\n",
    "import pathlib\n",
    "from datetime import date"
   ]
  },
  {
   "cell_type": "code",
   "execution_count": 21,
   "metadata": {},
   "outputs": [],
   "source": [
    "abs_path = pathlib.Path.cwd().parent"
   ]
  },
  {
   "cell_type": "markdown",
   "metadata": {},
   "source": [
    "Players"
   ]
  },
  {
   "cell_type": "code",
   "execution_count": 22,
   "metadata": {},
   "outputs": [],
   "source": [
    "file_read = pathlib.Path(abs_path).joinpath('data').joinpath('players').joinpath('players.csv')\n",
    "file_write = pathlib.Path(abs_path).joinpath('data').joinpath('players').joinpath('players_processed.csv')"
   ]
  },
  {
   "cell_type": "code",
   "execution_count": 23,
   "metadata": {},
   "outputs": [],
   "source": [
    "df_players_raw = pd.read_csv(file_read)"
   ]
  },
  {
   "cell_type": "code",
   "execution_count": 24,
   "metadata": {},
   "outputs": [],
   "source": [
    "df_players_raw = df_players_raw[['meta.shard', 'meta.updatedAt', 'leaderboards.gameName','leaderboards.tagLine',\n",
    "                                                  'leaderboards.full_nickname','leaderboards.leaderboardRank','leaderboards.rankedRating',\n",
    "                                                  'leaderboards.numberOfWins', 'leaderboards.competitiveTier','leaderboards.stat.winRatio',\n",
    "                                                  'leaderboards.stat.avgScore', 'leaderboards.stat.headshotRatio',]]"
   ]
  },
  {
   "cell_type": "code",
   "execution_count": 25,
   "metadata": {},
   "outputs": [],
   "source": [
    "df_players_renamed = df_players_raw.rename(columns={'meta.shard': 'server', 'meta.updatedAt': 'updatedAt',\n",
    "                                      'leaderboards.gameName': 'gameName', 'leaderboards.tagLine': 'tagLine',\n",
    "                                      'leaderboards.full_nickname': 'nickNameFull', 'leaderboards.leaderboardRank': 'leaderboardRank',\n",
    "                                      'leaderboards.rankedRating': 'rankedRating', 'leaderboards.numberOfWins': 'numberOfWins',\n",
    "                                      'leaderboards.competitiveTier': 'competitiveTier', 'leaderboards.stat.winRatio': 'winRatio',\n",
    "                                      'leaderboards.stat.avgScore': 'avgScore', 'leaderboards.stat.headshotRatio': 'headshotRatio',})"
   ]
  },
  {
   "cell_type": "code",
   "execution_count": 26,
   "metadata": {},
   "outputs": [],
   "source": [
    "df_players = df_players_renamed.dropna().reset_index(drop=True)"
   ]
  },
  {
   "cell_type": "code",
   "execution_count": 27,
   "metadata": {},
   "outputs": [],
   "source": [
    "df_players.to_csv(file_write)"
   ]
  },
  {
   "cell_type": "markdown",
   "metadata": {},
   "source": [
    "Matches"
   ]
  },
  {
   "cell_type": "code",
   "execution_count": 28,
   "metadata": {},
   "outputs": [],
   "source": [
    "file_read = pathlib.Path(abs_path).joinpath('data').joinpath('matches').joinpath('matches.csv')\n",
    "file_write = pathlib.Path(abs_path).joinpath('data').joinpath('matches').joinpath('matches_processed.csv')"
   ]
  },
  {
   "cell_type": "code",
   "execution_count": 29,
   "metadata": {},
   "outputs": [],
   "source": [
    "df_matches_raw = pd.read_csv(file_read)"
   ]
  },
  {
   "cell_type": "code",
   "execution_count": 30,
   "metadata": {},
   "outputs": [],
   "source": [
    "df_matches_raw['dateMatch'] = df_matches_raw['timestamp'].apply(lambda x: pd.Timestamp(x).strftime('%Y-%m-%d'))\n",
    "df_matches_raw['hourMatch'] = df_matches_raw['timestamp'].apply(lambda x: pd.Timestamp(x).strftime('%H'))\n",
    "df_matches_raw['weekDay'] = df_matches_raw['dateMatch'].astype('datetime64').dt.day_name()"
   ]
  },
  {
   "cell_type": "code",
   "execution_count": 31,
   "metadata": {},
   "outputs": [],
   "source": [
    "df_matches_raw = df_matches_raw[[\n",
    "                                    'matchId', 'timestamp', 'metadataResult', 'map', 'mapName', 'mapImageUrl',\n",
    "                                    'timestamp', 'metadataResult', 'map', 'mapName', 'mapImageUrl', 'seasonName',\n",
    "                                    'userId','player','hasWon', 'result', 'agentName', 'playtimeValue',\n",
    "                                    'playtimeDisplayValue', 'roundsPlayedValue', 'roundsPlayedDisplayValue', 'roundsWonValue',\n",
    "                                    'roundsWonDisplayValue', 'roundsLostValue', 'roundsLostDisplayValue', 'roundsDisconnectedValue',\n",
    "                                    'roundsDisconnectedDisplayValue', 'placementValue','placementDisplayValue',  'scoreValue',\n",
    "                                    'scoreDisplayValue','killsValue', 'killsDisplayValue', 'deathsValue','deathsDisplayValue', \n",
    "                                    'assistsValue', 'assistsDisplayValue','damageValue', 'damageDisplayValue', 'damageReceivedValue', \n",
    "                                    'damageReceivedDisplayValue', 'headshotsValue', 'headshotsDisplayValue', 'grenadeCastsValue', \n",
    "                                    'grenadeCastsDisplayValue', 'ability1CastsValue', 'ability1CastsDisplayValue', 'ability2CastsValue', \n",
    "                                    'ability2CastsDisplayValue', 'ultimateCastsValue', 'ultimateCastsDisplayValue', 'dealtHeadshotsValue', \n",
    "                                    'dealtHeadshotsDisplayValue', 'dealtBodyshotsValue', 'dealtBodyshotsDisplayValue', 'dealtLegshotsValue', \n",
    "                                    'dealtLegshotsDisplayValue', 'econRatingValue', 'econRatingDisplayValue', 'suicidesValue', 'suicidesDisplayValue', \n",
    "                                    'revivedValue', 'revivedDisplayValue',\n",
    "                                    'firstBloodsValue', 'firstBloodsDisplayValue', 'firstDeathsValue',\n",
    "                                    'firstDeathsDisplayValue', 'lastDeathsValue', 'lastDeathsDisplayValue',\n",
    "                                    'survivedValue', 'survivedDisplayValue', 'tradedValue',\n",
    "                                    'tradedDisplayValue', 'kastedValue', 'kastedDisplayValue',\n",
    "                                    'kASTValue', 'kASTDisplayValue', 'flawlessValue', 'flawlessDisplayValue',\n",
    "                                    'thriftyValue', 'thriftyDisplayValue', 'acesValue',\n",
    "                                    'acesDisplayValue', 'teamAcesValue', 'teamAcesDisplayValue',\n",
    "                                    'clutchesValue', 'clutchesDisplayValue', 'clutchesLostValue', 'clutchesLostDisplayValue',\n",
    "                                    'plantsValue', 'plantsDisplayValue', 'defusesValue',\n",
    "                                    'defusesDisplayValue', 'kdRatioValue', 'kdRatioDisplayValue',\n",
    "                                    'scorePerRoundValue', 'scorePerRoundDisplayValue', 'damagePerRoundValue',\n",
    "                                    'damagePerRoundDisplayValue', 'headshotsPercentageValue', 'headshotsPercentageDisplayValue',\n",
    "                                ]]"
   ]
  },
  {
   "cell_type": "code",
   "execution_count": 32,
   "metadata": {},
   "outputs": [],
   "source": [
    "df_matches_renamed = df_matches_raw.rename(columns={'player': 'nickNameFull'})\n",
    "df_matches_merged = df_matches_renamed.merge(df_players[[\"nickNameFull\", \"leaderboardRank\", 'competitiveTier', 'rankedRating','server']])\n",
    "df_matches = df_matches_merged\n"
   ]
  },
  {
   "cell_type": "code",
   "execution_count": 33,
   "metadata": {},
   "outputs": [],
   "source": [
    "df_matches.to_csv(file_write)"
   ]
  },
  {
   "cell_type": "markdown",
   "metadata": {},
   "source": [
    "Weapons"
   ]
  },
  {
   "cell_type": "code",
   "execution_count": 34,
   "metadata": {},
   "outputs": [],
   "source": [
    "file_read = pathlib.Path(abs_path).joinpath('data').joinpath('weapons').joinpath('weapons.csv')\n",
    "file_write = pathlib.Path(abs_path).joinpath('data').joinpath('weapons').joinpath('weapons_processed.csv')"
   ]
  },
  {
   "cell_type": "code",
   "execution_count": 35,
   "metadata": {},
   "outputs": [],
   "source": [
    "df_weapons_raw = pd.read_csv(file_read, low_memory=False)"
   ]
  },
  {
   "cell_type": "code",
   "execution_count": 36,
   "metadata": {},
   "outputs": [],
   "source": [
    "df_weapons_raw = df_weapons_raw[[\n",
    "    'player','weaponName','matchesPlayedValue', 'matchesWonValue',\n",
    "    'matchesLostValue', 'matchesTiedValue','matchesWinPctValue','roundsPlayedValue',\n",
    "    'killsValue','killsPerRoundValue','killsPerMatchDisplayValue',\n",
    "    'secondaryKillsValue','headshotsValue','secondaryKillsPerRoundDisplayValue',\n",
    "    'secondaryKillsPerMatchDisplayValue','deathsValue','deathsPerRoundDisplayValue',\n",
    "    'deathsPerMatchDisplayValue','kDRatioValue','kDRatioDisplayValue','headshotsPercentageValue',\n",
    "    'damageValue','damagePerRoundValue','damagePerMatchValue','damageReceivedValue',\n",
    "    'dealtHeadshotsValue','dealtBodyshotsValue','dealtLegshotsValue','killDistanceValue',\n",
    "    'killDistanceDisplayValue','avgKillDistanceValue','avgKillDistanceDisplayValue',\n",
    "    'longestKillDistanceValue','longestKillDistanceDisplayValue',\n",
    "]]"
   ]
  },
  {
   "cell_type": "code",
   "execution_count": 37,
   "metadata": {},
   "outputs": [],
   "source": [
    "df_weapons_renamed = df_weapons_raw.rename(columns={'player': 'nickNameFull'})"
   ]
  },
  {
   "cell_type": "code",
   "execution_count": 38,
   "metadata": {},
   "outputs": [],
   "source": [
    "df_weapons_renamed.to_csv(file_write)"
   ]
  }
 ],
 "metadata": {
  "kernelspec": {
   "display_name": "Python 3.10.8 64-bit",
   "language": "python",
   "name": "python3"
  },
  "language_info": {
   "codemirror_mode": {
    "name": "ipython",
    "version": 3
   },
   "file_extension": ".py",
   "mimetype": "text/x-python",
   "name": "python",
   "nbconvert_exporter": "python",
   "pygments_lexer": "ipython3",
   "version": "3.10.8"
  },
  "orig_nbformat": 4,
  "vscode": {
   "interpreter": {
    "hash": "aee8b7b246df8f9039afb4144a1f6fd8d2ca17a180786b69acc140d282b71a49"
   }
  }
 },
 "nbformat": 4,
 "nbformat_minor": 2
}
