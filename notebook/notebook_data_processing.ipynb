{
 "cells": [
  {
   "cell_type": "markdown",
   "metadata": {},
   "source": [
    "Libs"
   ]
  },
  {
   "cell_type": "code",
   "execution_count": null,
   "metadata": {},
   "outputs": [],
   "source": [
    "import pandas as pd\n",
    "import pathlib\n",
    "from datetime import date"
   ]
  },
  {
   "cell_type": "code",
   "execution_count": null,
   "metadata": {},
   "outputs": [],
   "source": [
    "abs_path = pathlib.Path.cwd().parent"
   ]
  },
  {
   "cell_type": "markdown",
   "metadata": {},
   "source": [
    "Players"
   ]
  },
  {
   "cell_type": "code",
   "execution_count": null,
   "metadata": {},
   "outputs": [],
   "source": [
    "file_read = pathlib.Path(abs_path).joinpath('data').joinpath('players').joinpath('players.csv')\n",
    "file_write = pathlib.Path(abs_path).joinpath('data').joinpath('players').joinpath('players_processed.csv')"
   ]
  },
  {
   "cell_type": "code",
   "execution_count": null,
   "metadata": {},
   "outputs": [],
   "source": [
    "df_players_raw = pd.read_csv(file_read)"
   ]
  },
  {
   "cell_type": "code",
   "execution_count": null,
   "metadata": {},
   "outputs": [],
   "source": [
    "df_players_raw = df_players_raw[['meta.shard', 'meta.updatedAt', 'leaderboards.gameName','leaderboards.tagLine',\n",
    "                                                  'leaderboards.full_nickname','leaderboards.leaderboardRank','leaderboards.rankedRating',\n",
    "                                                  'leaderboards.numberOfWins', 'leaderboards.competitiveTier','leaderboards.stat.winRatio',\n",
    "                                                  'leaderboards.stat.avgScore', 'leaderboards.stat.headshotRatio',]]"
   ]
  },
  {
   "cell_type": "code",
   "execution_count": null,
   "metadata": {},
   "outputs": [],
   "source": [
    "df_players_renamed = df_players_raw.rename(columns={'meta.shard': 'server', 'meta.updatedAt': 'updatedAt',\n",
    "                                      'leaderboards.gameName': 'gameName', 'leaderboards.tagLine': 'tagLine',\n",
    "                                      'leaderboards.full_nickname': 'nickNameFull', 'leaderboards.leaderboardRank': 'leaderboardRank',\n",
    "                                      'leaderboards.rankedRating': 'rankedRating', 'leaderboards.numberOfWins': 'numberOfWins',\n",
    "                                      'leaderboards.competitiveTier': 'competitiveTier', 'leaderboards.stat.winRatio': 'winRatio',\n",
    "                                      'leaderboards.stat.avgScore': 'avgScore', 'leaderboards.stat.headshotRatio': 'headshotRatio',})"
   ]
  },
  {
   "cell_type": "code",
   "execution_count": null,
   "metadata": {},
   "outputs": [],
   "source": [
    "df_players = df_players_renamed.dropna().reset_index(drop=True)"
   ]
  },
  {
   "cell_type": "code",
   "execution_count": null,
   "metadata": {},
   "outputs": [],
   "source": [
    "df_players.to_csv(file_write)"
   ]
  },
  {
   "cell_type": "markdown",
   "metadata": {},
   "source": [
    "Matches"
   ]
  },
  {
   "cell_type": "code",
   "execution_count": null,
   "metadata": {},
   "outputs": [],
   "source": [
    "file_read = pathlib.Path(abs_path).joinpath('data').joinpath('matches').joinpath('matches.csv')\n",
    "file_write = pathlib.Path(abs_path).joinpath('data').joinpath('matches').joinpath('matches_processed.csv')"
   ]
  },
  {
   "cell_type": "code",
   "execution_count": null,
   "metadata": {},
   "outputs": [],
   "source": [
    "df_matches_raw = pd.read_csv(file_read)"
   ]
  },
  {
   "cell_type": "code",
   "execution_count": null,
   "metadata": {},
   "outputs": [],
   "source": [
    "df_matches_raw = df_matches_raw[[\n",
    "                                    'player', 'matchId',\n",
    "                                    'modeName', 'modeImageUrl', 'modeMaxRounds',\n",
    "                                    'timestamp', 'metadataResult', 'map', 'mapName', 'mapImageUrl',\n",
    "                                    'seasonName', 'userId', 'hasWon', 'result', 'agentName', 'playtimeValue',\n",
    "                                    'playtimeDisplayValue', 'roundsPlayedValue',\n",
    "                                    'roundsPlayedDisplayValue', 'roundsWonValue',\n",
    "                                    'roundsWonDisplayValue', 'roundsLostValue',\n",
    "                                    'roundsLostDisplayValue', 'roundsDisconnectedValue',\n",
    "                                    'roundsDisconnectedDisplayValue', 'placementValue',\n",
    "                                    'placementDisplayValue',  'scoreValue', 'scoreDisplayValue',\n",
    "                                    'killsValue', 'killsDisplayValue', 'deathsValue',\n",
    "                                    'deathsDisplayValue', 'assistsValue', 'assistsDisplayValue',\n",
    "                                    'damageValue', 'damageDisplayValue', \n",
    "                                    'damageReceivedValue', 'damageReceivedDisplayValue',\n",
    "                                    'headshotsValue', 'headshotsDisplayValue', 'grenadeCastsValue',\n",
    "                                    'grenadeCastsDisplayValue', 'ability1CastsValue',\n",
    "                                    'ability1CastsDisplayValue','ability2CastsValue',\n",
    "                                    'ability2CastsDisplayValue', 'ultimateCastsValue',\n",
    "                                    'ultimateCastsDisplayValue', 'dealtHeadshotsValue',\n",
    "                                    'dealtHeadshotsDisplayValue', 'dealtBodyshotsValue',\n",
    "                                    'dealtBodyshotsDisplayValue', 'dealtLegshotsValue',\n",
    "                                    'dealtLegshotsDisplayValue', 'econRatingValue',\n",
    "                                    'econRatingDisplayValue', 'suicidesValue', 'suicidesDisplayValue',\n",
    "                                    'revivedValue', 'revivedDisplayValue',\n",
    "                                    'firstBloodsValue', 'firstBloodsDisplayValue', 'firstDeathsValue',\n",
    "                                    'firstDeathsDisplayValue', 'lastDeathsValue', 'lastDeathsDisplayValue',\n",
    "                                    'survivedValue', 'survivedDisplayValue', 'tradedValue',\n",
    "                                    'tradedDisplayValue', 'kastedValue', 'kastedDisplayValue',\n",
    "                                    'kASTValue', 'kASTDisplayValue', 'flawlessValue', 'flawlessDisplayValue',\n",
    "                                    'thriftyValue', 'thriftyDisplayValue', 'acesValue',\n",
    "                                    'acesDisplayValue', 'teamAcesValue', 'teamAcesDisplayValue',\n",
    "                                    'clutchesValue', 'clutchesDisplayValue', 'clutchesLostValue', 'clutchesLostDisplayValue',\n",
    "                                    'plantsValue', 'plantsDisplayValue', 'defusesValue',\n",
    "                                    'defusesDisplayValue', 'kdRatioValue', 'kdRatioDisplayValue',\n",
    "                                    'scorePerRoundValue', 'scorePerRoundDisplayValue', 'damagePerRoundValue',\n",
    "                                    'damagePerRoundDisplayValue', 'headshotsPercentageValue', 'headshotsPercentageDisplayValue',\n",
    "                                ]]"
   ]
  },
  {
   "cell_type": "code",
   "execution_count": null,
   "metadata": {},
   "outputs": [],
   "source": [
    "df_matches_renamed = df_matches_raw.rename(columns={'player': 'nickNameFull'})\n",
    "df_matches_merged = df_matches_renamed.merge(df_players[[\"nickNameFull\", \"leaderboardRank\", 'competitiveTier', 'rankedRating','server']])\n",
    "df_matches = df_matches_merged\n"
   ]
  },
  {
   "cell_type": "code",
   "execution_count": null,
   "metadata": {},
   "outputs": [],
   "source": [
    "df_matches['dateMatch'] = df_matches_merged['timestamp'].apply(lambda x: pd.Timestamp(x).strftime('%Y-%m-%d'))\n",
    "df_matches['hourMatch'] = df_matches_merged['timestamp'].apply(lambda x: pd.Timestamp(x).strftime('%H'))\n",
    "df_matches['weekDay'] = df_matches['dateMatch'].astype('datetime64').dt.day_name()"
   ]
  },
  {
   "cell_type": "code",
   "execution_count": null,
   "metadata": {},
   "outputs": [],
   "source": [
    "df_matches.to_csv(file_write)"
   ]
  },
  {
   "cell_type": "markdown",
   "metadata": {},
   "source": [
    "Weapons"
   ]
  },
  {
   "cell_type": "code",
   "execution_count": null,
   "metadata": {},
   "outputs": [],
   "source": [
    "file_read = pathlib.Path(abs_path).joinpath('data').joinpath('weapons').joinpath('weapons.csv')\n",
    "file_write = pathlib.Path(abs_path).joinpath('data').joinpath('weapons').joinpath('weapons_processed.csv')"
   ]
  },
  {
   "cell_type": "code",
   "execution_count": null,
   "metadata": {},
   "outputs": [],
   "source": [
    "df_weapons_raw = pd.read_csv(file_read, low_memory=False)"
   ]
  },
  {
   "cell_type": "code",
   "execution_count": null,
   "metadata": {},
   "outputs": [],
   "source": [
    "df_weapons_raw = df_weapons_raw[[\n",
    "    'player','weaponName','matchesPlayedValue', 'matchesWonValue',\n",
    "    'matchesLostValue', 'matchesTiedValue','matchesWinPctValue','roundsPlayedValue',\n",
    "    'killsValue','killsPerRoundValue','killsPerMatchDisplayValue',\n",
    "    'secondaryKillsValue','headshotsValue','secondaryKillsPerRoundDisplayValue',\n",
    "    'secondaryKillsPerMatchDisplayValue','deathsValue','deathsPerRoundDisplayValue',\n",
    "    'deathsPerMatchDisplayValue','kDRatioValue','kDRatioDisplayValue','headshotsPercentageValue',\n",
    "    'damageValue','damagePerRoundValue','damagePerMatchValue','damageReceivedValue',\n",
    "    'dealtHeadshotsValue','dealtBodyshotsValue','dealtLegshotsValue','killDistanceValue',\n",
    "    'killDistanceDisplayValue','avgKillDistanceValue','avgKillDistanceDisplayValue',\n",
    "    'longestKillDistanceValue','longestKillDistanceDisplayValue',\n",
    "]]"
   ]
  },
  {
   "cell_type": "code",
   "execution_count": null,
   "metadata": {},
   "outputs": [],
   "source": [
    "df_weapons_renamed = df_weapons_raw.rename(columns={'player': 'nickNameFull'})"
   ]
  },
  {
   "cell_type": "code",
   "execution_count": null,
   "metadata": {},
   "outputs": [],
   "source": [
    "df_weapons_renamed.to_csv(file_write)"
   ]
  }
 ],
 "metadata": {
  "kernelspec": {
   "display_name": "Python 3.10.8 64-bit",
   "language": "python",
   "name": "python3"
  },
  "language_info": {
   "codemirror_mode": {
    "name": "ipython",
    "version": 3
   },
   "file_extension": ".py",
   "mimetype": "text/x-python",
   "name": "python",
   "nbconvert_exporter": "python",
   "pygments_lexer": "ipython3",
   "version": "3.10.8"
  },
  "orig_nbformat": 4,
  "vscode": {
   "interpreter": {
    "hash": "aee8b7b246df8f9039afb4144a1f6fd8d2ca17a180786b69acc140d282b71a49"
   }
  }
 },
 "nbformat": 4,
 "nbformat_minor": 2
}
