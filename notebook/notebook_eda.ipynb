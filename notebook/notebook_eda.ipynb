{
 "cells": [
  {
   "cell_type": "markdown",
   "metadata": {},
   "source": [
    "# Exploratory Data Analysis - Valorant"
   ]
  },
  {
   "cell_type": "markdown",
   "metadata": {},
   "source": [
    "## Libs"
   ]
  },
  {
   "cell_type": "code",
   "execution_count": 1,
   "metadata": {},
   "outputs": [],
   "source": [
    "# Data manipulation\n",
    "import pandas as pd\n",
    "from datetime import datetime\n",
    "import pathlib"
   ]
  },
  {
   "cell_type": "code",
   "execution_count": 4,
   "metadata": {},
   "outputs": [],
   "source": [
    "# Charts\n",
    "import seaborn as sns\n",
    "import matplotlib.pyplot as plt\n",
    "import plotly.express as px\n",
    "from plotly.subplots import make_subplots\n",
    "import plotly.graph_objects as go\n",
    "import warnings\n",
    "warnings.filterwarnings(\"ignore\")"
   ]
  },
  {
   "cell_type": "markdown",
   "metadata": {},
   "source": [
    "## Initial Settings"
   ]
  },
  {
   "cell_type": "code",
   "execution_count": 2,
   "metadata": {},
   "outputs": [],
   "source": [
    "abs_path = pathlib.Path.cwd().parent"
   ]
  },
  {
   "cell_type": "code",
   "execution_count": null,
   "metadata": {},
   "outputs": [],
   "source": [
    "# Matches\n",
    "file_read = pathlib.Path(abs_path).joinpath('data').joinpath('matches').joinpath('matches_processed.csv')\n",
    "df_matches_raw = pd.read_csv(file_read)\n",
    "del df_matches_raw['Unnamed: 0']"
   ]
  },
  {
   "cell_type": "markdown",
   "metadata": {},
   "source": [
    "## EDA Matches"
   ]
  },
  {
   "cell_type": "markdown",
   "metadata": {},
   "source": [
    "### Raw database dimensions"
   ]
  },
  {
   "cell_type": "code",
   "execution_count": 6,
   "metadata": {},
   "outputs": [
    {
     "data": {
      "text/html": [
       "<div>\n",
       "<style scoped>\n",
       "    .dataframe tbody tr th:only-of-type {\n",
       "        vertical-align: middle;\n",
       "    }\n",
       "\n",
       "    .dataframe tbody tr th {\n",
       "        vertical-align: top;\n",
       "    }\n",
       "\n",
       "    .dataframe thead th {\n",
       "        text-align: right;\n",
       "    }\n",
       "</style>\n",
       "<table border=\"1\" class=\"dataframe\">\n",
       "  <thead>\n",
       "    <tr style=\"text-align: right;\">\n",
       "      <th></th>\n",
       "      <th>matchId</th>\n",
       "      <th>timestamp</th>\n",
       "      <th>dateMatch</th>\n",
       "      <th>hourMatch</th>\n",
       "      <th>weekDay</th>\n",
       "      <th>mapName</th>\n",
       "      <th>mapImageUrl</th>\n",
       "      <th>seasonName</th>\n",
       "      <th>userId</th>\n",
       "      <th>server</th>\n",
       "      <th>...</th>\n",
       "      <th>acesValue</th>\n",
       "      <th>teamAcesValue</th>\n",
       "      <th>clutchesValue</th>\n",
       "      <th>clutchesLostValue</th>\n",
       "      <th>plantsValue</th>\n",
       "      <th>defusesValue</th>\n",
       "      <th>kdRatioValue</th>\n",
       "      <th>scorePerRoundValue</th>\n",
       "      <th>damagePerRoundValue</th>\n",
       "      <th>headshotsPercentageValue</th>\n",
       "    </tr>\n",
       "  </thead>\n",
       "  <tbody>\n",
       "    <tr>\n",
       "      <th>0</th>\n",
       "      <td>7a6df5ad-6c30-4cf7-a999-3816c38980f7</td>\n",
       "      <td>2022-11-08T18:10:05.755+00:00</td>\n",
       "      <td>2022-11-08</td>\n",
       "      <td>18</td>\n",
       "      <td>Tuesday</td>\n",
       "      <td>Haven</td>\n",
       "      <td>https://trackercdn.com/cdn/tracker.gg/valorant...</td>\n",
       "      <td>E5: A3</td>\n",
       "      <td>NIP cauanzin%232233</td>\n",
       "      <td>br</td>\n",
       "      <td>...</td>\n",
       "      <td>0</td>\n",
       "      <td>0</td>\n",
       "      <td>1.0</td>\n",
       "      <td>4.0</td>\n",
       "      <td>4</td>\n",
       "      <td>0</td>\n",
       "      <td>1.055556</td>\n",
       "      <td>265.619048</td>\n",
       "      <td>182.428571</td>\n",
       "      <td>28.125</td>\n",
       "    </tr>\n",
       "  </tbody>\n",
       "</table>\n",
       "<p>1 rows × 57 columns</p>\n",
       "</div>"
      ],
      "text/plain": [
       "                                matchId                      timestamp  \\\n",
       "0  7a6df5ad-6c30-4cf7-a999-3816c38980f7  2022-11-08T18:10:05.755+00:00   \n",
       "\n",
       "    dateMatch  hourMatch  weekDay mapName  \\\n",
       "0  2022-11-08         18  Tuesday   Haven   \n",
       "\n",
       "                                         mapImageUrl seasonName  \\\n",
       "0  https://trackercdn.com/cdn/tracker.gg/valorant...     E5: A3   \n",
       "\n",
       "                userId server  ...  acesValue  teamAcesValue  clutchesValue  \\\n",
       "0  NIP cauanzin%232233     br  ...          0              0            1.0   \n",
       "\n",
       "   clutchesLostValue plantsValue defusesValue  kdRatioValue  \\\n",
       "0                4.0           4            0      1.055556   \n",
       "\n",
       "   scorePerRoundValue  damagePerRoundValue  headshotsPercentageValue  \n",
       "0          265.619048           182.428571                    28.125  \n",
       "\n",
       "[1 rows x 57 columns]"
      ]
     },
     "execution_count": 6,
     "metadata": {},
     "output_type": "execute_result"
    }
   ],
   "source": [
    "df_matches_raw.head(1)"
   ]
  },
  {
   "cell_type": "code",
   "execution_count": null,
   "metadata": {},
   "outputs": [],
   "source": [
    "df_matches_raw."
   ]
  }
 ],
 "metadata": {
  "kernelspec": {
   "display_name": "Python 3.9.7 ('base')",
   "language": "python",
   "name": "python3"
  },
  "language_info": {
   "codemirror_mode": {
    "name": "ipython",
    "version": 3
   },
   "file_extension": ".py",
   "mimetype": "text/x-python",
   "name": "python",
   "nbconvert_exporter": "python",
   "pygments_lexer": "ipython3",
   "version": "3.9.7"
  },
  "orig_nbformat": 4,
  "vscode": {
   "interpreter": {
    "hash": "277d713a2869ad522e0f58de96fa3cb2620734b34dd3b3afd7f1966d69d2580f"
   }
  }
 },
 "nbformat": 4,
 "nbformat_minor": 2
}
