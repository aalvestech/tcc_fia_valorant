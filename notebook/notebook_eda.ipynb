{
 "cells": [
  {
   "cell_type": "markdown",
   "metadata": {},
   "source": [
    "# Exploratory Data Analysis - Valorant"
   ]
  },
  {
   "cell_type": "markdown",
   "metadata": {},
   "source": [
    "## Libs"
   ]
  },
  {
   "cell_type": "code",
   "execution_count": null,
   "metadata": {},
   "outputs": [],
   "source": [
    "# Data manipulation\n",
    "import pandas as pd\n",
    "from datetime import datetime\n",
    "import pathlib"
   ]
  },
  {
   "cell_type": "code",
   "execution_count": null,
   "metadata": {},
   "outputs": [],
   "source": [
    "# Charts\n",
    "import seaborn as sns\n",
    "import matplotlib.pyplot as plt\n",
    "import plotly.express as px\n",
    "from plotly.subplots import make_subplots\n",
    "import plotly.graph_objects as go\n",
    "import warnings\n",
    "warnings.filterwarnings(\"ignore\")"
   ]
  },
  {
   "cell_type": "markdown",
   "metadata": {},
   "source": [
    "## Initial Settings and Loads"
   ]
  },
  {
   "cell_type": "code",
   "execution_count": null,
   "metadata": {},
   "outputs": [],
   "source": [
    "abs_path = pathlib.Path.cwd().parent"
   ]
  },
  {
   "cell_type": "markdown",
   "metadata": {},
   "source": [
    "### Load Matches"
   ]
  },
  {
   "cell_type": "code",
   "execution_count": null,
   "metadata": {},
   "outputs": [],
   "source": [
    "file_read = pathlib.Path(abs_path).joinpath('data').joinpath('matches').joinpath('matches_processed.csv')\n",
    "df_matches_raw = pd.read_csv(file_read)\n",
    "del df_matches_raw['Unnamed: 0']"
   ]
  },
  {
   "cell_type": "markdown",
   "metadata": {},
   "source": [
    "### Load Players Rank"
   ]
  },
  {
   "cell_type": "code",
   "execution_count": null,
   "metadata": {},
   "outputs": [],
   "source": [
    "file_read = pathlib.Path(abs_path).joinpath('data').joinpath('players').joinpath('players_processed.csv')\n",
    "df_players_raw = pd.read_csv(file_read)"
   ]
  },
  {
   "cell_type": "markdown",
   "metadata": {},
   "source": [
    "### Load Weapons"
   ]
  },
  {
   "cell_type": "code",
   "execution_count": null,
   "metadata": {},
   "outputs": [],
   "source": [
    "file_read = pathlib.Path(abs_path).joinpath('data').joinpath('weapons').joinpath('weapons_processed.csv')\n",
    "df_weapons_raw = pd.read_csv(file_read)\n",
    "del df_weapons_raw['Unnamed: 0']"
   ]
  },
  {
   "cell_type": "markdown",
   "metadata": {},
   "source": [
    "## Main Dataset Dimenssions"
   ]
  },
  {
   "cell_type": "code",
   "execution_count": null,
   "metadata": {},
   "outputs": [],
   "source": [
    "min_data = df_matches_raw.dateMatch.min()\n",
    "max_data = df_matches_raw.dateMatch.max()\n",
    "unique_userId = df_matches_raw.userId.nunique()\n",
    "unique_mapId = df_matches_raw.mapName.nunique()\n",
    "unique_sever = df_matches_raw.server.nunique()\n",
    "unique_matches = df_matches_raw.matchId.nunique()\n",
    "\n",
    "row_number = df_matches_raw.shape[0]\n",
    "col_number = df_matches_raw.shape[1]\n",
    "\n",
    "print('The dataset has a start date at : {} \\nEnd date at : {} Match \\nWith: unique players : {} \\nMaps : {} \\nGame servers : {} \\nUnique Matches: {} \\nRow number : {} \\nColumn number : {}'. format(min_data, max_data, unique_userId, unique_mapId, unique_sever,unique_matches, row_number, col_number))"
   ]
  },
  {
   "cell_type": "code",
   "execution_count": null,
   "metadata": {},
   "outputs": [],
   "source": [
    "df_matches_raw_describe = df_matches_raw.describe()\n",
    "df_matches_raw_describe_pivot = pd.pivot_table(df_matches_raw_describe, columns=[\"count\", 'mean', 'std', 'min', '25%', '50%', '75%', 'max'])\n",
    "df_matches_raw_describe_pivot"
   ]
  },
  {
   "cell_type": "code",
   "execution_count": null,
   "metadata": {},
   "outputs": [],
   "source": [
    "df_matches_raw_mode = (\n",
    "                        df_matches_raw[[\n",
    "                            'competitiveTier', 'rankedRating', 'hasWon', 'result',\n",
    "                            'agentName', 'playtimeValue', 'roundsPlayedValue',\n",
    "                            'roundsWonValue', 'roundsLostValue', 'roundsDisconnectedValue',\n",
    "                            'scoreValue', 'killsValue', 'deathsValue', 'assistsValue', 'damageValue',\n",
    "                            'damageReceivedValue', 'headshotsValue', 'grenadeCastsValue', 'ability1CastsValue',\n",
    "                            'ability2CastsValue', 'ultimateCastsValue', 'dealtHeadshotsValue', 'headshotsPercentageValue',\n",
    "                            'dealtBodyshotsValue', 'dealtLegshotsValue', 'econRatingValue', 'suicidesValue', 'revivedValue', 'firstBloodsValue',\n",
    "                            'firstDeathsValue', 'lastDeathsValue', 'survivedValue', 'tradedValue', 'kastedValue', 'kASTValue',\n",
    "                            'flawlessValue', 'thriftyValue', 'acesValue', 'teamAcesValue', 'clutchesValue', 'clutchesLostValue',\n",
    "                            'plantsValue', 'defusesValue', 'kdRatioValue', 'scorePerRoundValue', 'damagePerRoundValue',]]\n",
    "                        .mode()\n",
    "                        .reset_index(drop = True)\n",
    ")\n",
    "df_matches_raw_mode"
   ]
  },
  {
   "cell_type": "markdown",
   "metadata": {},
   "source": [
    "## EDA Matches"
   ]
  },
  {
   "attachments": {},
   "cell_type": "markdown",
   "metadata": {},
   "source": [
    "### Days"
   ]
  },
  {
   "cell_type": "code",
   "execution_count": null,
   "metadata": {},
   "outputs": [],
   "source": [
    "matches_per_day = (\n",
    "    \n",
    "                    df_matches_raw.groupby([df_matches_raw.dateMatch, df_matches_raw.weekDay])['matchId']\n",
    "                    .count()\n",
    "                    .reset_index(name='count')\n",
    "                    .reset_index(drop = True)\n",
    "                    )\n"
   ]
  },
  {
   "cell_type": "code",
   "execution_count": null,
   "metadata": {},
   "outputs": [],
   "source": [
    "fig = px.line(x = matches_per_day['dateMatch'], y = matches_per_day['count'], title= 'Number of matches per day')\n",
    "fig.show()"
   ]
  },
  {
   "cell_type": "code",
   "execution_count": null,
   "metadata": {},
   "outputs": [],
   "source": [
    "weekDayOrdered = ['Monday', 'Tuesday', 'Wednesday', 'Thursday', 'Friday', 'Saturday', 'Sunday']\n",
    "mean_matches_per_days_week = (\n",
    "                                matches_per_day.groupby(matches_per_day.weekDay)['count']\n",
    "                                .mean()\n",
    "                                .reindex(weekDayOrdered) \n",
    "                                .reset_index(name = 'mean')\n",
    "                                .reset_index(drop = True)\n",
    "                                .round(3)\n",
    "                                )"
   ]
  },
  {
   "cell_type": "code",
   "execution_count": null,
   "metadata": {},
   "outputs": [],
   "source": [
    "fig = px.line(mean_matches_per_days_week, x = 'weekDay', y = 'mean', title = 'Means of matches per days of week')\n",
    "fig.show()"
   ]
  },
  {
   "cell_type": "code",
   "execution_count": null,
   "metadata": {},
   "outputs": [],
   "source": [
    "means_time_matches = df_matches_raw[['matchId', 'weekDay', 'playtimeValue']]\n",
    "means_time_matches['playtimeValueMinutes'] = means_time_matches.playtimeValue/60\n",
    "\n",
    "means_time_matches = (\n",
    "                        means_time_matches.groupby('weekDay')['playtimeValueMinutes']\n",
    "                        .mean()\n",
    "                        .reindex(weekDayOrdered)\n",
    "                        .reset_index(name = 'mean')\n",
    "                        .reset_index(drop = True)                     \n",
    "                        .round(2)\n",
    ")"
   ]
  },
  {
   "cell_type": "code",
   "execution_count": null,
   "metadata": {},
   "outputs": [],
   "source": [
    "fig = px.line(means_time_matches, x = 'weekDay', y = 'mean', title = 'Means time per days of week')\n",
    "fig.show()"
   ]
  },
  {
   "cell_type": "code",
   "execution_count": null,
   "metadata": {},
   "outputs": [],
   "source": [
    "top_seven_days_matches = (\n",
    "                            df_matches_raw.groupby(['dateMatch', 'weekDay'])['weekDay']\n",
    "                            .count()\n",
    "                            .reset_index(name = 'count')\n",
    "                            .reset_index(drop = True)\n",
    "                            .sort_values('count', ascending = False)\n",
    "                            .head(7)\n",
    "                            )"
   ]
  },
  {
   "cell_type": "code",
   "execution_count": null,
   "metadata": {},
   "outputs": [],
   "source": [
    "fig = px.bar(top_seven_days_matches, x='weekDay', y='count',\n",
    "             hover_data=['dateMatch', 'count'], color='count', height=400, title = 'Top seven days with most matches played')\n",
    "fig.show()"
   ]
  },
  {
   "attachments": {},
   "cell_type": "markdown",
   "metadata": {},
   "source": [
    "### Plants and Defuses"
   ]
  },
  {
   "cell_type": "code",
   "execution_count": null,
   "metadata": {},
   "outputs": [],
   "source": [
    "matches_plat_defuse = (\n",
    "                        df_matches_raw.groupby(['result'])[['plantsValue', 'defusesValue']]\n",
    "                        .sum()\n",
    "                        .sort_values('plantsValue', ascending = False)\n",
    "                        .reset_index()\n",
    ")"
   ]
  },
  {
   "cell_type": "code",
   "execution_count": null,
   "metadata": {},
   "outputs": [],
   "source": [
    "fig = px.bar(matches_plat_defuse, x = 'result', y = 'plantsValue', text_auto='.2s',\n",
    "            title=\"Default: various text sizes, positions and angles\", color = 'result')\n",
    "fig.show()\n",
    "\n",
    "fig = px.bar(matches_plat_defuse, x = 'result', y = 'defusesValue', text_auto='.2s',\n",
    "            title=\"Default: various text sizes, positions and angles\", color = 'result')\n",
    "fig.show()"
   ]
  },
  {
   "cell_type": "code",
   "execution_count": null,
   "metadata": {},
   "outputs": [],
   "source": [
    "fig = go.Figure()\n",
    "fig.add_trace(go.Box(y=matches_plat_defuse['plantsValue'],\n",
    "                    name='plantsValue'))\n",
    "fig.add_trace(go.Box(y=matches_plat_defuse['defusesValue'],\n",
    "                    name='defusesValue'))\n",
    "fig.show()"
   ]
  },
  {
   "cell_type": "markdown",
   "metadata": {},
   "source": [
    "## EDA Players"
   ]
  },
  {
   "attachments": {},
   "cell_type": "markdown",
   "metadata": {},
   "source": [
    "### Matches"
   ]
  },
  {
   "cell_type": "code",
   "execution_count": null,
   "metadata": {},
   "outputs": [],
   "source": [
    "matches_per_player = (\n",
    "                        df_matches_raw.groupby(['userId'])['userId']\n",
    "                        .count()\n",
    "                        .reset_index(name = 'count')\n",
    "                        .reset_index(drop = True)\n",
    "                        )"
   ]
  },
  {
   "cell_type": "code",
   "execution_count": null,
   "metadata": {},
   "outputs": [],
   "source": [
    "fig = px.line(matches_per_player, x = 'userId', y = 'count', title = 'Number of matches per player')\n",
    "fig.show()"
   ]
  },
  {
   "cell_type": "code",
   "execution_count": null,
   "metadata": {},
   "outputs": [],
   "source": [
    "fig = px.box(matches_per_player, y = 'count', title = 'Matches in intervals between quartiles')\n",
    "fig.show()"
   ]
  },
  {
   "attachments": {},
   "cell_type": "markdown",
   "metadata": {},
   "source": [
    "### Time"
   ]
  },
  {
   "cell_type": "code",
   "execution_count": null,
   "metadata": {},
   "outputs": [],
   "source": [
    "total_time_player = df_matches_raw.groupby(['userId'])[['playtimeValue']].sum().reset_index()\n",
    "total_time_player['playtimeValueMinutes'] = (df_matches_raw['playtimeValue']/60).round(2)"
   ]
  },
  {
   "cell_type": "code",
   "execution_count": null,
   "metadata": {},
   "outputs": [],
   "source": [
    "fig = px.line(total_time_player, x = 'userId', y = 'playtimeValueMinutes', title = 'Means time per days of week')\n",
    "fig.show()"
   ]
  },
  {
   "cell_type": "code",
   "execution_count": null,
   "metadata": {},
   "outputs": [],
   "source": [
    "fig = px.box(total_time_player, y=\"playtimeValueMinutes\", title = 'Time in intervals between quartiles')\n",
    "fig.show()"
   ]
  },
  {
   "attachments": {},
   "cell_type": "markdown",
   "metadata": {},
   "source": [
    "### Results"
   ]
  },
  {
   "cell_type": "code",
   "execution_count": null,
   "metadata": {},
   "outputs": [],
   "source": [
    "number_wins_player = (\n",
    "                        df_matches_raw.groupby(['userId', 'result'])['result']\n",
    "                        .count()\n",
    "                        .reset_index(name = 'count')\n",
    "                        .sort_values(['count'], ascending = False)\n",
    "                        .reset_index(drop = True)\n",
    "                        )"
   ]
  },
  {
   "cell_type": "code",
   "execution_count": null,
   "metadata": {},
   "outputs": [],
   "source": [
    "fig = go.Figure()\n",
    "fig.add_trace(go.Scatter(y=number_wins_player.query('result == \"victory\"')['count'],\n",
    "                    name='Victory'))\n",
    "fig.add_trace(go.Scatter(y=number_wins_player.query('result == \"defeat\"')['count'],\n",
    "                    name='Victory'))\n",
    "fig.add_trace(go.Scatter(y=number_wins_player.query('result == \"tied\"')['count'],\n",
    "                    name='Victory'))                    \n",
    "\n",
    "fig.show();"
   ]
  },
  {
   "cell_type": "code",
   "execution_count": null,
   "metadata": {},
   "outputs": [],
   "source": [
    "fig = px.box(number_wins_player, x = \"result\", y = \"count\", color = \"result\")\n",
    "fig.update_traces(quartilemethod=\"exclusive\") # or \"inclusive\", or \"linear\" by default\n",
    "fig.show()"
   ]
  },
  {
   "attachments": {},
   "cell_type": "markdown",
   "metadata": {},
   "source": [
    "### Headshots"
   ]
  },
  {
   "cell_type": "code",
   "execution_count": null,
   "metadata": {},
   "outputs": [],
   "source": [
    "number_headshot_per_player = df_matches_raw.groupby(['userId'])['headshotsValue'].sum().reset_index(name = 'sum').sort_values('sum', ascending=False).reset_index(drop = True)"
   ]
  },
  {
   "cell_type": "code",
   "execution_count": null,
   "metadata": {},
   "outputs": [],
   "source": [
    "fig = px.line(number_headshot_per_player, x = 'userId', y = 'sum', title = 'Means time per days of week')\n",
    "fig.show()"
   ]
  },
  {
   "cell_type": "code",
   "execution_count": null,
   "metadata": {},
   "outputs": [],
   "source": [
    "fig = px.box(number_headshot_per_player, y=\"sum\", title = 'Interval of time played between quartiles by players')\n",
    "fig.show()"
   ]
  },
  {
   "attachments": {},
   "cell_type": "markdown",
   "metadata": {},
   "source": [
    "### KDA"
   ]
  },
  {
   "cell_type": "code",
   "execution_count": null,
   "metadata": {},
   "outputs": [],
   "source": [
    "number_kda_player = (\n",
    "                        df_matches_raw.groupby('userId')[['killsValue', 'deathsValue', 'assistsValue','userId']]\n",
    "                        .sum()\n",
    "                        .sort_values(['killsValue', 'deathsValue', 'assistsValue'], ascending = False)\n",
    "                        .reset_index()\n",
    "\n",
    "                        )"
   ]
  },
  {
   "cell_type": "code",
   "execution_count": null,
   "metadata": {},
   "outputs": [],
   "source": [
    "fig = go.Figure()\n",
    "\n",
    "fig.add_trace(go.Scatter(x=number_kda_player['userId'], y=number_kda_player['killsValue'],\n",
    "                    mode='lines',\n",
    "                    name='killsValue'))\n",
    "fig.add_trace(go.Scatter(x=number_kda_player['userId'], y=number_kda_player['deathsValue'],\n",
    "                    mode='lines',\n",
    "                    name='deathsValue'))\n",
    "fig.add_trace(go.Scatter(x=number_kda_player['userId'], y=number_kda_player['assistsValue'],\n",
    "                    mode='lines',\n",
    "                    name='assistsValue'))\n",
    "\n",
    "fig.show()"
   ]
  },
  {
   "cell_type": "code",
   "execution_count": null,
   "metadata": {},
   "outputs": [],
   "source": [
    "number_kda_player = number_kda_player.drop(columns = 'userId')\n",
    "\n",
    "fig = go.Figure()\n",
    "\n",
    "for col in number_kda_player:\n",
    "  fig.add_trace(go.Box(y=number_kda_player[col].values, name=number_kda_player[col].name))\n",
    "  \n",
    "fig.show()"
   ]
  },
  {
   "attachments": {},
   "cell_type": "markdown",
   "metadata": {},
   "source": [
    "### Damage"
   ]
  },
  {
   "cell_type": "code",
   "execution_count": null,
   "metadata": {},
   "outputs": [],
   "source": [
    "number_damage_player = df_matches_raw.groupby(['userId'])['damageValue','damageReceivedValue'].sum().reset_index()"
   ]
  },
  {
   "cell_type": "code",
   "execution_count": null,
   "metadata": {},
   "outputs": [],
   "source": [
    "fig = go.Figure()\n",
    "fig.add_trace(go.Scatter(x=number_damage_player['userId'], y=number_damage_player['damageValue'],\n",
    "                    mode='lines',\n",
    "                    name='damageValue'))\n",
    "fig.add_trace(go.Scatter(x=number_damage_player['userId'], y=number_damage_player['damageReceivedValue'],\n",
    "                    mode='lines',\n",
    "                    name='damageReceivedValue'))\n",
    "\n",
    "\n",
    "fig.show()"
   ]
  },
  {
   "cell_type": "code",
   "execution_count": null,
   "metadata": {},
   "outputs": [],
   "source": [
    "fig = go.Figure()\n",
    "fig.add_trace(go.Box(y=number_damage_player['damageValue'], name = 'damageValue'))\n",
    "fig.add_trace(go.Box(y=number_damage_player['damageReceivedValue'], name = 'damageReceivedValue'))\n",
    "\n",
    "fig.show()\n"
   ]
  },
  {
   "attachments": {},
   "cell_type": "markdown",
   "metadata": {},
   "source": [
    "### Economy"
   ]
  },
  {
   "cell_type": "code",
   "execution_count": null,
   "metadata": {},
   "outputs": [],
   "source": [
    "number_economy_player = df_matches_raw.groupby(['userId'])['econRatingValue'].mean().sort_values(ascending = False).reset_index()\n",
    "number_economy_player"
   ]
  },
  {
   "cell_type": "code",
   "execution_count": null,
   "metadata": {},
   "outputs": [],
   "source": [
    "fig = go.Figure()\n",
    "fig.add_trace(go.Box(y=number_economy_player['econRatingValue'], name = 'econRatingValue' ))\n",
    "\n",
    "\n",
    "fig.show()"
   ]
  },
  {
   "cell_type": "code",
   "execution_count": null,
   "metadata": {},
   "outputs": [],
   "source": [
    "fig = go.Figure()\n",
    "fig.add_trace(go.Bar(x=number_economy_player['userId'], y=number_economy_player['econRatingValue'],\n",
    "                    name='econRatingValue'))\n",
    "\n",
    "\n",
    "\n",
    "fig.show()"
   ]
  },
  {
   "attachments": {},
   "cell_type": "markdown",
   "metadata": {},
   "source": [
    "### Weapons"
   ]
  },
  {
   "cell_type": "code",
   "execution_count": null,
   "metadata": {},
   "outputs": [],
   "source": [
    "df_weapons_raw"
   ]
  },
  {
   "cell_type": "markdown",
   "metadata": {},
   "source": [
    "## EDA Agents"
   ]
  },
  {
   "attachments": {},
   "cell_type": "markdown",
   "metadata": {},
   "source": [
    "### Matches"
   ]
  },
  {
   "cell_type": "code",
   "execution_count": null,
   "metadata": {},
   "outputs": [],
   "source": [
    "number_matches_agents = (\n",
    "                             df_matches_raw.groupby(['agentName'])['agentName']\n",
    "                            .count() \n",
    "                            .reset_index(name='count') \n",
    "                            .sort_values(['count'], ascending=False) \n",
    "                            .reset_index(drop = True)\n",
    ")"
   ]
  },
  {
   "cell_type": "code",
   "execution_count": null,
   "metadata": {},
   "outputs": [],
   "source": [
    "fig = px.bar(number_matches_agents, y='count', x='agentName', text_auto='.4s', orientation='v',\n",
    "            title=\"Number of matches an agent has been selected\")\n",
    "fig.update_traces(textfont_size=10, textangle=0, textposition=\"outside\", cliponaxis=False)\n",
    "\n",
    "fig.show()"
   ]
  },
  {
   "cell_type": "code",
   "execution_count": null,
   "metadata": {},
   "outputs": [],
   "source": [
    "fig = go.Figure()\n",
    "fig.add_trace(go.Box(y=number_matches_agents['count'], name = 'count' ))\n",
    "\n",
    "\n",
    "fig.show()"
   ]
  },
  {
   "attachments": {},
   "cell_type": "markdown",
   "metadata": {},
   "source": [
    "### Results"
   ]
  },
  {
   "cell_type": "code",
   "execution_count": null,
   "metadata": {},
   "outputs": [],
   "source": [
    "matches_agents_result = df_matches_raw[['agentName','result']].groupby(['agentName','result',])['result'] \\\n",
    "                             .count() \\\n",
    "                             .reset_index(name='count') \\\n",
    "                             .sort_values(['agentName'], ascending=False) \\\n",
    "                             .reset_index(drop = True)"
   ]
  },
  {
   "cell_type": "code",
   "execution_count": null,
   "metadata": {},
   "outputs": [],
   "source": [
    "fig = px.histogram(matches_agents_result, x='agentName', y='count', color='result', barmode='group',\n",
    "             height=400)\n",
    "fig.show()"
   ]
  },
  {
   "cell_type": "code",
   "execution_count": null,
   "metadata": {},
   "outputs": [],
   "source": [
    "fig = px.box(matches_agents_result, x = \"result\", y = \"count\", color = \"result\")\n",
    "fig.update_traces(quartilemethod=\"exclusive\") # or \"inclusive\", or \"linear\" by default\n",
    "fig.show()"
   ]
  },
  {
   "attachments": {},
   "cell_type": "markdown",
   "metadata": {},
   "source": [
    "### Ultimate"
   ]
  },
  {
   "cell_type": "code",
   "execution_count": null,
   "metadata": {},
   "outputs": [],
   "source": [
    "ability_agente = df_matches_raw.groupby(['agentName'])[['ultimateCastsValue', 'ability1CastsValue', 'ability2CastsValue']].sum().sort_values('ultimateCastsValue', ascending = False).reset_index()\n",
    "ability_agente"
   ]
  },
  {
   "cell_type": "code",
   "execution_count": null,
   "metadata": {},
   "outputs": [],
   "source": [
    "fig = px.histogram(ability_agente, x='agentName', y='ultimateCastsValue')\n",
    "fig.show()"
   ]
  },
  {
   "cell_type": "code",
   "execution_count": null,
   "metadata": {},
   "outputs": [],
   "source": [
    "_ability_agente = ability_agente[['ultimateCastsValue', 'ability1CastsValue', 'ability2CastsValue']]\n",
    "\n",
    "fig = go.Figure()\n",
    "\n",
    "for col in _ability_agente:\n",
    "  fig.add_trace(go.Box(y=_ability_agente[col].values, name=_ability_agente[col].name))\n",
    "  \n",
    "fig.show()"
   ]
  },
  {
   "attachments": {},
   "cell_type": "markdown",
   "metadata": {},
   "source": [
    "### KDA"
   ]
  },
  {
   "cell_type": "code",
   "execution_count": null,
   "metadata": {},
   "outputs": [],
   "source": [
    "number_kda_agent = (\n",
    "                        df_matches_raw.groupby(['agentName'])[['killsValue', 'deathsValue', 'assistsValue']]\n",
    "                        .sum()\n",
    "                        # .sort_values(['agentName'], ascending = False)\n",
    "                        .reset_index()\n",
    "                        )"
   ]
  },
  {
   "cell_type": "code",
   "execution_count": null,
   "metadata": {},
   "outputs": [],
   "source": [
    "fig = go.Figure()\n",
    "fig.add_trace(go.Scatter(x=number_kda_agent['agentName'], y=number_kda_agent['killsValue'],\n",
    "                    mode='lines',\n",
    "                    name='killsValue'))\n",
    "fig.add_trace(go.Scatter(x=number_kda_agent['agentName'], y=number_kda_agent['deathsValue'],\n",
    "                    mode='lines',\n",
    "                    name='deathsValue'))\n",
    "fig.add_trace(go.Scatter(x=number_kda_agent['agentName'], y=number_kda_agent['assistsValue'],\n",
    "                    mode='lines',\n",
    "                    name='assistsValue'))\n",
    "\n",
    "fig.show()"
   ]
  },
  {
   "cell_type": "code",
   "execution_count": null,
   "metadata": {},
   "outputs": [],
   "source": [
    "_kda_agente = number_kda_agent[['killsValue', 'deathsValue', 'assistsValue']]\n",
    "\n",
    "fig = go.Figure()\n",
    "\n",
    "for col in _kda_agente:\n",
    "  fig.add_trace(go.Box(y=_kda_agente[col].values, name=_kda_agente[col].name))\n",
    "  \n",
    "fig.show()"
   ]
  },
  {
   "attachments": {},
   "cell_type": "markdown",
   "metadata": {},
   "source": [
    "## EDA Weapons"
   ]
  },
  {
   "attachments": {},
   "cell_type": "markdown",
   "metadata": {},
   "source": [
    "### Weapon"
   ]
  },
  {
   "cell_type": "code",
   "execution_count": null,
   "metadata": {},
   "outputs": [],
   "source": [
    "df_weapons_raw_describe = df_weapons_raw.describe()\n",
    "df_weapons_raw_describe_pivot = pd.pivot_table(df_weapons_raw_describe, columns=[\"count\", 'mean', 'std', 'min', '25%', '50%', '75%', 'max'])\n",
    "df_weapons_raw_describe_pivot['maxRounded'] = df_weapons_raw_describe_pivot['max'].round(2)\n",
    "df_weapons_raw_describe_pivot"
   ]
  },
  {
   "cell_type": "code",
   "execution_count": null,
   "metadata": {},
   "outputs": [],
   "source": [
    "most_used_weapons = (\n",
    "                        df_weapons_raw.groupby('weaponName')['matchesPlayedValue']\n",
    "                        .sum()\n",
    "                        .reset_index(name = 'count')\n",
    "                        .sort_values('count', ascending=False)\n",
    ")"
   ]
  },
  {
   "cell_type": "code",
   "execution_count": null,
   "metadata": {},
   "outputs": [],
   "source": [
    "fig = px.bar(most_used_weapons, x = 'weaponName', y = 'count', color = 'count', title = 'Most Used Weapons')\n",
    "fig.show()"
   ]
  },
  {
   "attachments": {},
   "cell_type": "markdown",
   "metadata": {},
   "source": [
    "### Result"
   ]
  },
  {
   "cell_type": "code",
   "execution_count": null,
   "metadata": {},
   "outputs": [],
   "source": [
    "weapons_result = (\n",
    "                    df_weapons_raw.groupby('weaponName')[['matchesWonValue', 'matchesLostValue', 'matchesTiedValue']]\n",
    "                    .sum()\n",
    "                    .sort_values('matchesWonValue', ascending=False)\n",
    "                    .reset_index()\n",
    ")"
   ]
  },
  {
   "cell_type": "code",
   "execution_count": null,
   "metadata": {},
   "outputs": [],
   "source": [
    "fig = go.Figure()\n",
    "fig.add_trace(go.Scatter(x=weapons_result['weaponName'], y=weapons_result['matchesWonValue'],\n",
    "                    mode='lines',\n",
    "                    name='matchesWonValue'))\n",
    "fig.add_trace(go.Scatter(x=weapons_result['weaponName'], y=weapons_result['matchesLostValue'],\n",
    "                    mode='lines',\n",
    "                    name='matchesLostValue'))\n",
    "fig.add_trace(go.Scatter(x=weapons_result['weaponName'], y=weapons_result['matchesTiedValue'],\n",
    "                    mode='lines',\n",
    "                    name='matchesTiedValue'))\n",
    "\n",
    "fig.show()"
   ]
  },
  {
   "cell_type": "code",
   "execution_count": null,
   "metadata": {},
   "outputs": [],
   "source": [
    "_weapons_result = weapons_result[['matchesWonValue', 'matchesLostValue', 'matchesTiedValue']]\n",
    "\n",
    "fig = go.Figure()\n",
    "\n",
    "for col in _weapons_result:\n",
    "  fig.add_trace(go.Box(y=_weapons_result[col].values, name=_weapons_result[col].name))\n",
    "  \n",
    "fig.show()"
   ]
  },
  {
   "attachments": {},
   "cell_type": "markdown",
   "metadata": {},
   "source": [
    "### Damage"
   ]
  },
  {
   "cell_type": "code",
   "execution_count": null,
   "metadata": {},
   "outputs": [],
   "source": [
    "weapons_damage_avg = df_weapons_raw.groupby('weaponName')[['weaponName', 'damageValue','damagePerRoundValue', 'damagePerMatchValue']].mean().reset_index().round(3).sort_index(ascending=False)\n",
    "weapons_damage_avg"
   ]
  },
  {
   "cell_type": "code",
   "execution_count": null,
   "metadata": {},
   "outputs": [],
   "source": [
    "fig = go.Figure()\n",
    "fig.add_trace(go.Scatter(x=weapons_damage_avg['weaponName'], y=weapons_damage_avg['damageValue'],\n",
    "                    mode='lines',\n",
    "                    name='damageValue'))\n",
    "\n",
    "fig.show()"
   ]
  },
  {
   "cell_type": "code",
   "execution_count": null,
   "metadata": {},
   "outputs": [],
   "source": [
    "fig = go.Figure()\n",
    "\n",
    "fig.add_trace(go.Scatter(x=weapons_damage_avg['weaponName'], y=weapons_damage_avg['damagePerRoundValue'],\n",
    "                    mode='lines',\n",
    "                    name='damagePerRoundValue'))\n",
    "fig.add_trace(go.Scatter(x=weapons_damage_avg['weaponName'], y=weapons_damage_avg['damagePerMatchValue'],\n",
    "                    mode='lines',\n",
    "                    name='damagePerMatchValue'))\n",
    "\n",
    "fig.show()"
   ]
  },
  {
   "attachments": {},
   "cell_type": "markdown",
   "metadata": {},
   "source": [
    "### Accuracy"
   ]
  },
  {
   "cell_type": "code",
   "execution_count": null,
   "metadata": {},
   "outputs": [],
   "source": [
    "weapons_accuracy = df_weapons_raw.groupby('weaponName')[['weaponName','dealtHeadshotsValue','dealtBodyshotsValue', 'dealtLegshotsValue']].sum().reset_index().sort_index(ascending = False)\n",
    "weapons_accuracy"
   ]
  },
  {
   "cell_type": "code",
   "execution_count": null,
   "metadata": {},
   "outputs": [],
   "source": [
    "df_weapons_raw"
   ]
  }
 ],
 "metadata": {
  "kernelspec": {
   "display_name": "Python 3.9.7 ('base')",
   "language": "python",
   "name": "python3"
  },
  "language_info": {
   "codemirror_mode": {
    "name": "ipython",
    "version": 3
   },
   "file_extension": ".py",
   "mimetype": "text/x-python",
   "name": "python",
   "nbconvert_exporter": "python",
   "pygments_lexer": "ipython3",
   "version": "3.9.13"
  },
  "orig_nbformat": 4,
  "vscode": {
   "interpreter": {
    "hash": "277d713a2869ad522e0f58de96fa3cb2620734b34dd3b3afd7f1966d69d2580f"
   }
  }
 },
 "nbformat": 4,
 "nbformat_minor": 2
}
